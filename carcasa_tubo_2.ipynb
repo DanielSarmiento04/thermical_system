{
 "cells": [
  {
   "cell_type": "markdown",
   "metadata": {},
   "source": [
    "# **Enunciado**\n",
    "\n",
    "### Autor José Daniel Sarmiento Blanco 2192232\n",
    "\n",
    "Design a heat exchanger to be used as a crude oil cooler. 120 kg/s of crude oil enters to the heat exchanger at 102°C and leaves at 65°C. The coolant to be used is city water entering the tube side at 21°C with a flow rate of 65 kg/s. Pressure drop for the crude oil is limited to 150 kPa."
   ]
  },
  {
   "cell_type": "code",
   "execution_count": 50,
   "metadata": {},
   "outputs": [],
   "source": [
    "caudal_de_crudo             = 120 # kg/s\n",
    "temperatura_entrada_crudo   = 102 # ºC\n",
    "temperatura_salida_crudo    = 65  # ºC\n",
    "\n",
    "temperatura_entrada_agua    = 21  # ºC\n",
    "caudal_agua                 = 65  # kg/s\n",
    "\n",
    "presion_limite_crudo        = 150_000 # Pa"
   ]
  },
  {
   "cell_type": "code",
   "execution_count": 153,
   "metadata": {},
   "outputs": [],
   "source": [
    "from pyfluids import Fluid, FluidsList, Input, Mixture\n",
    "from core import ThermoFormules\n",
    "import numpy as np\n",
    "import pandas as pd\n",
    "from matplotlib import pyplot as plt\n",
    "from scipy.optimize import curve_fit"
   ]
  },
  {
   "cell_type": "code",
   "execution_count": 52,
   "metadata": {},
   "outputs": [
    {
     "data": {
      "text/plain": [
       "array([60, 61, 62, 63, 64, 65, 66, 67, 68, 69, 70, 71, 72, 73, 74, 75, 76,\n",
       "       77, 78, 79, 80, 81, 82, 83, 84, 85, 86, 87, 88, 89])"
      ]
     },
     "execution_count": 52,
     "metadata": {},
     "output_type": "execute_result"
    }
   ],
   "source": [
    "temperaturas_crudo_salidas = np.arange(60, 90)\n",
    "temperaturas_crudo_salidas"
   ]
  },
  {
   "cell_type": "markdown",
   "metadata": {},
   "source": [
    "![](./diagrama.jpeg)"
   ]
  },
  {
   "cell_type": "markdown",
   "metadata": {},
   "source": [
    "## Suposicion\n",
    "\n",
    "[presión agua](https://blog.verti.es/hogar/presion-agua-casa/#:~:text=Lo%20habitual%20es%20que%20la,tengamos%20una%20presión%20u%20otra.)\n",
    "\n",
    "\n",
    "- Considere como material el acero al carbono, k = 60 W/m*k.\n",
    "- Diámetro de tubo de 3/4 in ( 19 mm exterior y 16 mm interior ).\n",
    "- Longitud de 4m"
   ]
  },
  {
   "cell_type": "code",
   "execution_count": 53,
   "metadata": {},
   "outputs": [],
   "source": [
    "k_material                            = 60    # W/ m*k\n",
    "diametro_interior                     = 16e-3 # m\n",
    "diametro_exterior                     = 19e-3 # m\n",
    "longitud                              = 4 #m               "
   ]
  },
  {
   "cell_type": "code",
   "execution_count": 54,
   "metadata": {},
   "outputs": [],
   "source": [
    "presion_agua = (2) * 101_325 # Pa\n",
    "presion_crudo = 413_000 # Pa"
   ]
  },
  {
   "cell_type": "code",
   "execution_count": 55,
   "metadata": {},
   "outputs": [
    {
     "data": {
      "text/plain": [
       "array([81. , 81.5, 82. , 82.5, 83. , 83.5, 84. , 84.5, 85. , 85.5, 86. ,\n",
       "       86.5, 87. , 87.5, 88. , 88.5, 89. , 89.5, 90. , 90.5, 91. , 91.5,\n",
       "       92. , 92.5, 93. , 93.5, 94. , 94.5, 95. , 95.5])"
      ]
     },
     "execution_count": 55,
     "metadata": {},
     "output_type": "execute_result"
    }
   ],
   "source": [
    "temperaturas_propiedades_crudo = (temperaturas_crudo_salidas + temperatura_entrada_crudo) / 2\n",
    "temperaturas_propiedades_crudo"
   ]
  },
  {
   "cell_type": "code",
   "execution_count": 56,
   "metadata": {},
   "outputs": [
    {
     "name": "stdout",
     "output_type": "stream",
     "text": [
      "83.5\n"
     ]
    }
   ],
   "source": [
    "temperatura_propiedades_crudo = (temperatura_entrada_crudo + temperatura_salida_crudo) / 2\n",
    "print(temperatura_propiedades_crudo )#+ 273.15)\n",
    "\n",
    "cp_propiedades_crudo =  0.83 * 1000  # J/kg k"
   ]
  },
  {
   "cell_type": "markdown",
   "metadata": {},
   "source": [
    "$$ \\dot{Q} = (\\dot{m} *C_{p})_{crudo} * (T_{c1} -T_{c2})$$"
   ]
  },
  {
   "cell_type": "code",
   "execution_count": 57,
   "metadata": {},
   "outputs": [
    {
     "data": {
      "text/plain": [
       "array([4183200., 4083600., 3984000., 3884400., 3784800., 3685200.,\n",
       "       3585600., 3486000., 3386400., 3286800., 3187200., 3087600.,\n",
       "       2988000., 2888400., 2788800., 2689200., 2589600., 2490000.,\n",
       "       2390400., 2290800., 2191200., 2091600., 1992000., 1892400.,\n",
       "       1792800., 1693200., 1593600., 1494000., 1394400., 1294800.])"
      ]
     },
     "execution_count": 57,
     "metadata": {},
     "output_type": "execute_result"
    }
   ],
   "source": [
    "calores_transferencia = caudal_de_crudo * cp_propiedades_crudo * (temperatura_entrada_crudo - temperaturas_crudo_salidas)\n",
    "calores_transferencia"
   ]
  },
  {
   "cell_type": "code",
   "execution_count": 58,
   "metadata": {},
   "outputs": [
    {
     "data": {
      "text/plain": [
       "3685200.0"
      ]
     },
     "execution_count": 58,
     "metadata": {},
     "output_type": "execute_result"
    }
   ],
   "source": [
    "calor = caudal_de_crudo * cp_propiedades_crudo * (temperatura_entrada_crudo - temperatura_salida_crudo ) \n",
    "calor"
   ]
  },
  {
   "cell_type": "code",
   "execution_count": 59,
   "metadata": {},
   "outputs": [
    {
     "data": {
      "text/plain": [
       "Water"
      ]
     },
     "execution_count": 59,
     "metadata": {},
     "output_type": "execute_result"
    }
   ],
   "source": [
    "water = Fluid(FluidsList.Water)\n",
    "water.name"
   ]
  },
  {
   "cell_type": "markdown",
   "metadata": {},
   "source": [
    "### Suponga una temperatura de propiedades de agua de"
   ]
  },
  {
   "cell_type": "code",
   "execution_count": 60,
   "metadata": {},
   "outputs": [
    {
     "data": {
      "text/plain": [
       "{'compressibility': 0.0014679646038685545,\n",
       " 'conductivity': 0.6097949184333273,\n",
       " 'critical_pressure': 22064000.0,\n",
       " 'critical_temperature': 373.946,\n",
       " 'density': 996.5612223522704,\n",
       " 'dynamic_viscosity': 0.0008508970492459952,\n",
       " 'enthalpy': 113375.23765002219,\n",
       " 'entropy': 395.1237635503346,\n",
       " 'fraction': 100,\n",
       " 'freezing_temperature': None,\n",
       " 'internal_energy': 113171.88837776403,\n",
       " 'kinematic_viscosity': 8.538331917406425e-07,\n",
       " 'max_pressure': 1000000000.0,\n",
       " 'max_temperature': 1726.85,\n",
       " 'min_pressure': 611.6548008968684,\n",
       " 'min_temperature': 0.010000000000047748,\n",
       " 'molar_mass': 0.018015268,\n",
       " 'name': Water,\n",
       " 'phase': Liquid,\n",
       " 'prandtl': 5.8331192360367865,\n",
       " 'pressure': 202650,\n",
       " 'quality': None,\n",
       " 'sound_speed': 1502.0731022326067,\n",
       " 'specific_heat': 4180.301802554013,\n",
       " 'specific_volume': 0.0010034506436439627,\n",
       " 'surface_tension': None,\n",
       " 'temperature': 27.0,\n",
       " 'triple_pressure': 611.6548008968684,\n",
       " 'triple_temperature': 0.010000000000047748,\n",
       " 'units_system': SIWithCelsiusAndPercents}"
      ]
     },
     "execution_count": 60,
     "metadata": {},
     "output_type": "execute_result"
    }
   ],
   "source": [
    "state_agua = water.with_state(\n",
    "    Input.pressure(presion_agua),\n",
    "    Input.temperature(27),\n",
    ")\n",
    "state_agua.as_dict()"
   ]
  },
  {
   "cell_type": "code",
   "execution_count": 61,
   "metadata": {},
   "outputs": [
    {
     "data": {
      "text/plain": [
       "4180.301802554013"
      ]
     },
     "execution_count": 61,
     "metadata": {},
     "output_type": "execute_result"
    }
   ],
   "source": [
    "cp_agua = state_agua.specific_heat\n",
    "cp_agua"
   ]
  },
  {
   "cell_type": "markdown",
   "metadata": {},
   "source": [
    "$$ \\dot{Q} = (\\dot{m} *C_{p})_{agua} * (T_{w1} - T_{w2})$$"
   ]
  },
  {
   "cell_type": "code",
   "execution_count": 62,
   "metadata": {},
   "outputs": [
    {
     "data": {
      "text/plain": [
       "34.56250990795588"
      ]
     },
     "execution_count": 62,
     "metadata": {},
     "output_type": "execute_result"
    }
   ],
   "source": [
    "temperatura_salida_agua = temperatura_entrada_agua + calor / (caudal_agua * cp_agua)\n",
    "temperatura_salida_agua"
   ]
  },
  {
   "cell_type": "code",
   "execution_count": 63,
   "metadata": {},
   "outputs": [
    {
     "data": {
      "text/plain": [
       "2390400.0"
      ]
     },
     "execution_count": 63,
     "metadata": {},
     "output_type": "execute_result"
    }
   ],
   "source": [
    "calores_transferencia[18]"
   ]
  },
  {
   "cell_type": "code",
   "execution_count": 64,
   "metadata": {},
   "outputs": [
    {
     "data": {
      "text/plain": [
       "array([36.39528152, 36.0287272 , 35.66217287, 35.29561855, 34.92906423,\n",
       "       34.56250991, 34.19595559, 33.82940126, 33.46284694, 33.09629262,\n",
       "       32.7297383 , 32.36318398, 31.99662966, 31.63007533, 31.26352101,\n",
       "       30.89696669, 30.53041237, 30.16385805, 29.79730372, 29.4307494 ,\n",
       "       29.06419508, 28.69764076, 28.33108644, 27.96453211, 27.59797779,\n",
       "       27.23142347, 26.86486915, 26.49831483, 26.13176051, 25.76520618])"
      ]
     },
     "execution_count": 64,
     "metadata": {},
     "output_type": "execute_result"
    }
   ],
   "source": [
    "temperaturas_salida_agua = temperatura_entrada_agua + calores_transferencia / (caudal_agua * cp_agua)\n",
    "temperaturas_salida_agua"
   ]
  },
  {
   "cell_type": "markdown",
   "metadata": {},
   "source": [
    "![](./resistencia.jpeg)"
   ]
  },
  {
   "cell_type": "markdown",
   "metadata": {},
   "source": [
    "Asuma los coeficiente de trasferencia de calor\n",
    "\n",
    "$$ \\frac{1}{U_{ensuciamiento}} = \\frac{1}{h_{0}} + \\frac{r_{0}}{r_{i}} \\frac{1}{h_{i}} + R_{f_{}agua} + R_{f_{}crudo} + r_{0} \\frac{ln(\\frac{r_{0}}{r_{i}} )}{k} $$\n",
    "\n",
    "$$ \\frac{1}{U_{limpio}} = \\frac{1}{h_{0}} + \\frac{r_{0}}{r_{i}} \\frac{1}{h_{i}} + r_{0} \\frac{ln(\\frac{r_{0}}{r_{i}} )}{k} $$"
   ]
  },
  {
   "cell_type": "code",
   "execution_count": 65,
   "metadata": {},
   "outputs": [],
   "source": [
    "h_agua    = 5000 # kj/kg * k\n",
    "h_crudo   = 800 # kj/kg * k\n",
    "\n",
    "R_f_crudo = 0.000352 # m2 k/w\n",
    "R_f_agua  = 0.000176 # m2 k/w"
   ]
  },
  {
   "cell_type": "code",
   "execution_count": 66,
   "metadata": {},
   "outputs": [
    {
     "data": {
      "text/plain": [
       "489.5458406052166"
      ]
     },
     "execution_count": 66,
     "metadata": {},
     "output_type": "execute_result"
    }
   ],
   "source": [
    "U_ensuciamiento = (\n",
    "    1/h_crudo + \n",
    "    R_f_crudo + \n",
    "    (diametro_exterior / 2) * np.log(diametro_exterior/diametro_interior) / k_material +\n",
    "    (diametro_exterior / diametro_interior) * (1 / h_agua) +\n",
    "    R_f_agua \n",
    ") ** -1\n",
    "U_ensuciamiento"
   ]
  },
  {
   "cell_type": "code",
   "execution_count": 67,
   "metadata": {},
   "outputs": [
    {
     "data": {
      "text/plain": [
       "660.192543934851"
      ]
     },
     "execution_count": 67,
     "metadata": {},
     "output_type": "execute_result"
    }
   ],
   "source": [
    "U_no_ensuciamiento = (\n",
    "    1/h_crudo + \n",
    "    (diametro_exterior / 2) * np.log(diametro_exterior/diametro_interior) / k_material +\n",
    "    (diametro_exterior / diametro_interior) * (1 / h_agua) \n",
    ") ** -1\n",
    "U_no_ensuciamiento"
   ]
  },
  {
   "cell_type": "code",
   "execution_count": 112,
   "metadata": {},
   "outputs": [
    {
     "name": "stdout",
     "output_type": "stream",
     "text": [
      "67.43749009204413 44\n",
      "54.887262211690185\n"
     ]
    }
   ],
   "source": [
    "diferencia_temperatura_1 = temperatura_entrada_crudo - temperatura_salida_agua\n",
    "diferencia_temperatura_2 = temperatura_salida_crudo - temperatura_entrada_agua\n",
    "print(diferencia_temperatura_1, diferencia_temperatura_2)\n",
    "\n",
    "diferencia_log_temperatura = (diferencia_temperatura_2 - diferencia_temperatura_1)/ np.log(diferencia_temperatura_2/diferencia_temperatura_1)\n",
    "print(diferencia_log_temperatura)"
   ]
  },
  {
   "cell_type": "code",
   "execution_count": 110,
   "metadata": {},
   "outputs": [
    {
     "data": {
      "text/plain": [
       "array([42, 41, 40, 39, 38, 37, 36, 35, 34, 33, 32, 31, 30, 29, 28, 27, 26,\n",
       "       25, 24, 23, 22, 21, 20, 19, 18, 17, 16, 15, 14, 13])"
      ]
     },
     "execution_count": 110,
     "metadata": {},
     "output_type": "execute_result"
    }
   ],
   "source": [
    "diferencia_temperatura_crudo = temperatura_entrada_crudo - temperaturas_crudo_salidas\n",
    "diferencia_temperatura_crudo"
   ]
  },
  {
   "cell_type": "code",
   "execution_count": 114,
   "metadata": {},
   "outputs": [
    {
     "data": {
      "text/plain": [
       "array([42.99224694, 42.48234708, 41.96823475, 41.44975052, 40.92672451,\n",
       "       40.39897537, 39.86630924, 39.32851844, 38.78538008, 38.23665446,\n",
       "       37.68208323, 37.12138725, 36.55426426, 35.98038603, 35.39939516,\n",
       "       34.81090129, 34.21447675, 33.6096513 , 32.995906  , 32.37266584,\n",
       "       31.7392909 , 31.09506562, 30.43918569, 29.7707419 , 29.08869994,\n",
       "       28.39187505, 27.67889953, 26.9481808 , 26.19784621, 25.42566925])"
      ]
     },
     "execution_count": 114,
     "metadata": {},
     "output_type": "execute_result"
    }
   ],
   "source": [
    "diferencia_log_temperaturas = (diferencia_temperatura_2 - diferencia_temperatura_crudo) / np.log(diferencia_temperatura_2/diferencia_temperatura_crudo)\n",
    "diferencia_log_temperaturas"
   ]
  },
  {
   "cell_type": "markdown",
   "metadata": {},
   "source": [
    "Para el calculo de las el factor de correction se uso las tables del metodo de lmtd del moodle "
   ]
  },
  {
   "cell_type": "code",
   "execution_count": 71,
   "metadata": {},
   "outputs": [
    {
     "data": {
      "text/plain": [
       "2.728108606084446"
      ]
     },
     "execution_count": 71,
     "metadata": {},
     "output_type": "execute_result"
    }
   ],
   "source": [
    "R = (temperatura_entrada_crudo - temperatura_salida_crudo) / (temperatura_salida_agua- temperatura_entrada_agua)\n",
    "R"
   ]
  },
  {
   "cell_type": "code",
   "execution_count": 72,
   "metadata": {},
   "outputs": [
    {
     "data": {
      "text/plain": [
       "0.3665543218366454"
      ]
     },
     "execution_count": 72,
     "metadata": {},
     "output_type": "execute_result"
    }
   ],
   "source": [
    "P = 1 / R\n",
    "P"
   ]
  },
  {
   "cell_type": "code",
   "execution_count": 73,
   "metadata": {},
   "outputs": [],
   "source": [
    "F = 0.86"
   ]
  },
  {
   "cell_type": "code",
   "execution_count": 74,
   "metadata": {},
   "outputs": [],
   "source": [
    "diferencia_log_temperatura_corregida =  F * diferencia_log_temperatura"
   ]
  },
  {
   "cell_type": "code",
   "execution_count": 116,
   "metadata": {},
   "outputs": [
    {
     "data": {
      "text/plain": [
       "array([36.97333237, 36.53481848, 36.09268188, 35.64678545, 35.19698308,\n",
       "       34.74311882, 34.28502594, 33.82252585, 33.35542687, 32.88352284,\n",
       "       32.40659158, 31.92439304, 31.43666727, 30.94313199, 30.44347983,\n",
       "       29.93737511, 29.42445001, 28.90430012, 28.37647916, 27.84049262,\n",
       "       27.29579017, 26.74175643, 26.17769969, 25.60283803, 25.01628195,\n",
       "       24.41701255, 23.8038536 , 23.17543549, 22.53014774, 21.86607555])"
      ]
     },
     "execution_count": 116,
     "metadata": {},
     "output_type": "execute_result"
    }
   ],
   "source": [
    "diferencias_log_temperatura_corregida = F * diferencia_log_temperaturas\n",
    "diferencias_log_temperatura_corregida"
   ]
  },
  {
   "cell_type": "code",
   "execution_count": 75,
   "metadata": {},
   "outputs": [
    {
     "name": "stdout",
     "output_type": "stream",
     "text": [
      "159.47686057855407 118.25524914851718\n"
     ]
    }
   ],
   "source": [
    "A_f = calor / (U_ensuciamiento * diferencia_log_temperatura_corregida)\n",
    "A_c = calor / (U_no_ensuciamiento * diferencia_log_temperatura_corregida)\n",
    "\n",
    "print(A_f, A_c)"
   ]
  },
  {
   "cell_type": "code",
   "execution_count": 76,
   "metadata": {},
   "outputs": [
    {
     "data": {
      "text/plain": [
       "0.34858166319760175"
      ]
     },
     "execution_count": 76,
     "metadata": {},
     "output_type": "execute_result"
    }
   ],
   "source": [
    "area_ratio =  A_f / A_c - 1\n",
    "area_ratio"
   ]
  },
  {
   "cell_type": "markdown",
   "metadata": {},
   "source": [
    "Se toma como referencia las siguientes dimisiones y parámetros de diseño"
   ]
  },
  {
   "cell_type": "code",
   "execution_count": 77,
   "metadata": {},
   "outputs": [],
   "source": [
    "Cl         = 1\n",
    "L          = 4   # m\n",
    "CTP        = 0.93 # One tube pass\n",
    "PitchRatio = 1.25"
   ]
  },
  {
   "cell_type": "code",
   "execution_count": 78,
   "metadata": {},
   "outputs": [
    {
     "name": "stdout",
     "output_type": "stream",
     "text": [
      "0.7186271396167857\n",
      "0.7\n"
     ]
    }
   ],
   "source": [
    "diametro_carcasa = 0.637 * (Cl / CTP * A_f * pow(PitchRatio, 2) * diametro_exterior/L)**(1/2) \n",
    "print(diametro_carcasa)\n",
    "diametro_carcasa = 0.7\n",
    "print(diametro_carcasa)"
   ]
  },
  {
   "cell_type": "code",
   "execution_count": 79,
   "metadata": {},
   "outputs": [
    {
     "name": "stdout",
     "output_type": "stream",
     "text": [
      "634.1930193905818\n"
     ]
    }
   ],
   "source": [
    "numeros_tubos = 0.785 * (CTP/Cl) * (diametro_carcasa)**2 /((PitchRatio * diametro_exterior)**2)\n",
    "print(numeros_tubos)"
   ]
  },
  {
   "cell_type": "markdown",
   "metadata": {},
   "source": [
    "Se supone un 60 %  del diámetro de la carcasa"
   ]
  },
  {
   "cell_type": "code",
   "execution_count": 80,
   "metadata": {},
   "outputs": [
    {
     "name": "stdout",
     "output_type": "stream",
     "text": [
      "espacio entre baffle 0.42\n",
      "espacio entre baffle 0.5\n"
     ]
    }
   ],
   "source": [
    "B = 0.6 * diametro_carcasa\n",
    "print('espacio entre baffle', B)\n",
    "B = 0.5\n",
    "print('espacio entre baffle', B)"
   ]
  },
  {
   "cell_type": "markdown",
   "metadata": {},
   "source": [
    "## Corrección método de kern"
   ]
  },
  {
   "cell_type": "code",
   "execution_count": 81,
   "metadata": {},
   "outputs": [],
   "source": [
    "numeros_tubos = 640"
   ]
  },
  {
   "cell_type": "code",
   "execution_count": 82,
   "metadata": {},
   "outputs": [
    {
     "name": "stdout",
     "output_type": "stream",
     "text": [
      "27.78125495397794\n"
     ]
    }
   ],
   "source": [
    "T_b = (temperatura_entrada_agua + temperatura_salida_agua) / 2\n",
    "print(T_b)"
   ]
  },
  {
   "cell_type": "code",
   "execution_count": 83,
   "metadata": {},
   "outputs": [],
   "source": [
    "Pitch_Size              = 0.0254 # m"
   ]
  },
  {
   "cell_type": "code",
   "execution_count": 84,
   "metadata": {},
   "outputs": [
    {
     "data": {
      "text/plain": [
       "0.024233853930596717"
      ]
     },
     "execution_count": 84,
     "metadata": {},
     "output_type": "execute_result"
    }
   ],
   "source": [
    "D_e = 4*(Pitch_Size**2 - np.pi*diametro_exterior**2/4)/(np.pi*diametro_exterior)\n",
    "D_e"
   ]
  },
  {
   "cell_type": "code",
   "execution_count": 85,
   "metadata": {},
   "outputs": [
    {
     "name": "stdout",
     "output_type": "stream",
     "text": [
      "0.0063999999999999994\n"
     ]
    }
   ],
   "source": [
    "C = Pitch_Size - diametro_exterior\n",
    "print(C)"
   ]
  },
  {
   "cell_type": "code",
   "execution_count": 86,
   "metadata": {},
   "outputs": [
    {
     "name": "stdout",
     "output_type": "stream",
     "text": [
      "0.04913385826771654\n"
     ]
    }
   ],
   "source": [
    "A_s = (0.39 * C * B) / Pitch_Size\n",
    "\n",
    "print(A_s)"
   ]
  },
  {
   "cell_type": "code",
   "execution_count": 87,
   "metadata": {},
   "outputs": [
    {
     "name": "stdout",
     "output_type": "stream",
     "text": [
      "2442.307692307692\n"
     ]
    }
   ],
   "source": [
    "G_s = caudal_de_crudo / A_s\n",
    "\n",
    "print(G_s)"
   ]
  },
  {
   "cell_type": "code",
   "execution_count": 88,
   "metadata": {},
   "outputs": [
    {
     "data": {
      "text/plain": [
       "{nHexane: 30, nOctane: 40, nDecane: 30}"
      ]
     },
     "execution_count": 88,
     "metadata": {},
     "output_type": "execute_result"
    }
   ],
   "source": [
    "components = [FluidsList.nHexane, FluidsList.nOctane, FluidsList.nDecane]\n",
    "fractions = [30, 40, 30]\n",
    "mixture = dict(zip(components, fractions))\n",
    "mixture"
   ]
  },
  {
   "cell_type": "code",
   "execution_count": 89,
   "metadata": {},
   "outputs": [
    {
     "data": {
      "text/plain": [
       "{'compressibility': 0.0014644738083190445,\n",
       " 'conductivity': 0.6110269720320316,\n",
       " 'critical_pressure': 22064000.0,\n",
       " 'critical_temperature': 373.946,\n",
       " 'density': 996.3433167890219,\n",
       " 'dynamic_viscosity': 0.000836367771464936,\n",
       " 'enthalpy': 116641.02661706795,\n",
       " 'entropy': 405.9901508078167,\n",
       " 'fraction': 100,\n",
       " 'freezing_temperature': None,\n",
       " 'internal_energy': 116437.6328705613,\n",
       " 'kinematic_viscosity': 8.394373278483474e-07,\n",
       " 'max_pressure': 1000000000.0,\n",
       " 'max_temperature': 1726.85,\n",
       " 'min_pressure': 611.6548008968684,\n",
       " 'min_temperature': 0.010000000000047748,\n",
       " 'molar_mass': 0.018015268,\n",
       " 'name': Water,\n",
       " 'phase': Liquid,\n",
       " 'prandtl': 5.721638142997106,\n",
       " 'pressure': 202650,\n",
       " 'quality': None,\n",
       " 'sound_speed': 1504.02450259156,\n",
       " 'specific_heat': 4180.0692815493885,\n",
       " 'specific_volume': 0.001003670103617258,\n",
       " 'surface_tension': None,\n",
       " 'temperature': 27.781254953977964,\n",
       " 'triple_pressure': 611.6548008968684,\n",
       " 'triple_temperature': 0.010000000000047748,\n",
       " 'units_system': SIWithCelsiusAndPercents}"
      ]
     },
     "execution_count": 89,
     "metadata": {},
     "output_type": "execute_result"
    }
   ],
   "source": [
    "state_agua_kern = water.with_state(\n",
    "    Input.pressure(presion_agua),\n",
    "    Input.temperature(T_b),\n",
    ")\n",
    "state_agua_kern.as_dict()"
   ]
  },
  {
   "cell_type": "code",
   "execution_count": 90,
   "metadata": {},
   "outputs": [
    {
     "name": "stdout",
     "output_type": "stream",
     "text": [
      "996.3433167890219 4180.0692815493885 0.000836367771464936 0.6110269720320316 5.721638142997106\n"
     ]
    }
   ],
   "source": [
    "densidad_agua_kern            = state_agua_kern.density\n",
    "cp_agua_kern                  = state_agua_kern.specific_heat\n",
    "viscosidad_dinamica_agua_kern = state_agua_kern.dynamic_viscosity\n",
    "k_agua_kern                   = state_agua_kern.conductivity\n",
    "prandtl_agua_kern             = state_agua_kern.prandtl\n",
    "\n",
    "print(densidad_agua_kern, cp_agua_kern, viscosidad_dinamica_agua_kern, k_agua_kern, prandtl_agua_kern)"
   ]
  },
  {
   "cell_type": "code",
   "execution_count": 91,
   "metadata": {},
   "outputs": [
    {
     "data": {
      "text/plain": [
       "{'compressibility': 0.006436783703957838,\n",
       " 'conductivity': 0.14217900216844762,\n",
       " 'critical_pressure': 2981833.4687300003,\n",
       " 'critical_temperature': 298.33744539093857,\n",
       " 'density': 689.7875540581897,\n",
       " 'dynamic_viscosity': None,\n",
       " 'enthalpy': -232835.11238757614,\n",
       " 'entropy': -574.4950106366606,\n",
       " 'fluids': [nHexane, nOctane, nDecane],\n",
       " 'fractions': [30, 40, 30],\n",
       " 'freezing_temperature': None,\n",
       " 'internal_energy': -232981.53428204704,\n",
       " 'kinematic_viscosity': None,\n",
       " 'max_pressure': 605929364.2590215,\n",
       " 'max_temperature': 394.3155003716736,\n",
       " 'min_pressure': 1.5799947781094636,\n",
       " 'min_temperature': -65.24557909004545,\n",
       " 'molar_mass': 0.1099927925291343,\n",
       " 'phase': Liquid,\n",
       " 'prandtl': None,\n",
       " 'pressure': 101000,\n",
       " 'quality': None,\n",
       " 'sound_speed': 1141.6373570898857,\n",
       " 'specific_heat': 2235.7944562489474,\n",
       " 'specific_volume': 0.0014497217210092503,\n",
       " 'surface_tension': None,\n",
       " 'temperature': 27.781254953977964,\n",
       " 'triple_pressure': 1.5799947781094636,\n",
       " 'triple_temperature': -65.24557909004545,\n",
       " 'units_system': SIWithCelsiusAndPercents}"
      ]
     },
     "execution_count": 91,
     "metadata": {},
     "output_type": "execute_result"
    }
   ],
   "source": [
    "crudo = Mixture(\n",
    "    components,\n",
    "    fractions=fractions,\n",
    ")\n",
    "estado_crudo =  crudo.with_state(\n",
    "    Input.pressure(101_000),\n",
    "    Input.temperature(T_b),\n",
    ")\n",
    "estado_crudo.as_dict()"
   ]
  },
  {
   "cell_type": "code",
   "execution_count": 92,
   "metadata": {},
   "outputs": [
    {
     "name": "stdout",
     "output_type": "stream",
     "text": [
      "689.7875540581897 2235.7944562489474 0.001 0.14217900216844762 None\n"
     ]
    }
   ],
   "source": [
    "densidad_crudo_kern            = estado_crudo.density\n",
    "cp_crudo_kern                  = estado_crudo.specific_heat\n",
    "viscosidad_dinamica_crudo_kern = 0.001\n",
    "k_crudo_kern                   = estado_crudo.conductivity\n",
    "prandtl_crudo_kern             = estado_crudo.prandtl\n",
    "\n",
    "print(densidad_crudo_kern, cp_crudo_kern, viscosidad_dinamica_crudo_kern, k_crudo_kern, prandtl_crudo_kern)"
   ]
  },
  {
   "cell_type": "code",
   "execution_count": 93,
   "metadata": {},
   "outputs": [
    {
     "name": "stdout",
     "output_type": "stream",
     "text": [
      "Reynolds:  59186.52786895735\n"
     ]
    }
   ],
   "source": [
    "Re = G_s * D_e / viscosidad_dinamica_crudo_kern\n",
    "\n",
    "print('Reynolds: ', Re)"
   ]
  },
  {
   "cell_type": "code",
   "execution_count": 94,
   "metadata": {},
   "outputs": [
    {
     "data": {
      "text/plain": [
       "55.64062747698897"
      ]
     },
     "execution_count": 94,
     "metadata": {},
     "output_type": "execute_result"
    }
   ],
   "source": [
    "T_w = 1/2 * (\n",
    "    (temperatura_entrada_agua + temperatura_salida_agua)/2 +\n",
    "    (temperatura_entrada_crudo + temperatura_salida_crudo)/2\n",
    ")\n",
    "T_w"
   ]
  },
  {
   "cell_type": "code",
   "execution_count": 95,
   "metadata": {},
   "outputs": [
    {
     "data": {
      "text/plain": [
       "{'compressibility': 0.0013552347549151689,\n",
       " 'conductivity': 0.6467347002722287,\n",
       " 'critical_pressure': 22064000.0,\n",
       " 'critical_temperature': 373.946,\n",
       " 'density': 985.4258657289612,\n",
       " 'dynamic_viscosity': 0.0004985548423578504,\n",
       " 'enthalpy': 233094.944617429,\n",
       " 'entropy': 776.0879261429805,\n",
       " 'fraction': 100,\n",
       " 'freezing_temperature': None,\n",
       " 'internal_energy': 232889.29748852298,\n",
       " 'kinematic_viscosity': 5.059283094716093e-07,\n",
       " 'max_pressure': 1000000000.0,\n",
       " 'max_temperature': 1726.85,\n",
       " 'min_pressure': 611.6548008968684,\n",
       " 'min_temperature': 0.010000000000047748,\n",
       " 'molar_mass': 0.018015268,\n",
       " 'name': Water,\n",
       " 'phase': Liquid,\n",
       " 'prandtl': 3.2245626960404867,\n",
       " 'pressure': 202650,\n",
       " 'quality': None,\n",
       " 'sound_speed': 1548.102492741577,\n",
       " 'specific_heat': 4182.963260109866,\n",
       " 'specific_volume': 0.0010147896810687607,\n",
       " 'surface_tension': None,\n",
       " 'temperature': 55.64062747698898,\n",
       " 'triple_pressure': 611.6548008968684,\n",
       " 'triple_temperature': 0.010000000000047748,\n",
       " 'units_system': SIWithCelsiusAndPercents}"
      ]
     },
     "execution_count": 95,
     "metadata": {},
     "output_type": "execute_result"
    }
   ],
   "source": [
    "state_average = water.with_state(\n",
    "    Input.pressure(presion_agua),\n",
    "    Input.temperature(T_w),\n",
    ")\n",
    "state_average.as_dict()"
   ]
  },
  {
   "cell_type": "code",
   "execution_count": 96,
   "metadata": {},
   "outputs": [],
   "source": [
    "viscodiad_dinamica_agua_kern = state_average.dynamic_viscosity\n"
   ]
  },
  {
   "cell_type": "code",
   "execution_count": 97,
   "metadata": {},
   "outputs": [
    {
     "data": {
      "text/plain": [
       "2458.236773857342"
      ]
     },
     "execution_count": 97,
     "metadata": {},
     "output_type": "execute_result"
    }
   ],
   "source": [
    "h_0 = 0.36 * (D_e * G_s / viscosidad_dinamica_crudo_kern)**0.55  * (cp_crudo_kern * viscosidad_dinamica_crudo_kern / k_crudo_kern)**(1/3) * (viscosidad_dinamica_crudo_kern / viscodiad_dinamica_agua_kern)**0.14 * k_crudo_kern / D_e\n",
    "h_0"
   ]
  },
  {
   "cell_type": "code",
   "execution_count": 98,
   "metadata": {},
   "outputs": [
    {
     "data": {
      "text/plain": [
       "0.06433981754551896"
      ]
     },
     "execution_count": 98,
     "metadata": {},
     "output_type": "execute_result"
    }
   ],
   "source": [
    "A_tp = np.pi * diametro_interior**2/4 * numeros_tubos/2 \n",
    "A_tp"
   ]
  },
  {
   "cell_type": "code",
   "execution_count": 99,
   "metadata": {},
   "outputs": [
    {
     "name": "stdout",
     "output_type": "stream",
     "text": [
      "1.0139686313062197\n"
     ]
    }
   ],
   "source": [
    "u_m = caudal_agua / (densidad_agua_kern * A_tp)\n",
    "print(u_m)"
   ]
  },
  {
   "cell_type": "code",
   "execution_count": 100,
   "metadata": {},
   "outputs": [
    {
     "data": {
      "text/plain": [
       "19326.634118694386"
      ]
     },
     "execution_count": 100,
     "metadata": {},
     "output_type": "execute_result"
    }
   ],
   "source": [
    "Re = densidad_agua_kern * u_m * diametro_interior / viscosidad_dinamica_agua_kern\n",
    "Re"
   ]
  },
  {
   "cell_type": "markdown",
   "metadata": {},
   "source": [
    "### Como el fluido es turbulento se usa correlación de  Grielinki's"
   ]
  },
  {
   "cell_type": "code",
   "execution_count": 101,
   "metadata": {},
   "outputs": [
    {
     "data": {
      "text/plain": [
       "0.006595445629707155"
      ]
     },
     "execution_count": 101,
     "metadata": {},
     "output_type": "execute_result"
    }
   ],
   "source": [
    "f = (1.58*np.log(Re) - 3.28)**-2\n",
    "f"
   ]
  },
  {
   "cell_type": "code",
   "execution_count": 102,
   "metadata": {},
   "outputs": [
    {
     "data": {
      "text/plain": [
       "132.806380665664"
      ]
     },
     "execution_count": 102,
     "metadata": {},
     "output_type": "execute_result"
    }
   ],
   "source": [
    "Nu_b = (f/2)*(Re - 1000)*prandtl_agua_kern/(1 + 12.7*(f/2)**(1/2)*(prandtl_agua_kern**(2/3) - 1))\n",
    "Nu_b"
   ]
  },
  {
   "cell_type": "code",
   "execution_count": 103,
   "metadata": {},
   "outputs": [
    {
     "name": "stdout",
     "output_type": "stream",
     "text": [
      "5071.767540292126\n"
     ]
    }
   ],
   "source": [
    "h_i = Nu_b * k_agua_kern/diametro_interior\n",
    "print(h_i)"
   ]
  },
  {
   "cell_type": "code",
   "execution_count": 104,
   "metadata": {},
   "outputs": [
    {
     "data": {
      "text/plain": [
       "1140.8768102763675"
      ]
     },
     "execution_count": 104,
     "metadata": {},
     "output_type": "execute_result"
    }
   ],
   "source": [
    "U_f = (\n",
    "    diametro_exterior / (diametro_interior * h_i) + \n",
    "    diametro_exterior / diametro_interior * R_f_crudo + \n",
    "    diametro_exterior * np.log(diametro_exterior / diametro_interior) / (2 * k_material) + \n",
    "    1/h_i\n",
    ") ** -1\n",
    "U_f"
   ]
  },
  {
   "cell_type": "code",
   "execution_count": 105,
   "metadata": {},
   "outputs": [
    {
     "data": {
      "text/plain": [
       "2180.9355424374785"
      ]
     },
     "execution_count": 105,
     "metadata": {},
     "output_type": "execute_result"
    }
   ],
   "source": [
    "U_c = (\n",
    "    diametro_exterior / (diametro_interior * h_i) + \n",
    "    diametro_exterior * np.log(diametro_exterior / diametro_interior) / (2 * k_material) + \n",
    "    1 / h_i\n",
    ") ** -1\n",
    "U_c"
   ]
  },
  {
   "cell_type": "code",
   "execution_count": 106,
   "metadata": {},
   "outputs": [
    {
     "name": "stdout",
     "output_type": "stream",
     "text": [
      "0.2727620456217141\n",
      "7.0\n",
      "1.0253316879520018\n"
     ]
    },
    {
     "data": {
      "text/plain": [
       "102521.13710666036"
      ]
     },
     "execution_count": 106,
     "metadata": {},
     "output_type": "execute_result"
    }
   ],
   "source": [
    "f = np.e**(0.576 - 0.19*np.log(Re))\n",
    "print(f)\n",
    "\n",
    "N_b = longitud / B - 1 \n",
    "print(N_b)\n",
    "\n",
    "sigma = (viscosidad_dinamica_crudo_kern / viscosidad_dinamica_agua_kern)**0.14\n",
    "print(sigma)\n",
    "\n",
    "diferencia_presion = f * G_s ** 2 * (N_b + 1) * 0.39 / (sigma * 2 * densidad_agua_kern * D_e)\n",
    "diferencia_presion"
   ]
  },
  {
   "cell_type": "code",
   "execution_count": 107,
   "metadata": {},
   "outputs": [
    {
     "data": {
      "text/plain": [
       "58.85057916558362"
      ]
     },
     "execution_count": 107,
     "metadata": {},
     "output_type": "execute_result"
    }
   ],
   "source": [
    "area = calor /(U_f * diferencia_log_temperatura)\n",
    "area"
   ]
  },
  {
   "cell_type": "code",
   "execution_count": 118,
   "metadata": {},
   "outputs": [
    {
     "data": {
      "text/plain": [
       "array([85.2863901 , 84.25504982, 83.20700204, 82.14162152, 81.05824458,\n",
       "       79.95616573, 78.83463394, 77.69284839, 76.52995379, 75.34503504,\n",
       "       74.13711123, 72.90512885, 71.64795404, 70.36436376, 69.05303566,\n",
       "       67.71253641, 66.34130818, 64.93765293, 63.49971407, 62.0254548 ,\n",
       "       60.51263253, 58.9587684 , 57.36111061, 55.71659007, 54.0217662 ,\n",
       "       52.27276007, 50.465171  , 48.59397125, 46.65337136, 44.63664505])"
      ]
     },
     "execution_count": 118,
     "metadata": {},
     "output_type": "execute_result"
    }
   ],
   "source": [
    "areas = calores_transferencia / (U_f * diferencia_log_temperaturas)\n",
    "areas"
   ]
  },
  {
   "cell_type": "code",
   "execution_count": 127,
   "metadata": {},
   "outputs": [
    {
     "data": {
      "text/plain": [
       "array([918.02270308, 860.64816792, 798.0118653 , 728.85774194,\n",
       "       651.35797657, 562.66398944])"
      ]
     },
     "execution_count": 127,
     "metadata": {},
     "output_type": "execute_result"
    }
   ],
   "source": [
    "muestra = areas[::5] * 10.764\n",
    "muestra"
   ]
  },
  {
   "cell_type": "code",
   "execution_count": 134,
   "metadata": {},
   "outputs": [],
   "source": [
    "data_bo_map = list(map(\n",
    "    lambda x,y : (x,y),\n",
    "    muestra.tolist(),\n",
    "     [46600, 44300, 41600, 38500, 35000, 30900]\n",
    "))"
   ]
  },
  {
   "cell_type": "code",
   "execution_count": 136,
   "metadata": {},
   "outputs": [
    {
     "data": {
      "text/html": [
       "<div>\n",
       "<style scoped>\n",
       "    .dataframe tbody tr th:only-of-type {\n",
       "        vertical-align: middle;\n",
       "    }\n",
       "\n",
       "    .dataframe tbody tr th {\n",
       "        vertical-align: top;\n",
       "    }\n",
       "\n",
       "    .dataframe thead th {\n",
       "        text-align: right;\n",
       "    }\n",
       "</style>\n",
       "<table border=\"1\" class=\"dataframe\">\n",
       "  <thead>\n",
       "    <tr style=\"text-align: right;\">\n",
       "      <th></th>\n",
       "      <th>area</th>\n",
       "      <th>costo_total</th>\n",
       "    </tr>\n",
       "  </thead>\n",
       "  <tbody>\n",
       "    <tr>\n",
       "      <th>0</th>\n",
       "      <td>918.022703</td>\n",
       "      <td>46600</td>\n",
       "    </tr>\n",
       "    <tr>\n",
       "      <th>1</th>\n",
       "      <td>860.648168</td>\n",
       "      <td>44300</td>\n",
       "    </tr>\n",
       "    <tr>\n",
       "      <th>2</th>\n",
       "      <td>798.011865</td>\n",
       "      <td>41600</td>\n",
       "    </tr>\n",
       "    <tr>\n",
       "      <th>3</th>\n",
       "      <td>728.857742</td>\n",
       "      <td>38500</td>\n",
       "    </tr>\n",
       "    <tr>\n",
       "      <th>4</th>\n",
       "      <td>651.357977</td>\n",
       "      <td>35000</td>\n",
       "    </tr>\n",
       "  </tbody>\n",
       "</table>\n",
       "</div>"
      ],
      "text/plain": [
       "         area  costo_total\n",
       "0  918.022703        46600\n",
       "1  860.648168        44300\n",
       "2  798.011865        41600\n",
       "3  728.857742        38500\n",
       "4  651.357977        35000"
      ]
     },
     "execution_count": 136,
     "metadata": {},
     "output_type": "execute_result"
    }
   ],
   "source": [
    "data = pd.DataFrame(\n",
    "    data_bo_map,\n",
    "    columns=['area', 'costo_total']\n",
    ")\n",
    "data.head()"
   ]
  },
  {
   "cell_type": "code",
   "execution_count": 138,
   "metadata": {},
   "outputs": [
    {
     "data": {
      "text/html": [
       "<div>\n",
       "<style scoped>\n",
       "    .dataframe tbody tr th:only-of-type {\n",
       "        vertical-align: middle;\n",
       "    }\n",
       "\n",
       "    .dataframe tbody tr th {\n",
       "        vertical-align: top;\n",
       "    }\n",
       "\n",
       "    .dataframe thead th {\n",
       "        text-align: right;\n",
       "    }\n",
       "</style>\n",
       "<table border=\"1\" class=\"dataframe\">\n",
       "  <thead>\n",
       "    <tr style=\"text-align: right;\">\n",
       "      <th></th>\n",
       "      <th>area</th>\n",
       "      <th>costo_total</th>\n",
       "      <th>costo_especifico</th>\n",
       "    </tr>\n",
       "  </thead>\n",
       "  <tbody>\n",
       "    <tr>\n",
       "      <th>0</th>\n",
       "      <td>918.022703</td>\n",
       "      <td>46600</td>\n",
       "      <td>50.761272</td>\n",
       "    </tr>\n",
       "    <tr>\n",
       "      <th>1</th>\n",
       "      <td>860.648168</td>\n",
       "      <td>44300</td>\n",
       "      <td>51.472834</td>\n",
       "    </tr>\n",
       "    <tr>\n",
       "      <th>2</th>\n",
       "      <td>798.011865</td>\n",
       "      <td>41600</td>\n",
       "      <td>52.129551</td>\n",
       "    </tr>\n",
       "    <tr>\n",
       "      <th>3</th>\n",
       "      <td>728.857742</td>\n",
       "      <td>38500</td>\n",
       "      <td>52.822379</td>\n",
       "    </tr>\n",
       "    <tr>\n",
       "      <th>4</th>\n",
       "      <td>651.357977</td>\n",
       "      <td>35000</td>\n",
       "      <td>53.733893</td>\n",
       "    </tr>\n",
       "  </tbody>\n",
       "</table>\n",
       "</div>"
      ],
      "text/plain": [
       "         area  costo_total  costo_especifico\n",
       "0  918.022703        46600         50.761272\n",
       "1  860.648168        44300         51.472834\n",
       "2  798.011865        41600         52.129551\n",
       "3  728.857742        38500         52.822379\n",
       "4  651.357977        35000         53.733893"
      ]
     },
     "execution_count": 138,
     "metadata": {},
     "output_type": "execute_result"
    }
   ],
   "source": [
    "data['costo_especifico'] = data['costo_total'] / data['area']\n",
    "data.head()"
   ]
  },
  {
   "cell_type": "code",
   "execution_count": 150,
   "metadata": {},
   "outputs": [
    {
     "data": {
      "text/plain": [
       "[50.761271854860276,\n",
       " 51.47283367514808,\n",
       " 52.129550710985676,\n",
       " 52.82237916230478,\n",
       " 53.73389328009054,\n",
       " 54.917322914057266]"
      ]
     },
     "execution_count": 150,
     "metadata": {},
     "output_type": "execute_result"
    }
   ],
   "source": [
    "data['costo_especifico'].tolist()"
   ]
  },
  {
   "cell_type": "code",
   "execution_count": 147,
   "metadata": {},
   "outputs": [
    {
     "data": {
      "image/png": "[encoded data removed]",
      "text/plain": [
       "<Figure size 640x480 with 1 Axes>"
      ]
     },
     "metadata": {},
     "output_type": "display_data"
    }
   ],
   "source": [
    "plt.plot(\n",
    "    data['area'],\n",
    "    data['costo_especifico'],\n",
    "    marker='o'\n",
    ")\n",
    "plt.xlabel('Area [ft2]')\n",
    "plt.ylabel('Costo especifico [USD/ft2]')\n",
    "plt.grid()\n",
    "plt.show()"
   ]
  },
  {
   "cell_type": "code",
   "execution_count": 154,
   "metadata": {},
   "outputs": [],
   "source": [
    "# Define the power law function\n",
    "def power_law(x, A, B):\n",
    "    return A * (x ** B)"
   ]
  },
  {
   "cell_type": "code",
   "execution_count": 155,
   "metadata": {},
   "outputs": [],
   "source": [
    "# Perform curve fitting to find A and B\n",
    "params, covariance = curve_fit(\n",
    "    power_law, \n",
    "    data['area'].to_numpy(),\n",
    "    data[\"costo_especifico\"].to_numpy()\n",
    ")"
   ]
  },
  {
   "cell_type": "code",
   "execution_count": 158,
   "metadata": {},
   "outputs": [
    {
     "name": "stdout",
     "output_type": "stream",
     "text": [
      "A = 148.81631168365718\n",
      "B = -0.1572543566238062\n"
     ]
    }
   ],
   "source": [
    "# Extract the values of A and B\n",
    "K, m = params\n",
    "\n",
    "print(\"A =\", K)\n",
    "print(\"B =\", m)"
   ]
  },
  {
   "cell_type": "code",
   "execution_count": 161,
   "metadata": {},
   "outputs": [
    {
     "data": {
      "text/html": [
       "<div>\n",
       "<style scoped>\n",
       "    .dataframe tbody tr th:only-of-type {\n",
       "        vertical-align: middle;\n",
       "    }\n",
       "\n",
       "    .dataframe tbody tr th {\n",
       "        vertical-align: top;\n",
       "    }\n",
       "\n",
       "    .dataframe thead th {\n",
       "        text-align: right;\n",
       "    }\n",
       "</style>\n",
       "<table border=\"1\" class=\"dataframe\">\n",
       "  <thead>\n",
       "    <tr style=\"text-align: right;\">\n",
       "      <th></th>\n",
       "      <th>area</th>\n",
       "      <th>costo_total</th>\n",
       "      <th>costo_especifico</th>\n",
       "      <th>costo_intercambiado</th>\n",
       "    </tr>\n",
       "  </thead>\n",
       "  <tbody>\n",
       "    <tr>\n",
       "      <th>0</th>\n",
       "      <td>918.022703</td>\n",
       "      <td>46600</td>\n",
       "      <td>50.761272</td>\n",
       "      <td>50.901306</td>\n",
       "    </tr>\n",
       "    <tr>\n",
       "      <th>1</th>\n",
       "      <td>860.648168</td>\n",
       "      <td>44300</td>\n",
       "      <td>51.472834</td>\n",
       "      <td>51.420514</td>\n",
       "    </tr>\n",
       "    <tr>\n",
       "      <th>2</th>\n",
       "      <td>798.011865</td>\n",
       "      <td>41600</td>\n",
       "      <td>52.129551</td>\n",
       "      <td>52.035164</td>\n",
       "    </tr>\n",
       "    <tr>\n",
       "      <th>3</th>\n",
       "      <td>728.857742</td>\n",
       "      <td>38500</td>\n",
       "      <td>52.822379</td>\n",
       "      <td>52.782200</td>\n",
       "    </tr>\n",
       "    <tr>\n",
       "      <th>4</th>\n",
       "      <td>651.357977</td>\n",
       "      <td>35000</td>\n",
       "      <td>53.733893</td>\n",
       "      <td>53.723602</td>\n",
       "    </tr>\n",
       "  </tbody>\n",
       "</table>\n",
       "</div>"
      ],
      "text/plain": [
       "         area  costo_total  costo_especifico  costo_intercambiado\n",
       "0  918.022703        46600         50.761272            50.901306\n",
       "1  860.648168        44300         51.472834            51.420514\n",
       "2  798.011865        41600         52.129551            52.035164\n",
       "3  728.857742        38500         52.822379            52.782200\n",
       "4  651.357977        35000         53.733893            53.723602"
      ]
     },
     "execution_count": 161,
     "metadata": {},
     "output_type": "execute_result"
    }
   ],
   "source": [
    "data['costo_intercambiado'] =  K * (data['area'] ** m)\n",
    "data.head()"
   ]
  },
  {
   "cell_type": "code",
   "execution_count": 169,
   "metadata": {},
   "outputs": [
    {
     "data": {
      "image/png": "[encoded data removed]",
      "text/plain": [
       "<Figure size 640x480 with 1 Axes>"
      ]
     },
     "metadata": {},
     "output_type": "display_data"
    }
   ],
   "source": [
    "plt.plot(\n",
    "    data['area'],\n",
    "    data['costo_especifico'],\n",
    "    marker='o'\n",
    ")\n",
    "plt.plot(\n",
    "    data['area'],\n",
    "    data['costo_intercambiado'][::-1],\n",
    "    marker='o'\n",
    ")\n",
    "plt.xlabel('Area [ft2]')\n",
    "plt.ylabel('Costo especifico [USD/ft2]')\n",
    "# plt.legend()\n",
    "plt.grid()\n",
    "plt.show()"
   ]
  },
  {
   "cell_type": "markdown",
   "metadata": {},
   "source": [
    "### da una diferencia de presión inferior a 150kpa (85090) por ende cumple con los requerimientos\n"
   ]
  },
  {
   "cell_type": "markdown",
   "metadata": {},
   "source": [
    "![](./matches.png)"
   ]
  },
  {
   "cell_type": "markdown",
   "metadata": {},
   "source": [
    "### Resultados de la evaluación de diseño\n",
    "\n",
    "- Material = Acero al carbono k = 60 W/mk\n",
    "- Longitud del intercambiador = 4 m\n",
    "- Numero de tubos = 640\n",
    "- Coeficientes de convección\n",
    "    - Agua : 5071.76 W/mk\n",
    "    - Crudo : 2458.236773857342\n",
    "\n",
    "\n",
    "    \n",
    "\n",
    "- Diámetro de la carcasa: 0.7 m\n",
    "- La distribución de los tubos en cuadrada\n",
    "- Un Pitch_Size de 0.0254 m\n",
    "\n",
    "- Temperaturas de trabajo\n",
    "    - Agua :\n",
    "        - Entrada : 21 º C\n",
    "        - Salida  : 34.5 º C\n",
    "    - Crudo :\n",
    "        - Entrada : 102 ºC\n",
    "        - Salida  : 65  ºC\n"
   ]
  },
  {
   "cell_type": "markdown",
   "metadata": {},
   "source": [
    "## Referencias\n",
    "- Abdulagatov, I.M., Abdulagatova, Z.Z., Grigor’ev, B.A. et al. Thermal Diffusivity, Heat Capacity, and Thermal Conductivity of Oil Reservoir Rock at High Temperatures. Int J Thermophys 42, 135 (2021). https://doi.org/10.1007/s10765-021-02878-x\n",
    "- Seguros, V. (2021) Presión del Agua en Casa: Problemas habituales: Blog Verti, Verti Blog. Available at: https://blog.verti.es/hogar/presion-agua-casa/#:~:text=Lo%20habitual%20es%20que%20la,tengamos%20una%20presión%20u%20otra. (Accessed: 13 October 2023). \n",
    "- Bell, I.H. et al. (2014) ‘Pure and pseudo-pure fluid thermophysical property evaluation and the open-source Thermophysical Property Library coolprop’, Industrial &amp;amp; Engineering Chemistry Research, 53(6), pp. 2498–2508. doi:10.1021/ie4033999. "
   ]
  }
 ],
 "metadata": {
  "kernelspec": {
   "display_name": "uni",
   "language": "python",
   "name": "python3"
  },
  "language_info": {
   "codemirror_mode": {
    "name": "ipython",
    "version": 3
   },
   "file_extension": ".py",
   "mimetype": "text/x-python",
   "name": "python",
   "nbconvert_exporter": "python",
   "pygments_lexer": "ipython3",
   "version": "3.10.13"
  }
 },
 "nbformat": 4,
 "nbformat_minor": 2
}
