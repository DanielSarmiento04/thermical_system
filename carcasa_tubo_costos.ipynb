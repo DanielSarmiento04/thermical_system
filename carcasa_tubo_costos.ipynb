{
 "cells": [
  {
   "cell_type": "markdown",
   "metadata": {},
   "source": [
    "# **Enunciado**\n",
    "\n",
    "## José Daniel Sarmiento Blanco 2192232\n",
    "\n",
    "Design a heat exchanger to be used as a crude oil cooler. 120 kg/s of crude oil enters to the heat exchanger at 102°C and leaves at 65°C. The coolant to be used is city water entering the tube side at 21°C with a flow rate of 65 kg/s. Pressure drop for the crude oil is limited to 150 kPa."
   ]
  },
  {
   "cell_type": "markdown",
   "metadata": {},
   "source": [
    "## Importar librerías necesarias"
   ]
  },
  {
   "cell_type": "code",
   "execution_count": 1,
   "metadata": {},
   "outputs": [],
   "source": [
    "from pyfluids import Fluid, FluidsList, Input, Mixture\n",
    "from core import ThermoFormules\n",
    "import numpy as np\n",
    "from pprint import pprint\n",
    "import pandas as pd\n",
    "from matplotlib import pyplot as plt\n",
    "from scipy.optimize import curve_fit"
   ]
  },
  {
   "cell_type": "markdown",
   "metadata": {},
   "source": [
    "## Establecer valores conocidos"
   ]
  },
  {
   "cell_type": "code",
   "execution_count": 2,
   "metadata": {},
   "outputs": [],
   "source": [
    "caudal_crudo                = 120 # kg/s\n",
    "temperatura_entrada_crudo   = 102 # ºC\n",
    "temperatura_salida_crudo    = 65  # ºC\n",
    "\n",
    "temperatura_entrada_agua    = 21  # ºC\n",
    "caudal_agua                 = 65  # kg/s\n",
    "\n",
    "presion_limite_crudo        = 150_000 # Pa"
   ]
  },
  {
   "cell_type": "markdown",
   "metadata": {},
   "source": [
    "<p align=\"center\">\n",
    "  <img src=\"./diagrama.jpeg\" height =\"600px\">\n",
    "</p>"
   ]
  },
  {
   "cell_type": "markdown",
   "metadata": {},
   "source": [
    "### Se establece un intervalo de temperaturas sugeridas"
   ]
  },
  {
   "cell_type": "code",
   "execution_count": 3,
   "metadata": {},
   "outputs": [
    {
     "data": {
      "text/plain": [
       "array([60, 61, 62, 63, 64, 65, 66, 67, 68, 69, 70, 71, 72, 73, 74, 75, 76,\n",
       "       77, 78, 79, 80, 81, 82, 83, 84, 85, 86, 87, 88, 89])"
      ]
     },
     "execution_count": 3,
     "metadata": {},
     "output_type": "execute_result"
    }
   ],
   "source": [
    "temperaturas_crudo_salidas = np.arange(60, 90)\n",
    "temperaturas_crudo_salidas"
   ]
  },
  {
   "cell_type": "markdown",
   "metadata": {},
   "source": [
    "## 0. Establecer valores pre-diseño"
   ]
  },
  {
   "cell_type": "code",
   "execution_count": 4,
   "metadata": {},
   "outputs": [],
   "source": [
    "k_material                            = 60    # W/ m * k\n",
    "diametro_interior                     = 16e-3 # m\n",
    "diametro_exterior                     = 19e-3 # m\n",
    "\n",
    "longitud                              = 4 #m               "
   ]
  },
  {
   "cell_type": "code",
   "execution_count": 5,
   "metadata": {},
   "outputs": [
    {
     "data": {
      "text/plain": [
       "Water"
      ]
     },
     "execution_count": 5,
     "metadata": {},
     "output_type": "execute_result"
    }
   ],
   "source": [
    "water = Fluid(FluidsList.Water)\n",
    "water.name"
   ]
  },
  {
   "cell_type": "markdown",
   "metadata": {},
   "source": [
    "### 0.1 Suposición\n",
    "\n",
    "[presión agua](https://blog.verti.es/hogar/presion-agua-casa/#:~:text=Lo%20habitual%20es%20que%20la,tengamos%20una%20presión%20u%20otra.)\n",
    "\n",
    "\n",
    "- Considere como material el acero al carbono, k = 60 W/m*k.\n",
    "- Diámetro de tubo de 3/4 in ( 19 mm exterior y 16 mm interior ).\n",
    "- Longitud de 4m"
   ]
  },
  {
   "cell_type": "code",
   "execution_count": 6,
   "metadata": {},
   "outputs": [],
   "source": [
    "presion_agua  = (2) * 101_325 # Pa\n",
    "presion_crudo = 413_000       # Pa"
   ]
  },
  {
   "cell_type": "markdown",
   "metadata": {},
   "source": [
    "### Composición del crudo"
   ]
  },
  {
   "cell_type": "code",
   "execution_count": 7,
   "metadata": {},
   "outputs": [
    {
     "data": {
      "text/plain": [
       "{nHexane: 30, nOctane: 40, nDecane: 30}"
      ]
     },
     "execution_count": 7,
     "metadata": {},
     "output_type": "execute_result"
    }
   ],
   "source": [
    "components = [FluidsList.nHexane, FluidsList.nOctane, FluidsList.nDecane]\n",
    "fractions = [30, 40, 30]\n",
    "mixture = dict(zip(components, fractions))\n",
    "mixture"
   ]
  },
  {
   "cell_type": "code",
   "execution_count": 8,
   "metadata": {},
   "outputs": [],
   "source": [
    "crudo = Mixture(\n",
    "    components,\n",
    "    fractions=fractions,\n",
    ")"
   ]
  },
  {
   "cell_type": "code",
   "execution_count": 9,
   "metadata": {},
   "outputs": [
    {
     "name": "stdout",
     "output_type": "stream",
     "text": [
      "Temperatura de crudo 83.5 ºC\n",
      "Calor especifico crudo 830.0 J/(kg*k)\n"
     ]
    }
   ],
   "source": [
    "temperatura_propiedades_crudo = (temperatura_entrada_crudo + temperatura_salida_crudo) / 2\n",
    "print(f\"Temperatura de crudo {temperatura_propiedades_crudo} ºC\") #+ 273.15)\n",
    "\n",
    "cp_propiedades_crudo =  0.83 * 1000   # J/kg k\n",
    "print(f\"Calor especifico crudo {cp_propiedades_crudo} J/(kg*k)\")"
   ]
  },
  {
   "cell_type": "code",
   "execution_count": 10,
   "metadata": {},
   "outputs": [
    {
     "data": {
      "text/plain": [
       "array([81. , 81.5, 82. , 82.5, 83. , 83.5, 84. , 84.5, 85. , 85.5, 86. ,\n",
       "       86.5, 87. , 87.5, 88. , 88.5, 89. , 89.5, 90. , 90.5, 91. , 91.5,\n",
       "       92. , 92.5, 93. , 93.5, 94. , 94.5, 95. , 95.5])"
      ]
     },
     "execution_count": 10,
     "metadata": {},
     "output_type": "execute_result"
    }
   ],
   "source": [
    "temperaturas_propiedades_crudo = (temperaturas_crudo_salidas + temperatura_entrada_crudo) / 2\n",
    "temperaturas_propiedades_crudo"
   ]
  },
  {
   "cell_type": "markdown",
   "metadata": {},
   "source": [
    "## 1. Termodinámica"
   ]
  },
  {
   "cell_type": "markdown",
   "metadata": {},
   "source": [
    "$$ \\dot{Q} = (\\dot{m} *C_{p})_{crudo} * (T_{c1} -T_{c2})$$"
   ]
  },
  {
   "cell_type": "code",
   "execution_count": 11,
   "metadata": {},
   "outputs": [
    {
     "name": "stdout",
     "output_type": "stream",
     "text": [
      "El calor transferido = 3685200.0 W\n"
     ]
    }
   ],
   "source": [
    "calor = caudal_crudo * cp_propiedades_crudo * (temperatura_entrada_crudo - temperatura_salida_crudo ) \n",
    "print(f\"El calor transferido = {calor} W\")"
   ]
  },
  {
   "cell_type": "code",
   "execution_count": 12,
   "metadata": {},
   "outputs": [
    {
     "data": {
      "text/plain": [
       "array([4183200., 4083600., 3984000., 3884400., 3784800., 3685200.,\n",
       "       3585600., 3486000., 3386400., 3286800., 3187200., 3087600.,\n",
       "       2988000., 2888400., 2788800., 2689200., 2589600., 2490000.,\n",
       "       2390400., 2290800., 2191200., 2091600., 1992000., 1892400.,\n",
       "       1792800., 1693200., 1593600., 1494000., 1394400., 1294800.])"
      ]
     },
     "execution_count": 12,
     "metadata": {},
     "output_type": "execute_result"
    }
   ],
   "source": [
    "calores_transferencia = caudal_crudo * cp_propiedades_crudo * (temperatura_entrada_crudo - temperaturas_crudo_salidas)\n",
    "calores_transferencia"
   ]
  },
  {
   "cell_type": "code",
   "execution_count": 13,
   "metadata": {},
   "outputs": [
    {
     "name": "stdout",
     "output_type": "stream",
     "text": [
      "{'compressibility': 0.0014376012709739205, 'conductivity': 0.6203366408703609, 'critical_pressure': 22064000.0, 'critical_temperature': 373.946, 'density': 994.417937160409, 'dynamic_viscosity': 0.0007337301352239351, 'enthalpy': 142631.9153801642, 'entropy': 491.47808690964223, 'fraction': 100, 'freezing_temperature': None, 'internal_energy': 142428.1278251999, 'kinematic_viscosity': 7.378488538924831e-07, 'max_pressure': 1000000000.0, 'max_temperature': 1726.85, 'min_pressure': 611.6548008968684, 'min_temperature': 0.010000000000047748, 'molar_mass': 0.018015268, 'name': Water, 'phase': Liquid, 'prandtl': 4.942945501085879, 'pressure': 202650, 'quality': None, 'sound_speed': 1518.0155752419128, 'specific_heat': 4179.043576032273, 'specific_volume': 0.0010056133971753675, 'surface_tension': None, 'temperature': 34.0, 'triple_pressure': 611.6548008968684, 'triple_temperature': 0.010000000000047748, 'units_system': SIWithCelsiusAndPercents}\n"
     ]
    }
   ],
   "source": [
    "estado_agua_propiedades = water.with_state(\n",
    "    Input.pressure(presion_agua),\n",
    "    Input.temperature(34),\n",
    ")\n",
    "print(estado_agua_propiedades.as_dict())"
   ]
  },
  {
   "cell_type": "code",
   "execution_count": 14,
   "metadata": {},
   "outputs": [],
   "source": [
    "cp_agua                         = estado_agua_propiedades.specific_heat # J /kg k\n",
    "viscosidad_dinamica_agua        = estado_agua_propiedades.dynamic_viscosity # Pa * s\n",
    "densidad_agua                   = estado_agua_propiedades.density # kg / m3\n",
    "k_agua                          = estado_agua_propiedades.conductivity # W / m k\n",
    "prandl_agua                     = estado_agua_propiedades.prandtl"
   ]
  },
  {
   "cell_type": "markdown",
   "metadata": {},
   "source": [
    "$$ \\dot{Q} = (\\dot{m} *C_{p})_{agua} * (T_{w1} - T_{w2})$$"
   ]
  },
  {
   "cell_type": "code",
   "execution_count": 15,
   "metadata": {},
   "outputs": [
    {
     "name": "stdout",
     "output_type": "stream",
     "text": [
      "la temperatura de lsa salida del agua del agua es: 34.57\n"
     ]
    }
   ],
   "source": [
    "temperatura_salida_agua = temperatura_entrada_agua + calor / (caudal_agua * cp_agua)\n",
    "print(f\"la temperatura de lsa salida del agua del agua es: {temperatura_salida_agua:.2f}\")"
   ]
  },
  {
   "cell_type": "code",
   "execution_count": 16,
   "metadata": {},
   "outputs": [
    {
     "data": {
      "text/plain": [
       "array([36.39991673, 36.03325204, 35.66658736, 35.29992268, 34.93325799,\n",
       "       34.56659331, 34.19992862, 33.83326394, 33.46659926, 33.09993457,\n",
       "       32.73326989, 32.3666052 , 31.99994052, 31.63327584, 31.26661115,\n",
       "       30.89994647, 30.53328178, 30.1666171 , 29.79995242, 29.43328773,\n",
       "       29.06662305, 28.69995836, 28.33329368, 27.966629  , 27.59996431,\n",
       "       27.23329963, 26.86663494, 26.49997026, 26.13330558, 25.76664089])"
      ]
     },
     "execution_count": 16,
     "metadata": {},
     "output_type": "execute_result"
    }
   ],
   "source": [
    "temperaturas_salida_agua = temperatura_entrada_agua + calores_transferencia / (caudal_agua * cp_agua)\n",
    "temperaturas_salida_agua"
   ]
  },
  {
   "cell_type": "markdown",
   "metadata": {},
   "source": [
    "## 2. Transferencia de calor"
   ]
  },
  {
   "cell_type": "markdown",
   "metadata": {},
   "source": [
    "<p align=\"center\">\n",
    "  <img src=\"./resistencia.jpeg\" height =\"200px\">\n",
    "</p>"
   ]
  },
  {
   "cell_type": "markdown",
   "metadata": {},
   "source": [
    "### 2.1 Calculo de una U estimada"
   ]
  },
  {
   "cell_type": "markdown",
   "metadata": {},
   "source": [
    "Asuma los coeficiente de trasferencia de calor\n",
    "\n",
    "$$ \\frac{1}{U_{ensuciamiento}} = \\frac{r_{0}}{r_{i}} \\frac{1}{h_{i}} + \\frac{r_{0}}{r_{1}}*R_{f_{}i} + r_{0} \\frac{ln(\\frac{r_{0}}{r_{i}} )}{k} + R_{f_{}o} + \\frac{1}{h_{0}} $$\n",
    "\n",
    "\n",
    "\n",
    "$$ \\frac{1}{U_{limpio}} = \\frac{r_{0}}{r_{i}} \\frac{1}{h_{i}} + r_{0} \\frac{ln(\\frac{r_{0}}{r_{i}} )}{k} + \\frac{1}{h_{0}}$$\n",
    "\n",
    "En este caso\n",
    "- $ r_{0} $ -> radio exterior\n",
    "- $ r_{i} $ -> radio interior\n",
    "\n",
    "- $ h_{0} $ -> coeficiente de convección en la carcasa\n",
    "- $ h_{i} $ -> coeficiente de convección en el tubo"
   ]
  },
  {
   "cell_type": "code",
   "execution_count": 17,
   "metadata": {},
   "outputs": [],
   "source": [
    "h_agua    = 4000     # kj/kg * k\n",
    "h_crudo   = 800      # kj/kg * k\n",
    "\n",
    "R_f_crudo = 0.000352 # m2 k/w\n",
    "R_f_agua  = 0.000176 # m2 k/w"
   ]
  },
  {
   "cell_type": "code",
   "execution_count": 18,
   "metadata": {},
   "outputs": [
    {
     "data": {
      "text/plain": [
       "468.36551055305137"
      ]
     },
     "execution_count": 18,
     "metadata": {},
     "output_type": "execute_result"
    }
   ],
   "source": [
    "U_ensuciamiento = (\n",
    "    (diametro_exterior / diametro_interior) * 1 / h_agua\n",
    "    + (diametro_exterior / diametro_interior) * R_f_agua\n",
    "    + (diametro_exterior / 2) * np.log(diametro_exterior/diametro_interior) / k_material\n",
    "    + R_f_crudo\n",
    "    + 1 / h_crudo\n",
    ") ** -1 \n",
    "U_ensuciamiento"
   ]
  },
  {
   "cell_type": "code",
   "execution_count": 19,
   "metadata": {},
   "outputs": [
    {
     "data": {
      "text/plain": [
       "635.2898597346917"
      ]
     },
     "execution_count": 19,
     "metadata": {},
     "output_type": "execute_result"
    }
   ],
   "source": [
    "U_no_ensuciamiento = (\n",
    "    (diametro_exterior / diametro_interior) * 1 / h_agua\n",
    "    + (diametro_exterior / 2) * np.log(diametro_exterior/diametro_interior) / k_material\n",
    "    + 1 / h_crudo\n",
    ") ** -1 \n",
    "U_no_ensuciamiento"
   ]
  },
  {
   "cell_type": "markdown",
   "metadata": {},
   "source": [
    "### 2.2 Calculo de la diferencia media logarítmica"
   ]
  },
  {
   "cell_type": "code",
   "execution_count": 20,
   "metadata": {},
   "outputs": [
    {
     "name": "stdout",
     "output_type": "stream",
     "text": [
      "diferencia de temperatura sección 1: 67.43 ºC\n",
      "diferencia de temperatura sección 2: 44.00 ºC\n",
      "diferencia media logarítmica: 54.89 ºC\n"
     ]
    }
   ],
   "source": [
    "diferencia_temperatura_1 = temperatura_entrada_crudo - temperatura_salida_agua\n",
    "diferencia_temperatura_2 = temperatura_salida_crudo - temperatura_entrada_agua\n",
    "print(f\"diferencia de temperatura sección 1: {diferencia_temperatura_1:.2f} ºC\" )\n",
    "print(f\"diferencia de temperatura sección 2: {diferencia_temperatura_2:.2f} ºC\" )\n",
    "\n",
    "diferencia_log_temperatura = (diferencia_temperatura_2 - diferencia_temperatura_1)/ np.log(diferencia_temperatura_2/diferencia_temperatura_1)\n",
    "print(f\"diferencia media logarítmica: {diferencia_log_temperatura:.2f} ºC\")"
   ]
  },
  {
   "cell_type": "code",
   "execution_count": 21,
   "metadata": {},
   "outputs": [
    {
     "data": {
      "text/plain": [
       "array([42.99224694, 42.48234708, 41.96823475, 41.44975052, 40.92672451,\n",
       "       40.39897537, 39.86630924, 39.32851844, 38.78538008, 38.23665446,\n",
       "       37.68208323, 37.12138725, 36.55426426, 35.98038603, 35.39939516,\n",
       "       34.81090129, 34.21447675, 33.6096513 , 32.995906  , 32.37266584,\n",
       "       31.7392909 , 31.09506562, 30.43918569, 29.7707419 , 29.08869994,\n",
       "       28.39187505, 27.67889953, 26.9481808 , 26.19784621, 25.42566925])"
      ]
     },
     "execution_count": 21,
     "metadata": {},
     "output_type": "execute_result"
    }
   ],
   "source": [
    "diferencia_temperatura_crudo = temperatura_entrada_crudo - temperaturas_crudo_salidas\n",
    "diferencia_temperatura_crudo\n",
    "\n",
    "diferencia_log_temperaturas = (diferencia_temperatura_2 - diferencia_temperatura_crudo) / np.log(diferencia_temperatura_2/diferencia_temperatura_crudo)\n",
    "diferencia_log_temperaturas"
   ]
  },
  {
   "cell_type": "markdown",
   "metadata": {},
   "source": [
    "Para el calculo de las el factor de correction se uso las tables del metodo de lmtd del moodle "
   ]
  },
  {
   "cell_type": "code",
   "execution_count": 22,
   "metadata": {},
   "outputs": [
    {
     "name": "stdout",
     "output_type": "stream",
     "text": [
      "{'R': 2.727287474318251, 'P': 0.36666468401904473}\n"
     ]
    }
   ],
   "source": [
    "R = (temperatura_entrada_crudo - temperatura_salida_crudo) / (temperatura_salida_agua- temperatura_entrada_agua)\n",
    "P = 1 / R\n",
    "print({\"R\":R, \"P\":P})"
   ]
  },
  {
   "cell_type": "markdown",
   "metadata": {},
   "source": [
    "Teniendo en cuenta las gráficas de moodle"
   ]
  },
  {
   "cell_type": "code",
   "execution_count": 23,
   "metadata": {},
   "outputs": [],
   "source": [
    "F = 0.86"
   ]
  },
  {
   "cell_type": "code",
   "execution_count": 24,
   "metadata": {},
   "outputs": [
    {
     "name": "stdout",
     "output_type": "stream",
     "text": [
      "Diferencia de temperatura logar ítmica 47.20 ºC\n"
     ]
    }
   ],
   "source": [
    "diferencia_log_temperatura_corregida = F * diferencia_log_temperatura\n",
    "print(f\"Diferencia de temperatura logar ítmica {diferencia_log_temperatura_corregida:.2f} ºC\")"
   ]
  },
  {
   "cell_type": "markdown",
   "metadata": {},
   "source": [
    "### 2.3 Calculo de la relación de area"
   ]
  },
  {
   "cell_type": "code",
   "execution_count": 25,
   "metadata": {},
   "outputs": [
    {
     "name": "stdout",
     "output_type": "stream",
     "text": [
      "Area con ensuciamiento 166.69409566996808 m^2\n",
      "Area sin ensuciamiento 122.89471337894294 m^2\n",
      "Relación de area ratio: 0.3564\n"
     ]
    }
   ],
   "source": [
    "A_f = calor / (U_ensuciamiento * diferencia_log_temperatura_corregida)\n",
    "A_c = calor / (U_no_ensuciamiento * diferencia_log_temperatura_corregida)\n",
    "\n",
    "print(f\"Area con ensuciamiento {A_f} m^2\")\n",
    "print(f\"Area sin ensuciamiento {A_c} m^2\")\n",
    "\n",
    "area_ratio =  A_f / A_c - 1\n",
    "print(f\"Relación de area ratio: {area_ratio:.4f}\")"
   ]
  },
  {
   "cell_type": "markdown",
   "metadata": {},
   "source": [
    "Se toma como referencia las siguientes dimisiones y parámetros de diseño en base a los valores estándares"
   ]
  },
  {
   "cell_type": "code",
   "execution_count": 26,
   "metadata": {},
   "outputs": [],
   "source": [
    "Cl         = 1\n",
    "L          = 4   # m ; Es la longitud \n",
    "CTP        = 0.93 # One tube pass\n",
    "PitchRatio = 1.25"
   ]
  },
  {
   "cell_type": "code",
   "execution_count": 27,
   "metadata": {},
   "outputs": [
    {
     "name": "stdout",
     "output_type": "stream",
     "text": [
      "El diámetro de la carcasa 0.73471 m\n",
      "El diámetro de la carcasa estándar 0.75 m\n"
     ]
    }
   ],
   "source": [
    "diametro_carcasa = 0.637 * ((Cl / CTP) * A_f * pow(PitchRatio, 2) * diametro_exterior / L)**(1/2) \n",
    "print(f\"El diámetro de la carcasa {diametro_carcasa:.5f} m\")\n",
    "\n",
    "diametro_carcasa = 0.75 # Se aproxima al estándar\n",
    "print(f\"El diámetro de la carcasa estándar {diametro_carcasa} m\")"
   ]
  },
  {
   "cell_type": "code",
   "execution_count": 28,
   "metadata": {},
   "outputs": [
    {
     "name": "stdout",
     "output_type": "stream",
     "text": [
      "728.0277008310251\n"
     ]
    }
   ],
   "source": [
    "numeros_tubos = 0.785 * (CTP/Cl) * (diametro_carcasa)**2 /((PitchRatio * diametro_exterior)**2)\n",
    "print(numeros_tubos)"
   ]
  },
  {
   "cell_type": "markdown",
   "metadata": {},
   "source": [
    "Se supone un 60 %  del diámetro de la carcasa"
   ]
  },
  {
   "cell_type": "code",
   "execution_count": 29,
   "metadata": {},
   "outputs": [
    {
     "name": "stdout",
     "output_type": "stream",
     "text": [
      "espacio entre baffle 0.44999999999999996\n",
      "espacio entre baffle 0.5\n"
     ]
    }
   ],
   "source": [
    "B = 0.6 * diametro_carcasa\n",
    "print('espacio entre baffle', B)\n",
    "B = 0.5\n",
    "print('espacio entre baffle', B)"
   ]
  },
  {
   "cell_type": "markdown",
   "metadata": {},
   "source": [
    "## 3. Corrección método de kern"
   ]
  },
  {
   "cell_type": "markdown",
   "metadata": {},
   "source": [
    "### 3.1 Calculo del diámetro equivalente"
   ]
  },
  {
   "cell_type": "code",
   "execution_count": 30,
   "metadata": {},
   "outputs": [],
   "source": [
    "numeros_tubos = 749  # Estándar"
   ]
  },
  {
   "cell_type": "code",
   "execution_count": 31,
   "metadata": {},
   "outputs": [],
   "source": [
    "Pitch_Size              = 0.0254 # m -> Note que esta valor sale en las tablas como 1 in"
   ]
  },
  {
   "cell_type": "code",
   "execution_count": 32,
   "metadata": {},
   "outputs": [
    {
     "name": "stdout",
     "output_type": "stream",
     "text": [
      "calculo del diámetro equivalente del lado del tubo 0.0242 m\n"
     ]
    }
   ],
   "source": [
    "D_e = 4 * (Pitch_Size ** 2 - np.pi * (diametro_exterior**2) / 4) / (np.pi * diametro_exterior)\n",
    "print(f\"calculo del diámetro equivalente del lado del tubo {D_e:.4f} m\")"
   ]
  },
  {
   "cell_type": "markdown",
   "metadata": {},
   "source": [
    "### 3.2 Calculo de la velocidad másica"
   ]
  },
  {
   "cell_type": "code",
   "execution_count": 33,
   "metadata": {},
   "outputs": [
    {
     "name": "stdout",
     "output_type": "stream",
     "text": [
      "Holgura 0.00640\n"
     ]
    }
   ],
   "source": [
    "C = Pitch_Size - diametro_exterior\n",
    "print(f\"Holgura {C:.5f}\")"
   ]
  },
  {
   "cell_type": "code",
   "execution_count": 34,
   "metadata": {},
   "outputs": [
    {
     "name": "stdout",
     "output_type": "stream",
     "text": [
      "Area de flujo cruzado 0.094488 m\n"
     ]
    }
   ],
   "source": [
    "A_s = (diametro_carcasa * C * B) / Pitch_Size\n",
    "print(f\"Area de flujo cruzado {A_s:4f} m\")"
   ]
  },
  {
   "cell_type": "code",
   "execution_count": 35,
   "metadata": {},
   "outputs": [
    {
     "name": "stdout",
     "output_type": "stream",
     "text": [
      "Velocidad másica 1270.00 kg/(s*m2)\n"
     ]
    }
   ],
   "source": [
    "G_s = caudal_crudo / A_s\n",
    "print(f\"Velocidad másica {G_s:.2f} kg/(s*m2)\")"
   ]
  },
  {
   "cell_type": "markdown",
   "metadata": {},
   "source": [
    "### 3.3 Calculo coeficiente convectivo crudo"
   ]
  },
  {
   "cell_type": "code",
   "execution_count": 36,
   "metadata": {},
   "outputs": [
    {
     "name": "stdout",
     "output_type": "stream",
     "text": [
      "642.6441899127288 2466.207461427457 0.001 0.1241829206400716 6.97657968990968\n"
     ]
    }
   ],
   "source": [
    "estado_crudo =  crudo.with_state(\n",
    "    Input.pressure(presion_crudo),\n",
    "    Input.temperature(temperatura_propiedades_crudo),\n",
    ")\n",
    "densidad_crudo_kern            = estado_crudo.density\n",
    "cp_crudo_kern                  = estado_crudo.specific_heat\n",
    "viscosidad_dinamica_crudo_kern = 0.001\n",
    "k_crudo_kern                   = estado_crudo.conductivity\n",
    "prandtl_crudo_kern             = estado_crudo.prandtl\n",
    "\n",
    "print(\n",
    "    densidad_crudo_kern, cp_crudo_kern, viscosidad_dinamica_crudo_kern, \n",
    "    k_crudo_kern, \n",
    "    prandtl_crudo_kern\n",
    ")"
   ]
  },
  {
   "cell_type": "code",
   "execution_count": 37,
   "metadata": {},
   "outputs": [
    {
     "name": "stdout",
     "output_type": "stream",
     "text": [
      "Reynolds crudo: 30776.99\n"
     ]
    }
   ],
   "source": [
    "Re_crudo = G_s * D_e / viscosidad_dinamica_crudo_kern\n",
    "print(f'Reynolds crudo: {Re_crudo:.2f}')"
   ]
  },
  {
   "cell_type": "code",
   "execution_count": 38,
   "metadata": {},
   "outputs": [
    {
     "name": "stdout",
     "output_type": "stream",
     "text": [
      "Coeficiente de convección del crudo 1534.43 W/(m^2 k)\n"
     ]
    }
   ],
   "source": [
    "h_crudo = 0.36 * (D_e * G_s / viscosidad_dinamica_crudo_kern)**0.55 \\\n",
    "    * (cp_crudo_kern * viscosidad_dinamica_crudo_kern / k_crudo_kern)**(1/3) \\\n",
    "    * (viscosidad_dinamica_crudo_kern / viscosidad_dinamica_agua)**0.14 \\\n",
    "    * k_crudo_kern / D_e\n",
    "print(f'Coeficiente de convección del crudo {h_crudo:.2f} W/(m^2 k)')"
   ]
  },
  {
   "cell_type": "markdown",
   "metadata": {},
   "source": [
    "### 3.4 Calculo coeficiente convectivo Agua"
   ]
  },
  {
   "cell_type": "code",
   "execution_count": 39,
   "metadata": {},
   "outputs": [
    {
     "name": "stdout",
     "output_type": "stream",
     "text": [
      "Temperatura promedio 55.64 ºC\n"
     ]
    }
   ],
   "source": [
    "T_w = 1/2 * (\n",
    "    (temperatura_entrada_agua + temperatura_salida_agua) / 2 +\n",
    "    (temperatura_entrada_crudo + temperatura_salida_crudo) / 2\n",
    ")\n",
    "print(f'Temperatura promedio {T_w:.2f} ºC')"
   ]
  },
  {
   "cell_type": "code",
   "execution_count": 40,
   "metadata": {},
   "outputs": [
    {
     "name": "stdout",
     "output_type": "stream",
     "text": [
      "{'compressibility': 0.0013552312320620485, 'conductivity': 0.6467357483177187, 'critical_pressure': 22064000.0, 'critical_temperature': 373.946, 'density': 985.4253674034841, 'dynamic_viscosity': 0.0004985467955942873, 'enthalpy': 233099.21479641055, 'entropy': 776.1009136555505, 'fraction': 100, 'freezing_temperature': None, 'internal_energy': 232893.56756356746, 'kinematic_viscosity': 5.059203995406752e-07, 'max_pressure': 1000000000.0, 'max_temperature': 1726.85, 'min_pressure': 611.6548008968684, 'min_temperature': 0.010000000000047748, 'molar_mass': 0.018015268, 'name': Water, 'phase': Liquid, 'prandtl': 3.2245057186580506, 'pressure': 202650, 'quality': None, 'sound_speed': 1548.1033156097012, 'specific_heat': 4182.963640203917, 'specific_volume': 0.0010147901942436483, 'surface_tension': None, 'temperature': 55.64164832717614, 'triple_pressure': 611.6548008968684, 'triple_temperature': 0.010000000000047748, 'units_system': SIWithCelsiusAndPercents}\n",
      "985.4253674034841 4182.963640203917 0.0004985467955942873 0.6467357483177187 3.2245057186580506\n"
     ]
    }
   ],
   "source": [
    "estado_agua_kern = water.with_state(\n",
    "    Input.pressure(presion_agua),\n",
    "    Input.temperature(T_w),\n",
    ")\n",
    "densidad_agua_kern            = estado_agua_kern.density\n",
    "cp_agua_kern                  = estado_agua_kern.specific_heat\n",
    "viscosidad_dinamica_agua_kern = estado_agua_kern.dynamic_viscosity\n",
    "k_agua_kern                   = estado_agua_kern.conductivity\n",
    "prandtl_agua_kern             = estado_agua_kern.prandtl\n",
    "\n",
    "print(estado_agua_kern.as_dict())\n",
    "print(\n",
    "    densidad_agua_kern, cp_agua_kern, \n",
    "    viscosidad_dinamica_agua_kern, k_agua_kern, \n",
    "    prandtl_agua_kern\n",
    ")"
   ]
  },
  {
   "cell_type": "code",
   "execution_count": 41,
   "metadata": {},
   "outputs": [
    {
     "name": "stdout",
     "output_type": "stream",
     "text": [
      "Area de transferencia por tubo 0.07530 m^2\n"
     ]
    }
   ],
   "source": [
    "A_tp = np.pi * diametro_interior**2/4 * numeros_tubos / 2 \n",
    "print(f\"Area de transferencia por tubo {A_tp:.5f} m^2\")"
   ]
  },
  {
   "cell_type": "code",
   "execution_count": 42,
   "metadata": {},
   "outputs": [
    {
     "name": "stdout",
     "output_type": "stream",
     "text": [
      "Velocidad media agua 0.88 (m/s)\n"
     ]
    }
   ],
   "source": [
    "u_m_agua = caudal_agua / (densidad_agua_kern * A_tp)\n",
    "print(f\"Velocidad media agua {u_m_agua:.2f} (m/s)\")"
   ]
  },
  {
   "cell_type": "code",
   "execution_count": 43,
   "metadata": {},
   "outputs": [
    {
     "name": "stdout",
     "output_type": "stream",
     "text": [
      "Reynolds agua 13811.84\n"
     ]
    }
   ],
   "source": [
    "Re_agua = densidad_agua_kern * u_m_agua * diametro_interior / viscosidad_dinamica_crudo_kern\n",
    "print(f\"Reynolds agua {Re_agua:.2f}\")"
   ]
  },
  {
   "cell_type": "markdown",
   "metadata": {},
   "source": [
    "#### Como el fluido es turbulento se usa correlación de  Grielinki's"
   ]
  },
  {
   "cell_type": "code",
   "execution_count": 44,
   "metadata": {},
   "outputs": [
    {
     "data": {
      "text/plain": [
       "0.007203089676605395"
      ]
     },
     "execution_count": 44,
     "metadata": {},
     "output_type": "execute_result"
    }
   ],
   "source": [
    "f = (1.58*np.log(Re_agua) - 3.28)**-2\n",
    "f"
   ]
  },
  {
   "cell_type": "code",
   "execution_count": 45,
   "metadata": {},
   "outputs": [
    {
     "data": {
      "text/plain": [
       "78.25353545792119"
      ]
     },
     "execution_count": 45,
     "metadata": {},
     "output_type": "execute_result"
    }
   ],
   "source": [
    "Nu_b = (f/2)*(Re_agua - 1000)*prandtl_agua_kern/(1 + 12.7*(f/2)**(1/2)*(prandtl_agua_kern**(2/3) - 1))\n",
    "Nu_b"
   ]
  },
  {
   "cell_type": "code",
   "execution_count": 46,
   "metadata": {},
   "outputs": [
    {
     "name": "stdout",
     "output_type": "stream",
     "text": [
      "Coeficiente de convección agua 3163.08 W/(m^2 * k)\n"
     ]
    }
   ],
   "source": [
    "h_agua = Nu_b * k_agua_kern / diametro_interior\n",
    "print(f\"Coeficiente de convección agua {h_agua:.2f} W/(m^2 * k)\")"
   ]
  },
  {
   "cell_type": "markdown",
   "metadata": {},
   "source": [
    "### 3.5 Corrección del area"
   ]
  },
  {
   "cell_type": "code",
   "execution_count": 47,
   "metadata": {},
   "outputs": [
    {
     "data": {
      "text/plain": [
       "619.0639513494093"
      ]
     },
     "execution_count": 47,
     "metadata": {},
     "output_type": "execute_result"
    }
   ],
   "source": [
    "U_ensuciamiento_real = (\n",
    "    (diametro_exterior / diametro_interior) * 1 / h_agua\n",
    "    + (diametro_exterior / diametro_interior) * R_f_agua\n",
    "    + (diametro_exterior / 2) * np.log(diametro_exterior/diametro_interior) / k_material\n",
    "    + R_f_crudo\n",
    "    + 1 / h_crudo\n",
    ") ** -1 \n",
    "U_ensuciamiento_real"
   ]
  },
  {
   "cell_type": "code",
   "execution_count": 48,
   "metadata": {},
   "outputs": [
    {
     "data": {
      "text/plain": [
       "948.4588511059204"
      ]
     },
     "execution_count": 48,
     "metadata": {},
     "output_type": "execute_result"
    }
   ],
   "source": [
    "U_no_ensuciamiento_real = (\n",
    "    (diametro_exterior / diametro_interior) * 1 / h_agua\n",
    "    + (diametro_exterior / 2) * np.log(diametro_exterior/diametro_interior) / k_material\n",
    "    + 1 / h_crudo\n",
    ") ** -1 \n",
    "U_no_ensuciamiento_real"
   ]
  },
  {
   "cell_type": "code",
   "execution_count": 49,
   "metadata": {},
   "outputs": [
    {
     "name": "stdout",
     "output_type": "stream",
     "text": [
      "0.29074068154671007\n",
      "7.0\n",
      "0.9071494259564794\n",
      "La diferencia de presión: 33768.58 Pa\n"
     ]
    }
   ],
   "source": [
    "f = np.e**(0.576 - 0.19*np.log(Re_agua))\n",
    "print(f)\n",
    "\n",
    "N_b = longitud / B - 1 \n",
    "print(N_b)\n",
    "\n",
    "sigma = (viscosidad_dinamica_agua_kern / viscosidad_dinamica_crudo_kern)**0.14\n",
    "print(sigma)\n",
    "\n",
    "diferencia_presion = f * G_s ** 2 * (N_b + 1) * 0.39 / (sigma * 2 * densidad_agua_kern * D_e)\n",
    "print(f\"La diferencia de presión: {diferencia_presion:.2f} Pa\")"
   ]
  },
  {
   "cell_type": "code",
   "execution_count": 50,
   "metadata": {},
   "outputs": [
    {
     "name": "stdout",
     "output_type": "stream",
     "text": [
      "El area de transferencia de calor: 108.46 m^2\n",
      "El area de transferencia de calor: 1167.46 ft^2\n"
     ]
    }
   ],
   "source": [
    "area = calor /(U_ensuciamiento_real * diferencia_log_temperatura)\n",
    "print(f\"El area de transferencia de calor: {area:.2f} m^2\")\n",
    "area_ft = area * 10.764\n",
    "print(f\"El area de transferencia de calor: {area_ft:.2f} ft^2\")"
   ]
  },
  {
   "cell_type": "code",
   "execution_count": 51,
   "metadata": {},
   "outputs": [
    {
     "data": {
      "text/plain": [
       "array([1691.82975518, 1607.95585218, 1518.1279549 , 1421.28351773,\n",
       "       1316.01535761, 1200.39167042, 1071.63207846,  925.46491588])"
      ]
     },
     "execution_count": 51,
     "metadata": {},
     "output_type": "execute_result"
    }
   ],
   "source": [
    "areas = calores_transferencia / (U_ensuciamiento_real * diferencia_log_temperaturas)\n",
    "areas = areas[::4]\n",
    "areas_ft = areas * 10.764\n",
    "areas_ft"
   ]
  },
  {
   "cell_type": "code",
   "execution_count": 63,
   "metadata": {},
   "outputs": [
    {
     "data": {
      "text/plain": [
       "[(1691.8297551791425, 78600, 60),\n",
       " (1607.9558521765307, 75300, 64),\n",
       " (1518.1279549013298, 71700, 68),\n",
       " (1421.283517727997, 67800, 72),\n",
       " (1316.0153576096095, 63500, 76),\n",
       " (1200.3916704151268, 58800, 80),\n",
       " (1071.6320784641866, 53400, 84),\n",
       " (925.4649158818945, 47100, 88)]"
      ]
     },
     "execution_count": 63,
     "metadata": {},
     "output_type": "execute_result"
    }
   ],
   "source": [
    "data_bo_map = list(map(\n",
    "    lambda x,y,t : (x,y,t),\n",
    "    areas_ft.tolist(),\n",
    "    [78600, 75300, 71700, 67800, 63500, 58800, 53400, 47100],\n",
    "    temperaturas_crudo_salidas[::4].tolist()\n",
    "))\n",
    "data_bo_map"
   ]
  },
  {
   "cell_type": "code",
   "execution_count": 64,
   "metadata": {},
   "outputs": [
    {
     "data": {
      "text/html": [
       "<div>\n",
       "<style scoped>\n",
       "    .dataframe tbody tr th:only-of-type {\n",
       "        vertical-align: middle;\n",
       "    }\n",
       "\n",
       "    .dataframe tbody tr th {\n",
       "        vertical-align: top;\n",
       "    }\n",
       "\n",
       "    .dataframe thead th {\n",
       "        text-align: right;\n",
       "    }\n",
       "</style>\n",
       "<table border=\"1\" class=\"dataframe\">\n",
       "  <thead>\n",
       "    <tr style=\"text-align: right;\">\n",
       "      <th></th>\n",
       "      <th>area</th>\n",
       "      <th>costo_total</th>\n",
       "      <th>temperatura</th>\n",
       "    </tr>\n",
       "  </thead>\n",
       "  <tbody>\n",
       "    <tr>\n",
       "      <th>0</th>\n",
       "      <td>1691.829755</td>\n",
       "      <td>78600</td>\n",
       "      <td>60</td>\n",
       "    </tr>\n",
       "    <tr>\n",
       "      <th>1</th>\n",
       "      <td>1607.955852</td>\n",
       "      <td>75300</td>\n",
       "      <td>64</td>\n",
       "    </tr>\n",
       "    <tr>\n",
       "      <th>2</th>\n",
       "      <td>1518.127955</td>\n",
       "      <td>71700</td>\n",
       "      <td>68</td>\n",
       "    </tr>\n",
       "    <tr>\n",
       "      <th>3</th>\n",
       "      <td>1421.283518</td>\n",
       "      <td>67800</td>\n",
       "      <td>72</td>\n",
       "    </tr>\n",
       "    <tr>\n",
       "      <th>4</th>\n",
       "      <td>1316.015358</td>\n",
       "      <td>63500</td>\n",
       "      <td>76</td>\n",
       "    </tr>\n",
       "  </tbody>\n",
       "</table>\n",
       "</div>"
      ],
      "text/plain": [
       "          area  costo_total  temperatura\n",
       "0  1691.829755        78600           60\n",
       "1  1607.955852        75300           64\n",
       "2  1518.127955        71700           68\n",
       "3  1421.283518        67800           72\n",
       "4  1316.015358        63500           76"
      ]
     },
     "execution_count": 64,
     "metadata": {},
     "output_type": "execute_result"
    }
   ],
   "source": [
    "data = pd.DataFrame(\n",
    "    data_bo_map,\n",
    "    columns=['area', 'costo_total', 'temperatura']\n",
    ")\n",
    "data.head()"
   ]
  },
  {
   "cell_type": "code",
   "execution_count": 54,
   "metadata": {},
   "outputs": [
    {
     "data": {
      "text/html": [
       "<div>\n",
       "<style scoped>\n",
       "    .dataframe tbody tr th:only-of-type {\n",
       "        vertical-align: middle;\n",
       "    }\n",
       "\n",
       "    .dataframe tbody tr th {\n",
       "        vertical-align: top;\n",
       "    }\n",
       "\n",
       "    .dataframe thead th {\n",
       "        text-align: right;\n",
       "    }\n",
       "</style>\n",
       "<table border=\"1\" class=\"dataframe\">\n",
       "  <thead>\n",
       "    <tr style=\"text-align: right;\">\n",
       "      <th></th>\n",
       "      <th>area</th>\n",
       "      <th>costo_total</th>\n",
       "      <th>costo_especifico</th>\n",
       "    </tr>\n",
       "  </thead>\n",
       "  <tbody>\n",
       "    <tr>\n",
       "      <th>0</th>\n",
       "      <td>1691.829755</td>\n",
       "      <td>78600</td>\n",
       "      <td>46.458575</td>\n",
       "    </tr>\n",
       "    <tr>\n",
       "      <th>1</th>\n",
       "      <td>1607.955852</td>\n",
       "      <td>75300</td>\n",
       "      <td>46.829644</td>\n",
       "    </tr>\n",
       "    <tr>\n",
       "      <th>2</th>\n",
       "      <td>1518.127955</td>\n",
       "      <td>71700</td>\n",
       "      <td>47.229221</td>\n",
       "    </tr>\n",
       "    <tr>\n",
       "      <th>3</th>\n",
       "      <td>1421.283518</td>\n",
       "      <td>67800</td>\n",
       "      <td>47.703360</td>\n",
       "    </tr>\n",
       "    <tr>\n",
       "      <th>4</th>\n",
       "      <td>1316.015358</td>\n",
       "      <td>63500</td>\n",
       "      <td>48.251717</td>\n",
       "    </tr>\n",
       "  </tbody>\n",
       "</table>\n",
       "</div>"
      ],
      "text/plain": [
       "          area  costo_total  costo_especifico\n",
       "0  1691.829755        78600         46.458575\n",
       "1  1607.955852        75300         46.829644\n",
       "2  1518.127955        71700         47.229221\n",
       "3  1421.283518        67800         47.703360\n",
       "4  1316.015358        63500         48.251717"
      ]
     },
     "execution_count": 54,
     "metadata": {},
     "output_type": "execute_result"
    }
   ],
   "source": [
    "data['costo_especifico'] = data['costo_total'] / data['area']\n",
    "data.head()"
   ]
  },
  {
   "cell_type": "code",
   "execution_count": 56,
   "metadata": {},
   "outputs": [
    {
     "data": {
      "image/png": "[encoded data removed]",
      "text/plain": [
       "<Figure size 640x480 with 1 Axes>"
      ]
     },
     "metadata": {},
     "output_type": "display_data"
    }
   ],
   "source": [
    "plt.plot(\n",
    "    data['area'],\n",
    "    data['costo_especifico'],\n",
    "    marker='o'\n",
    ")\n",
    "plt.xlabel('Area [ft2]')\n",
    "plt.ylabel('Costo especifico [USD/ft2]')\n",
    "plt.grid(False)\n",
    "plt.show()"
   ]
  },
  {
   "cell_type": "code",
   "execution_count": 57,
   "metadata": {},
   "outputs": [],
   "source": [
    "# Define the power law function\n",
    "def power_law(x, A, B):\n",
    "    return A * (x ** B)"
   ]
  },
  {
   "cell_type": "code",
   "execution_count": 58,
   "metadata": {},
   "outputs": [],
   "source": [
    "# Perform curve fitting to find A and B\n",
    "params, covariance = curve_fit(\n",
    "    power_law, \n",
    "    data['area'].to_numpy(),\n",
    "    data[\"costo_especifico\"].to_numpy()\n",
    ")"
   ]
  },
  {
   "cell_type": "code",
   "execution_count": 59,
   "metadata": {},
   "outputs": [
    {
     "name": "stdout",
     "output_type": "stream",
     "text": [
      "k = 143.71097312414693\n",
      "m = 0.8481049794138176\n",
      "n = -0.15189502058618237\n"
     ]
    }
   ],
   "source": [
    "# Extract the values of A and B\n",
    "K, n = params\n",
    "\n",
    "m = 1 + n\n",
    "print(\"k =\", K)\n",
    "print(\"m =\", m)\n",
    "print(\"n =\", n)"
   ]
  },
  {
   "cell_type": "code",
   "execution_count": 70,
   "metadata": {},
   "outputs": [
    {
     "data": {
      "text/html": [
       "<div>\n",
       "<style scoped>\n",
       "    .dataframe tbody tr th:only-of-type {\n",
       "        vertical-align: middle;\n",
       "    }\n",
       "\n",
       "    .dataframe tbody tr th {\n",
       "        vertical-align: top;\n",
       "    }\n",
       "\n",
       "    .dataframe thead th {\n",
       "        text-align: right;\n",
       "    }\n",
       "</style>\n",
       "<table border=\"1\" class=\"dataframe\">\n",
       "  <thead>\n",
       "    <tr style=\"text-align: right;\">\n",
       "      <th></th>\n",
       "      <th>area</th>\n",
       "      <th>costo_total</th>\n",
       "      <th>temperatura</th>\n",
       "      <th>costo_intercambiado</th>\n",
       "      <th>costo_intercambiador</th>\n",
       "    </tr>\n",
       "  </thead>\n",
       "  <tbody>\n",
       "    <tr>\n",
       "      <th>0</th>\n",
       "      <td>1691.829755</td>\n",
       "      <td>78600</td>\n",
       "      <td>60</td>\n",
       "      <td>78609.545968</td>\n",
       "      <td>78609.545968</td>\n",
       "    </tr>\n",
       "    <tr>\n",
       "      <th>1</th>\n",
       "      <td>1607.955852</td>\n",
       "      <td>75300</td>\n",
       "      <td>64</td>\n",
       "      <td>75291.678180</td>\n",
       "      <td>75291.678180</td>\n",
       "    </tr>\n",
       "    <tr>\n",
       "      <th>2</th>\n",
       "      <td>1518.127955</td>\n",
       "      <td>71700</td>\n",
       "      <td>68</td>\n",
       "      <td>71708.957063</td>\n",
       "      <td>71708.957063</td>\n",
       "    </tr>\n",
       "    <tr>\n",
       "      <th>3</th>\n",
       "      <td>1421.283518</td>\n",
       "      <td>67800</td>\n",
       "      <td>72</td>\n",
       "      <td>67810.062868</td>\n",
       "      <td>67810.062868</td>\n",
       "    </tr>\n",
       "    <tr>\n",
       "      <th>4</th>\n",
       "      <td>1316.015358</td>\n",
       "      <td>63500</td>\n",
       "      <td>76</td>\n",
       "      <td>63525.878593</td>\n",
       "      <td>63525.878593</td>\n",
       "    </tr>\n",
       "  </tbody>\n",
       "</table>\n",
       "</div>"
      ],
      "text/plain": [
       "          area  costo_total  temperatura  costo_intercambiado  \\\n",
       "0  1691.829755        78600           60         78609.545968   \n",
       "1  1607.955852        75300           64         75291.678180   \n",
       "2  1518.127955        71700           68         71708.957063   \n",
       "3  1421.283518        67800           72         67810.062868   \n",
       "4  1316.015358        63500           76         63525.878593   \n",
       "\n",
       "   costo_intercambiador  \n",
       "0          78609.545968  \n",
       "1          75291.678180  \n",
       "2          71708.957063  \n",
       "3          67810.062868  \n",
       "4          63525.878593  "
      ]
     },
     "execution_count": 70,
     "metadata": {},
     "output_type": "execute_result"
    }
   ],
   "source": [
    "data['costo_intercambiador'] =  K * (data['area'] ** (m))\n",
    "data.head()"
   ]
  },
  {
   "cell_type": "code",
   "execution_count": 71,
   "metadata": {},
   "outputs": [
    {
     "data": {
      "image/png": "[encoded data removed]",
      "text/plain": [
       "<Figure size 640x480 with 1 Axes>"
      ]
     },
     "metadata": {},
     "output_type": "display_data"
    }
   ],
   "source": [
    "plt.plot(\n",
    "    data['temperatura'],\n",
    "    data['costo_total'],\n",
    "    marker='o'\n",
    ")\n",
    "plt.plot(\n",
    "    data['temperatura'],\n",
    "    data['costo_intercambiador'],\n",
    "    marker='o'\n",
    ")\n",
    "plt.xlabel('Temperatura de salida de crudo [ºC]')\n",
    "plt.ylabel('Costo especifico [USD/ft2]')\n",
    "plt.grid()\n",
    "plt.show()"
   ]
  },
  {
   "cell_type": "markdown",
   "metadata": {},
   "source": [
    "## 4. Conclusion\n",
    "\n",
    "Da una diferencia de presión inferior a 150kpa (33768.58) por ende cumple con los requerimientos\n"
   ]
  },
  {
   "cell_type": "markdown",
   "metadata": {},
   "source": [
    "<p align=\"center\">\n",
    "  <img src=\"./matches.png\" height =\"300px\">\n",
    "</p>\n"
   ]
  },
  {
   "cell_type": "markdown",
   "metadata": {},
   "source": [
    "### Resultados de la evaluación de diseño\n",
    "\n",
    "- Material = Acero al carbono k = 60 W/mk\n",
    "- Longitud del intercambiador = 4 m\n",
    "- Numero de tubos = 640\n",
    "- Coeficientes de convección\n",
    "    - Agua : 5071.76 W/mk\n",
    "    - Crudo : 2458.236773857342\n",
    "\n",
    "\n",
    "    \n",
    "\n",
    "- Diámetro de la carcasa: 0.7 m\n",
    "- La distribución de los tubos en cuadrada\n",
    "- Un Pitch_Size de 0.0254 m\n",
    "\n",
    "- Temperaturas de trabajo\n",
    "    - Agua :\n",
    "        - Entrada : 21 º C\n",
    "        - Salida  : 34.5 º C\n",
    "    - Crudo :\n",
    "        - Entrada : 102 ºC\n",
    "        - Salida  : 65  ºC\n"
   ]
  },
  {
   "cell_type": "markdown",
   "metadata": {},
   "source": [
    "## Referencias\n",
    "- Abdulagatov, I.M., Abdulagatova, Z.Z., Grigor’ev, B.A. et al. Thermal Diffusivity, Heat Capacity, and Thermal Conductivity of Oil Reservoir Rock at High Temperatures. Int J Thermophys 42, 135 (2021). https://doi.org/10.1007/s10765-021-02878-x\n",
    "- Seguros, V. (2021) Presión del Agua en Casa: Problemas habituales: Blog Verti, Verti Blog. Available at: https://blog.verti.es/hogar/presion-agua-casa/#:~:text=Lo%20habitual%20es%20que%20la,tengamos%20una%20presión%20u%20otra. (Accessed: 13 October 2023). \n",
    "- Bell, I.H. et al. (2014) ‘Pure and pseudo-pure fluid thermophysical property evaluation and the open-source Thermophysical Property Library coolprop’, Industrial &amp;amp; Engineering Chemistry Research, 53(6), pp. 2498–2508. doi:10.1021/ie4033999. "
   ]
  }
 ],
 "metadata": {
  "kernelspec": {
   "display_name": "uni",
   "language": "python",
   "name": "python3"
  },
  "language_info": {
   "codemirror_mode": {
    "name": "ipython",
    "version": 3
   },
   "file_extension": ".py",
   "mimetype": "text/x-python",
   "name": "python",
   "nbconvert_exporter": "python",
   "pygments_lexer": "ipython3",
   "version": "3.10.13"
  }
 },
 "nbformat": 4,
 "nbformat_minor": 2
}
