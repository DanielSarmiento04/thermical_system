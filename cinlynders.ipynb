{
 "cells": [
  {
   "cell_type": "markdown",
   "metadata": {},
   "source": [
    "# Enunciado\n",
    "\n",
    "En una instalación industrial, el aire debe precintarse antes de entrar en un horno, mediante agua geotérmica a 120 ºC que fluye a traves de tubos en un banco de tubos ubicado en un conducto. El aire ingresa al conducto a 20 ºC y 1 atm con una velocidad media de 4.5 m/s y fluye sobre los tubos en dirección normal. El diámetro exterior de los tubos es de 1.5 cm, y están dispuestos en linea con pasos longitudinales y transversales de $S_{l} = S_{t} = 5cm $. Hay 6 filas en la dirección de flujo con 10 tubos en cada fila, como se muestra en la figura 7-28. Determine la tasa de transferencia de calor por unidad de longitud de los tubos y la caída de presión a traves de banco de tubos\n"
   ]
  },
  {
   "cell_type": "code",
   "execution_count": 15,
   "metadata": {},
   "outputs": [],
   "source": [
    "from pyfluids import Fluid, FluidsList, Input\n",
    "from core import ThermoFormules\n",
    "import pyromat as pyro"
   ]
  },
  {
   "cell_type": "code",
   "execution_count": 23,
   "metadata": {},
   "outputs": [],
   "source": [
    "T_interior_agua       = 120. # ºC\n",
    "T_aire_in             = 20.  # ºC\n",
    "P_aire_in             = 101325 # Pa\n",
    "velocidad_media_aire  = 4.5 # m/s\n",
    "diametro_exterior     = 1.5e-2 # m\n",
    "S_l = S_t             = 5e-2 # m\n",
    "num_filas             = 6 \n",
    "num_tubos_filaa       = 10 \n"
   ]
  },
  {
   "cell_type": "code",
   "execution_count": 4,
   "metadata": {},
   "outputs": [
    {
     "data": {
      "text/plain": [
       "Air"
      ]
     },
     "execution_count": 4,
     "metadata": {},
     "output_type": "execute_result"
    }
   ],
   "source": [
    "air = Fluid(FluidsList.Air)\n",
    "air.name"
   ]
  },
  {
   "cell_type": "code",
   "execution_count": 6,
   "metadata": {},
   "outputs": [],
   "source": [
    "temperatura_supuesto = 60"
   ]
  },
  {
   "cell_type": "code",
   "execution_count": 8,
   "metadata": {},
   "outputs": [
    {
     "data": {
      "text/plain": [
       "{'compressibility': 0.9999255711812337,\n",
       " 'conductivity': 0.028804068683722362,\n",
       " 'critical_pressure': 3786000.0,\n",
       " 'critical_temperature': -140.61939999999998,\n",
       " 'density': 1.0596266927981994,\n",
       " 'dynamic_viscosity': 2.0099059103658008e-05,\n",
       " 'enthalpy': 459683.9199496029,\n",
       " 'entropy': 3992.269626180613,\n",
       " 'fraction': 100,\n",
       " 'freezing_temperature': None,\n",
       " 'internal_energy': 364060.62101927213,\n",
       " 'kinematic_viscosity': 1.8968056618677285e-05,\n",
       " 'max_pressure': 2000000000.0,\n",
       " 'max_temperature': 1726.85,\n",
       " 'min_pressure': 5264.1810687705665,\n",
       " 'min_temperature': -213.39999999999998,\n",
       " 'molar_mass': 0.02896546,\n",
       " 'name': Air,\n",
       " 'phase': SupercriticalGas,\n",
       " 'prandtl': 0.7033837965818982,\n",
       " 'pressure': 101325,\n",
       " 'quality': None,\n",
       " 'sound_speed': 365.89788245192227,\n",
       " 'specific_heat': 1008.0230663173202,\n",
       " 'specific_volume': 0.9437285855448386,\n",
       " 'surface_tension': None,\n",
       " 'temperature': 60.0,\n",
       " 'triple_pressure': 5264.1810687705665,\n",
       " 'triple_temperature': -213.39999999999998,\n",
       " 'units_system': SIWithCelsiusAndPercents}"
      ]
     },
     "execution_count": 8,
     "metadata": {},
     "output_type": "execute_result"
    }
   ],
   "source": [
    "estado_aire = air.with_state(\n",
    "    Input.pressure(P_aire_in),\n",
    "    Input.temperature(temperatura_supuesto),\n",
    ")\n",
    "estado_aire.as_dict()"
   ]
  },
  {
   "cell_type": "code",
   "execution_count": 30,
   "metadata": {},
   "outputs": [
    {
     "name": "stdout",
     "output_type": "stream",
     "text": [
      "1.0596266927981994\n",
      "0.7033837965818982\n",
      "2.0099059103658008e-05\n",
      "1.0071485812479228\n",
      "0.699218703042207\n"
     ]
    }
   ],
   "source": [
    "density = estado_aire.density # kg / m^3\n",
    "prandt = estado_aire.prandtl #\n",
    "dynamic_viscosity = estado_aire.dynamic_viscosity\n",
    "prandt_s = air.with_state(\n",
    "    Input.pressure(P_aire_in),\n",
    "    Input.temperature(T_interior_agua),\n",
    ").prandtl\n",
    "cp = pyro.get('ig.air').cp(T=[temperatura_supuesto+273.15])[0]\n",
    "k = estado_aire.conductivity\n",
    "\n",
    "print(density)\n",
    "print(prandt)\n",
    "print(dynamic_viscosity)\n",
    "print(cp)\n",
    "print(prandt_s)"
   ]
  },
  {
   "cell_type": "code",
   "execution_count": 26,
   "metadata": {},
   "outputs": [
    {
     "name": "stdout",
     "output_type": "stream",
     "text": [
      "6.428571428571429\n"
     ]
    }
   ],
   "source": [
    "velocidad_maxima = (S_t/(S_t - diametro_exterior)) * velocidad_media_aire\n",
    "\n",
    "print(velocidad_maxima)\n"
   ]
  },
  {
   "cell_type": "code",
   "execution_count": 27,
   "metadata": {},
   "outputs": [
    {
     "name": "stdout",
     "output_type": "stream",
     "text": [
      "5083.734900581278\n"
     ]
    }
   ],
   "source": [
    "reynolds = density * velocidad_maxima * diametro_exterior / dynamic_viscosity\n",
    "print(reynolds)"
   ]
  },
  {
   "cell_type": "code",
   "execution_count": 29,
   "metadata": {},
   "outputs": [
    {
     "name": "stdout",
     "output_type": "stream",
     "text": [
      "48.67712021210168\n"
     ]
    }
   ],
   "source": [
    "Nusselt = 0.27 * pow(reynolds, 0.63) * pow(prandt, 0.36) * (prandt/prandt_s)**(1/4)\n",
    "Nusselt = 0.945 * Nusselt\n",
    "print(Nusselt)"
   ]
  },
  {
   "cell_type": "code",
   "execution_count": 31,
   "metadata": {},
   "outputs": [
    {
     "name": "stdout",
     "output_type": "stream",
     "text": [
      "93.47327426101246\n"
     ]
    }
   ],
   "source": [
    "h = Nusselt * k /diametro_exterior\n",
    "print(h)"
   ]
  }
 ],
 "metadata": {
  "kernelspec": {
   "display_name": "uni",
   "language": "python",
   "name": "python3"
  },
  "language_info": {
   "codemirror_mode": {
    "name": "ipython",
    "version": 3
   },
   "file_extension": ".py",
   "mimetype": "text/x-python",
   "name": "python",
   "nbconvert_exporter": "python",
   "pygments_lexer": "ipython3",
   "version": "3.10.13"
  },
  "orig_nbformat": 4
 },
 "nbformat": 4,
 "nbformat_minor": 2
}
