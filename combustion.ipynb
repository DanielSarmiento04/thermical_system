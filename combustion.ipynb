{
 "cells": [
  {
   "cell_type": "markdown",
   "metadata": {},
   "source": [
    "# Enunciado\n",
    "\n",
    "Natural gas having CH4 = 82.4%, C2H6 = 15.8%, and N2 = 1.8 by\n",
    "volume is fired in a boiler using 25% excess air. Ambient temperature is 25°C and relative humidity is 80%. Perform combustion calculations and determine the flue gas analysis based on wet and dry basis."
   ]
  },
  {
   "cell_type": "markdown",
   "metadata": {},
   "source": [
    "## Datos conocidos"
   ]
  },
  {
   "cell_type": "code",
   "execution_count": 1,
   "metadata": {},
   "outputs": [],
   "source": [
    "metano                      = 0.824\n",
    "etano                       = 0.158\n",
    "nitrogeno                   = 1.8\n",
    "\n",
    "exceso_aire                 = 0.25\n",
    "porcentaje_aire_teorico     = 1 + exceso_aire\n",
    "\n",
    "\n",
    "humedad                     = 0.8\n",
    "T_amb                       = 25 + 273.15        # K\n",
    "presion_ambiente            = 101.325 # Kpa"
   ]
  },
  {
   "cell_type": "markdown",
   "metadata": {},
   "source": [
    "### Balance teórico"
   ]
  },
  {
   "cell_type": "markdown",
   "metadata": {},
   "source": [
    "$$ 0.824 * CH_{4} + 0.158 * C_{2} H_{6} + 1.8 * N_{2} + 1.25 * a_{teórica} * (O_{2} + 3.76 N_{2}) $$\n",
    "$$ \\rightarrow X * CO_{2} + Y * H_{2}O + 0.25 * a_{teórica} * O_{2} + Z * N_{2}$$\n"
   ]
  },
  {
   "cell_type": "markdown",
   "metadata": {},
   "source": [
    "## Incógnitas \n",
    "- X\n",
    "- Y\n",
    "- Z\n",
    "- $a_{teórica}$"
   ]
  },
  {
   "cell_type": "code",
   "execution_count": 4,
   "metadata": {},
   "outputs": [
    {
     "name": "stdout",
     "output_type": "stream",
     "text": [
      "Balance de carbono: x = 1.14\n",
      "Balance de hidrógeno: y = 2.122\n",
      "Balance de oxígeno: a_the = 2.201\n",
      "Balance de nitrógeno: z = 10.34\n"
     ]
    }
   ],
   "source": [
    "# Balance Carbono\n",
    "x = metano + 2 * etano\n",
    "\n",
    "# Bance Hidrógeno\n",
    "y = (4 * metano + 6 *  etano) /2\n",
    "\n",
    "# Balance Oxigeno\n",
    "a_the = (2*x + y) / 2\n",
    "\n",
    "# Balance nitrógeno \n",
    "z = porcentaje_aire_teorico * a_the * 3.76\n",
    "\n",
    "\n",
    "print(f\"Balance de carbono: x = {x}\")\n",
    "print(f\"Balance de hidrógeno: y = {y}\")\n",
    "print(f\"Balance de oxígeno: a_the = {a_the:.3f}\")\n",
    "print(f\"Balance de nitrógeno: z = {z:.2f}\")"
   ]
  },
  {
   "cell_type": "markdown",
   "metadata": {},
   "source": [
    "### Balance teórico seco"
   ]
  },
  {
   "cell_type": "markdown",
   "metadata": {},
   "source": [
    "$$ 0.824 * CH_{4} + 0.158 * C_{2}  H_{6} + 1.8 * N_{2} + 1.25 * 2.201 * (O_{2} + 3.76 N_{2})  $$ \n",
    "\n",
    "$$ \\rightarrow  1.14 * CO_{2} + 2.122 * H_{2}O + 0.25 * 2.201 * O_{2} + 10.34 * N_{2}$$\n"
   ]
  },
  {
   "cell_type": "markdown",
   "metadata": {},
   "source": [
    "## Análisis humedad"
   ]
  },
  {
   "cell_type": "code",
   "execution_count": 9,
   "metadata": {},
   "outputs": [
    {
     "name": "stdout",
     "output_type": "stream",
     "text": [
      "Presión de saturación: 3.17 Kpa\n",
      "Presión de vapor de agua en aire: 2.54 Kpa\n",
      "Moles aire 10.477\n"
     ]
    }
   ],
   "source": [
    "presion_saturacion = 3.1698 #Kpa A t = 25 ºC\n",
    "print(f\"Presión de saturación: {presion_saturacion:.2f} Kpa\")\n",
    "\n",
    "presion_vapor_aire = humedad * presion_saturacion\n",
    "print(f\"Presión de vapor de agua en aire: {presion_vapor_aire:.2f} Kpa\")\n",
    "\n",
    "moles_aire = a_the * 4.76\n",
    "print(f\"Moles aire {moles_aire:.3f}\")"
   ]
  },
  {
   "cell_type": "markdown",
   "metadata": {},
   "source": [
    "$$ N_{v aire} = (\\frac{P_{V aire}}{P_{total}}) * N_{total} $$\n",
    "\n",
    "$$ a_{the} * 4.76 = 2.201 * 4.76 = 10.47$$\n",
    "$$ N_{v aire} = (\\frac{P_{V aire}}{P_{total}}) * (10.47 - N_{v aire}) $$"
   ]
  },
  {
   "cell_type": "code",
   "execution_count": 10,
   "metadata": {},
   "outputs": [
    {
     "name": "stdout",
     "output_type": "stream",
     "text": [
      "moles de vapor liquido 0.26\n"
     ]
    }
   ],
   "source": [
    "from sympy import symbols, Eq, solve\n",
    "\n",
    "N_aire = symbols('N_aire')\n",
    "\n",
    "eq = Eq(N_aire, (presion_vapor_aire / presion_ambiente) * (moles_aire - N_aire) )\n",
    "N_aire = solve(eq, N_aire)[0]\n",
    "\n",
    "\n",
    "print(f\"moles de vapor liquido {N_aire:.2f}\")"
   ]
  },
  {
   "cell_type": "markdown",
   "metadata": {},
   "source": [
    "### Balance húmedo"
   ]
  },
  {
   "cell_type": "markdown",
   "metadata": {},
   "source": [
    "$$ 0.824 * CH_{4} + 0.158 * C_{2}  H_{6} + 1.8 * N_{2} + 2.75 * (O_{2} + 3.76 N_{2})$$ \n",
    "$$ \\rightarrow  1.14 * CO_{2} + 2.122 * H_{2}O + 0.55 * O_{2} + 10.55 * N_{2}$$\n",
    "\n",
    "---\n",
    "\n",
    "$$ 0.824 * CH_{4} + 0.158 * C_{2}  H_{6} + 1.8 * N_{2} + 2.75 * (O_{2} + 3.76 N_{2}) + 0.26 * H_{2}O  $$\n",
    "$$  \\rightarrow  1.14 * CO_{2} + 2.382 * H_{2}O + 0.55 * O_{2} + 10.55 * N_{2} $$"
   ]
  }
 ],
 "metadata": {
  "kernelspec": {
   "display_name": "Python 3 (ipykernel)",
   "language": "python",
   "name": "python3"
  },
  "language_info": {
   "codemirror_mode": {
    "name": "ipython",
    "version": 3
   },
   "file_extension": ".py",
   "mimetype": "text/x-python",
   "name": "python",
   "nbconvert_exporter": "python",
   "pygments_lexer": "ipython3",
   "version": "3.10.13"
  }
 },
 "nbformat": 4,
 "nbformat_minor": 2
}
