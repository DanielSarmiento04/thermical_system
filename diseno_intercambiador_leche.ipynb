{
 "cells": [
  {
   "cell_type": "markdown",
   "metadata": {},
   "source": [
    "# **Introducción**\n",
    "\n",
    "\n",
    "El diseño de un intercambiador de calor y de un sistema de refrigeración son dos aspectos fundamentales en la ingeniería mecánica que desempeñan un papel crucial en una amplia variedad de aplicaciones industriales y comerciales. Estos componentes son esenciales para controlar y gestionar las temperaturas en diferentes procesos y sistemas, garantizando un rendimiento eficiente y seguro.\n",
    "\n",
    "Un intercambiador de calor es un dispositivo diseñado para transferir calor de un fluido a otro, sin que estos dos fluidos se mezclen entre sí. Este proceso se logra mediante superficies de transferencia de calor, que pueden ser placas, tubos o aletas, que permiten el intercambio de energía térmica entre los fluidos. Los intercambiadores de calor se utilizan en una variedad de aplicaciones, desde sistemas de climatización hasta procesos de fabricación industrial, donde la regulación de la temperatura es crítica.\n",
    "\n",
    "Por otro lado, el diseño de un sistema de refrigeración implica la creación de un sistema completo que utiliza un ciclo termodinámico para eliminar el calor de un espacio o de un sistema. Este proceso se logra mediante la compresión, expansión y circulación de un refrigerante que absorbe y libera calor en un ciclo continuo. Los sistemas de refrigeración son vitales en aplicaciones como la refrigeración de alimentos, la climatización de edificios, la refrigeración de equipos electrónicos y la refrigeración industrial.\n",
    "\n",
    "Ambos conceptos están estrechamente relacionados, ya que los intercambiadores de calor son componentes clave en los sistemas de refrigeración, permitiendo la transferencia de calor entre el refrigerante y el entorno que se desea enfriar. En este contexto, los ingenieros mecánicos desempeñan un papel fundamental al diseñar intercambiadores de calor eficientes y sistemas de refrigeración que cumplan con los requisitos de rendimiento, eficiencia energética y seguridad.\n",
    "\n",
    "En este papel de ingeniero mecánico, exploraremos en detalle los principios de diseño de intercambiadores de calor y sistemas de refrigeración, así como las consideraciones clave en la ingeniería de estos sistemas para lograr un rendimiento óptimo y un uso eficiente de los recursos."
   ]
  },
  {
   "cell_type": "markdown",
   "metadata": {},
   "source": [
    "# **Enunciado**\n",
    "\n",
    "Requerimiento: Enfriar leche para almacenamiento.\n",
    "\n",
    "1. Especificación cuantitativa de requerimiento:\n",
    "\n",
    "    1.1 Requerimiento funcionales. \n",
    "        \n",
    "        - $m_l=0.5Kg/s$ \n",
    "        - Enfriar desde 80 ºC hasta 10 ºC\n",
    "        - Se dispone de $m_w=2.5kg/s$ agua proveniente de una torre a 24ºC.\n",
    "\n",
    "    1.2 Requerimiento no funcionales.\n",
    "\n",
    "        - Operable y seguro.\n",
    "        - Costo mínimo.\n",
    "\n",
    "2. Concepto de diseño:\n",
    "\n",
    "    2.1 Solo enfriamiento con agua.\n",
    "\n",
    "    2.2 Solo enfriamiento con un sistema de refrigeración.\n",
    "    \n",
    "    2.3 Sistema combinado.\n",
    "\n",
    "        - Agua primero por SR.\n",
    "        - Agua primero por pre-enfriador.\n"
   ]
  },
  {
   "cell_type": "markdown",
   "metadata": {},
   "source": [
    "#  Diseño solo Intercambiador de calor"
   ]
  },
  {
   "cell_type": "markdown",
   "metadata": {},
   "source": [
    "El sistema en si mismo no puede realizarse con solo un intercambiador de calor dado que los perfiles de temperatura producirían un proceso imposible en la medida que el fluido frio (Agua) estaría a una temperatura superior a la entrada en comparación a la temperatura del fluido caliente (leche).\n",
    "\n",
    "<!-- ![](./imgs_leche/maxresdefault.jpg)\n",
    "![](./imgs_leche/diagrama_solo_intercambioador.jpeg) -->\n",
    "\n",
    "<p align=\"center\">\n",
    "  <img src=\"./imgs_leche/maxresdefault.jpg\" height =\"400px\">\n",
    "</p>\n",
    "\n",
    "<p align=\"center\">\n",
    "  <img src=\"./imgs_leche/diagrama_solo_intercambioador.jpeg\" height =\"400px\">\n",
    "</p>\n",
    "\n"
   ]
  },
  {
   "cell_type": "markdown",
   "metadata": {},
   "source": [
    "# **Diseño combinado**"
   ]
  },
  {
   "cell_type": "markdown",
   "metadata": {},
   "source": [
    "## **Carcasa y tubo**"
   ]
  },
  {
   "cell_type": "markdown",
   "metadata": {},
   "source": [
    "### Importar librerías necesarias\n",
    "\n",
    "Para el desarrollo del diseño y la optimización los costos del intercambiador de calor como del sistema de refrigerador se utilizo el lenguaje de programación Python en su version 3.10.13 y las siguientes librerías.\n",
    "\n",
    "1. PyFluids: Obtener las propiedades del agua a las condiciones termo-físicas necesarias.\n",
    "2. Numpy: Manipular el vector de temperaturas, asi como de la optimización de las operaciones y cálculos necesarios.\n",
    "3. Scipy: Encontrar la función que mejor estime los datos de costos.\n",
    "4. Matplotlib: Modelar los resultados obtenidos. "
   ]
  },
  {
   "cell_type": "code",
   "execution_count": 170,
   "metadata": {},
   "outputs": [],
   "source": [
    "from pyfluids import Fluid, FluidsList, Input\n",
    "import numpy as np\n",
    "from pprint import pprint\n",
    "import pandas as pd\n",
    "from matplotlib import pyplot as plt\n",
    "from scipy.optimize import curve_fit"
   ]
  },
  {
   "cell_type": "markdown",
   "metadata": {},
   "source": [
    "### Establecer valores conocidos"
   ]
  },
  {
   "cell_type": "code",
   "execution_count": 171,
   "metadata": {},
   "outputs": [],
   "source": [
    "caudal_leche                              = 0.5 # kg/s\n",
    "temperatura_entrada_leche                 = 80 # ºC\n",
    "temperatura_salida_leche                  = 10 # ºC\n",
    "temperatura_entrada_agua                  = 24 # ºC\n",
    "caudal_agua                               = 2.5 # kg/s"
   ]
  },
  {
   "cell_type": "markdown",
   "metadata": {},
   "source": [
    "### Definición de salida temperatura\n",
    "\n",
    "Se debe parametrizar la velocidad de salida del intercambiador y la entrada del sistema del refrigerador.\n",
    "\n",
    "<!-- ![](./imgs_leche/esquema_flujo.jpeg) -->\n",
    "\n",
    "<p align=\"center\">\n",
    "  <img src=\"./imgs_leche/esquema_flujo.jpeg\" height =\"350px\">\n",
    "</p>\n"
   ]
  },
  {
   "cell_type": "code",
   "execution_count": 172,
   "metadata": {},
   "outputs": [
    {
     "data": {
      "text/plain": [
       "array([30.        , 31.45833333, 32.91666667, 34.375     , 35.83333333,\n",
       "       37.29166667, 38.75      , 40.20833333, 41.66666667, 43.125     ,\n",
       "       44.58333333, 46.04166667, 47.5       , 48.95833333, 50.41666667,\n",
       "       51.875     , 53.33333333, 54.79166667, 56.25      , 57.70833333,\n",
       "       59.16666667, 60.625     , 62.08333333, 63.54166667, 65.        ])"
      ]
     },
     "execution_count": 172,
     "metadata": {},
     "output_type": "execute_result"
    }
   ],
   "source": [
    "temperaturas_leche_estimada_salidas = np.linspace(30, 65, 25)\n",
    "temperaturas_leche_estimada_salidas"
   ]
  },
  {
   "cell_type": "markdown",
   "metadata": {},
   "source": [
    "### Establecer valores pre-diseño"
   ]
  },
  {
   "cell_type": "markdown",
   "metadata": {},
   "source": [
    "#### Consideraciones\n",
    "\n",
    "<!-- [presión agua](https://blog.verti.es/hogar/presion-agua-casa/#:~:text=Lo%20habitual%20es%20que%20la,tengamos%20una%20presión%20u%20otra.) -->\n",
    "\n",
    "\n",
    "- Considere como material el acero inoxidable 304, k = 15 W/m*k.\n",
    "- Diámetro de tubo de 1 in ( 25.4 mm exterior y 17 mm interior ).\n",
    "- Longitud de 4m."
   ]
  },
  {
   "cell_type": "code",
   "execution_count": 173,
   "metadata": {},
   "outputs": [],
   "source": [
    "k_material                            = 15    # W/ m * k Acero inoxidable\n",
    "diametro_interior                     = 17e-3 # m\n",
    "diametro_exterior                     = 25.4e-3 # m\n",
    "\n",
    "longitud                              = 4 #m               "
   ]
  },
  {
   "cell_type": "code",
   "execution_count": 174,
   "metadata": {},
   "outputs": [
    {
     "data": {
      "text/plain": [
       "Water"
      ]
     },
     "execution_count": 174,
     "metadata": {},
     "output_type": "execute_result"
    }
   ],
   "source": [
    "water = Fluid(FluidsList.Water)\n",
    "presion_agua  = (2) * 101_325 # Pa\n",
    "water.name"
   ]
  },
  {
   "cell_type": "markdown",
   "metadata": {},
   "source": [
    "#### Composición de la leche"
   ]
  },
  {
   "cell_type": "code",
   "execution_count": 175,
   "metadata": {},
   "outputs": [
    {
     "name": "stdout",
     "output_type": "stream",
     "text": [
      "Calor especifico leche 3970 J / (kg*k)\n"
     ]
    }
   ],
   "source": [
    "cp_propiedades_leche = 3970  # J/kg k\n",
    "print(f\"Calor especifico leche {cp_propiedades_leche} J / (kg*k)\")"
   ]
  },
  {
   "cell_type": "code",
   "execution_count": 176,
   "metadata": {},
   "outputs": [
    {
     "name": "stdout",
     "output_type": "stream",
     "text": [
      "Temperaturas de propiedades a iterar [55.         55.72916667 56.45833333 57.1875     57.91666667 58.64583333\n",
      " 59.375      60.10416667 60.83333333 61.5625     62.29166667 63.02083333\n",
      " 63.75       64.47916667 65.20833333 65.9375     66.66666667 67.39583333\n",
      " 68.125      68.85416667 69.58333333 70.3125     71.04166667 71.77083333\n",
      " 72.5       ] ºC\n"
     ]
    }
   ],
   "source": [
    "temperaturas_propiedades_leche = (temperaturas_leche_estimada_salidas + temperatura_entrada_leche) / 2\n",
    "print(f\"Temperaturas de propiedades a iterar {temperaturas_propiedades_leche} ºC\")"
   ]
  },
  {
   "cell_type": "markdown",
   "metadata": {},
   "source": [
    "### Termodinámica"
   ]
  },
  {
   "cell_type": "markdown",
   "metadata": {},
   "source": [
    "$$ \\dot{Q} = (\\dot{m} *C_{p})_{leche} * (T_{l1} -T_{l2})$$\n",
    "\n",
    "Se calcula los calores disipados de la leche en el intercambiador a partir del vector de temperaturas."
   ]
  },
  {
   "cell_type": "code",
   "execution_count": 177,
   "metadata": {},
   "outputs": [
    {
     "name": "stdout",
     "output_type": "stream",
     "text": [
      " Calores [99250.         96355.20833333 93460.41666667 90565.625\n",
      " 87670.83333333 84776.04166667 81881.25       78986.45833333\n",
      " 76091.66666667 73196.875      70302.08333333 67407.29166667\n",
      " 64512.5        61617.70833333 58722.91666667 55828.125\n",
      " 52933.33333333 50038.54166667 47143.75       44248.95833333\n",
      " 41354.16666667 38459.375      35564.58333333 32669.79166667\n",
      " 29775.        ] W\n"
     ]
    }
   ],
   "source": [
    "calores_transferencia = caudal_leche * cp_propiedades_leche * (temperatura_entrada_leche - temperaturas_leche_estimada_salidas)\n",
    "print(fr\" Calores {calores_transferencia} W\")"
   ]
  },
  {
   "cell_type": "code",
   "execution_count": 178,
   "metadata": {},
   "outputs": [
    {
     "name": "stdout",
     "output_type": "stream",
     "text": [
      "{'compressibility': 0.0014376012709739205, 'conductivity': 0.6203366408703609, 'critical_pressure': 22064000.0, 'critical_temperature': 373.946, 'density': 994.417937160409, 'dynamic_viscosity': 0.0007337301352239351, 'enthalpy': 142631.9153801642, 'entropy': 491.47808690964223, 'fraction': 100, 'freezing_temperature': None, 'internal_energy': 142428.1278251999, 'kinematic_viscosity': 7.378488538924831e-07, 'max_pressure': 1000000000.0, 'max_temperature': 1726.85, 'min_pressure': 611.6548008968684, 'min_temperature': 0.010000000000047748, 'molar_mass': 0.018015268, 'name': Water, 'phase': Liquid, 'prandtl': 4.942945501085879, 'pressure': 202650, 'quality': None, 'sound_speed': 1518.0155752419128, 'specific_heat': 4179.043576032273, 'specific_volume': 0.0010056133971753675, 'surface_tension': None, 'temperature': 34.0, 'triple_pressure': 611.6548008968684, 'triple_temperature': 0.010000000000047748, 'units_system': SIWithCelsiusAndPercents}\n"
     ]
    }
   ],
   "source": [
    "estado_agua_propiedades = water.with_state(\n",
    "    Input.pressure(presion_agua),\n",
    "    Input.temperature(34),\n",
    ")\n",
    "print(estado_agua_propiedades.as_dict())"
   ]
  },
  {
   "cell_type": "code",
   "execution_count": 179,
   "metadata": {},
   "outputs": [],
   "source": [
    "cp_agua                         = estado_agua_propiedades.specific_heat # J /kg k\n",
    "viscosidad_dinamica_agua        = estado_agua_propiedades.dynamic_viscosity # Pa * s\n",
    "densidad_agua                   = estado_agua_propiedades.density # kg / m3\n",
    "k_agua                          = estado_agua_propiedades.conductivity # W / m k\n",
    "prandl_agua                     = estado_agua_propiedades.prandtl"
   ]
  },
  {
   "cell_type": "markdown",
   "metadata": {},
   "source": [
    "$$ \\dot{Q} = (\\dot{m} *C_{p})_{agua} * (T_{w2} - T_{w1})$$\n",
    "\n",
    "\n",
    "$$ T_{w2} = \\frac{\\dot{Q}}{(\\dot{m} * C_{p})_{agua}}  + T_{w1}$$"
   ]
  },
  {
   "cell_type": "code",
   "execution_count": 180,
   "metadata": {},
   "outputs": [
    {
     "name": "stdout",
     "output_type": "stream",
     "text": [
      "Temperatura salida del agua [33.4997813  33.22270434 32.94562739 32.66855043 32.39147348 32.11439652\n",
      " 31.83731957 31.56024261 31.28316566 31.00608871 30.72901175 30.4519348\n",
      " 30.17485784 29.89778089 29.62070393 29.34362698 29.06655002 28.78947307\n",
      " 28.51239612 28.23531916 27.95824221 27.68116525 27.4040883  27.12701134\n",
      " 26.84993439] ºC\n"
     ]
    }
   ],
   "source": [
    "temperaturas_salida_agua = temperatura_entrada_agua + calores_transferencia / (caudal_agua * cp_agua)\n",
    "print(fr\"Temperatura salida del agua {temperaturas_salida_agua} ºC\")"
   ]
  },
  {
   "cell_type": "markdown",
   "metadata": {},
   "source": [
    "### Transferencia de calor"
   ]
  },
  {
   "cell_type": "markdown",
   "metadata": {},
   "source": [
    "#### Cálculo de una U estimada"
   ]
  },
  {
   "cell_type": "markdown",
   "metadata": {},
   "source": [
    "Asuma los coeficiente de trasferencia de calor\n",
    "\n",
    "$$ \\frac{1}{U_{ensuciamiento}} = \\frac{r_{0}}{r_{i}} \\frac{1}{h_{i}} + \\frac{r_{0}}{r_{1}}*R_{f_{}i} + r_{0} \\frac{ln(\\frac{r_{0}}{r_{i}} )}{k} + R_{f_{}o} + \\frac{1}{h_{0}} $$\n",
    "\n",
    "\n",
    "\n",
    "$$ \\frac{1}{U_{limpio}} = \\frac{r_{0}}{r_{i}} \\frac{1}{h_{i}} + r_{0} \\frac{ln(\\frac{r_{0}}{r_{i}} )}{k} + \\frac{1}{h_{0}}$$\n",
    "\n",
    "En este caso\n",
    "\n",
    "> $r_{0}$ -> radio exterior\n",
    "\n",
    "> $r_{i}$ -> radio interior\n",
    "\n",
    "> $h_{0}$ -> coeficiente de convección en la carcasa\n",
    "\n",
    "> $h_{i}$ -> coeficiente de convección en el tubo"
   ]
  },
  {
   "cell_type": "code",
   "execution_count": 181,
   "metadata": {},
   "outputs": [],
   "source": [
    "h_agua        = 3000     # kj/kg * k\n",
    "h_leche       = 3000     # kj/kg * k\n",
    "\n",
    "R_f_leche    = 0.000176 # m2 k/w\n",
    "R_f_agua     = 0.000176 # m2 k/w"
   ]
  },
  {
   "cell_type": "code",
   "execution_count": 182,
   "metadata": {},
   "outputs": [
    {
     "data": {
      "text/plain": [
       "621.0006557923189"
      ]
     },
     "execution_count": 182,
     "metadata": {},
     "output_type": "execute_result"
    }
   ],
   "source": [
    "U_ensuciamiento = (\n",
    "    + (diametro_exterior / diametro_interior) * 1 / h_leche\n",
    "    + (diametro_exterior / diametro_interior) * R_f_leche\n",
    "    + (diametro_exterior / 2) * np.log(diametro_exterior/diametro_interior) / k_material\n",
    "    + R_f_agua\n",
    "    + 1 / h_agua\n",
    ") ** -1 \n",
    "U_ensuciamiento"
   ]
  },
  {
   "cell_type": "code",
   "execution_count": 183,
   "metadata": {},
   "outputs": [
    {
     "data": {
      "text/plain": [
       "853.723413101184"
      ]
     },
     "execution_count": 183,
     "metadata": {},
     "output_type": "execute_result"
    }
   ],
   "source": [
    "U_no_ensuciamiento = (\n",
    "    + (diametro_exterior / diametro_interior) * 1 / h_leche\n",
    "    + (diametro_exterior / 2) * np.log(diametro_exterior/diametro_interior) / k_material\n",
    "    + 1 / h_agua\n",
    ") ** -1 \n",
    "U_no_ensuciamiento"
   ]
  },
  {
   "cell_type": "markdown",
   "metadata": {},
   "source": [
    "#### Cálculo de la diferencia media logarítmica\n",
    "\n",
    "<p align=\"center\">\n",
    "  <img src=\"./imgs_leche/carcasa_tubo_temperatura.jpeg\" height =\"350px\">\n",
    "</p>\n",
    "\n",
    "\n",
    "$$ \\Delta{T_{lm,cf}} = \\frac{\\Delta{T_{1} - \\Delta{T_{2}}}}{ \\ln{\\frac{\\Delta{T_{1}}}{\\Delta{T_{2}}}} } $$\n",
    "\n",
    "\n",
    "Donde\n",
    "\n",
    "- $\\Delta{T_{1}} = T_{l1} -  T_{w2}$ \n",
    "- $\\Delta{T_{2}} = T_{l2} -  T_{w1}$ "
   ]
  },
  {
   "cell_type": "code",
   "execution_count": 184,
   "metadata": {},
   "outputs": [],
   "source": [
    "diferencia_temperatura_x1 = temperatura_entrada_leche - temperaturas_salida_agua\n",
    "diferencia_temperatura_x2 = temperaturas_leche_estimada_salidas - temperatura_entrada_agua\n",
    "diferencia_log_temperatura = (diferencia_temperatura_x2 - diferencia_temperatura_x1)/ np.log(diferencia_temperatura_x2/diferencia_temperatura_x1)"
   ]
  },
  {
   "cell_type": "code",
   "execution_count": 185,
   "metadata": {},
   "outputs": [],
   "source": [
    "tabla_temperaturas = pd.DataFrame(\n",
    "    {\n",
    "        \"Tl1 ºC\": temperatura_entrada_leche,\n",
    "        \"Tw2 ºC\": temperaturas_salida_agua,\n",
    "        'Delta x1 ºC' :diferencia_temperatura_x1,\n",
    "        \"Tl2 ºC\": temperaturas_leche_estimada_salidas,\n",
    "        \"Tw1 ºC\": temperatura_entrada_agua,\n",
    "        'Delta x2 ºC' :diferencia_temperatura_x2,\n",
    "        'Diferencia media logarítmica ºC' : diferencia_log_temperatura,\n",
    "    }\n",
    ")\n"
   ]
  },
  {
   "cell_type": "markdown",
   "metadata": {},
   "source": [
    "Para el calculo de las el factor de corrección se uso las tablas del método de LMTD del moodle."
   ]
  },
  {
   "cell_type": "code",
   "execution_count": 186,
   "metadata": {},
   "outputs": [],
   "source": [
    "tabla_temperaturas['R'] = (tabla_temperaturas['Tl1 ºC'] - tabla_temperaturas['Tl2 ºC']) / (tabla_temperaturas['Tw2 ºC'] - tabla_temperaturas['Tw1 ºC'] )\n",
    "tabla_temperaturas['P'] = 1 / tabla_temperaturas['R'] "
   ]
  },
  {
   "cell_type": "markdown",
   "metadata": {},
   "source": [
    "Teniendo en cuenta las gráficas de moodle"
   ]
  },
  {
   "cell_type": "code",
   "execution_count": 187,
   "metadata": {},
   "outputs": [],
   "source": [
    "F = 0.8"
   ]
  },
  {
   "cell_type": "code",
   "execution_count": 188,
   "metadata": {},
   "outputs": [],
   "source": [
    "diferencia_log_temperatura_corregida = diferencia_log_temperatura * F\n",
    "tabla_temperaturas['Diferencia media logarítmica corregida ºC'] = diferencia_log_temperatura_corregida\n",
    "# print(tabla_temperaturas.to_markdown())"
   ]
  },
  {
   "cell_type": "markdown",
   "metadata": {},
   "source": [
    "|    |   Tl1 ºC |   Tw2 ºC |   Delta x1 ºC |   Tl2 ºC |   Tw1 ºC |   Delta x2 ºC |   Diferencia media logarítmica ºC |       R |        P |   Diferencia media logarítmica corregida ºC |\n",
    "|---:|---------:|---------:|--------------:|---------:|---------:|--------------:|----------------------------------:|--------:|---------:|--------------------------------------------:|\n",
    "|  0 |       80 |  33.4998 |       46.5002 |  30      |       24 |       6       |                           19.7784 | 5.26328 | 0.189996 |                                     15.8227 |\n",
    "|  1 |       80 |  33.2227 |       46.7773 |  31.4583 |       24 |       7.45833 |                           21.4148 | 5.26328 | 0.189996 |                                     17.1318 |\n",
    "|  2 |       80 |  32.9456 |       47.0544 |  32.9167 |       24 |       8.91667 |                           22.9278 | 5.26328 | 0.189996 |                                     18.3423 |\n",
    "|  3 |       80 |  32.6686 |       47.3314 |  34.375  |       24 |      10.375   |                           24.3491 | 5.26328 | 0.189996 |                                     19.4793 |\n",
    "|  4 |       80 |  32.3915 |       47.6085 |  35.8333 |       24 |      11.8333  |                           25.6989 | 5.26328 | 0.189996 |                                     20.5591 |\n",
    "|  5 |       80 |  32.1144 |       47.8856 |  37.2917 |       24 |      13.2917  |                           26.9911 | 5.26328 | 0.189996 |                                     21.5929 |\n",
    "|  6 |       80 |  31.8373 |       48.1627 |  38.75   |       24 |      14.75    |                           28.2359 | 5.26328 | 0.189996 |                                     22.5887 |\n",
    "|  7 |       80 |  31.5602 |       48.4398 |  40.2083 |       24 |      16.2083  |                           29.4406 | 5.26328 | 0.189996 |                                     23.5525 |\n",
    "|  8 |       80 |  31.2832 |       48.7168 |  41.6667 |       24 |      17.6667  |                           30.6111 | 5.26328 | 0.189996 |                                     24.4888 |\n",
    "|  9 |       80 |  31.0061 |       48.9939 |  43.125  |       24 |      19.125   |                           31.7518 | 5.26328 | 0.189996 |                                     25.4014 |\n",
    "| 10 |       80 |  30.729  |       49.271  |  44.5833 |       24 |      20.5833  |                           32.8665 | 5.26328 | 0.189996 |                                     26.2932 |\n",
    "| 11 |       80 |  30.4519 |       49.5481 |  46.0417 |       24 |      22.0417  |                           33.9582 | 5.26328 | 0.189996 |                                     27.1665 |\n",
    "| 12 |       80 |  30.1749 |       49.8251 |  47.5    |       24 |      23.5     |                           35.0292 | 5.26328 | 0.189996 |                                     28.0234 |\n",
    "| 13 |       80 |  29.8978 |       50.1022 |  48.9583 |       24 |      24.9583  |                           36.0818 | 5.26328 | 0.189996 |                                     28.8655 |\n",
    "| 14 |       80 |  29.6207 |       50.3793 |  50.4167 |       24 |      26.4167  |                           37.1177 | 5.26328 | 0.189996 |                                     29.6942 |\n",
    "| 15 |       80 |  29.3436 |       50.6564 |  51.875  |       24 |      27.875   |                           38.1384 | 5.26328 | 0.189996 |                                     30.5107 |\n",
    "| 16 |       80 |  29.0666 |       50.9334 |  53.3333 |       24 |      29.3333  |                           39.1452 | 5.26328 | 0.189996 |                                     31.3161 |\n",
    "| 17 |       80 |  28.7895 |       51.2105 |  54.7917 |       24 |      30.7917  |                           40.1392 | 5.26328 | 0.189996 |                                     32.1114 |\n",
    "| 18 |       80 |  28.5124 |       51.4876 |  56.25   |       24 |      32.25    |                           41.1215 | 5.26328 | 0.189996 |                                     32.8972 |\n",
    "| 19 |       80 |  28.2353 |       51.7647 |  57.7083 |       24 |      33.7083  |                           42.093  | 5.26328 | 0.189996 |                                     33.6744 |\n",
    "| 20 |       80 |  27.9582 |       52.0418 |  59.1667 |       24 |      35.1667  |                           43.0544 | 5.26328 | 0.189996 |                                     34.4436 |\n",
    "| 21 |       80 |  27.6812 |       52.3188 |  60.625  |       24 |      36.625   |                           44.0065 | 5.26328 | 0.189996 |                                     35.2052 |\n",
    "| 22 |       80 |  27.4041 |       52.5959 |  62.0833 |       24 |      38.0833  |                           44.9498 | 5.26328 | 0.189996 |                                     35.9599 |\n",
    "| 23 |       80 |  27.127  |       52.873  |  63.5417 |       24 |      39.5417  |                           45.885  | 5.26328 | 0.189996 |                                     36.708  |\n",
    "| 24 |       80 |  26.8499 |       53.1501 |  65      |       24 |      41       |                           46.8125 | 5.26328 | 0.189996 |                                     37.45   |"
   ]
  },
  {
   "cell_type": "markdown",
   "metadata": {},
   "source": [
    "#### Cálculo de la relación de area"
   ]
  },
  {
   "cell_type": "code",
   "execution_count": 189,
   "metadata": {},
   "outputs": [
    {
     "name": "stdout",
     "output_type": "stream",
     "text": [
      "Area con ensuciamiento [10.1008265   9.05689606  8.20508336  7.4868435   6.86687074  6.3222244\n",
      "  5.83715399  5.40037681  5.00353339  4.64025753  4.30558911  3.99558834\n",
      "  3.70707385  3.43743979  3.1845249   2.94651686  2.72188103  2.50930651\n",
      "  2.30766468  2.11597693  1.93338923  1.75915187  1.59260313  1.43315607\n",
      "  1.28028769] m^2\n",
      "Area sin ensuciamiento [7.34736776 6.58801001 5.96839921 5.44594965 4.99497983 4.59880265\n",
      " 4.24596116 3.9282483  3.63958335 3.37533553 3.13189684 2.90640147\n",
      " 2.69653527 2.50040275 2.31643179 2.14330412 1.97990342 1.82527615\n",
      " 1.67860136 1.53916718 1.40635241 1.2796117  1.1584637  1.0424815\n",
      " 0.93128463] m^2\n",
      "Relación de area ratio: [0.37475445 0.37475445 0.37475445 0.37475445 0.37475445 0.37475445\n",
      " 0.37475445 0.37475445 0.37475445 0.37475445 0.37475445 0.37475445\n",
      " 0.37475445 0.37475445 0.37475445 0.37475445 0.37475445 0.37475445\n",
      " 0.37475445 0.37475445 0.37475445 0.37475445 0.37475445 0.37475445\n",
      " 0.37475445]\n"
     ]
    }
   ],
   "source": [
    "A_f = calores_transferencia / (U_ensuciamiento * diferencia_log_temperatura_corregida)\n",
    "A_c = calores_transferencia / (U_no_ensuciamiento * diferencia_log_temperatura_corregida)\n",
    "\n",
    "print(f\"Area con ensuciamiento {A_f} m^2\")\n",
    "print(f\"Area sin ensuciamiento {A_c} m^2\")\n",
    "\n",
    "area_ratio =  A_f / A_c - 1\n",
    "print(f\"Relación de area ratio: {area_ratio}\")"
   ]
  },
  {
   "cell_type": "markdown",
   "metadata": {},
   "source": [
    "Se toma como referencia las siguientes dimensiones y parámetros de diseño en base a los valores estándares"
   ]
  },
  {
   "cell_type": "code",
   "execution_count": 190,
   "metadata": {},
   "outputs": [],
   "source": [
    "Cl         = 1\n",
    "L          = 4      # m ; Es la longitud \n",
    "CTP        = 0.93   # One tube pass\n",
    "PitchRatio = 1.25"
   ]
  },
  {
   "cell_type": "code",
   "execution_count": 191,
   "metadata": {},
   "outputs": [
    {
     "name": "stdout",
     "output_type": "stream",
     "text": [
      "El diámetro de la carcasa [0.20910927 0.19800882 0.18846744 0.18002972 0.17241469 0.16543591\n",
      " 0.15896277 0.15289978 0.14717473 0.14173133 0.13652467 0.131518\n",
      " 0.1266807  0.12198667 0.11741326 0.11294039 0.10854989 0.10422495\n",
      " 0.09994963 0.09570845 0.09148597 0.08726629 0.0830326  0.07876651\n",
      " 0.07444724] m\n",
      "El diámetro de la carcasa estándar 0.25 m\n"
     ]
    }
   ],
   "source": [
    "diametro_carcasa = 0.637 * ((Cl / CTP) * A_f * pow(PitchRatio, 2) * diametro_exterior / L)**(1/2) \n",
    "print(f\"El diámetro de la carcasa {diametro_carcasa} m\")\n",
    "\n",
    "diametro_carcasa = 0.25 # Se aproxima al estándar\n",
    "print(f\"El diámetro de la carcasa estándar {diametro_carcasa} m\")"
   ]
  },
  {
   "cell_type": "code",
   "execution_count": 192,
   "metadata": {},
   "outputs": [
    {
     "name": "stdout",
     "output_type": "stream",
     "text": [
      "45.26319052638105\n"
     ]
    }
   ],
   "source": [
    "numeros_tubos = 0.785 * (CTP/Cl) * (diametro_carcasa)**2 /((PitchRatio * diametro_exterior)**2)\n",
    "print(numeros_tubos)"
   ]
  },
  {
   "cell_type": "markdown",
   "metadata": {},
   "source": [
    "Se estandariza de acuerdo a los datos estándares de las transparencias. Adicional a esto considere que se eligió un arreglo cuadrado de tubos.\n",
    "\n",
    "<p align=\"center\">\n",
    "  <img src=\"./imgs_leche/estandar_numero_tubos.jpeg\" height =\"350px\">\n",
    "</p>\n"
   ]
  },
  {
   "cell_type": "code",
   "execution_count": 193,
   "metadata": {},
   "outputs": [],
   "source": [
    "numeros_tubos   = 48  # Estándar\n",
    "D_S             = 0.33655 # 13 1/4 \n",
    "tubos_pas       = 6"
   ]
  },
  {
   "cell_type": "markdown",
   "metadata": {},
   "source": [
    "Se supone un 60 %  del diámetro de la carcasa"
   ]
  },
  {
   "cell_type": "code",
   "execution_count": 194,
   "metadata": {},
   "outputs": [
    {
     "name": "stdout",
     "output_type": "stream",
     "text": [
      "espacio entre baffle 0.15\n",
      "espacio entre baffle 0.2\n"
     ]
    }
   ],
   "source": [
    "B = 0.6 * diametro_carcasa\n",
    "print('espacio entre baffle', B)\n",
    "B = 0.2\n",
    "print('espacio entre baffle', B)"
   ]
  },
  {
   "cell_type": "markdown",
   "metadata": {},
   "source": [
    "### Corrección método de kern"
   ]
  },
  {
   "cell_type": "markdown",
   "metadata": {},
   "source": [
    "#### Cálculo del diámetro equivalente\n",
    "\n",
    "<p align=\"center\">\n",
    "  <img src=\"./imgs_leche/distribucion_tubos_carcasa_tubos.jpeg\" height =\"300px\">\n",
    "</p>\n",
    "\n",
    "$$ D_{e} = \\frac{4(P_{T}^{2} - \\pi{} * d_{0} ^2 / 4)}{\\pi{} *d_{0}}  $$"
   ]
  },
  {
   "cell_type": "code",
   "execution_count": 195,
   "metadata": {},
   "outputs": [
    {
     "name": "stdout",
     "output_type": "stream",
     "text": [
      "calculo del diámetro equivalente del lado del tubo 0.0251 m\n"
     ]
    }
   ],
   "source": [
    "P_t              = 31.75e-3 # m -> Note que esta valor sale en las tablas como 1 in 1.25 in\n",
    "\n",
    "D_e = 4 * (P_t ** 2 - np.pi * (diametro_exterior**2) / 4) / (np.pi * diametro_exterior)\n",
    "print(f\"calculo del diámetro equivalente del lado del tubo {D_e:.4f} m\")"
   ]
  },
  {
   "cell_type": "markdown",
   "metadata": {},
   "source": [
    "#### Cálculo flujo en la carcasa\n",
    "\n",
    "En este caso de decide una distribución de poner la leche en los tubos y el agua en la carcasa."
   ]
  },
  {
   "cell_type": "markdown",
   "metadata": {},
   "source": [
    "##### Cálculo de la velocidad másica"
   ]
  },
  {
   "cell_type": "code",
   "execution_count": 196,
   "metadata": {},
   "outputs": [
    {
     "name": "stdout",
     "output_type": "stream",
     "text": [
      "Holgura C: 0.00635\n",
      "Area de flujo cruzado 0.013462 m\n"
     ]
    }
   ],
   "source": [
    "C = P_t - diametro_exterior\n",
    "print(f\"Holgura C: {C:.5f}\")\n",
    "\n",
    "A_s = (D_S * C * B) / P_t\n",
    "print(f\"Area de flujo cruzado {A_s:4f} m\")"
   ]
  },
  {
   "cell_type": "code",
   "execution_count": 197,
   "metadata": {},
   "outputs": [
    {
     "name": "stdout",
     "output_type": "stream",
     "text": [
      "Velocidad másica carcasa 185.71 kg/(s*m2)\n"
     ]
    }
   ],
   "source": [
    "G_s = caudal_agua / A_s # carcasa\n",
    "print(f\"Velocidad másica carcasa {G_s:.2f} kg/(s*m2)\")"
   ]
  },
  {
   "cell_type": "markdown",
   "metadata": {},
   "source": [
    "##### Cálculo coeficiente convectivo agua\n",
    "\n",
    "$$ \\frac{h_{0}* D_{e}}{k} = 0.36 (\\frac{D_{e}G_{s}}{\\mu})^{0.55} (\\frac{c_{p} \\mu }{k})^{\\frac{1}{3}} (\\frac{\\mu_{b}}{\\mu_{w}})^{0.14} $$"
   ]
  },
  {
   "cell_type": "code",
   "execution_count": 198,
   "metadata": {},
   "outputs": [
    {
     "name": "stdout",
     "output_type": "stream",
     "text": [
      "27.08742892129641\n",
      "{'compressibility': 0.0014675726384635324, 'conductivity': 0.6099335190015163, 'critical_pressure': 22064000.0, 'critical_temperature': 373.946, 'density': 996.5371137555562, 'dynamic_viscosity': 0.0008492509120536731, 'enthalpy': 113740.71573061732, 'entropy': 396.3412376859475, 'fraction': 100, 'freezing_temperature': None, 'internal_energy': 113537.3615386338, 'kinematic_viscosity': 8.522019906044248e-07, 'max_pressure': 1000000000.0, 'max_temperature': 1726.85, 'min_pressure': 611.6548008968684, 'min_temperature': 0.010000000000047748, 'molar_mass': 0.018015268, 'name': Water, 'phase': Liquid, 'prandtl': 5.820473548702529, 'pressure': 202650, 'quality': None, 'sound_speed': 1502.2937057792478, 'specific_heat': 4180.274478870396, 'specific_volume': 0.001003474919495365, 'surface_tension': None, 'temperature': 27.087428921296407, 'triple_pressure': 611.6548008968684, 'triple_temperature': 0.010000000000047748, 'units_system': SIWithCelsiusAndPercents}\n",
      "996.5371137555562 4180.274478870396 0.0008492509120536731 0.6099335190015163\n"
     ]
    }
   ],
   "source": [
    "temperatura_propiedades_agua = np.average(\n",
    "    (temperaturas_salida_agua + temperatura_entrada_agua) / 2\n",
    ")\n",
    "\n",
    "print(temperatura_propiedades_agua)\n",
    "\n",
    "estado_agua_kern = water.with_state(\n",
    "    Input.pressure(presion_agua),\n",
    "    Input.temperature(temperatura_propiedades_agua),\n",
    ")\n",
    "\n",
    "densidad_agua_kern            = estado_agua_kern.density\n",
    "cp_agua_kern                  = estado_agua_kern.specific_heat\n",
    "viscosidad_dinamica_agua_kern = estado_agua_kern.dynamic_viscosity\n",
    "k_agua_kern                   = estado_agua_kern.conductivity\n",
    "prandtl_agua_kern             = estado_agua_kern.prandtl\n",
    "\n",
    "print(estado_agua_kern.as_dict())\n",
    "print(\n",
    "    densidad_agua_kern, cp_agua_kern, \n",
    "    viscosidad_dinamica_agua_kern, k_agua_kern, \n",
    ")"
   ]
  },
  {
   "cell_type": "code",
   "execution_count": 199,
   "metadata": {},
   "outputs": [
    {
     "name": "stdout",
     "output_type": "stream",
     "text": [
      "Reynolds leche: 5495.61\n"
     ]
    }
   ],
   "source": [
    "Re_agua = G_s * D_e / viscosidad_dinamica_agua_kern\n",
    "print(f'Reynolds leche: {Re_agua:.2f}')"
   ]
  },
  {
   "cell_type": "code",
   "execution_count": 200,
   "metadata": {},
   "outputs": [
    {
     "name": "stdout",
     "output_type": "stream",
     "text": [
      "Temperatura promedio 45.42 ºC\n"
     ]
    }
   ],
   "source": [
    "T_w = 1/4 * np.average(\n",
    "    (temperatura_entrada_agua + temperaturas_salida_agua) +\n",
    "    (temperatura_entrada_leche + temperaturas_leche_estimada_salidas) \n",
    ")\n",
    "\n",
    "estado_agua_prom_kern = water.with_state(\n",
    "    Input.pressure(presion_agua),\n",
    "    Input.temperature(T_w),\n",
    ")\n",
    "\n",
    "viscosidad_dinamica_agua_prom_kern = estado_agua_prom_kern.dynamic_viscosity\n",
    "viscosidad_dinamica_agua_prom_kern\n",
    "print(f'Temperatura promedio {T_w:.2f} ºC')"
   ]
  },
  {
   "cell_type": "code",
   "execution_count": 201,
   "metadata": {},
   "outputs": [
    {
     "name": "stdout",
     "output_type": "stream",
     "text": [
      "Coeficiente de convección del agua 1917.37 W/(m^2 k)\n"
     ]
    }
   ],
   "source": [
    "h_agua = 0.36 * (D_e * G_s / viscosidad_dinamica_agua_kern)**0.55 \\\n",
    "    * (cp_agua_kern * viscosidad_dinamica_agua_kern / k_agua_kern)**(1/3) \\\n",
    "    * (viscosidad_dinamica_agua_kern / viscosidad_dinamica_agua_prom_kern)**0.14 \\\n",
    "    * k_agua / D_e\n",
    "print(f'Coeficiente de convección del agua {h_agua:.2f} W/(m^2 k)')"
   ]
  },
  {
   "cell_type": "code",
   "execution_count": 202,
   "metadata": {},
   "outputs": [
    {
     "name": "stdout",
     "output_type": "stream",
     "text": [
      "1030 3900 0.0008 0.6 5.1\n"
     ]
    }
   ],
   "source": [
    "densidad_leche_kern            = 1030 # kg / m3\n",
    "cp_leche_kern                  = 3900 # J/kg K\n",
    "viscosidad_dinamica_leche_kern = 0.0008 # Pa * S\n",
    "k_leche_kern                   = 0.6 # W /m k\n",
    "prandtl_leche_kern             = 5.1\n",
    "\n",
    "print(\n",
    "    densidad_leche_kern, cp_leche_kern, viscosidad_dinamica_leche_kern, \n",
    "    k_leche_kern, \n",
    "    prandtl_leche_kern\n",
    ")"
   ]
  },
  {
   "cell_type": "code",
   "execution_count": 203,
   "metadata": {},
   "outputs": [
    {
     "name": "stdout",
     "output_type": "stream",
     "text": [
      "Reynolds leche: 5833.94\n"
     ]
    }
   ],
   "source": [
    "Re_leche = G_s * D_e / viscosidad_dinamica_leche_kern\n",
    "print(f'Reynolds leche: {Re_leche:.2f}')"
   ]
  },
  {
   "cell_type": "markdown",
   "metadata": {},
   "source": [
    "##### Cálculo coeficiente convectivo leche"
   ]
  },
  {
   "cell_type": "code",
   "execution_count": 204,
   "metadata": {},
   "outputs": [
    {
     "name": "stdout",
     "output_type": "stream",
     "text": [
      "Area de transferencia por tubo 0.00182 m^2\n"
     ]
    }
   ],
   "source": [
    "A_tp = np.pi * diametro_interior**2 / 4 * numeros_tubos  / 6\n",
    "print(f\"Area de transferencia por tubo {A_tp:.5f} m^2\")"
   ]
  },
  {
   "cell_type": "code",
   "execution_count": 205,
   "metadata": {},
   "outputs": [
    {
     "name": "stdout",
     "output_type": "stream",
     "text": [
      "Velocidad media agua 0.27 (m/s)\n"
     ]
    }
   ],
   "source": [
    "u_m_leche = caudal_leche / (densidad_leche_kern * A_tp)\n",
    "print(f\"Velocidad media agua {u_m_leche:.2f} (m/s)\")"
   ]
  },
  {
   "cell_type": "code",
   "execution_count": 206,
   "metadata": {},
   "outputs": [
    {
     "name": "stdout",
     "output_type": "stream",
     "text": [
      "Reynolds leche 5851.28\n"
     ]
    }
   ],
   "source": [
    "Re_leche = densidad_leche_kern * u_m_leche * diametro_interior / viscosidad_dinamica_leche_kern\n",
    "print(f\"Reynolds leche {Re_leche:.2f}\")"
   ]
  },
  {
   "cell_type": "markdown",
   "metadata": {},
   "source": [
    "##### Como el fluido es turbulento se usa correlación de  Grielinki's"
   ]
  },
  {
   "cell_type": "code",
   "execution_count": 207,
   "metadata": {},
   "outputs": [
    {
     "data": {
      "text/plain": [
       "0.009200251682139698"
      ]
     },
     "execution_count": 207,
     "metadata": {},
     "output_type": "execute_result"
    }
   ],
   "source": [
    "f = (1.58*np.log(Re_leche) - 3.28)**-2\n",
    "f"
   ]
  },
  {
   "cell_type": "code",
   "execution_count": 208,
   "metadata": {},
   "outputs": [
    {
     "data": {
      "text/plain": [
       "42.29821473816366"
      ]
     },
     "execution_count": 208,
     "metadata": {},
     "output_type": "execute_result"
    }
   ],
   "source": [
    "Nu_b = (f/2)*(Re_leche - 1000)*prandtl_leche_kern/(1 + 12.7*(f/2)**(1/2)*(prandtl_leche_kern**(2/3) - 1))\n",
    "Nu_b"
   ]
  },
  {
   "cell_type": "code",
   "execution_count": 209,
   "metadata": {},
   "outputs": [
    {
     "name": "stdout",
     "output_type": "stream",
     "text": [
      "Coeficiente de convección leche 1492.88 W/(m^2 * k)\n"
     ]
    }
   ],
   "source": [
    "h_leche = Nu_b * k_leche_kern / diametro_interior\n",
    "print(f\"Coeficiente de convección leche {h_leche:.2f} W/(m^2 * k)\")"
   ]
  },
  {
   "cell_type": "markdown",
   "metadata": {},
   "source": [
    "#### Corrección del area"
   ]
  },
  {
   "cell_type": "code",
   "execution_count": 210,
   "metadata": {},
   "outputs": [
    {
     "data": {
      "text/plain": [
       "448.8265706163582"
      ]
     },
     "execution_count": 210,
     "metadata": {},
     "output_type": "execute_result"
    }
   ],
   "source": [
    "U_ensuciamiento_real = (\n",
    "    (diametro_exterior / diametro_interior) * 1 / h_agua\n",
    "    + (diametro_exterior / diametro_interior) * R_f_agua\n",
    "    + (diametro_exterior / 2) * np.log(diametro_exterior/diametro_interior) / k_material\n",
    "    + R_f_leche\n",
    "    + 1 / h_leche\n",
    ") ** -1 \n",
    "U_ensuciamiento_real"
   ]
  },
  {
   "cell_type": "code",
   "execution_count": 211,
   "metadata": {},
   "outputs": [
    {
     "data": {
      "text/plain": [
       "558.9504406540038"
      ]
     },
     "execution_count": 211,
     "metadata": {},
     "output_type": "execute_result"
    }
   ],
   "source": [
    "U_no_ensuciamiento_real = (\n",
    "    (diametro_exterior / diametro_interior) * 1 / h_agua\n",
    "    + (diametro_exterior / 2) * np.log(diametro_exterior/diametro_interior) / k_material\n",
    "    + 1 / h_leche\n",
    ") ** -1 \n",
    "U_no_ensuciamiento_real"
   ]
  },
  {
   "cell_type": "code",
   "execution_count": 212,
   "metadata": {},
   "outputs": [
    {
     "name": "stdout",
     "output_type": "stream",
     "text": [
      "0.34637819843913564\n",
      "19.0\n",
      "1.008399089550083\n",
      "La diferencia de presión: 1844.71 Pa\n"
     ]
    }
   ],
   "source": [
    "f = np.e**(0.576 - 0.19*np.log(Re_agua))\n",
    "print(f)\n",
    "\n",
    "N_b = longitud / B - 1 \n",
    "print(N_b)\n",
    "\n",
    "sigma = (viscosidad_dinamica_agua_kern / viscosidad_dinamica_leche_kern)**0.14\n",
    "print(sigma)\n",
    "\n",
    "diferencia_presion = f * G_s ** 2 * (N_b + 1) * 0.39 / (sigma * 2 * densidad_agua_kern * D_e)\n",
    "print(f\"La diferencia de presión: {diferencia_presion:.2f} Pa\")"
   ]
  },
  {
   "cell_type": "code",
   "execution_count": 213,
   "metadata": {},
   "outputs": [
    {
     "name": "stdout",
     "output_type": "stream",
     "text": [
      "[109858.58524864 106654.37651222 103450.1677758  100245.95903938\n",
      "  97041.75030296  93837.54156654  90633.33283012  87429.12409371\n",
      "  84224.91535729  81020.70662087  77816.49788445  74612.28914803\n",
      "  71408.08041161  68203.87167519  64999.66293878  61795.45420236\n",
      "  58591.24546594  55387.03672952  52182.8279931   48978.61925668\n",
      "  45774.41052026  42570.20178385  39365.99304743  36161.78431101\n",
      "  32957.57557459]\n"
     ]
    },
    {
     "data": {
      "text/plain": [
       "array([150.43334058, 134.88590563, 122.19971306, 111.50284371,\n",
       "       102.26948309,  94.15797182,  86.93373499,  80.42873767,\n",
       "        74.51848056,  69.1081509 ,  64.12387673,  59.50698211,\n",
       "        55.21008643,  51.19438013,  47.42767532,  43.88298078,\n",
       "        40.53744085,  37.37153203,  34.36844565,  31.51360713,\n",
       "        28.79429726,  26.19935035,  23.71891144,  21.34423911,\n",
       "        19.06754409])"
      ]
     },
     "execution_count": 213,
     "metadata": {},
     "output_type": "execute_result"
    }
   ],
   "source": [
    "areas = calores_transferencia / (U_ensuciamiento_real * diferencia_log_temperatura_corregida)\n",
    "\n",
    "calores_lmtd = U_ensuciamiento * areas * F * diferencia_log_temperatura_corregida\n",
    "print(calores_lmtd)\n",
    "\n",
    "areas = areas\n",
    "areas_ft = areas * 10.764\n",
    "areas_ft"
   ]
  },
  {
   "cell_type": "markdown",
   "metadata": {},
   "source": [
    "#### Calculo Costo intercambiador"
   ]
  },
  {
   "cell_type": "code",
   "execution_count": 214,
   "metadata": {},
   "outputs": [
    {
     "data": {
      "text/html": [
       "<div>\n",
       "<style scoped>\n",
       "    .dataframe tbody tr th:only-of-type {\n",
       "        vertical-align: middle;\n",
       "    }\n",
       "\n",
       "    .dataframe tbody tr th {\n",
       "        vertical-align: top;\n",
       "    }\n",
       "\n",
       "    .dataframe thead th {\n",
       "        text-align: right;\n",
       "    }\n",
       "</style>\n",
       "<table border=\"1\" class=\"dataframe\">\n",
       "  <thead>\n",
       "    <tr style=\"text-align: right;\">\n",
       "      <th></th>\n",
       "      <th>Tl1 ºC</th>\n",
       "      <th>Tw2 ºC</th>\n",
       "      <th>Tl2 ºC</th>\n",
       "      <th>Tw1 ºC</th>\n",
       "      <th>Area ft^2</th>\n",
       "    </tr>\n",
       "  </thead>\n",
       "  <tbody>\n",
       "    <tr>\n",
       "      <th>0</th>\n",
       "      <td>80</td>\n",
       "      <td>33.499781</td>\n",
       "      <td>30.000000</td>\n",
       "      <td>24</td>\n",
       "      <td>150.433341</td>\n",
       "    </tr>\n",
       "    <tr>\n",
       "      <th>1</th>\n",
       "      <td>80</td>\n",
       "      <td>33.222704</td>\n",
       "      <td>31.458333</td>\n",
       "      <td>24</td>\n",
       "      <td>134.885906</td>\n",
       "    </tr>\n",
       "    <tr>\n",
       "      <th>2</th>\n",
       "      <td>80</td>\n",
       "      <td>32.945627</td>\n",
       "      <td>32.916667</td>\n",
       "      <td>24</td>\n",
       "      <td>122.199713</td>\n",
       "    </tr>\n",
       "    <tr>\n",
       "      <th>3</th>\n",
       "      <td>80</td>\n",
       "      <td>32.668550</td>\n",
       "      <td>34.375000</td>\n",
       "      <td>24</td>\n",
       "      <td>111.502844</td>\n",
       "    </tr>\n",
       "    <tr>\n",
       "      <th>4</th>\n",
       "      <td>80</td>\n",
       "      <td>32.391473</td>\n",
       "      <td>35.833333</td>\n",
       "      <td>24</td>\n",
       "      <td>102.269483</td>\n",
       "    </tr>\n",
       "    <tr>\n",
       "      <th>5</th>\n",
       "      <td>80</td>\n",
       "      <td>32.114397</td>\n",
       "      <td>37.291667</td>\n",
       "      <td>24</td>\n",
       "      <td>94.157972</td>\n",
       "    </tr>\n",
       "    <tr>\n",
       "      <th>6</th>\n",
       "      <td>80</td>\n",
       "      <td>31.837320</td>\n",
       "      <td>38.750000</td>\n",
       "      <td>24</td>\n",
       "      <td>86.933735</td>\n",
       "    </tr>\n",
       "    <tr>\n",
       "      <th>7</th>\n",
       "      <td>80</td>\n",
       "      <td>31.560243</td>\n",
       "      <td>40.208333</td>\n",
       "      <td>24</td>\n",
       "      <td>80.428738</td>\n",
       "    </tr>\n",
       "    <tr>\n",
       "      <th>8</th>\n",
       "      <td>80</td>\n",
       "      <td>31.283166</td>\n",
       "      <td>41.666667</td>\n",
       "      <td>24</td>\n",
       "      <td>74.518481</td>\n",
       "    </tr>\n",
       "    <tr>\n",
       "      <th>9</th>\n",
       "      <td>80</td>\n",
       "      <td>31.006089</td>\n",
       "      <td>43.125000</td>\n",
       "      <td>24</td>\n",
       "      <td>69.108151</td>\n",
       "    </tr>\n",
       "    <tr>\n",
       "      <th>10</th>\n",
       "      <td>80</td>\n",
       "      <td>30.729012</td>\n",
       "      <td>44.583333</td>\n",
       "      <td>24</td>\n",
       "      <td>64.123877</td>\n",
       "    </tr>\n",
       "    <tr>\n",
       "      <th>11</th>\n",
       "      <td>80</td>\n",
       "      <td>30.451935</td>\n",
       "      <td>46.041667</td>\n",
       "      <td>24</td>\n",
       "      <td>59.506982</td>\n",
       "    </tr>\n",
       "    <tr>\n",
       "      <th>12</th>\n",
       "      <td>80</td>\n",
       "      <td>30.174858</td>\n",
       "      <td>47.500000</td>\n",
       "      <td>24</td>\n",
       "      <td>55.210086</td>\n",
       "    </tr>\n",
       "    <tr>\n",
       "      <th>13</th>\n",
       "      <td>80</td>\n",
       "      <td>29.897781</td>\n",
       "      <td>48.958333</td>\n",
       "      <td>24</td>\n",
       "      <td>51.194380</td>\n",
       "    </tr>\n",
       "    <tr>\n",
       "      <th>14</th>\n",
       "      <td>80</td>\n",
       "      <td>29.620704</td>\n",
       "      <td>50.416667</td>\n",
       "      <td>24</td>\n",
       "      <td>47.427675</td>\n",
       "    </tr>\n",
       "    <tr>\n",
       "      <th>15</th>\n",
       "      <td>80</td>\n",
       "      <td>29.343627</td>\n",
       "      <td>51.875000</td>\n",
       "      <td>24</td>\n",
       "      <td>43.882981</td>\n",
       "    </tr>\n",
       "    <tr>\n",
       "      <th>16</th>\n",
       "      <td>80</td>\n",
       "      <td>29.066550</td>\n",
       "      <td>53.333333</td>\n",
       "      <td>24</td>\n",
       "      <td>40.537441</td>\n",
       "    </tr>\n",
       "    <tr>\n",
       "      <th>17</th>\n",
       "      <td>80</td>\n",
       "      <td>28.789473</td>\n",
       "      <td>54.791667</td>\n",
       "      <td>24</td>\n",
       "      <td>37.371532</td>\n",
       "    </tr>\n",
       "    <tr>\n",
       "      <th>18</th>\n",
       "      <td>80</td>\n",
       "      <td>28.512396</td>\n",
       "      <td>56.250000</td>\n",
       "      <td>24</td>\n",
       "      <td>34.368446</td>\n",
       "    </tr>\n",
       "    <tr>\n",
       "      <th>19</th>\n",
       "      <td>80</td>\n",
       "      <td>28.235319</td>\n",
       "      <td>57.708333</td>\n",
       "      <td>24</td>\n",
       "      <td>31.513607</td>\n",
       "    </tr>\n",
       "    <tr>\n",
       "      <th>20</th>\n",
       "      <td>80</td>\n",
       "      <td>27.958242</td>\n",
       "      <td>59.166667</td>\n",
       "      <td>24</td>\n",
       "      <td>28.794297</td>\n",
       "    </tr>\n",
       "    <tr>\n",
       "      <th>21</th>\n",
       "      <td>80</td>\n",
       "      <td>27.681165</td>\n",
       "      <td>60.625000</td>\n",
       "      <td>24</td>\n",
       "      <td>26.199350</td>\n",
       "    </tr>\n",
       "    <tr>\n",
       "      <th>22</th>\n",
       "      <td>80</td>\n",
       "      <td>27.404088</td>\n",
       "      <td>62.083333</td>\n",
       "      <td>24</td>\n",
       "      <td>23.718911</td>\n",
       "    </tr>\n",
       "    <tr>\n",
       "      <th>23</th>\n",
       "      <td>80</td>\n",
       "      <td>27.127011</td>\n",
       "      <td>63.541667</td>\n",
       "      <td>24</td>\n",
       "      <td>21.344239</td>\n",
       "    </tr>\n",
       "    <tr>\n",
       "      <th>24</th>\n",
       "      <td>80</td>\n",
       "      <td>26.849934</td>\n",
       "      <td>65.000000</td>\n",
       "      <td>24</td>\n",
       "      <td>19.067544</td>\n",
       "    </tr>\n",
       "  </tbody>\n",
       "</table>\n",
       "</div>"
      ],
      "text/plain": [
       "    Tl1 ºC     Tw2 ºC     Tl2 ºC  Tw1 ºC   Area ft^2\n",
       "0       80  33.499781  30.000000      24  150.433341\n",
       "1       80  33.222704  31.458333      24  134.885906\n",
       "2       80  32.945627  32.916667      24  122.199713\n",
       "3       80  32.668550  34.375000      24  111.502844\n",
       "4       80  32.391473  35.833333      24  102.269483\n",
       "5       80  32.114397  37.291667      24   94.157972\n",
       "6       80  31.837320  38.750000      24   86.933735\n",
       "7       80  31.560243  40.208333      24   80.428738\n",
       "8       80  31.283166  41.666667      24   74.518481\n",
       "9       80  31.006089  43.125000      24   69.108151\n",
       "10      80  30.729012  44.583333      24   64.123877\n",
       "11      80  30.451935  46.041667      24   59.506982\n",
       "12      80  30.174858  47.500000      24   55.210086\n",
       "13      80  29.897781  48.958333      24   51.194380\n",
       "14      80  29.620704  50.416667      24   47.427675\n",
       "15      80  29.343627  51.875000      24   43.882981\n",
       "16      80  29.066550  53.333333      24   40.537441\n",
       "17      80  28.789473  54.791667      24   37.371532\n",
       "18      80  28.512396  56.250000      24   34.368446\n",
       "19      80  28.235319  57.708333      24   31.513607\n",
       "20      80  27.958242  59.166667      24   28.794297\n",
       "21      80  27.681165  60.625000      24   26.199350\n",
       "22      80  27.404088  62.083333      24   23.718911\n",
       "23      80  27.127011  63.541667      24   21.344239\n",
       "24      80  26.849934  65.000000      24   19.067544"
      ]
     },
     "execution_count": 214,
     "metadata": {},
     "output_type": "execute_result"
    }
   ],
   "source": [
    "tabla_costos = pd.DataFrame(\n",
    "    {\n",
    "        \"Tl1 ºC\": temperatura_entrada_leche,\n",
    "        \"Tw2 ºC\": temperaturas_salida_agua,\n",
    "        \"Tl2 ºC\": temperaturas_leche_estimada_salidas,\n",
    "        \"Tw1 ºC\": temperatura_entrada_agua,\n",
    "        \"Area ft^2\": areas_ft,\n",
    "    }\n",
    ")\n",
    "tabla_costos"
   ]
  },
  {
   "cell_type": "code",
   "execution_count": 215,
   "metadata": {},
   "outputs": [
    {
     "data": {
      "text/html": [
       "<div>\n",
       "<style scoped>\n",
       "    .dataframe tbody tr th:only-of-type {\n",
       "        vertical-align: middle;\n",
       "    }\n",
       "\n",
       "    .dataframe tbody tr th {\n",
       "        vertical-align: top;\n",
       "    }\n",
       "\n",
       "    .dataframe thead th {\n",
       "        text-align: right;\n",
       "    }\n",
       "</style>\n",
       "<table border=\"1\" class=\"dataframe\">\n",
       "  <thead>\n",
       "    <tr style=\"text-align: right;\">\n",
       "      <th></th>\n",
       "      <th>Tl1 ºC</th>\n",
       "      <th>Tw2 ºC</th>\n",
       "      <th>Tl2 ºC</th>\n",
       "      <th>Tw1 ºC</th>\n",
       "      <th>Area ft^2</th>\n",
       "      <th>costo_intercambiador matches</th>\n",
       "    </tr>\n",
       "  </thead>\n",
       "  <tbody>\n",
       "    <tr>\n",
       "      <th>0</th>\n",
       "      <td>80</td>\n",
       "      <td>33.499781</td>\n",
       "      <td>30.000000</td>\n",
       "      <td>24</td>\n",
       "      <td>150.433341</td>\n",
       "      <td>46600</td>\n",
       "    </tr>\n",
       "    <tr>\n",
       "      <th>1</th>\n",
       "      <td>80</td>\n",
       "      <td>33.222704</td>\n",
       "      <td>31.458333</td>\n",
       "      <td>24</td>\n",
       "      <td>134.885906</td>\n",
       "      <td>43200</td>\n",
       "    </tr>\n",
       "    <tr>\n",
       "      <th>2</th>\n",
       "      <td>80</td>\n",
       "      <td>32.945627</td>\n",
       "      <td>32.916667</td>\n",
       "      <td>24</td>\n",
       "      <td>122.199713</td>\n",
       "      <td>40400</td>\n",
       "    </tr>\n",
       "    <tr>\n",
       "      <th>3</th>\n",
       "      <td>80</td>\n",
       "      <td>32.668550</td>\n",
       "      <td>34.375000</td>\n",
       "      <td>24</td>\n",
       "      <td>111.502844</td>\n",
       "      <td>38000</td>\n",
       "    </tr>\n",
       "    <tr>\n",
       "      <th>4</th>\n",
       "      <td>80</td>\n",
       "      <td>32.391473</td>\n",
       "      <td>35.833333</td>\n",
       "      <td>24</td>\n",
       "      <td>102.269483</td>\n",
       "      <td>35800</td>\n",
       "    </tr>\n",
       "    <tr>\n",
       "      <th>5</th>\n",
       "      <td>80</td>\n",
       "      <td>32.114397</td>\n",
       "      <td>37.291667</td>\n",
       "      <td>24</td>\n",
       "      <td>94.157972</td>\n",
       "      <td>34100</td>\n",
       "    </tr>\n",
       "    <tr>\n",
       "      <th>6</th>\n",
       "      <td>80</td>\n",
       "      <td>31.837320</td>\n",
       "      <td>38.750000</td>\n",
       "      <td>24</td>\n",
       "      <td>86.933735</td>\n",
       "      <td>32900</td>\n",
       "    </tr>\n",
       "    <tr>\n",
       "      <th>7</th>\n",
       "      <td>80</td>\n",
       "      <td>31.560243</td>\n",
       "      <td>40.208333</td>\n",
       "      <td>24</td>\n",
       "      <td>80.428738</td>\n",
       "      <td>31700</td>\n",
       "    </tr>\n",
       "    <tr>\n",
       "      <th>8</th>\n",
       "      <td>80</td>\n",
       "      <td>31.283166</td>\n",
       "      <td>41.666667</td>\n",
       "      <td>24</td>\n",
       "      <td>74.518481</td>\n",
       "      <td>30600</td>\n",
       "    </tr>\n",
       "    <tr>\n",
       "      <th>9</th>\n",
       "      <td>80</td>\n",
       "      <td>31.006089</td>\n",
       "      <td>43.125000</td>\n",
       "      <td>24</td>\n",
       "      <td>69.108151</td>\n",
       "      <td>29500</td>\n",
       "    </tr>\n",
       "    <tr>\n",
       "      <th>10</th>\n",
       "      <td>80</td>\n",
       "      <td>30.729012</td>\n",
       "      <td>44.583333</td>\n",
       "      <td>24</td>\n",
       "      <td>64.123877</td>\n",
       "      <td>28500</td>\n",
       "    </tr>\n",
       "    <tr>\n",
       "      <th>11</th>\n",
       "      <td>80</td>\n",
       "      <td>30.451935</td>\n",
       "      <td>46.041667</td>\n",
       "      <td>24</td>\n",
       "      <td>59.506982</td>\n",
       "      <td>27500</td>\n",
       "    </tr>\n",
       "    <tr>\n",
       "      <th>12</th>\n",
       "      <td>80</td>\n",
       "      <td>30.174858</td>\n",
       "      <td>47.500000</td>\n",
       "      <td>24</td>\n",
       "      <td>55.210086</td>\n",
       "      <td>26500</td>\n",
       "    </tr>\n",
       "    <tr>\n",
       "      <th>13</th>\n",
       "      <td>80</td>\n",
       "      <td>29.897781</td>\n",
       "      <td>48.958333</td>\n",
       "      <td>24</td>\n",
       "      <td>51.194380</td>\n",
       "      <td>25600</td>\n",
       "    </tr>\n",
       "    <tr>\n",
       "      <th>14</th>\n",
       "      <td>80</td>\n",
       "      <td>29.620704</td>\n",
       "      <td>50.416667</td>\n",
       "      <td>24</td>\n",
       "      <td>47.427675</td>\n",
       "      <td>24700</td>\n",
       "    </tr>\n",
       "    <tr>\n",
       "      <th>15</th>\n",
       "      <td>80</td>\n",
       "      <td>29.343627</td>\n",
       "      <td>51.875000</td>\n",
       "      <td>24</td>\n",
       "      <td>43.882981</td>\n",
       "      <td>23800</td>\n",
       "    </tr>\n",
       "    <tr>\n",
       "      <th>16</th>\n",
       "      <td>80</td>\n",
       "      <td>29.066550</td>\n",
       "      <td>53.333333</td>\n",
       "      <td>24</td>\n",
       "      <td>40.537441</td>\n",
       "      <td>23000</td>\n",
       "    </tr>\n",
       "    <tr>\n",
       "      <th>17</th>\n",
       "      <td>80</td>\n",
       "      <td>28.789473</td>\n",
       "      <td>54.791667</td>\n",
       "      <td>24</td>\n",
       "      <td>37.371532</td>\n",
       "      <td>22100</td>\n",
       "    </tr>\n",
       "    <tr>\n",
       "      <th>18</th>\n",
       "      <td>80</td>\n",
       "      <td>28.512396</td>\n",
       "      <td>56.250000</td>\n",
       "      <td>24</td>\n",
       "      <td>34.368446</td>\n",
       "      <td>21200</td>\n",
       "    </tr>\n",
       "    <tr>\n",
       "      <th>19</th>\n",
       "      <td>80</td>\n",
       "      <td>28.235319</td>\n",
       "      <td>57.708333</td>\n",
       "      <td>24</td>\n",
       "      <td>31.513607</td>\n",
       "      <td>20400</td>\n",
       "    </tr>\n",
       "    <tr>\n",
       "      <th>20</th>\n",
       "      <td>80</td>\n",
       "      <td>27.958242</td>\n",
       "      <td>59.166667</td>\n",
       "      <td>24</td>\n",
       "      <td>28.794297</td>\n",
       "      <td>19600</td>\n",
       "    </tr>\n",
       "    <tr>\n",
       "      <th>21</th>\n",
       "      <td>80</td>\n",
       "      <td>27.681165</td>\n",
       "      <td>60.625000</td>\n",
       "      <td>24</td>\n",
       "      <td>26.199350</td>\n",
       "      <td>18700</td>\n",
       "    </tr>\n",
       "    <tr>\n",
       "      <th>22</th>\n",
       "      <td>80</td>\n",
       "      <td>27.404088</td>\n",
       "      <td>62.083333</td>\n",
       "      <td>24</td>\n",
       "      <td>23.718911</td>\n",
       "      <td>17800</td>\n",
       "    </tr>\n",
       "    <tr>\n",
       "      <th>23</th>\n",
       "      <td>80</td>\n",
       "      <td>27.127011</td>\n",
       "      <td>63.541667</td>\n",
       "      <td>24</td>\n",
       "      <td>21.344239</td>\n",
       "      <td>17000</td>\n",
       "    </tr>\n",
       "    <tr>\n",
       "      <th>24</th>\n",
       "      <td>80</td>\n",
       "      <td>26.849934</td>\n",
       "      <td>65.000000</td>\n",
       "      <td>24</td>\n",
       "      <td>19.067544</td>\n",
       "      <td>16100</td>\n",
       "    </tr>\n",
       "  </tbody>\n",
       "</table>\n",
       "</div>"
      ],
      "text/plain": [
       "    Tl1 ºC     Tw2 ºC     Tl2 ºC  Tw1 ºC   Area ft^2  \\\n",
       "0       80  33.499781  30.000000      24  150.433341   \n",
       "1       80  33.222704  31.458333      24  134.885906   \n",
       "2       80  32.945627  32.916667      24  122.199713   \n",
       "3       80  32.668550  34.375000      24  111.502844   \n",
       "4       80  32.391473  35.833333      24  102.269483   \n",
       "5       80  32.114397  37.291667      24   94.157972   \n",
       "6       80  31.837320  38.750000      24   86.933735   \n",
       "7       80  31.560243  40.208333      24   80.428738   \n",
       "8       80  31.283166  41.666667      24   74.518481   \n",
       "9       80  31.006089  43.125000      24   69.108151   \n",
       "10      80  30.729012  44.583333      24   64.123877   \n",
       "11      80  30.451935  46.041667      24   59.506982   \n",
       "12      80  30.174858  47.500000      24   55.210086   \n",
       "13      80  29.897781  48.958333      24   51.194380   \n",
       "14      80  29.620704  50.416667      24   47.427675   \n",
       "15      80  29.343627  51.875000      24   43.882981   \n",
       "16      80  29.066550  53.333333      24   40.537441   \n",
       "17      80  28.789473  54.791667      24   37.371532   \n",
       "18      80  28.512396  56.250000      24   34.368446   \n",
       "19      80  28.235319  57.708333      24   31.513607   \n",
       "20      80  27.958242  59.166667      24   28.794297   \n",
       "21      80  27.681165  60.625000      24   26.199350   \n",
       "22      80  27.404088  62.083333      24   23.718911   \n",
       "23      80  27.127011  63.541667      24   21.344239   \n",
       "24      80  26.849934  65.000000      24   19.067544   \n",
       "\n",
       "    costo_intercambiador matches  \n",
       "0                          46600  \n",
       "1                          43200  \n",
       "2                          40400  \n",
       "3                          38000  \n",
       "4                          35800  \n",
       "5                          34100  \n",
       "6                          32900  \n",
       "7                          31700  \n",
       "8                          30600  \n",
       "9                          29500  \n",
       "10                         28500  \n",
       "11                         27500  \n",
       "12                         26500  \n",
       "13                         25600  \n",
       "14                         24700  \n",
       "15                         23800  \n",
       "16                         23000  \n",
       "17                         22100  \n",
       "18                         21200  \n",
       "19                         20400  \n",
       "20                         19600  \n",
       "21                         18700  \n",
       "22                         17800  \n",
       "23                         17000  \n",
       "24                         16100  "
      ]
     },
     "execution_count": 215,
     "metadata": {},
     "output_type": "execute_result"
    }
   ],
   "source": [
    "precios_matches = [\n",
    "    16100,\n",
    "    17000,\n",
    "    17800,\n",
    "    18700,\n",
    "    19600,\n",
    "    20400,\n",
    "    21200,\n",
    "    22100,\n",
    "    23000,\n",
    "    23800,\n",
    "    24700,\n",
    "    25600,\n",
    "    26500,\n",
    "    27500,\n",
    "    28500,\n",
    "    29500,\n",
    "    30600,\n",
    "    31700,\n",
    "    32900,\n",
    "    34100,\n",
    "    35800,\n",
    "    38000,\n",
    "    40400,\n",
    "    43200,\n",
    "    46600\n",
    "]\n",
    "tabla_costos['costo_intercambiador matches'] = precios_matches[::-1]\n",
    "tabla_costos"
   ]
  },
  {
   "cell_type": "code",
   "execution_count": 216,
   "metadata": {},
   "outputs": [
    {
     "data": {
      "text/html": [
       "<div>\n",
       "<style scoped>\n",
       "    .dataframe tbody tr th:only-of-type {\n",
       "        vertical-align: middle;\n",
       "    }\n",
       "\n",
       "    .dataframe tbody tr th {\n",
       "        vertical-align: top;\n",
       "    }\n",
       "\n",
       "    .dataframe thead th {\n",
       "        text-align: right;\n",
       "    }\n",
       "</style>\n",
       "<table border=\"1\" class=\"dataframe\">\n",
       "  <thead>\n",
       "    <tr style=\"text-align: right;\">\n",
       "      <th></th>\n",
       "      <th>Tl1 ºC</th>\n",
       "      <th>Tw2 ºC</th>\n",
       "      <th>Tl2 ºC</th>\n",
       "      <th>Tw1 ºC</th>\n",
       "      <th>Area ft^2</th>\n",
       "      <th>costo_intercambiador matches</th>\n",
       "      <th>costo_intercambiador_especifico</th>\n",
       "    </tr>\n",
       "  </thead>\n",
       "  <tbody>\n",
       "    <tr>\n",
       "      <th>0</th>\n",
       "      <td>80</td>\n",
       "      <td>33.499781</td>\n",
       "      <td>30.000000</td>\n",
       "      <td>24</td>\n",
       "      <td>150.433341</td>\n",
       "      <td>46600</td>\n",
       "      <td>309.771756</td>\n",
       "    </tr>\n",
       "    <tr>\n",
       "      <th>1</th>\n",
       "      <td>80</td>\n",
       "      <td>33.222704</td>\n",
       "      <td>31.458333</td>\n",
       "      <td>24</td>\n",
       "      <td>134.885906</td>\n",
       "      <td>43200</td>\n",
       "      <td>320.270675</td>\n",
       "    </tr>\n",
       "    <tr>\n",
       "      <th>2</th>\n",
       "      <td>80</td>\n",
       "      <td>32.945627</td>\n",
       "      <td>32.916667</td>\n",
       "      <td>24</td>\n",
       "      <td>122.199713</td>\n",
       "      <td>40400</td>\n",
       "      <td>330.606341</td>\n",
       "    </tr>\n",
       "    <tr>\n",
       "      <th>3</th>\n",
       "      <td>80</td>\n",
       "      <td>32.668550</td>\n",
       "      <td>34.375000</td>\n",
       "      <td>24</td>\n",
       "      <td>111.502844</td>\n",
       "      <td>38000</td>\n",
       "      <td>340.798483</td>\n",
       "    </tr>\n",
       "    <tr>\n",
       "      <th>4</th>\n",
       "      <td>80</td>\n",
       "      <td>32.391473</td>\n",
       "      <td>35.833333</td>\n",
       "      <td>24</td>\n",
       "      <td>102.269483</td>\n",
       "      <td>35800</td>\n",
       "      <td>350.055549</td>\n",
       "    </tr>\n",
       "  </tbody>\n",
       "</table>\n",
       "</div>"
      ],
      "text/plain": [
       "   Tl1 ºC     Tw2 ºC     Tl2 ºC  Tw1 ºC   Area ft^2  \\\n",
       "0      80  33.499781  30.000000      24  150.433341   \n",
       "1      80  33.222704  31.458333      24  134.885906   \n",
       "2      80  32.945627  32.916667      24  122.199713   \n",
       "3      80  32.668550  34.375000      24  111.502844   \n",
       "4      80  32.391473  35.833333      24  102.269483   \n",
       "\n",
       "   costo_intercambiador matches  costo_intercambiador_especifico  \n",
       "0                         46600                       309.771756  \n",
       "1                         43200                       320.270675  \n",
       "2                         40400                       330.606341  \n",
       "3                         38000                       340.798483  \n",
       "4                         35800                       350.055549  "
      ]
     },
     "execution_count": 216,
     "metadata": {},
     "output_type": "execute_result"
    }
   ],
   "source": [
    "tabla_costos['costo_intercambiador_especifico'] = tabla_costos['costo_intercambiador matches'] / tabla_costos['Area ft^2']\n",
    "tabla_costos.head()"
   ]
  },
  {
   "cell_type": "code",
   "execution_count": 217,
   "metadata": {},
   "outputs": [
    {
     "data": {
      "image/png": "[encoded data removed]",
      "text/plain": [
       "<Figure size 640x480 with 1 Axes>"
      ]
     },
     "metadata": {},
     "output_type": "display_data"
    }
   ],
   "source": [
    "plt.plot(\n",
    "    tabla_costos['Tl2 ºC'],\n",
    "    tabla_costos['costo_intercambiador_especifico'],\n",
    "    marker='o'\n",
    ")\n",
    "plt.xlabel('Tl2 ºC')\n",
    "plt.ylabel('Costo especifico [USD/ft2]')\n",
    "plt.title(\"Diagrama Costo Especifico Vs Area\")\n",
    "plt.grid(True)\n",
    "plt.show()"
   ]
  },
  {
   "cell_type": "code",
   "execution_count": 218,
   "metadata": {},
   "outputs": [],
   "source": [
    "# Define the power law function\n",
    "def power_law(x, A, B):\n",
    "    return A * (x ** B)"
   ]
  },
  {
   "cell_type": "code",
   "execution_count": 219,
   "metadata": {},
   "outputs": [],
   "source": [
    "# Perform curve fitting to find A and B\n",
    "params, covariance = curve_fit(\n",
    "    power_law, \n",
    "    tabla_costos['Area ft^2'].to_numpy(),\n",
    "    tabla_costos[\"costo_intercambiador_especifico\"].to_numpy()\n",
    ")"
   ]
  },
  {
   "cell_type": "code",
   "execution_count": 220,
   "metadata": {},
   "outputs": [
    {
     "name": "stdout",
     "output_type": "stream",
     "text": [
      "k = 3843.829414371575\n",
      "m = 0.48378487872182585\n",
      "n = -0.5162151212781741\n"
     ]
    }
   ],
   "source": [
    "# Extract the values of A and B\n",
    "K, n = params\n",
    "\n",
    "m = 1 + n\n",
    "print(\"k =\", K)\n",
    "print(\"m =\", m)\n",
    "print(\"n =\", n)"
   ]
  },
  {
   "cell_type": "code",
   "execution_count": 278,
   "metadata": {},
   "outputs": [],
   "source": [
    "tabla_costos['costo_prediccion_intercambiador'] =  K * (tabla_costos['Area ft^2'] ** (m))"
   ]
  },
  {
   "cell_type": "code",
   "execution_count": 222,
   "metadata": {},
   "outputs": [
    {
     "data": {
      "image/png": "[encoded data removed]",
      "text/plain": [
       "<Figure size 640x480 with 1 Axes>"
      ]
     },
     "metadata": {},
     "output_type": "display_data"
    }
   ],
   "source": [
    "plt.plot(\n",
    "    tabla_costos['Tl2 ºC'],\n",
    "    tabla_costos['costo_intercambiador matches'],\n",
    "    marker='o',\n",
    "    label='Costo Intercambiador'\n",
    ")\n",
    "\n",
    "plt.plot(\n",
    "    tabla_costos['Tl2 ºC'],\n",
    "    tabla_costos['costo_prediccion_intercambiador'],\n",
    "    marker='o',\n",
    "    label='Costo Intercambiador predicción'\n",
    ")\n",
    "\n",
    "plt.xlabel('Temperatura de salida de leche [ºC]')\n",
    "plt.ylabel('Costo especifico [USD/ft2]')\n",
    "plt.title(\"Comparación modelo matemático vs experimental\")\n",
    "plt.legend()\n",
    "plt.grid()\n",
    "plt.show()"
   ]
  },
  {
   "cell_type": "markdown",
   "metadata": {},
   "source": [
    "### Cálculo  Ciclo refrigerador"
   ]
  },
  {
   "cell_type": "markdown",
   "metadata": {},
   "source": [
    "<!-- <p align=\"center\">\n",
    "  <img src=\"ciclo_refrigerador.jpg\" height =\"300px\">\n",
    "</p> -->\n",
    "\n",
    "![](ciclo_refrigerador.jpg)"
   ]
  },
  {
   "cell_type": "markdown",
   "metadata": {},
   "source": [
    "#### Costo del refrigerador"
   ]
  },
  {
   "cell_type": "markdown",
   "metadata": {},
   "source": [
    "$$ \\dot{Q} = (\\dot{m} *C_{p})_{leche} * (T_{entrada} -T_{salida})$$\n",
    "\n",
    "$$ (n  Watts )\\frac{3.41 Btu/h}{1 Watts} *\\frac{1 MBtu/h}{1*10^{6}Btu/h}$$"
   ]
  },
  {
   "cell_type": "code",
   "execution_count": 223,
   "metadata": {},
   "outputs": [
    {
     "name": "stdout",
     "output_type": "stream",
     "text": [
      "Calor transmitido al refrigerador [ 39000.    41843.75  44687.5   47531.25  50375.    53218.75  56062.5\n",
      "  58906.25  61750.    64593.75  67437.5   70281.25  73125.    75968.75\n",
      "  78812.5   81656.25  84500.    87343.75  90187.5   93031.25  95875.\n",
      "  98718.75 101562.5  104406.25 107250.  ] W\n",
      "Calor transmitido al refrigerador [0.13307346 0.14277673 0.15248001 0.16218328 0.17188655 0.18158983\n",
      " 0.1912931  0.20099637 0.21069964 0.22040292 0.23010619 0.23980946\n",
      " 0.24951274 0.25921601 0.26891928 0.27862256 0.28832583 0.2980291\n",
      " 0.30773238 0.31743565 0.32713892 0.3368422  0.34654547 0.35624874\n",
      " 0.36595202] M Btu/h\n"
     ]
    }
   ],
   "source": [
    "calores_refrigerador = caudal_leche * cp_leche_kern * (temperaturas_leche_estimada_salidas - temperatura_salida_leche)\n",
    "print(f\"Calor transmitido al refrigerador {calores_refrigerador} W\")\n",
    "\n",
    "calores_refrigerador_ingles = calores_refrigerador * 3.41214 / 1e6\n",
    "print(f\"Calor transmitido al refrigerador {calores_refrigerador_ingles} M Btu/h\")"
   ]
  },
  {
   "cell_type": "code",
   "execution_count": 224,
   "metadata": {},
   "outputs": [],
   "source": [
    "tabla_costos['costo_refrigeradores'] = [\n",
    "    41100,\n",
    "    43200,\n",
    "    45200,\n",
    "    47200,\n",
    "    49100,\n",
    "    51000,\n",
    "    52900,\n",
    "    54800,\n",
    "    56600,\n",
    "    58400,\n",
    "    60100,\n",
    "    61900,\n",
    "    63600,\n",
    "    65300,\n",
    "    67000,\n",
    "    68700,\n",
    "    70400,\n",
    "    72000,\n",
    "    73600,\n",
    "    75200,\n",
    "    76800,\n",
    "    78400,\n",
    "    80000,\n",
    "    81500,\n",
    "    83000\n",
    "][::1]"
   ]
  },
  {
   "cell_type": "markdown",
   "metadata": {},
   "source": [
    "#### Costo energético del compresor"
   ]
  },
  {
   "cell_type": "code",
   "execution_count": 225,
   "metadata": {},
   "outputs": [
    {
     "data": {
      "text/plain": [
       "3.4125833333333295"
      ]
     },
     "execution_count": 225,
     "metadata": {},
     "output_type": "execute_result"
    }
   ],
   "source": [
    "n = 5 # 5 añoS\n",
    "g = 0.08\n",
    "i = 0.2 \n",
    "\n",
    "PSA = (\n",
    "    1 - ((1 + g) / (1 + i)) ** n\n",
    ") / (i - g)\n",
    "PSA"
   ]
  },
  {
   "cell_type": "code",
   "execution_count": 227,
   "metadata": {},
   "outputs": [
    {
     "name": "stdout",
     "output_type": "stream",
     "text": [
      "Trabajo compresor [ 52.29985249  56.1133834   59.92691431  63.74044522  67.55397613\n",
      "  71.36750704  75.18103795  78.99456886  82.80809977  86.62163068\n",
      "  90.43516159  94.2486925   98.06222341 101.87575432 105.68928524\n",
      " 109.50281615 113.31634706 117.12987797 120.94340888 124.75693979\n",
      " 128.5704707  132.38400161 136.19753252 140.01106343 143.82459434] hp\n"
     ]
    }
   ],
   "source": [
    "COP = 1\n",
    "\n",
    "trabajo_compresor = calores_refrigerador * COP\n",
    "# print(f\"Trabajo compresor {trabajo_compresor} W\")\n",
    "\n",
    "trabajo_compresor_hp = trabajo_compresor  / 745.7\n",
    "print(f\"Trabajo compresor {trabajo_compresor_hp} hp\")\n",
    "\n",
    "horas = 300 * 24\n",
    "CEE = 0.25\n",
    "\n",
    "C_q = trabajo_compresor_hp * horas * CEE * PSA / 1000\n"
   ]
  },
  {
   "cell_type": "code",
   "execution_count": 281,
   "metadata": {},
   "outputs": [],
   "source": [
    "tabla_costos['Costo Total'] = tabla_costos['costo_prediccion_intercambiador'] \\\n",
    "                            + tabla_costos['costo_refrigeradores'] \\\n",
    "                            + C_q"
   ]
  },
  {
   "cell_type": "code",
   "execution_count": 229,
   "metadata": {},
   "outputs": [
    {
     "data": {
      "image/png": "[encoded data removed]",
      "text/plain": [
       "<Figure size 1000x1600 with 1 Axes>"
      ]
     },
     "metadata": {},
     "output_type": "display_data"
    }
   ],
   "source": [
    "plt.figure(figsize=(10,16))\n",
    "\n",
    "plt.plot(\n",
    "    tabla_costos['Tl2 ºC'],\n",
    "    tabla_costos['costo_prediccion_intercambiador'],\n",
    "    marker='o',\n",
    "    label='Intercambiador'\n",
    ")\n",
    "\n",
    "plt.plot(\n",
    "    tabla_costos['Tl2 ºC'],\n",
    "    tabla_costos['costo_refrigeradores'],\n",
    "    marker='o',\n",
    "    label='Refrigerador'\n",
    ")\n",
    "\n",
    "plt.plot(\n",
    "    tabla_costos['Tl2 ºC'],\n",
    "    tabla_costos['Costo Total'],\n",
    "    marker='o',\n",
    "    label='total'\n",
    ")\n",
    "\n",
    "\n",
    "\n",
    "plt.xlabel('Temperatura de salida de leche [ºC]')\n",
    "plt.ylabel('Costo especifico [USD/ft2]')\n",
    "\n",
    "plt.title('Iteración del costo en funcion de la temperatura de salida de leche (IC Y SR)')\n",
    "plt.legend()\n",
    "plt.grid()\n",
    "plt.show()"
   ]
  },
  {
   "cell_type": "markdown",
   "metadata": {},
   "source": [
    "### **Doble tubo**"
   ]
  },
  {
   "cell_type": "markdown",
   "metadata": {},
   "source": [
    "### Importar librerías necesarias\n",
    "\n",
    "Para el desarrollo del diseño y la optimización los costos del intercambiador de calor como del sistema de refrigerador se utilizo el lenguaje de programación Python en su version 3.10.13 y las siguientes librerías.\n",
    "\n",
    "1. PyFluids: Obtener las propiedades del agua a las condiciones termo-físicas necesarias.\n",
    "2. Numpy: Manipular el vector de temperaturas, asi como de la optimización de las operaciones y cálculos necesarios.\n",
    "3. Scipy: Encontrar la función que mejor estime los datos de costos.\n",
    "4. Matplotlib: Modelar los resultados obtenidos. "
   ]
  },
  {
   "cell_type": "code",
   "execution_count": 230,
   "metadata": {},
   "outputs": [],
   "source": [
    "from pyfluids import Fluid, FluidsList, Input\n",
    "import numpy as np\n",
    "from pprint import pprint\n",
    "import pandas as pd\n",
    "from matplotlib import pyplot as plt\n",
    "from scipy.optimize import curve_fit"
   ]
  },
  {
   "cell_type": "markdown",
   "metadata": {},
   "source": [
    "### Establecer valores conocidos"
   ]
  },
  {
   "cell_type": "code",
   "execution_count": 231,
   "metadata": {},
   "outputs": [],
   "source": [
    "caudal_leche                              = 0.5 # kg/s\n",
    "temperatura_entrada_leche                 = 80 # ºC\n",
    "temperatura_salida_leche                  = 10 # ºC\n",
    "temperatura_entrada_agua                  = 24 # ºC\n",
    "caudal_agua                               = 2.5 # kg/s"
   ]
  },
  {
   "cell_type": "markdown",
   "metadata": {},
   "source": [
    "### Definición de salida temperatura\n",
    "\n",
    "Se debe parametrizar la velocidad de salida del intercambiador y la entrada del sistema del refrigerador.\n",
    "\n",
    "<!-- ![](./imgs_leche/esquema_flujo.jpeg) -->\n",
    "\n",
    "<p align=\"center\">\n",
    "  <img src=\"./imgs_leche/esquema_flujo.jpeg\" height =\"350px\">\n",
    "</p>\n"
   ]
  },
  {
   "cell_type": "code",
   "execution_count": 232,
   "metadata": {},
   "outputs": [
    {
     "data": {
      "text/plain": [
       "array([30.        , 31.45833333, 32.91666667, 34.375     , 35.83333333,\n",
       "       37.29166667, 38.75      , 40.20833333, 41.66666667, 43.125     ,\n",
       "       44.58333333, 46.04166667, 47.5       , 48.95833333, 50.41666667,\n",
       "       51.875     , 53.33333333, 54.79166667, 56.25      , 57.70833333,\n",
       "       59.16666667, 60.625     , 62.08333333, 63.54166667, 65.        ])"
      ]
     },
     "execution_count": 232,
     "metadata": {},
     "output_type": "execute_result"
    }
   ],
   "source": [
    "temperaturas_leche_estimada_salidas = np.linspace(30, 65, 25)\n",
    "temperaturas_leche_estimada_salidas"
   ]
  },
  {
   "cell_type": "markdown",
   "metadata": {},
   "source": [
    "### Establecer valores pre-diseño"
   ]
  },
  {
   "cell_type": "markdown",
   "metadata": {},
   "source": [
    "#### Consideraciones\n",
    "\n",
    "<!-- [presión agua](https://blog.verti.es/hogar/presion-agua-casa/#:~:text=Lo%20habitual%20es%20que%20la,tengamos%20una%20presión%20u%20otra.) -->\n",
    "\n",
    "\n",
    "- Considere como material el acero inoxidable 304, k = 15 W/m*k.\n",
    "- Diámetro de tubo exterior: \n",
    "    - Exterior : 2in \n"
   ]
  },
  {
   "cell_type": "code",
   "execution_count": 233,
   "metadata": {},
   "outputs": [],
   "source": [
    "k_material                            = 15    # W/ m * k Acero inoxidable\n",
    "\n",
    "diametro_interior_od                  = 60.3e-3 # m\n",
    "diametro_interior_id                  = 52.5e-3 # m\n",
    "\n",
    "diametro_exterior_id                  = 77.9e-3 # m  \n",
    "\n",
    "fin_height                            = 0.9e-3 # m\n",
    "aletas_tubo                           = 30\n",
    "numero_tubos_dentro_anular            = 1\n",
    "L                                     = 4      #  m Longitud"
   ]
  },
  {
   "cell_type": "code",
   "execution_count": 234,
   "metadata": {},
   "outputs": [
    {
     "data": {
      "text/plain": [
       "Water"
      ]
     },
     "execution_count": 234,
     "metadata": {},
     "output_type": "execute_result"
    }
   ],
   "source": [
    "water = Fluid(FluidsList.Water)\n",
    "presion_agua  = (2) * 101_325 # Pa\n",
    "water.name"
   ]
  },
  {
   "cell_type": "markdown",
   "metadata": {},
   "source": [
    "#### Composición de la leche"
   ]
  },
  {
   "cell_type": "code",
   "execution_count": 235,
   "metadata": {},
   "outputs": [
    {
     "name": "stdout",
     "output_type": "stream",
     "text": [
      "Calor especifico leche 3970 J / (kg*k)\n"
     ]
    }
   ],
   "source": [
    "cp_propiedades_leche = 3970  # J/kg k\n",
    "print(f\"Calor especifico leche {cp_propiedades_leche} J / (kg*k)\")"
   ]
  },
  {
   "cell_type": "markdown",
   "metadata": {},
   "source": [
    "### Termodinámica"
   ]
  },
  {
   "cell_type": "markdown",
   "metadata": {},
   "source": [
    "$$ \\dot{Q} = (\\dot{m} *C_{p})_{leche} * (T_{l1} -T_{l2})$$\n",
    "\n",
    "Se calcula los calores disipados de la leche en el intercambiador a partir del vector de temperaturas."
   ]
  },
  {
   "cell_type": "code",
   "execution_count": 236,
   "metadata": {},
   "outputs": [
    {
     "name": "stdout",
     "output_type": "stream",
     "text": [
      " Calores [99250.         96355.20833333 93460.41666667 90565.625\n",
      " 87670.83333333 84776.04166667 81881.25       78986.45833333\n",
      " 76091.66666667 73196.875      70302.08333333 67407.29166667\n",
      " 64512.5        61617.70833333 58722.91666667 55828.125\n",
      " 52933.33333333 50038.54166667 47143.75       44248.95833333\n",
      " 41354.16666667 38459.375      35564.58333333 32669.79166667\n",
      " 29775.        ] W\n"
     ]
    }
   ],
   "source": [
    "calores_transferencia = caudal_leche * cp_propiedades_leche * (temperatura_entrada_leche - temperaturas_leche_estimada_salidas)\n",
    "print(fr\" Calores {calores_transferencia} W\")"
   ]
  },
  {
   "cell_type": "code",
   "execution_count": 237,
   "metadata": {},
   "outputs": [
    {
     "name": "stdout",
     "output_type": "stream",
     "text": [
      "{'compressibility': 0.0014376012709739205, 'conductivity': 0.6203366408703609, 'critical_pressure': 22064000.0, 'critical_temperature': 373.946, 'density': 994.417937160409, 'dynamic_viscosity': 0.0007337301352239351, 'enthalpy': 142631.9153801642, 'entropy': 491.47808690964223, 'fraction': 100, 'freezing_temperature': None, 'internal_energy': 142428.1278251999, 'kinematic_viscosity': 7.378488538924831e-07, 'max_pressure': 1000000000.0, 'max_temperature': 1726.85, 'min_pressure': 611.6548008968684, 'min_temperature': 0.010000000000047748, 'molar_mass': 0.018015268, 'name': Water, 'phase': Liquid, 'prandtl': 4.942945501085879, 'pressure': 202650, 'quality': None, 'sound_speed': 1518.0155752419128, 'specific_heat': 4179.043576032273, 'specific_volume': 0.0010056133971753675, 'surface_tension': None, 'temperature': 34.0, 'triple_pressure': 611.6548008968684, 'triple_temperature': 0.010000000000047748, 'units_system': SIWithCelsiusAndPercents}\n"
     ]
    }
   ],
   "source": [
    "estado_agua_propiedades = water.with_state(\n",
    "    Input.pressure(presion_agua),\n",
    "    Input.temperature(34),\n",
    ")\n",
    "print(estado_agua_propiedades.as_dict())"
   ]
  },
  {
   "cell_type": "code",
   "execution_count": 238,
   "metadata": {},
   "outputs": [],
   "source": [
    "cp_agua                         = estado_agua_propiedades.specific_heat # J /kg k\n",
    "viscosidad_dinamica_agua        = estado_agua_propiedades.dynamic_viscosity # Pa * s\n",
    "densidad_agua                   = estado_agua_propiedades.density # kg / m3\n",
    "k_agua                          = estado_agua_propiedades.conductivity # W / m k\n",
    "prandl_agua                     = estado_agua_propiedades.prandtl"
   ]
  },
  {
   "cell_type": "markdown",
   "metadata": {},
   "source": [
    "$$ \\dot{Q} = (\\dot{m} *C_{p})_{agua} * (T_{w2} - T_{w1})$$\n",
    "\n",
    "\n",
    "$$ T_{w2} = \\frac{\\dot{Q}}{(\\dot{m} * C_{p})_{agua}}  + T_{w1}$$"
   ]
  },
  {
   "cell_type": "code",
   "execution_count": 239,
   "metadata": {},
   "outputs": [
    {
     "name": "stdout",
     "output_type": "stream",
     "text": [
      "Temperatura salida del agua [33.4997813  33.22270434 32.94562739 32.66855043 32.39147348 32.11439652\n",
      " 31.83731957 31.56024261 31.28316566 31.00608871 30.72901175 30.4519348\n",
      " 30.17485784 29.89778089 29.62070393 29.34362698 29.06655002 28.78947307\n",
      " 28.51239612 28.23531916 27.95824221 27.68116525 27.4040883  27.12701134\n",
      " 26.84993439] ºC\n"
     ]
    }
   ],
   "source": [
    "temperaturas_salida_agua = temperatura_entrada_agua + calores_transferencia / (caudal_agua * cp_agua)\n",
    "print(fr\"Temperatura salida del agua {temperaturas_salida_agua} ºC\")"
   ]
  },
  {
   "cell_type": "markdown",
   "metadata": {},
   "source": [
    "### Cálculo coeficiente convectivo leche"
   ]
  },
  {
   "cell_type": "code",
   "execution_count": 240,
   "metadata": {},
   "outputs": [
    {
     "name": "stdout",
     "output_type": "stream",
     "text": [
      "1030 3900 0.0008 0.6 5.1\n"
     ]
    }
   ],
   "source": [
    "densidad_leche            = 1030 # kg / m3\n",
    "cp_leche                  = 3900 # J/kg K\n",
    "viscosidad_dinamica_leche = 0.0008 # Pa * S\n",
    "k_leche                   = 0.6 # W /m k\n",
    "prandtl_leche             = 5.1\n",
    "\n",
    "print(\n",
    "    densidad_leche, cp_leche, viscosidad_dinamica_leche, \n",
    "    k_leche, \n",
    "    prandtl_leche\n",
    ")"
   ]
  },
  {
   "cell_type": "code",
   "execution_count": 241,
   "metadata": {},
   "outputs": [],
   "source": [
    "area = lambda d : np.pi * d**2 / 4"
   ]
  },
  {
   "cell_type": "code",
   "execution_count": 242,
   "metadata": {},
   "outputs": [],
   "source": [
    "def nusselt(f, Re, Pr):\n",
    "    return ((f/2)*Re*Pr)/(1+8.7*(f/2)**(1/2) *(Pr-1))\n",
    "\n",
    "friction_factor = lambda Re : (1.58*np.log(Re)-3.28)**-2"
   ]
  },
  {
   "cell_type": "code",
   "execution_count": 243,
   "metadata": {},
   "outputs": [
    {
     "name": "stdout",
     "output_type": "stream",
     "text": [
      "15157.613627799556\n"
     ]
    }
   ],
   "source": [
    "area_leche_interior = area(diametro_interior_id)\n",
    "u_m_leche = caudal_leche / (area_leche_interior * densidad_leche)\n",
    "\n",
    "Re_leche = (densidad_leche * u_m_leche * diametro_interior_id) / (viscosidad_dinamica_leche)\n",
    "print(Re_leche)"
   ]
  },
  {
   "cell_type": "markdown",
   "metadata": {},
   "source": [
    "$$ Nu_{b} = \\frac{(f/2)*(Re_{b})Pr_{b}}{1+8.7(f/2)^{\\frac{1}{2}} (Pr_{b}-1)}   $$"
   ]
  },
  {
   "cell_type": "code",
   "execution_count": 244,
   "metadata": {},
   "outputs": [
    {
     "name": "stdout",
     "output_type": "stream",
     "text": [
      "996.6877260987835\n"
     ]
    }
   ],
   "source": [
    "f = friction_factor(Re_leche)\n",
    "Nu_leche_b = nusselt(f, Re_leche, prandtl_leche)\n",
    "h_leche = Nu_leche_b * k_leche / diametro_interior_id\n",
    "print(h_leche)"
   ]
  },
  {
   "cell_type": "markdown",
   "metadata": {},
   "source": [
    "### Cálculo coeficiente convectivo agua"
   ]
  },
  {
   "cell_type": "code",
   "execution_count": 245,
   "metadata": {},
   "outputs": [
    {
     "name": "stdout",
     "output_type": "stream",
     "text": [
      "{'compressibility': 0.0014376012709739205, 'conductivity': 0.6203366408703609, 'critical_pressure': 22064000.0, 'critical_temperature': 373.946, 'density': 994.417937160409, 'dynamic_viscosity': 0.0007337301352239351, 'enthalpy': 142631.9153801642, 'entropy': 491.47808690964223, 'fraction': 100, 'freezing_temperature': None, 'internal_energy': 142428.1278251999, 'kinematic_viscosity': 7.378488538924831e-07, 'max_pressure': 1000000000.0, 'max_temperature': 1726.85, 'min_pressure': 611.6548008968684, 'min_temperature': 0.010000000000047748, 'molar_mass': 0.018015268, 'name': Water, 'phase': Liquid, 'prandtl': 4.942945501085879, 'pressure': 202650, 'quality': None, 'sound_speed': 1518.0155752419128, 'specific_heat': 4179.043576032273, 'specific_volume': 0.0010056133971753675, 'surface_tension': None, 'temperature': 34.0, 'triple_pressure': 611.6548008968684, 'triple_temperature': 0.010000000000047748, 'units_system': SIWithCelsiusAndPercents}\n"
     ]
    }
   ],
   "source": [
    "estado_agua_propiedades = water.with_state(\n",
    "    Input.pressure(presion_agua),\n",
    "    Input.temperature(34),\n",
    ")\n",
    "print(estado_agua_propiedades.as_dict())"
   ]
  },
  {
   "cell_type": "code",
   "execution_count": 246,
   "metadata": {},
   "outputs": [],
   "source": [
    "cp_agua                         = estado_agua_propiedades.specific_heat # J /kg k\n",
    "viscosidad_dinamica_agua        = estado_agua_propiedades.dynamic_viscosity # Pa * s\n",
    "densidad_agua                   = estado_agua_propiedades.density # kg / m3\n",
    "k_agua                          = estado_agua_propiedades.conductivity # W / m k\n",
    "prandl_agua                     = estado_agua_propiedades.prandtl"
   ]
  },
  {
   "cell_type": "code",
   "execution_count": 247,
   "metadata": {},
   "outputs": [
    {
     "name": "stdout",
     "output_type": "stream",
     "text": [
      "0.0028557784079478277 0.004766118068742709\n"
     ]
    }
   ],
   "source": [
    "area_agua_interior = area(diametro_interior_od)\n",
    "area_agua_exterior = area(diametro_exterior_id)\n",
    "\n",
    "print(\n",
    "    area_agua_interior,\n",
    "    area_agua_exterior\n",
    ")\n",
    "u_m_agua = caudal_agua / ((area_agua_exterior - area_agua_interior)*densidad_agua)"
   ]
  },
  {
   "cell_type": "code",
   "execution_count": 248,
   "metadata": {},
   "outputs": [
    {
     "name": "stdout",
     "output_type": "stream",
     "text": [
      "Reynolds del agua = 31391.041697394423\n"
     ]
    }
   ],
   "source": [
    "diametro_hidraulico = diametro_exterior_id - diametro_interior_od\n",
    "Re_agua = densidad_agua * u_m_agua * diametro_hidraulico / viscosidad_dinamica_agua\n",
    "\n",
    "print(f'Reynolds del agua = {Re_agua}')"
   ]
  },
  {
   "cell_type": "code",
   "execution_count": 249,
   "metadata": {},
   "outputs": [
    {
     "name": "stdout",
     "output_type": "stream",
     "text": [
      "Nusselt agua = 158.8667573511342\n"
     ]
    }
   ],
   "source": [
    "f_agua = friction_factor(Re_agua)\n",
    "Nu_agua = nusselt(f_agua, Re_agua, prandl_agua)\n",
    "print(f\"Nusselt agua = {Nu_agua}\")"
   ]
  },
  {
   "cell_type": "code",
   "execution_count": 250,
   "metadata": {},
   "outputs": [
    {
     "name": "stdout",
     "output_type": "stream",
     "text": [
      "Diametro equivalente 0.04033698175787728\n",
      "Coeficiente de convección agua 2443.1890118284223\n"
     ]
    }
   ],
   "source": [
    "diametro_equivalente   = (diametro_exterior_id**2 - diametro_interior_od**2)/(diametro_interior_od)\n",
    "print(f\"Diametro equivalente {diametro_equivalente}\")\n",
    "\n",
    "h_agua = Nu_agua*k_agua/diametro_equivalente\n",
    "print(f\"Coeficiente de convección agua {h_agua}\")"
   ]
  },
  {
   "cell_type": "code",
   "execution_count": 251,
   "metadata": {},
   "outputs": [],
   "source": [
    "R_f_leche    = 0.000176 # m2 k/w\n",
    "R_f_agua     = 0.000176 # m2 k/w"
   ]
  },
  {
   "cell_type": "markdown",
   "metadata": {},
   "source": [
    "Asuma los coeficiente de trasferencia de calor\n",
    "\n",
    "$$ \\frac{1}{U_{ensuciamiento}} = \\frac{r_{0}}{r_{i}} \\frac{1}{h_{i}} + \\frac{r_{0}}{r_{1}}*R_{f_{}i} + r_{0} \\frac{ln(\\frac{r_{0}}{r_{i}} )}{k} + R_{f_{}o} + \\frac{1}{h_{0}} $$\n",
    "\n",
    "\n",
    "\n",
    "$$ \\frac{1}{U_{limpio}} = \\frac{r_{0}}{r_{i}} \\frac{1}{h_{i}} + r_{0} \\frac{ln(\\frac{r_{0}}{r_{i}} )}{k} + \\frac{1}{h_{0}}$$\n",
    "\n",
    "En este caso\n",
    "\n",
    "> $r_{0}$ -> radio exterior\n",
    "\n",
    "> $r_{i}$ -> radio interior\n",
    "\n",
    "> $h_{0}$ -> coeficiente de convección en la carcasa\n",
    "\n",
    "> $h_{i}$ -> coeficiente de convección en el tubo"
   ]
  },
  {
   "cell_type": "code",
   "execution_count": 252,
   "metadata": {},
   "outputs": [
    {
     "data": {
      "text/plain": [
       "450.80353841085014"
      ]
     },
     "execution_count": 252,
     "metadata": {},
     "output_type": "execute_result"
    }
   ],
   "source": [
    "U_ensuciamiento = (\n",
    "    (diametro_interior_od / diametro_interior_id) * 1 / h_leche\n",
    "    + (diametro_interior_od / diametro_interior_id) * R_f_leche\n",
    "    + (diametro_interior_od / 2) * np.log(diametro_interior_od/diametro_interior_id) / k_material\n",
    "    + R_f_agua\n",
    "    + 1 / h_agua\n",
    ") ** -1 \n",
    "U_ensuciamiento"
   ]
  },
  {
   "cell_type": "code",
   "execution_count": 253,
   "metadata": {},
   "outputs": [
    {
     "data": {
      "text/plain": [
       "array([19.77841834, 21.41478731, 22.92781504, 24.34908175, 25.69888119,\n",
       "       26.99113718, 28.23587612, 29.4405915 , 30.61105153, 31.75180436,\n",
       "       32.86650828, 33.9581557 , 35.02922975, 36.08181671, 37.1176885 ,\n",
       "       38.13836453, 39.14515871, 40.13921593, 41.12154058, 42.09301922,\n",
       "       43.0544388 , 44.00650139, 44.94983628, 45.88500996, 46.81253435])"
      ]
     },
     "execution_count": 253,
     "metadata": {},
     "output_type": "execute_result"
    }
   ],
   "source": [
    "diferencia_temperatura_x1 = temperatura_entrada_leche - temperaturas_salida_agua\n",
    "diferencia_temperatura_x2 = temperaturas_leche_estimada_salidas - temperatura_entrada_agua\n",
    "diferencia_log_temperatura = (diferencia_temperatura_x2 - diferencia_temperatura_x1)/ np.log(diferencia_temperatura_x2/diferencia_temperatura_x1)\n",
    "diferencia_log_temperatura"
   ]
  },
  {
   "cell_type": "markdown",
   "metadata": {},
   "source": [
    "#### Area de transferencia de calor"
   ]
  },
  {
   "cell_type": "code",
   "execution_count": 254,
   "metadata": {},
   "outputs": [
    {
     "data": {
      "text/plain": [
       "array([11.13144746,  9.98100132,  9.04227534,  8.25075107,  7.56752043,\n",
       "        6.96730201,  6.43273825,  5.95139524,  5.51406057,  5.11371846,\n",
       "        4.7449027 ,  4.40327152,  4.08531894,  3.78817322,  3.50945258,\n",
       "        3.24715979,  2.99960362,  2.76533941,  2.54312339,  2.3318771 ,\n",
       "        2.13065937,  1.93864399,  1.75510173,  1.57938576,  1.41091971])"
      ]
     },
     "execution_count": 254,
     "metadata": {},
     "output_type": "execute_result"
    }
   ],
   "source": [
    "A_0 = calores_transferencia /(U_ensuciamiento * diferencia_log_temperatura)\n",
    "A_0"
   ]
  },
  {
   "cell_type": "code",
   "execution_count": 255,
   "metadata": {},
   "outputs": [
    {
     "data": {
      "text/plain": [
       "1.5155042960917162"
      ]
     },
     "execution_count": 255,
     "metadata": {},
     "output_type": "execute_result"
    }
   ],
   "source": [
    "A_hp = 2 * np.pi * diametro_interior_od * longitud\n",
    "A_hp"
   ]
  },
  {
   "cell_type": "code",
   "execution_count": 256,
   "metadata": {},
   "outputs": [
    {
     "data": {
      "text/plain": [
       "array([7.34504514, 6.58592744, 5.96651251, 5.4442281 , 4.99340084,\n",
       "       4.5973489 , 4.24461894, 3.92700651, 3.63843282, 3.37426853,\n",
       "       3.1309068 , 2.90548271, 2.69568285, 2.49961233, 2.31569953,\n",
       "       2.14262658, 1.97927754, 1.82469916, 1.67807072, 1.53868063,\n",
       "       1.40590784, 1.27920719, 1.1580975 , 1.04215195, 0.93099024])"
      ]
     },
     "execution_count": 256,
     "metadata": {},
     "output_type": "execute_result"
    }
   ],
   "source": [
    "N_hp = A_0 / A_hp\n",
    "N_hp"
   ]
  },
  {
   "cell_type": "code",
   "execution_count": 257,
   "metadata": {},
   "outputs": [
    {
     "data": {
      "text/plain": [
       "543.4449947018621"
      ]
     },
     "execution_count": 257,
     "metadata": {},
     "output_type": "execute_result"
    }
   ],
   "source": [
    "U_no_ensuciamiento = (\n",
    "    (diametro_interior_od / diametro_interior_id) * 1 / h_leche\n",
    "    + (diametro_interior_od / 2) * np.log(diametro_interior_od/diametro_interior_id) / k_material\n",
    "    + 1 / h_agua\n",
    ") ** -1 \n",
    "U_no_ensuciamiento"
   ]
  },
  {
   "cell_type": "code",
   "execution_count": 258,
   "metadata": {},
   "outputs": [
    {
     "data": {
      "text/plain": [
       "0.1704707140450079"
      ]
     },
     "execution_count": 258,
     "metadata": {},
     "output_type": "execute_result"
    }
   ],
   "source": [
    "CF = U_ensuciamiento / U_no_ensuciamiento\n",
    "1 - CF"
   ]
  },
  {
   "cell_type": "code",
   "execution_count": 259,
   "metadata": {},
   "outputs": [
    {
     "data": {
      "text/plain": [
       "0.000378148571428571"
      ]
     },
     "execution_count": 259,
     "metadata": {},
     "output_type": "execute_result"
    }
   ],
   "source": [
    "R_fr = (1-CF)/(U_no_ensuciamiento *CF)\n",
    "R_fr"
   ]
  },
  {
   "cell_type": "code",
   "execution_count": 260,
   "metadata": {},
   "outputs": [
    {
     "name": "stdout",
     "output_type": "stream",
     "text": [
      "Porcentaje sobre la superficie : 20.550294839651652\n"
     ]
    }
   ],
   "source": [
    "OS = 100 * U_no_ensuciamiento * R_fr\n",
    "print(f\"Porcentaje sobre la superficie : {OS}\")"
   ]
  },
  {
   "cell_type": "code",
   "execution_count": 261,
   "metadata": {},
   "outputs": [],
   "source": [
    "diferencia_presion = 4 * f* 2 * L / diametro_interior_id * N_hp * densidad_leche"
   ]
  },
  {
   "cell_type": "code",
   "execution_count": 262,
   "metadata": {},
   "outputs": [
    {
     "data": {
      "text/plain": [
       "array([150.43334058, 134.88590563, 122.19971306, 111.50284371,\n",
       "       102.26948309,  94.15797182,  86.93373499,  80.42873767,\n",
       "        74.51848056,  69.1081509 ,  64.12387673,  59.50698211,\n",
       "        55.21008643,  51.19438013,  47.42767532,  43.88298078,\n",
       "        40.53744085,  37.37153203,  34.36844565,  31.51360713,\n",
       "        28.79429726,  26.19935035,  23.71891144,  21.34423911,\n",
       "        19.06754409])"
      ]
     },
     "execution_count": 262,
     "metadata": {},
     "output_type": "execute_result"
    }
   ],
   "source": [
    "areas_ft = areas * 10.764\n",
    "areas_ft"
   ]
  },
  {
   "cell_type": "code",
   "execution_count": 263,
   "metadata": {},
   "outputs": [
    {
     "data": {
      "text/html": [
       "<div>\n",
       "<style scoped>\n",
       "    .dataframe tbody tr th:only-of-type {\n",
       "        vertical-align: middle;\n",
       "    }\n",
       "\n",
       "    .dataframe tbody tr th {\n",
       "        vertical-align: top;\n",
       "    }\n",
       "\n",
       "    .dataframe thead th {\n",
       "        text-align: right;\n",
       "    }\n",
       "</style>\n",
       "<table border=\"1\" class=\"dataframe\">\n",
       "  <thead>\n",
       "    <tr style=\"text-align: right;\">\n",
       "      <th></th>\n",
       "      <th>Tl1 ºC</th>\n",
       "      <th>Tw2 ºC</th>\n",
       "      <th>Tl2 ºC</th>\n",
       "      <th>Tw1 ºC</th>\n",
       "      <th>Area ft^2</th>\n",
       "    </tr>\n",
       "  </thead>\n",
       "  <tbody>\n",
       "    <tr>\n",
       "      <th>0</th>\n",
       "      <td>80</td>\n",
       "      <td>33.499781</td>\n",
       "      <td>30.000000</td>\n",
       "      <td>24</td>\n",
       "      <td>150.433341</td>\n",
       "    </tr>\n",
       "    <tr>\n",
       "      <th>1</th>\n",
       "      <td>80</td>\n",
       "      <td>33.222704</td>\n",
       "      <td>31.458333</td>\n",
       "      <td>24</td>\n",
       "      <td>134.885906</td>\n",
       "    </tr>\n",
       "    <tr>\n",
       "      <th>2</th>\n",
       "      <td>80</td>\n",
       "      <td>32.945627</td>\n",
       "      <td>32.916667</td>\n",
       "      <td>24</td>\n",
       "      <td>122.199713</td>\n",
       "    </tr>\n",
       "    <tr>\n",
       "      <th>3</th>\n",
       "      <td>80</td>\n",
       "      <td>32.668550</td>\n",
       "      <td>34.375000</td>\n",
       "      <td>24</td>\n",
       "      <td>111.502844</td>\n",
       "    </tr>\n",
       "    <tr>\n",
       "      <th>4</th>\n",
       "      <td>80</td>\n",
       "      <td>32.391473</td>\n",
       "      <td>35.833333</td>\n",
       "      <td>24</td>\n",
       "      <td>102.269483</td>\n",
       "    </tr>\n",
       "    <tr>\n",
       "      <th>5</th>\n",
       "      <td>80</td>\n",
       "      <td>32.114397</td>\n",
       "      <td>37.291667</td>\n",
       "      <td>24</td>\n",
       "      <td>94.157972</td>\n",
       "    </tr>\n",
       "    <tr>\n",
       "      <th>6</th>\n",
       "      <td>80</td>\n",
       "      <td>31.837320</td>\n",
       "      <td>38.750000</td>\n",
       "      <td>24</td>\n",
       "      <td>86.933735</td>\n",
       "    </tr>\n",
       "    <tr>\n",
       "      <th>7</th>\n",
       "      <td>80</td>\n",
       "      <td>31.560243</td>\n",
       "      <td>40.208333</td>\n",
       "      <td>24</td>\n",
       "      <td>80.428738</td>\n",
       "    </tr>\n",
       "    <tr>\n",
       "      <th>8</th>\n",
       "      <td>80</td>\n",
       "      <td>31.283166</td>\n",
       "      <td>41.666667</td>\n",
       "      <td>24</td>\n",
       "      <td>74.518481</td>\n",
       "    </tr>\n",
       "    <tr>\n",
       "      <th>9</th>\n",
       "      <td>80</td>\n",
       "      <td>31.006089</td>\n",
       "      <td>43.125000</td>\n",
       "      <td>24</td>\n",
       "      <td>69.108151</td>\n",
       "    </tr>\n",
       "    <tr>\n",
       "      <th>10</th>\n",
       "      <td>80</td>\n",
       "      <td>30.729012</td>\n",
       "      <td>44.583333</td>\n",
       "      <td>24</td>\n",
       "      <td>64.123877</td>\n",
       "    </tr>\n",
       "    <tr>\n",
       "      <th>11</th>\n",
       "      <td>80</td>\n",
       "      <td>30.451935</td>\n",
       "      <td>46.041667</td>\n",
       "      <td>24</td>\n",
       "      <td>59.506982</td>\n",
       "    </tr>\n",
       "    <tr>\n",
       "      <th>12</th>\n",
       "      <td>80</td>\n",
       "      <td>30.174858</td>\n",
       "      <td>47.500000</td>\n",
       "      <td>24</td>\n",
       "      <td>55.210086</td>\n",
       "    </tr>\n",
       "    <tr>\n",
       "      <th>13</th>\n",
       "      <td>80</td>\n",
       "      <td>29.897781</td>\n",
       "      <td>48.958333</td>\n",
       "      <td>24</td>\n",
       "      <td>51.194380</td>\n",
       "    </tr>\n",
       "    <tr>\n",
       "      <th>14</th>\n",
       "      <td>80</td>\n",
       "      <td>29.620704</td>\n",
       "      <td>50.416667</td>\n",
       "      <td>24</td>\n",
       "      <td>47.427675</td>\n",
       "    </tr>\n",
       "    <tr>\n",
       "      <th>15</th>\n",
       "      <td>80</td>\n",
       "      <td>29.343627</td>\n",
       "      <td>51.875000</td>\n",
       "      <td>24</td>\n",
       "      <td>43.882981</td>\n",
       "    </tr>\n",
       "    <tr>\n",
       "      <th>16</th>\n",
       "      <td>80</td>\n",
       "      <td>29.066550</td>\n",
       "      <td>53.333333</td>\n",
       "      <td>24</td>\n",
       "      <td>40.537441</td>\n",
       "    </tr>\n",
       "    <tr>\n",
       "      <th>17</th>\n",
       "      <td>80</td>\n",
       "      <td>28.789473</td>\n",
       "      <td>54.791667</td>\n",
       "      <td>24</td>\n",
       "      <td>37.371532</td>\n",
       "    </tr>\n",
       "    <tr>\n",
       "      <th>18</th>\n",
       "      <td>80</td>\n",
       "      <td>28.512396</td>\n",
       "      <td>56.250000</td>\n",
       "      <td>24</td>\n",
       "      <td>34.368446</td>\n",
       "    </tr>\n",
       "    <tr>\n",
       "      <th>19</th>\n",
       "      <td>80</td>\n",
       "      <td>28.235319</td>\n",
       "      <td>57.708333</td>\n",
       "      <td>24</td>\n",
       "      <td>31.513607</td>\n",
       "    </tr>\n",
       "    <tr>\n",
       "      <th>20</th>\n",
       "      <td>80</td>\n",
       "      <td>27.958242</td>\n",
       "      <td>59.166667</td>\n",
       "      <td>24</td>\n",
       "      <td>28.794297</td>\n",
       "    </tr>\n",
       "    <tr>\n",
       "      <th>21</th>\n",
       "      <td>80</td>\n",
       "      <td>27.681165</td>\n",
       "      <td>60.625000</td>\n",
       "      <td>24</td>\n",
       "      <td>26.199350</td>\n",
       "    </tr>\n",
       "    <tr>\n",
       "      <th>22</th>\n",
       "      <td>80</td>\n",
       "      <td>27.404088</td>\n",
       "      <td>62.083333</td>\n",
       "      <td>24</td>\n",
       "      <td>23.718911</td>\n",
       "    </tr>\n",
       "    <tr>\n",
       "      <th>23</th>\n",
       "      <td>80</td>\n",
       "      <td>27.127011</td>\n",
       "      <td>63.541667</td>\n",
       "      <td>24</td>\n",
       "      <td>21.344239</td>\n",
       "    </tr>\n",
       "    <tr>\n",
       "      <th>24</th>\n",
       "      <td>80</td>\n",
       "      <td>26.849934</td>\n",
       "      <td>65.000000</td>\n",
       "      <td>24</td>\n",
       "      <td>19.067544</td>\n",
       "    </tr>\n",
       "  </tbody>\n",
       "</table>\n",
       "</div>"
      ],
      "text/plain": [
       "    Tl1 ºC     Tw2 ºC     Tl2 ºC  Tw1 ºC   Area ft^2\n",
       "0       80  33.499781  30.000000      24  150.433341\n",
       "1       80  33.222704  31.458333      24  134.885906\n",
       "2       80  32.945627  32.916667      24  122.199713\n",
       "3       80  32.668550  34.375000      24  111.502844\n",
       "4       80  32.391473  35.833333      24  102.269483\n",
       "5       80  32.114397  37.291667      24   94.157972\n",
       "6       80  31.837320  38.750000      24   86.933735\n",
       "7       80  31.560243  40.208333      24   80.428738\n",
       "8       80  31.283166  41.666667      24   74.518481\n",
       "9       80  31.006089  43.125000      24   69.108151\n",
       "10      80  30.729012  44.583333      24   64.123877\n",
       "11      80  30.451935  46.041667      24   59.506982\n",
       "12      80  30.174858  47.500000      24   55.210086\n",
       "13      80  29.897781  48.958333      24   51.194380\n",
       "14      80  29.620704  50.416667      24   47.427675\n",
       "15      80  29.343627  51.875000      24   43.882981\n",
       "16      80  29.066550  53.333333      24   40.537441\n",
       "17      80  28.789473  54.791667      24   37.371532\n",
       "18      80  28.512396  56.250000      24   34.368446\n",
       "19      80  28.235319  57.708333      24   31.513607\n",
       "20      80  27.958242  59.166667      24   28.794297\n",
       "21      80  27.681165  60.625000      24   26.199350\n",
       "22      80  27.404088  62.083333      24   23.718911\n",
       "23      80  27.127011  63.541667      24   21.344239\n",
       "24      80  26.849934  65.000000      24   19.067544"
      ]
     },
     "execution_count": 263,
     "metadata": {},
     "output_type": "execute_result"
    }
   ],
   "source": [
    "tabla_costos = pd.DataFrame(\n",
    "    {\n",
    "        \"Tl1 ºC\": temperatura_entrada_leche,\n",
    "        \"Tw2 ºC\": temperaturas_salida_agua,\n",
    "        \"Tl2 ºC\": temperaturas_leche_estimada_salidas,\n",
    "        \"Tw1 ºC\": temperatura_entrada_agua,\n",
    "        \"Area ft^2\": areas_ft,\n",
    "    }\n",
    ")\n",
    "tabla_costos"
   ]
  },
  {
   "cell_type": "code",
   "execution_count": 264,
   "metadata": {},
   "outputs": [],
   "source": [
    "tabla_costos['costo_intercambiador matches'] = [ \n",
    "    24300,\n",
    "    25400,\n",
    "    26400,\n",
    "    27400,\n",
    "    28300,\n",
    "    29300,\n",
    "    30200,\n",
    "    31200,\n",
    "    32100,\n",
    "    33100,\n",
    "    34000,\n",
    "    35000,\n",
    "    36000,\n",
    "    37000,\n",
    "    38000,\n",
    "    39100,\n",
    "    40200,\n",
    "    41300,\n",
    "    42500,\n",
    "    43800,\n",
    "    45100,\n",
    "    46600,\n",
    "    48100,\n",
    "    49900,\n",
    "    52000,\n",
    "][::-1]"
   ]
  },
  {
   "cell_type": "code",
   "execution_count": 265,
   "metadata": {},
   "outputs": [
    {
     "data": {
      "text/html": [
       "<div>\n",
       "<style scoped>\n",
       "    .dataframe tbody tr th:only-of-type {\n",
       "        vertical-align: middle;\n",
       "    }\n",
       "\n",
       "    .dataframe tbody tr th {\n",
       "        vertical-align: top;\n",
       "    }\n",
       "\n",
       "    .dataframe thead th {\n",
       "        text-align: right;\n",
       "    }\n",
       "</style>\n",
       "<table border=\"1\" class=\"dataframe\">\n",
       "  <thead>\n",
       "    <tr style=\"text-align: right;\">\n",
       "      <th></th>\n",
       "      <th>Tl1 ºC</th>\n",
       "      <th>Tw2 ºC</th>\n",
       "      <th>Tl2 ºC</th>\n",
       "      <th>Tw1 ºC</th>\n",
       "      <th>Area ft^2</th>\n",
       "      <th>costo_intercambiador matches</th>\n",
       "      <th>costo_intercambiador_especifico</th>\n",
       "    </tr>\n",
       "  </thead>\n",
       "  <tbody>\n",
       "    <tr>\n",
       "      <th>0</th>\n",
       "      <td>80</td>\n",
       "      <td>33.499781</td>\n",
       "      <td>30.000000</td>\n",
       "      <td>24</td>\n",
       "      <td>150.433341</td>\n",
       "      <td>52000</td>\n",
       "      <td>345.668053</td>\n",
       "    </tr>\n",
       "    <tr>\n",
       "      <th>1</th>\n",
       "      <td>80</td>\n",
       "      <td>33.222704</td>\n",
       "      <td>31.458333</td>\n",
       "      <td>24</td>\n",
       "      <td>134.885906</td>\n",
       "      <td>49900</td>\n",
       "      <td>369.942284</td>\n",
       "    </tr>\n",
       "    <tr>\n",
       "      <th>2</th>\n",
       "      <td>80</td>\n",
       "      <td>32.945627</td>\n",
       "      <td>32.916667</td>\n",
       "      <td>24</td>\n",
       "      <td>122.199713</td>\n",
       "      <td>48100</td>\n",
       "      <td>393.617946</td>\n",
       "    </tr>\n",
       "    <tr>\n",
       "      <th>3</th>\n",
       "      <td>80</td>\n",
       "      <td>32.668550</td>\n",
       "      <td>34.375000</td>\n",
       "      <td>24</td>\n",
       "      <td>111.502844</td>\n",
       "      <td>46600</td>\n",
       "      <td>417.926561</td>\n",
       "    </tr>\n",
       "    <tr>\n",
       "      <th>4</th>\n",
       "      <td>80</td>\n",
       "      <td>32.391473</td>\n",
       "      <td>35.833333</td>\n",
       "      <td>24</td>\n",
       "      <td>102.269483</td>\n",
       "      <td>45100</td>\n",
       "      <td>440.991766</td>\n",
       "    </tr>\n",
       "  </tbody>\n",
       "</table>\n",
       "</div>"
      ],
      "text/plain": [
       "   Tl1 ºC     Tw2 ºC     Tl2 ºC  Tw1 ºC   Area ft^2  \\\n",
       "0      80  33.499781  30.000000      24  150.433341   \n",
       "1      80  33.222704  31.458333      24  134.885906   \n",
       "2      80  32.945627  32.916667      24  122.199713   \n",
       "3      80  32.668550  34.375000      24  111.502844   \n",
       "4      80  32.391473  35.833333      24  102.269483   \n",
       "\n",
       "   costo_intercambiador matches  costo_intercambiador_especifico  \n",
       "0                         52000                       345.668053  \n",
       "1                         49900                       369.942284  \n",
       "2                         48100                       393.617946  \n",
       "3                         46600                       417.926561  \n",
       "4                         45100                       440.991766  "
      ]
     },
     "execution_count": 265,
     "metadata": {},
     "output_type": "execute_result"
    }
   ],
   "source": [
    "tabla_costos['costo_intercambiador_especifico'] = tabla_costos['costo_intercambiador matches'] / tabla_costos['Area ft^2']\n",
    "tabla_costos.head()"
   ]
  },
  {
   "cell_type": "code",
   "execution_count": 266,
   "metadata": {},
   "outputs": [
    {
     "data": {
      "image/png": "[encoded data removed]",
      "text/plain": [
       "<Figure size 640x480 with 1 Axes>"
      ]
     },
     "metadata": {},
     "output_type": "display_data"
    }
   ],
   "source": [
    "plt.plot(\n",
    "    tabla_costos['Tl2 ºC'],\n",
    "    tabla_costos['costo_intercambiador_especifico'],\n",
    "    marker='o'\n",
    ")\n",
    "plt.xlabel('Tl2 ºC')\n",
    "plt.ylabel('Costo especifico [USD/ft2]')\n",
    "plt.title(\"Diagrama Costo Especifico Vs Area\")\n",
    "plt.grid(True)\n",
    "plt.show()"
   ]
  },
  {
   "cell_type": "code",
   "execution_count": 267,
   "metadata": {},
   "outputs": [],
   "source": [
    "# Define the power law function\n",
    "def power_law(x, A, B):\n",
    "    return A * (x ** B)"
   ]
  },
  {
   "cell_type": "code",
   "execution_count": 268,
   "metadata": {},
   "outputs": [],
   "source": [
    "# Perform curve fitting to find A and B\n",
    "params, covariance = curve_fit(\n",
    "    power_law, \n",
    "    tabla_costos['Area ft^2'].to_numpy(),\n",
    "    tabla_costos[\"costo_intercambiador_especifico\"].to_numpy()\n",
    ")"
   ]
  },
  {
   "cell_type": "code",
   "execution_count": 269,
   "metadata": {},
   "outputs": [
    {
     "name": "stdout",
     "output_type": "stream",
     "text": [
      "k = 8239.894895697298\n",
      "m = 0.3674849729890127\n",
      "n = -0.6325150270109873\n"
     ]
    }
   ],
   "source": [
    "# Extract the values of A and B\n",
    "K, n = params\n",
    "\n",
    "m = 1 + n\n",
    "print(\"k =\", K)\n",
    "print(\"m =\", m)\n",
    "print(\"n =\", n)"
   ]
  },
  {
   "cell_type": "code",
   "execution_count": 279,
   "metadata": {},
   "outputs": [],
   "source": [
    "tabla_costos['costo_prediccion_intercambiador'] =  K * (tabla_costos['Area ft^2'] ** (m))"
   ]
  },
  {
   "cell_type": "code",
   "execution_count": 271,
   "metadata": {},
   "outputs": [
    {
     "data": {
      "image/png": "[encoded data removed]",
      "text/plain": [
       "<Figure size 640x480 with 1 Axes>"
      ]
     },
     "metadata": {},
     "output_type": "display_data"
    }
   ],
   "source": [
    "plt.plot(\n",
    "    tabla_costos['Tl2 ºC'],\n",
    "    tabla_costos['costo_intercambiador matches'],\n",
    "    marker='o',\n",
    "    label='Costo Intercambiador'\n",
    ")\n",
    "\n",
    "plt.plot(\n",
    "    tabla_costos['Tl2 ºC'],\n",
    "    tabla_costos['costo_prediccion_intercambiador'],\n",
    "    marker='o',\n",
    "    label='Costo Intercambiador predicción'\n",
    ")\n",
    "\n",
    "plt.xlabel('Temperatura de salida de leche [ºC]')\n",
    "plt.ylabel('Costo especifico [USD/ft2]')\n",
    "plt.title(\"Comparación modelo matemático vs experimental\")\n",
    "plt.legend()\n",
    "plt.grid()\n",
    "plt.show()"
   ]
  },
  {
   "cell_type": "markdown",
   "metadata": {},
   "source": [
    "### Cálculo  Ciclo refrigerador"
   ]
  },
  {
   "cell_type": "markdown",
   "metadata": {},
   "source": [
    "<!-- <p align=\"center\">\n",
    "  <img src=\"ciclo_refrigerador.jpg\" height =\"300px\">\n",
    "</p> -->\n",
    "\n",
    "![](ciclo_refrigerador.jpg)"
   ]
  },
  {
   "cell_type": "markdown",
   "metadata": {},
   "source": [
    "#### Costo del refrigerador"
   ]
  },
  {
   "cell_type": "markdown",
   "metadata": {},
   "source": [
    "$$ \\dot{Q} = (\\dot{m} *C_{p})_{leche} * (T_{entrada} -T_{salida})$$\n",
    "\n",
    "$$ (n  Watts )\\frac{3.41 Btu/h}{1 Watts} *\\frac{1 MBtu/h}{1*10^{6}Btu/h}$$"
   ]
  },
  {
   "cell_type": "code",
   "execution_count": 272,
   "metadata": {},
   "outputs": [
    {
     "name": "stdout",
     "output_type": "stream",
     "text": [
      "Calor transmitido al refrigerador [ 39000.    41843.75  44687.5   47531.25  50375.    53218.75  56062.5\n",
      "  58906.25  61750.    64593.75  67437.5   70281.25  73125.    75968.75\n",
      "  78812.5   81656.25  84500.    87343.75  90187.5   93031.25  95875.\n",
      "  98718.75 101562.5  104406.25 107250.  ] W\n",
      "Calor transmitido al refrigerador [0.13307346 0.14277673 0.15248001 0.16218328 0.17188655 0.18158983\n",
      " 0.1912931  0.20099637 0.21069964 0.22040292 0.23010619 0.23980946\n",
      " 0.24951274 0.25921601 0.26891928 0.27862256 0.28832583 0.2980291\n",
      " 0.30773238 0.31743565 0.32713892 0.3368422  0.34654547 0.35624874\n",
      " 0.36595202] M Btu/h\n"
     ]
    }
   ],
   "source": [
    "calores_refrigerador = caudal_leche * cp_leche_kern * (temperaturas_leche_estimada_salidas - temperatura_salida_leche)\n",
    "print(f\"Calor transmitido al refrigerador {calores_refrigerador} W\")\n",
    "\n",
    "calores_refrigerador_ingles = calores_refrigerador * 3.41214 / 1e6\n",
    "print(f\"Calor transmitido al refrigerador {calores_refrigerador_ingles} M Btu/h\")"
   ]
  },
  {
   "cell_type": "code",
   "execution_count": 273,
   "metadata": {},
   "outputs": [],
   "source": [
    "tabla_costos['costo_refrigeradores'] = [\n",
    "    41100,\n",
    "    43200,\n",
    "    45200,\n",
    "    47200,\n",
    "    49100,\n",
    "    51000,\n",
    "    52900,\n",
    "    54800,\n",
    "    56600,\n",
    "    58400,\n",
    "    60100,\n",
    "    61900,\n",
    "    63600,\n",
    "    65300,\n",
    "    67000,\n",
    "    68700,\n",
    "    70400,\n",
    "    72000,\n",
    "    73600,\n",
    "    75200,\n",
    "    76800,\n",
    "    78400,\n",
    "    80000,\n",
    "    81500,\n",
    "    83000\n",
    "][::1]"
   ]
  },
  {
   "cell_type": "code",
   "execution_count": 282,
   "metadata": {},
   "outputs": [
    {
     "data": {
      "text/plain": [
       "3.4125833333333295"
      ]
     },
     "execution_count": 282,
     "metadata": {},
     "output_type": "execute_result"
    }
   ],
   "source": [
    "n = 5 # 5 añoS\n",
    "g = 0.08\n",
    "i = 0.2 \n",
    "\n",
    "PSA = (\n",
    "    1 - ((1 + g) / (1 + i)) ** n\n",
    ") / (i - g)\n",
    "PSA"
   ]
  },
  {
   "cell_type": "code",
   "execution_count": 283,
   "metadata": {},
   "outputs": [
    {
     "name": "stdout",
     "output_type": "stream",
     "text": [
      "Trabajo compresor [ 52.29985249  56.1133834   59.92691431  63.74044522  67.55397613\n",
      "  71.36750704  75.18103795  78.99456886  82.80809977  86.62163068\n",
      "  90.43516159  94.2486925   98.06222341 101.87575432 105.68928524\n",
      " 109.50281615 113.31634706 117.12987797 120.94340888 124.75693979\n",
      " 128.5704707  132.38400161 136.19753252 140.01106343 143.82459434] hp\n"
     ]
    }
   ],
   "source": [
    "COP = 1\n",
    "\n",
    "trabajo_compresor = calores_refrigerador * COP\n",
    "# print(f\"Trabajo compresor {trabajo_compresor} W\")\n",
    "\n",
    "trabajo_compresor_hp = trabajo_compresor  / 745.7\n",
    "print(f\"Trabajo compresor {trabajo_compresor_hp} hp\")\n",
    "\n",
    "horas = 300 * 24\n",
    "CEE = 0.25\n",
    "\n",
    "C_q = trabajo_compresor_hp * horas * CEE * PSA / 1000\n"
   ]
  },
  {
   "cell_type": "code",
   "execution_count": 284,
   "metadata": {},
   "outputs": [],
   "source": [
    "tabla_costos['Costo Total'] = tabla_costos['costo_prediccion_intercambiador'] \\\n",
    "                            + tabla_costos['costo_refrigeradores'] \\\n",
    "                            + C_q"
   ]
  },
  {
   "cell_type": "code",
   "execution_count": 285,
   "metadata": {},
   "outputs": [
    {
     "data": {
      "image/png": "[encoded data removed]",
      "text/plain": [
       "<Figure size 1000x1600 with 1 Axes>"
      ]
     },
     "metadata": {},
     "output_type": "display_data"
    }
   ],
   "source": [
    "plt.figure(figsize=(10,16))\n",
    "\n",
    "plt.plot(\n",
    "    tabla_costos['Tl2 ºC'],\n",
    "    tabla_costos['costo_prediccion_intercambiador'],\n",
    "    marker='o',\n",
    "    label='Intercambiador'\n",
    ")\n",
    "\n",
    "plt.plot(\n",
    "    tabla_costos['Tl2 ºC'],\n",
    "    tabla_costos['costo_refrigeradores'],\n",
    "    marker='o',\n",
    "    label='Refrigerador'\n",
    ")\n",
    "\n",
    "plt.plot(\n",
    "    tabla_costos['Tl2 ºC'],\n",
    "    tabla_costos['Costo Total'],\n",
    "    marker='o',\n",
    "    label='total'\n",
    ")\n",
    "\n",
    "\n",
    "\n",
    "plt.xlabel('Temperatura de salida de leche [ºC]')\n",
    "plt.ylabel('Costo especifico [USD/ft2]')\n",
    "\n",
    "plt.title('Iteración del costo en funcion de la temperatura de salida de leche (IC Y SR)')\n",
    "plt.legend()\n",
    "plt.grid()\n",
    "plt.show()"
   ]
  },
  {
   "cell_type": "markdown",
   "metadata": {},
   "source": [
    "## Diseño solo sistema refrigerador "
   ]
  },
  {
   "cell_type": "markdown",
   "metadata": {},
   "source": [
    "### Refrigerador"
   ]
  },
  {
   "cell_type": "code",
   "execution_count": 275,
   "metadata": {},
   "outputs": [
    {
     "name": "stdout",
     "output_type": "stream",
     "text": [
      "Calor transmitido al refrigerador 136500.0 W\n"
     ]
    }
   ],
   "source": [
    "calor_refrigerador = caudal_leche * cp_leche_kern * (temperatura_entrada_leche - temperatura_salida_leche)\n",
    "print(f\"Calor transmitido al refrigerador {calor_refrigerador} W\")"
   ]
  },
  {
   "cell_type": "code",
   "execution_count": 276,
   "metadata": {},
   "outputs": [
    {
     "name": "stdout",
     "output_type": "stream",
     "text": [
      "Calor transmitido al refrigerador 0.46575711 M Btu/h\n"
     ]
    }
   ],
   "source": [
    "calor_refrigerador_ingles = calor_refrigerador    * 3.41214 / 1e6\n",
    "print(f\"Calor transmitido al refrigerador {calor_refrigerador_ingles} M Btu/h\")"
   ]
  },
  {
   "cell_type": "code",
   "execution_count": 277,
   "metadata": {},
   "outputs": [
    {
     "name": "stdout",
     "output_type": "stream",
     "text": [
      "precio: 98200 USD\n"
     ]
    }
   ],
   "source": [
    "print(f\"precio: 98200 USD\")"
   ]
  },
  {
   "cell_type": "markdown",
   "metadata": {},
   "source": [
    "# Referencias\n",
    "- Abigail , O. (2023) Principales Productores de Café del Mundo en 2022, Statista. Available at: https://es.statista.com/estadisticas/600243/ranking-de-los-principales-productores-de-cafe-a-nivel-mundial/#:~:text=Ranking%20de%20los%20principales%20productores%20de%20café%20a%20nivel%20mundial%20en%202022&amp;text=Brasil%20encabezó%20la%20clasificación%20mundial,kilogramos%20durante%20el%20año%20referido. (Accessed: 27 October 2023). \n",
    "- Seguros, V. (2021) Presión del Agua en Casa: Problemas habituales: Blog Verti, Verti Blog. Available at: https://blog.verti.es/hogar/presion-agua-casa/#:~:text=Lo%20habitual%20es%20que%20la,tengamos%20una%20presión%20u%20otra. (Accessed: 13 October 2023). \n",
    "- Bell, I.H. et al. (2014) ‘Pure and pseudo-pure fluid thermophysical property evaluation and the open-source Thermophysical Property Library coolprop’, Industrial &amp;amp; Engineering Chemistry Research, 53(6), pp. 2498–2508. doi:10.1021/ie4033999. "
   ]
  }
 ],
 "metadata": {
  "kernelspec": {
   "display_name": "Python 3 (ipykernel)",
   "language": "python",
   "name": "python3"
  },
  "language_info": {
   "codemirror_mode": {
    "name": "ipython",
    "version": 3
   },
   "file_extension": ".py",
   "mimetype": "text/x-python",
   "name": "python",
   "nbconvert_exporter": "python",
   "pygments_lexer": "ipython3",
   "version": "3.10.13"
  }
 },
 "nbformat": 4,
 "nbformat_minor": 2
}
