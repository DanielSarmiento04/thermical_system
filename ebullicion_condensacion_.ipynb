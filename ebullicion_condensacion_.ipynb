{
 "cells": [
  {
   "cell_type": "markdown",
   "metadata": {},
   "source": [
    "# Enunciado\n",
    "\n",
    "Design a heat exchanger to be used as a crude oil cooler. 120 kg/s of crude oil enters to the heat exchanger at 102°C and leaves at 65°C. The coolant to be used is city water entering the tube side at 21°C with a flow rate of 65 kg/s. Pressure drop for the crude oil is limited to 150 kPa."
   ]
  },
  {
   "cell_type": "code",
   "execution_count": 214,
   "metadata": {},
   "outputs": [],
   "source": [
    "caudal_de_crudo             = 120 # kg/s\n",
    "temperatura_entrada_crudo   = 102 # ºC\n",
    "temperatura_salida_crudo    = 65  # ºC\n",
    "\n",
    "temperatura_entrada_agua    = 21  # ºC\n",
    "caudal_agua                 = 65  # kg/s\n",
    "\n",
    "presion_limite_crudo        = 150_000 # Pa"
   ]
  },
  {
   "cell_type": "code",
   "execution_count": 215,
   "metadata": {},
   "outputs": [],
   "source": [
    "from pyfluids import Fluid, FluidsList, Input, Mixture\n",
    "from core import ThermoFormules\n",
    "import numpy as np"
   ]
  },
  {
   "cell_type": "markdown",
   "metadata": {},
   "source": [
    "## Suposicion\n",
    "\n",
    "[presión agua](https://blog.verti.es/hogar/presion-agua-casa/#:~:text=Lo%20habitual%20es%20que%20la,tengamos%20una%20presión%20u%20otra.)\n",
    "\n",
    "\n",
    "- Considere como material el acero al carbono, k = 60 W/m*k.\n",
    "- Diámetro de tubo de 3/4 in ( 19 mm exterior y 16 mm interior )."
   ]
  },
  {
   "cell_type": "code",
   "execution_count": 216,
   "metadata": {},
   "outputs": [],
   "source": [
    "k_material                            = 60    # W/ m*k\n",
    "diametro_interior                     = 16e-3 # m\n",
    "diametro_exterior                     = 19e-3 # m"
   ]
  },
  {
   "cell_type": "code",
   "execution_count": 217,
   "metadata": {},
   "outputs": [],
   "source": [
    "presion_agua = (2) * 101_325 # Pa\n",
    "presion_crudo = 4136_000 # Pa"
   ]
  },
  {
   "cell_type": "code",
   "execution_count": 218,
   "metadata": {},
   "outputs": [
    {
     "name": "stdout",
     "output_type": "stream",
     "text": [
      "83.5\n"
     ]
    }
   ],
   "source": [
    "temperatura_propiedades_crudo = (temperatura_entrada_crudo + temperatura_salida_crudo) / 2\n",
    "print(temperatura_propiedades_crudo )#+ 273.15)\n",
    "\n",
    "cp_propiedades_crudo =  0.83 * 1000  # J/kg k"
   ]
  },
  {
   "cell_type": "markdown",
   "metadata": {},
   "source": [
    "$$ \\dot{Q} = (\\dot{m} *C_{p})_{crudo} * (T_{c1} -T_{c2})$$"
   ]
  },
  {
   "cell_type": "code",
   "execution_count": 219,
   "metadata": {},
   "outputs": [
    {
     "data": {
      "text/plain": [
       "3685200.0"
      ]
     },
     "execution_count": 219,
     "metadata": {},
     "output_type": "execute_result"
    }
   ],
   "source": [
    "calor = caudal_de_crudo * cp_propiedades_crudo * (temperatura_entrada_crudo - temperatura_salida_crudo ) \n",
    "calor"
   ]
  },
  {
   "cell_type": "code",
   "execution_count": 220,
   "metadata": {},
   "outputs": [
    {
     "data": {
      "text/plain": [
       "Water"
      ]
     },
     "execution_count": 220,
     "metadata": {},
     "output_type": "execute_result"
    }
   ],
   "source": [
    "water = Fluid(FluidsList.Water)\n",
    "water.name"
   ]
  },
  {
   "cell_type": "markdown",
   "metadata": {},
   "source": [
    "### Suponga una temperatura de propiedades de agua de"
   ]
  },
  {
   "cell_type": "code",
   "execution_count": 221,
   "metadata": {},
   "outputs": [
    {
     "data": {
      "text/plain": [
       "{'compressibility': 0.0014679646038685545,\n",
       " 'conductivity': 0.6097949184333273,\n",
       " 'critical_pressure': 22064000.0,\n",
       " 'critical_temperature': 373.946,\n",
       " 'density': 996.5612223522704,\n",
       " 'dynamic_viscosity': 0.0008508970492459952,\n",
       " 'enthalpy': 113375.23765002219,\n",
       " 'entropy': 395.1237635503346,\n",
       " 'fraction': 100,\n",
       " 'freezing_temperature': None,\n",
       " 'internal_energy': 113171.88837776403,\n",
       " 'kinematic_viscosity': 8.538331917406425e-07,\n",
       " 'max_pressure': 1000000000.0,\n",
       " 'max_temperature': 1726.85,\n",
       " 'min_pressure': 611.6548008968684,\n",
       " 'min_temperature': 0.010000000000047748,\n",
       " 'molar_mass': 0.018015268,\n",
       " 'name': Water,\n",
       " 'phase': Liquid,\n",
       " 'prandtl': 5.8331192360367865,\n",
       " 'pressure': 202650,\n",
       " 'quality': None,\n",
       " 'sound_speed': 1502.0731022326067,\n",
       " 'specific_heat': 4180.301802554013,\n",
       " 'specific_volume': 0.0010034506436439627,\n",
       " 'surface_tension': None,\n",
       " 'temperature': 27.0,\n",
       " 'triple_pressure': 611.6548008968684,\n",
       " 'triple_temperature': 0.010000000000047748,\n",
       " 'units_system': SIWithCelsiusAndPercents}"
      ]
     },
     "execution_count": 221,
     "metadata": {},
     "output_type": "execute_result"
    }
   ],
   "source": [
    "state_agua = water.with_state(\n",
    "    Input.pressure(presion_agua),\n",
    "    Input.temperature(27),\n",
    ")\n",
    "state_agua.as_dict()"
   ]
  },
  {
   "cell_type": "code",
   "execution_count": 222,
   "metadata": {},
   "outputs": [
    {
     "data": {
      "text/plain": [
       "4180.301802554013"
      ]
     },
     "execution_count": 222,
     "metadata": {},
     "output_type": "execute_result"
    }
   ],
   "source": [
    "cp_agua = state_agua.specific_heat\n",
    "cp_agua"
   ]
  },
  {
   "cell_type": "markdown",
   "metadata": {},
   "source": [
    "$$ \\dot{Q} = (\\dot{m} *C_{p})_{agua} * (T_{w1} - T_{w2})$$"
   ]
  },
  {
   "cell_type": "code",
   "execution_count": 223,
   "metadata": {},
   "outputs": [
    {
     "data": {
      "text/plain": [
       "34.56250990795588"
      ]
     },
     "execution_count": 223,
     "metadata": {},
     "output_type": "execute_result"
    }
   ],
   "source": [
    "temperatura_salida_agua = temperatura_entrada_agua + calor / (caudal_agua * cp_agua)\n",
    "temperatura_salida_agua"
   ]
  },
  {
   "cell_type": "markdown",
   "metadata": {},
   "source": [
    "Asuma los coeficiente de trasferencia de calor\n",
    "\n",
    "$$ \\frac{1}{U_{ensuciamiento}} = \\frac{1}{h_{0}} + \\frac{r_{0}}{r_{i}} \\frac{1}{h_{i}} + R_{f_{}agua} + R_{f_{}crudo} + r_{0} \\frac{ln(\\frac{r_{0}}{r_{i}} )}{k} $$\n",
    "\n",
    "$$ \\frac{1}{U_{limpio}} = \\frac{1}{h_{0}} + \\frac{r_{0}}{r_{i}} \\frac{1}{h_{i}} + r_{0} \\frac{ln(\\frac{r_{0}}{r_{i}} )}{k} $$"
   ]
  },
  {
   "cell_type": "code",
   "execution_count": 224,
   "metadata": {},
   "outputs": [],
   "source": [
    "h_agua    = 5000 # kj/kg * k\n",
    "h_crudo   = 800 # kj/kg * k\n",
    "\n",
    "R_f_crudo = 0.000352 # m2 k/w\n",
    "R_f_agua  = 0.000176 # m2 k/w"
   ]
  },
  {
   "cell_type": "code",
   "execution_count": 225,
   "metadata": {},
   "outputs": [
    {
     "data": {
      "text/plain": [
       "535.7019576778205"
      ]
     },
     "execution_count": 225,
     "metadata": {},
     "output_type": "execute_result"
    }
   ],
   "source": [
    "U_ensuciamiento = (\n",
    "    1/h_crudo + \n",
    "    R_f_crudo + \n",
    "    (diametro_exterior / 2) * np.log(diametro_exterior/diametro_interior) / k_material +\n",
    "    (diametro_exterior / diametro_interior) * (1 / h_agua) \n",
    "    # diametro_exterior/diametro_interior*R_f_agua \n",
    ") ** -1\n",
    "U_ensuciamiento"
   ]
  },
  {
   "cell_type": "code",
   "execution_count": 226,
   "metadata": {},
   "outputs": [
    {
     "data": {
      "text/plain": [
       "660.192543934851"
      ]
     },
     "execution_count": 226,
     "metadata": {},
     "output_type": "execute_result"
    }
   ],
   "source": [
    "U_no_ensuciamiento = (\n",
    "    1/h_crudo + \n",
    "    (diametro_exterior / 2) * np.log(diametro_exterior/diametro_interior) / k_material +\n",
    "    (diametro_exterior / diametro_interior) * (1 / h_agua) \n",
    ") ** -1\n",
    "U_no_ensuciamiento"
   ]
  },
  {
   "cell_type": "code",
   "execution_count": 227,
   "metadata": {},
   "outputs": [
    {
     "name": "stdout",
     "output_type": "stream",
     "text": [
      "67.43749009204413 44\n",
      "54.887262211690185\n"
     ]
    }
   ],
   "source": [
    "diferencia_temperatura_1 = temperatura_entrada_crudo - temperatura_salida_agua\n",
    "diferencia_temperatura_2 = temperatura_salida_crudo - temperatura_entrada_agua\n",
    "print(diferencia_temperatura_1, diferencia_temperatura_2)\n",
    "\n",
    "diferencia_log_temperatura = (diferencia_temperatura_2 - diferencia_temperatura_1)/ np.log(diferencia_temperatura_2/diferencia_temperatura_1)\n",
    "print(diferencia_log_temperatura)"
   ]
  },
  {
   "cell_type": "markdown",
   "metadata": {},
   "source": [
    "Para el calculo de las el factor de correction se uso las tables del metodo de lmtd del moodle "
   ]
  },
  {
   "cell_type": "code",
   "execution_count": 228,
   "metadata": {},
   "outputs": [
    {
     "data": {
      "text/plain": [
       "2.728108606084446"
      ]
     },
     "execution_count": 228,
     "metadata": {},
     "output_type": "execute_result"
    }
   ],
   "source": [
    "R = (temperatura_entrada_crudo - temperatura_salida_crudo) / (temperatura_salida_agua- temperatura_entrada_agua)\n",
    "R"
   ]
  },
  {
   "cell_type": "code",
   "execution_count": 229,
   "metadata": {},
   "outputs": [
    {
     "data": {
      "text/plain": [
       "0.3665543218366454"
      ]
     },
     "execution_count": 229,
     "metadata": {},
     "output_type": "execute_result"
    }
   ],
   "source": [
    "P = 1 / R\n",
    "P"
   ]
  },
  {
   "cell_type": "code",
   "execution_count": 230,
   "metadata": {},
   "outputs": [],
   "source": [
    "F = 0.86"
   ]
  },
  {
   "cell_type": "code",
   "execution_count": 231,
   "metadata": {},
   "outputs": [],
   "source": [
    "diferencia_log_temperatura_corregida =  F * diferencia_log_temperatura"
   ]
  },
  {
   "cell_type": "code",
   "execution_count": 232,
   "metadata": {},
   "outputs": [
    {
     "name": "stdout",
     "output_type": "stream",
     "text": [
      "145.73632343520842 118.25524914851718\n"
     ]
    }
   ],
   "source": [
    "A_f = calor / (U_ensuciamiento * diferencia_log_temperatura_corregida)\n",
    "A_c = calor / (U_no_ensuciamiento * diferencia_log_temperatura_corregida)\n",
    "\n",
    "print(A_f, A_c)"
   ]
  },
  {
   "cell_type": "code",
   "execution_count": 233,
   "metadata": {},
   "outputs": [
    {
     "data": {
      "text/plain": [
       "0.23238777546506761"
      ]
     },
     "execution_count": 233,
     "metadata": {},
     "output_type": "execute_result"
    }
   ],
   "source": [
    "area_ratio =  A_f / A_c - 1\n",
    "area_ratio"
   ]
  },
  {
   "cell_type": "markdown",
   "metadata": {},
   "source": [
    "Se toma como referencia las siguientes dimisiones y parámetros de diseño"
   ]
  },
  {
   "cell_type": "code",
   "execution_count": 234,
   "metadata": {},
   "outputs": [],
   "source": [
    "Cl         = 1\n",
    "L          = 4   # m\n",
    "CTP        = 0.93 # One tube pass\n",
    "PitchRatio = 1.25"
   ]
  },
  {
   "cell_type": "code",
   "execution_count": 235,
   "metadata": {},
   "outputs": [
    {
     "name": "stdout",
     "output_type": "stream",
     "text": [
      "0.6869714372895942\n",
      "0.7\n"
     ]
    }
   ],
   "source": [
    "diametro_carcasa = 0.637 * (Cl / CTP * A_f * pow(PitchRatio, 2) * diametro_exterior/L)**(1/2) \n",
    "print(diametro_carcasa)\n",
    "diametro_carcasa = 0.7\n",
    "print(diametro_carcasa)"
   ]
  },
  {
   "cell_type": "code",
   "execution_count": 236,
   "metadata": {},
   "outputs": [
    {
     "name": "stdout",
     "output_type": "stream",
     "text": [
      "634.1930193905818\n"
     ]
    }
   ],
   "source": [
    "numeros_tubos = 0.785 * (CTP/Cl) * (diametro_carcasa)**2 /((PitchRatio * diametro_exterior)**2)\n",
    "print(numeros_tubos)"
   ]
  },
  {
   "cell_type": "markdown",
   "metadata": {},
   "source": [
    "Se supone un 60 %  del diámetro de la carcasa"
   ]
  },
  {
   "cell_type": "code",
   "execution_count": 237,
   "metadata": {},
   "outputs": [
    {
     "name": "stdout",
     "output_type": "stream",
     "text": [
      "espacio entre baffle 0.42\n",
      "espacio entre baffle 0.5\n"
     ]
    }
   ],
   "source": [
    "B = 0.6 * diametro_carcasa\n",
    "print('espacio entre baffle', B)\n",
    "B = 0.5\n",
    "print('espacio entre baffle', B)"
   ]
  },
  {
   "cell_type": "markdown",
   "metadata": {},
   "source": [
    "## Corrección método de kern"
   ]
  },
  {
   "cell_type": "code",
   "execution_count": 238,
   "metadata": {},
   "outputs": [],
   "source": [
    "numeros_tubos = 640"
   ]
  },
  {
   "cell_type": "code",
   "execution_count": 239,
   "metadata": {},
   "outputs": [
    {
     "name": "stdout",
     "output_type": "stream",
     "text": [
      "27.78125495397794\n"
     ]
    }
   ],
   "source": [
    "T_b = (temperatura_entrada_agua + temperatura_salida_agua) / 2\n",
    "print(T_b)"
   ]
  },
  {
   "cell_type": "code",
   "execution_count": 240,
   "metadata": {},
   "outputs": [],
   "source": [
    "Pitch_Size              = 0.0254 # m"
   ]
  },
  {
   "cell_type": "code",
   "execution_count": 241,
   "metadata": {},
   "outputs": [
    {
     "data": {
      "text/plain": [
       "0.024233853930596717"
      ]
     },
     "execution_count": 241,
     "metadata": {},
     "output_type": "execute_result"
    }
   ],
   "source": [
    "D_e = 4*(Pitch_Size**2 - np.pi*diametro_exterior**2/4)/(np.pi*diametro_exterior)\n",
    "D_e"
   ]
  },
  {
   "cell_type": "code",
   "execution_count": 242,
   "metadata": {},
   "outputs": [
    {
     "name": "stdout",
     "output_type": "stream",
     "text": [
      "0.0063999999999999994\n"
     ]
    }
   ],
   "source": [
    "C = Pitch_Size - diametro_exterior\n",
    "print(C)"
   ]
  },
  {
   "cell_type": "code",
   "execution_count": 243,
   "metadata": {},
   "outputs": [
    {
     "name": "stdout",
     "output_type": "stream",
     "text": [
      "0.04913385826771654\n"
     ]
    }
   ],
   "source": [
    "A_s = (0.39 * C * B) / Pitch_Size\n",
    "\n",
    "print(A_s)"
   ]
  },
  {
   "cell_type": "code",
   "execution_count": 244,
   "metadata": {},
   "outputs": [
    {
     "name": "stdout",
     "output_type": "stream",
     "text": [
      "2442.307692307692\n"
     ]
    }
   ],
   "source": [
    "G_s = caudal_de_crudo / A_s\n",
    "\n",
    "print(G_s)"
   ]
  },
  {
   "cell_type": "code",
   "execution_count": 245,
   "metadata": {},
   "outputs": [
    {
     "data": {
      "text/plain": [
       "{nHexane: 30, nOctane: 40, nDecane: 30}"
      ]
     },
     "execution_count": 245,
     "metadata": {},
     "output_type": "execute_result"
    }
   ],
   "source": [
    "components = [FluidsList.nHexane, FluidsList.nOctane, FluidsList.nDecane]\n",
    "fractions = [30, 40, 30]\n",
    "mixture = dict(zip(components, fractions))\n",
    "mixture"
   ]
  },
  {
   "cell_type": "code",
   "execution_count": null,
   "metadata": {},
   "outputs": [],
   "source": [
    "state_agua_kern = water.with_state(\n",
    "    Input.pressure(presion_agua),\n",
    "    Input.temperature(27),\n",
    ")\n",
    "state_agua_kern.as_dict()"
   ]
  },
  {
   "cell_type": "code",
   "execution_count": 246,
   "metadata": {},
   "outputs": [
    {
     "data": {
      "text/plain": [
       "{'compressibility': 0.006436783703957838,\n",
       " 'conductivity': 0.14217900216844762,\n",
       " 'critical_pressure': 2981833.4687300003,\n",
       " 'critical_temperature': 298.33744539093857,\n",
       " 'density': 689.7875540581897,\n",
       " 'dynamic_viscosity': None,\n",
       " 'enthalpy': -232835.11238757614,\n",
       " 'entropy': -574.4950106366606,\n",
       " 'fluids': [nHexane, nOctane, nDecane],\n",
       " 'fractions': [30, 40, 30],\n",
       " 'freezing_temperature': None,\n",
       " 'internal_energy': -232981.53428204704,\n",
       " 'kinematic_viscosity': None,\n",
       " 'max_pressure': 605929364.2590215,\n",
       " 'max_temperature': 394.3155003716736,\n",
       " 'min_pressure': 1.5799947781094636,\n",
       " 'min_temperature': -65.24557909004545,\n",
       " 'molar_mass': 0.1099927925291343,\n",
       " 'phase': Liquid,\n",
       " 'prandtl': None,\n",
       " 'pressure': 101000,\n",
       " 'quality': None,\n",
       " 'sound_speed': 1141.6373570898857,\n",
       " 'specific_heat': 2235.7944562489474,\n",
       " 'specific_volume': 0.0014497217210092503,\n",
       " 'surface_tension': None,\n",
       " 'temperature': 27.781254953977964,\n",
       " 'triple_pressure': 1.5799947781094636,\n",
       " 'triple_temperature': -65.24557909004545,\n",
       " 'units_system': SIWithCelsiusAndPercents}"
      ]
     },
     "execution_count": 246,
     "metadata": {},
     "output_type": "execute_result"
    }
   ],
   "source": [
    "crudo = Mixture(\n",
    "    components,\n",
    "    fractions=fractions,\n",
    ")\n",
    "estado_crudo =  crudo.with_state(\n",
    "    Input.pressure(101_000),\n",
    "    Input.temperature(T_b),\n",
    ")\n",
    "estado_crudo.as_dict()"
   ]
  },
  {
   "cell_type": "markdown",
   "metadata": {},
   "source": [
    "fuente https://www.slb.com/-/media/files/oilfield-review/heavy-oil-3-spanish#:~:text=La%20viscosidad%20de%20los%20petróleos,de%2020%20cP%20%5B0.02%20Pa."
   ]
  },
  {
   "cell_type": "code",
   "execution_count": 247,
   "metadata": {},
   "outputs": [
    {
     "name": "stdout",
     "output_type": "stream",
     "text": [
      "689.7875540581897 2235.7944562489474 0.001 0.14217900216844762 None\n"
     ]
    }
   ],
   "source": [
    "densidad_crudo_kern            = estado_crudo.density\n",
    "cp_crudo_kern                  = estado_crudo.specific_heat\n",
    "viscosidad_dinamica_crudo_kern = 0.001\n",
    "k_crudo_kern                   = estado_crudo.conductivity\n",
    "prandtl_crudo_kern             = estado_crudo.prandtl\n",
    "\n",
    "print(densidad_crudo_kern, cp_crudo_kern, viscosidad_dinamica_crudo_kern, k_crudo_kern, prandtl_crudo_kern)"
   ]
  },
  {
   "cell_type": "code",
   "execution_count": 248,
   "metadata": {},
   "outputs": [
    {
     "name": "stdout",
     "output_type": "stream",
     "text": [
      "Reynolds:  59186.52786895735\n"
     ]
    }
   ],
   "source": [
    "Re = G_s * D_e / viscosidad_dinamica_crudo_kern\n",
    "\n",
    "print('Reynolds: ', Re)"
   ]
  },
  {
   "cell_type": "code",
   "execution_count": 249,
   "metadata": {},
   "outputs": [
    {
     "data": {
      "text/plain": [
       "55.64062747698897"
      ]
     },
     "execution_count": 249,
     "metadata": {},
     "output_type": "execute_result"
    }
   ],
   "source": [
    "T_w = 1/2 * (\n",
    "    (temperatura_entrada_agua + temperatura_salida_agua)/2 +\n",
    "    (temperatura_entrada_crudo + temperatura_salida_crudo)/2\n",
    ")\n",
    "T_w"
   ]
  },
  {
   "cell_type": "code",
   "execution_count": 250,
   "metadata": {},
   "outputs": [
    {
     "data": {
      "text/plain": [
       "{'compressibility': 0.0013552347549151689,\n",
       " 'conductivity': 0.6467347002722287,\n",
       " 'critical_pressure': 22064000.0,\n",
       " 'critical_temperature': 373.946,\n",
       " 'density': 985.4258657289612,\n",
       " 'dynamic_viscosity': 0.0004985548423578504,\n",
       " 'enthalpy': 233094.944617429,\n",
       " 'entropy': 776.0879261429805,\n",
       " 'fraction': 100,\n",
       " 'freezing_temperature': None,\n",
       " 'internal_energy': 232889.29748852298,\n",
       " 'kinematic_viscosity': 5.059283094716093e-07,\n",
       " 'max_pressure': 1000000000.0,\n",
       " 'max_temperature': 1726.85,\n",
       " 'min_pressure': 611.6548008968684,\n",
       " 'min_temperature': 0.010000000000047748,\n",
       " 'molar_mass': 0.018015268,\n",
       " 'name': Water,\n",
       " 'phase': Liquid,\n",
       " 'prandtl': 3.2245626960404867,\n",
       " 'pressure': 202650,\n",
       " 'quality': None,\n",
       " 'sound_speed': 1548.102492741577,\n",
       " 'specific_heat': 4182.963260109866,\n",
       " 'specific_volume': 0.0010147896810687607,\n",
       " 'surface_tension': None,\n",
       " 'temperature': 55.64062747698898,\n",
       " 'triple_pressure': 611.6548008968684,\n",
       " 'triple_temperature': 0.010000000000047748,\n",
       " 'units_system': SIWithCelsiusAndPercents}"
      ]
     },
     "execution_count": 250,
     "metadata": {},
     "output_type": "execute_result"
    }
   ],
   "source": [
    "state_average = water.with_state(\n",
    "    Input.pressure(presion_agua),\n",
    "    Input.temperature(T_w),\n",
    ")\n",
    "state_average.as_dict()"
   ]
  },
  {
   "cell_type": "code",
   "execution_count": 251,
   "metadata": {},
   "outputs": [],
   "source": [
    "viscodiad_dinamica_agua_kern = state_average.dynamic_viscosity\n"
   ]
  },
  {
   "cell_type": "code",
   "execution_count": 252,
   "metadata": {},
   "outputs": [
    {
     "data": {
      "text/plain": [
       "2458.236773857342"
      ]
     },
     "execution_count": 252,
     "metadata": {},
     "output_type": "execute_result"
    }
   ],
   "source": [
    "h_0 = 0.36 * (D_e * G_s / viscosidad_dinamica_crudo_kern)**0.55  * (cp_crudo_kern * viscosidad_dinamica_crudo_kern / k_crudo_kern)**(1/3) * (viscosidad_dinamica_crudo_kern / viscodiad_dinamica_agua_kern)**0.14 * k_crudo_kern / D_e\n",
    "h_0"
   ]
  },
  {
   "cell_type": "code",
   "execution_count": 253,
   "metadata": {},
   "outputs": [
    {
     "data": {
      "text/plain": [
       "0.06433981754551896"
      ]
     },
     "execution_count": 253,
     "metadata": {},
     "output_type": "execute_result"
    }
   ],
   "source": [
    "A_tp = np.pi * diametro_interior**2/4 * numeros_tubos/2 \n",
    "A_tp"
   ]
  },
  {
   "cell_type": "code",
   "execution_count": 255,
   "metadata": {},
   "outputs": [
    {
     "name": "stdout",
     "output_type": "stream",
     "text": [
      "2.7038716172614667\n"
     ]
    }
   ],
   "source": [
    "u_m = caudal_de_crudo / (densidad_crudo_kern * A_tp)\n",
    "print(u_m)"
   ]
  },
  {
   "cell_type": "code",
   "execution_count": null,
   "metadata": {},
   "outputs": [],
   "source": [
    "Re = densidad * u_m * diametro_interior / viscosidad_dinamica_agua_kern\n",
    "Re"
   ]
  },
  {
   "cell_type": "code",
   "execution_count": null,
   "metadata": {},
   "outputs": [],
   "source": []
  }
 ],
 "metadata": {
  "kernelspec": {
   "display_name": "uni",
   "language": "python",
   "name": "python3"
  },
  "language_info": {
   "codemirror_mode": {
    "name": "ipython",
    "version": 3
   },
   "file_extension": ".py",
   "mimetype": "text/x-python",
   "name": "python",
   "nbconvert_exporter": "python",
   "pygments_lexer": "ipython3",
   "version": "3.10.13"
  }
 },
 "nbformat": 4,
 "nbformat_minor": 2
}
