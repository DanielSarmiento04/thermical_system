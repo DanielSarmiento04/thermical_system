{
 "cells": [
  {
   "cell_type": "markdown",
   "metadata": {},
   "source": [
    "# **Enunciado**\n",
    "\n",
    "## José Daniel Sarmiento Blanco 2192232\n",
    "\n",
    "Design a heat exchanger to be used as a crude oil cooler. 120 kg/s of crude oil enters to the heat exchanger at 102°C and leaves at 65°C. The coolant to be used is city water entering the tube side at 21°C with a flow rate of 65 kg/s. Pressure drop for the crude oil is limited to 150 kPa."
   ]
  },
  {
   "cell_type": "code",
   "execution_count": 147,
   "metadata": {},
   "outputs": [],
   "source": [
    "caudal_crudo             = 120 # kg/s\n",
    "temperatura_entrada_crudo   = 102 # ºC\n",
    "temperatura_salida_crudo    = 65  # ºC\n",
    "\n",
    "temperatura_entrada_agua    = 21  # ºC\n",
    "caudal_agua                 = 65  # kg/s\n",
    "\n",
    "presion_limite_crudo        = 150_000 # Pa"
   ]
  },
  {
   "cell_type": "code",
   "execution_count": 148,
   "metadata": {},
   "outputs": [],
   "source": [
    "from pyfluids import Fluid, FluidsList, Input, Mixture\n",
    "from core import ThermoFormules\n",
    "import numpy as np"
   ]
  },
  {
   "cell_type": "markdown",
   "metadata": {},
   "source": [
    "<p align=\"center\">\n",
    "  <img src=\"./diagrama.jpeg\" height =\"600px\">\n",
    "</p>"
   ]
  },
  {
   "cell_type": "markdown",
   "metadata": {},
   "source": [
    "## 0. Establecer valores pre-diseño"
   ]
  },
  {
   "cell_type": "code",
   "execution_count": 149,
   "metadata": {},
   "outputs": [],
   "source": [
    "k_material                            = 60    # W/ m * k\n",
    "diametro_interior                     = 16e-3 # m\n",
    "diametro_exterior                     = 19e-3 # m\n",
    "\n",
    "longitud                              = 4 #m               "
   ]
  },
  {
   "cell_type": "code",
   "execution_count": 150,
   "metadata": {},
   "outputs": [
    {
     "data": {
      "text/plain": [
       "Water"
      ]
     },
     "execution_count": 150,
     "metadata": {},
     "output_type": "execute_result"
    }
   ],
   "source": [
    "water = Fluid(FluidsList.Water)\n",
    "water.name"
   ]
  },
  {
   "cell_type": "markdown",
   "metadata": {},
   "source": [
    "### 0.1 Suposición\n",
    "\n",
    "[presión agua](https://blog.verti.es/hogar/presion-agua-casa/#:~:text=Lo%20habitual%20es%20que%20la,tengamos%20una%20presión%20u%20otra.)\n",
    "\n",
    "\n",
    "- Considere como material el acero al carbono, k = 60 W/m*k.\n",
    "- Diámetro de tubo de 3/4 in ( 19 mm exterior y 16 mm interior ).\n",
    "- Longitud de 4m"
   ]
  },
  {
   "cell_type": "code",
   "execution_count": 151,
   "metadata": {},
   "outputs": [],
   "source": [
    "presion_agua  = (2) * 101_325 # Pa\n",
    "presion_crudo = 413_000       # Pa"
   ]
  },
  {
   "cell_type": "markdown",
   "metadata": {},
   "source": [
    "### Composición del crudo"
   ]
  },
  {
   "cell_type": "code",
   "execution_count": 152,
   "metadata": {},
   "outputs": [
    {
     "data": {
      "text/plain": [
       "{nHexane: 30, nOctane: 40, nDecane: 30}"
      ]
     },
     "execution_count": 152,
     "metadata": {},
     "output_type": "execute_result"
    }
   ],
   "source": [
    "components = [FluidsList.nHexane, FluidsList.nOctane, FluidsList.nDecane]\n",
    "fractions = [30, 40, 30]\n",
    "mixture = dict(zip(components, fractions))\n",
    "mixture"
   ]
  },
  {
   "cell_type": "code",
   "execution_count": 153,
   "metadata": {},
   "outputs": [],
   "source": [
    "crudo = Mixture(\n",
    "    components,\n",
    "    fractions=fractions,\n",
    ")"
   ]
  },
  {
   "cell_type": "code",
   "execution_count": 154,
   "metadata": {},
   "outputs": [
    {
     "name": "stdout",
     "output_type": "stream",
     "text": [
      "83.5\n"
     ]
    }
   ],
   "source": [
    "temperatura_propiedades_crudo = (temperatura_entrada_crudo + temperatura_salida_crudo) / 2\n",
    "print(temperatura_propiedades_crudo )#+ 273.15)\n",
    "\n",
    "cp_propiedades_crudo =  0.83 * 1000  # J/kg k"
   ]
  },
  {
   "cell_type": "markdown",
   "metadata": {},
   "source": [
    "## 1. Termodinámica"
   ]
  },
  {
   "cell_type": "markdown",
   "metadata": {},
   "source": [
    "$$ \\dot{Q} = (\\dot{m} *C_{p})_{crudo} * (T_{c1} -T_{c2})$$"
   ]
  },
  {
   "cell_type": "code",
   "execution_count": 155,
   "metadata": {},
   "outputs": [
    {
     "name": "stdout",
     "output_type": "stream",
     "text": [
      "83.5\n"
     ]
    }
   ],
   "source": [
    "temperatura_propiedades_crudo = (temperatura_entrada_crudo + temperatura_salida_crudo) / 2\n",
    "print(temperatura_propiedades_crudo) #+ 273.15)\n",
    "\n",
    "cp_propiedades_crudo =  0.83 * 1000  # J/kg k"
   ]
  },
  {
   "cell_type": "code",
   "execution_count": 156,
   "metadata": {},
   "outputs": [
    {
     "data": {
      "text/plain": [
       "3685200.0"
      ]
     },
     "execution_count": 156,
     "metadata": {},
     "output_type": "execute_result"
    }
   ],
   "source": [
    "calor = caudal_crudo * cp_propiedades_crudo * (temperatura_entrada_crudo - temperatura_salida_crudo ) \n",
    "calor"
   ]
  },
  {
   "cell_type": "code",
   "execution_count": 157,
   "metadata": {},
   "outputs": [
    {
     "data": {
      "text/plain": [
       "{'compressibility': 0.0014376012709739205,\n",
       " 'conductivity': 0.6203366408703609,\n",
       " 'critical_pressure': 22064000.0,\n",
       " 'critical_temperature': 373.946,\n",
       " 'density': 994.417937160409,\n",
       " 'dynamic_viscosity': 0.0007337301352239351,\n",
       " 'enthalpy': 142631.9153801642,\n",
       " 'entropy': 491.47808690964223,\n",
       " 'fraction': 100,\n",
       " 'freezing_temperature': None,\n",
       " 'internal_energy': 142428.1278251999,\n",
       " 'kinematic_viscosity': 7.378488538924831e-07,\n",
       " 'max_pressure': 1000000000.0,\n",
       " 'max_temperature': 1726.85,\n",
       " 'min_pressure': 611.6548008968684,\n",
       " 'min_temperature': 0.010000000000047748,\n",
       " 'molar_mass': 0.018015268,\n",
       " 'name': Water,\n",
       " 'phase': Liquid,\n",
       " 'prandtl': 4.942945501085879,\n",
       " 'pressure': 202650,\n",
       " 'quality': None,\n",
       " 'sound_speed': 1518.0155752419128,\n",
       " 'specific_heat': 4179.043576032273,\n",
       " 'specific_volume': 0.0010056133971753675,\n",
       " 'surface_tension': None,\n",
       " 'temperature': 34.0,\n",
       " 'triple_pressure': 611.6548008968684,\n",
       " 'triple_temperature': 0.010000000000047748,\n",
       " 'units_system': SIWithCelsiusAndPercents}"
      ]
     },
     "execution_count": 157,
     "metadata": {},
     "output_type": "execute_result"
    }
   ],
   "source": [
    "estado_agua_propiedades = water.with_state(\n",
    "    Input.pressure(presion_agua),\n",
    "    Input.temperature(34),\n",
    ")\n",
    "estado_agua_propiedades.as_dict()"
   ]
  },
  {
   "cell_type": "code",
   "execution_count": 158,
   "metadata": {},
   "outputs": [],
   "source": [
    "cp_agua                         = estado_agua_propiedades.specific_heat # J /kg k\n",
    "viscosidad_dinamica_agua        = estado_agua_propiedades.dynamic_viscosity # Pa * s\n",
    "densidad_agua                   = estado_agua_propiedades.density # kg / m3\n",
    "k_agua                          = estado_agua_propiedades.conductivity # W / m k\n",
    "prandl_agua                     = estado_agua_propiedades.prandtl"
   ]
  },
  {
   "cell_type": "markdown",
   "metadata": {},
   "source": [
    "$$ \\dot{Q} = (\\dot{m} *C_{p})_{agua} * (T_{w1} - T_{w2})$$"
   ]
  },
  {
   "cell_type": "code",
   "execution_count": 159,
   "metadata": {},
   "outputs": [
    {
     "name": "stdout",
     "output_type": "stream",
     "text": [
      "la temperatura de lsa salida del agua del agua es:  34.566593308704654\n"
     ]
    }
   ],
   "source": [
    "temperatura_salida_agua = temperatura_entrada_agua + calor / (caudal_agua * cp_agua)\n",
    "print(\"la temperatura de lsa salida del agua del agua es: \", temperatura_salida_agua)"
   ]
  },
  {
   "cell_type": "markdown",
   "metadata": {},
   "source": [
    "## 2. Transferencia de calor"
   ]
  },
  {
   "cell_type": "markdown",
   "metadata": {},
   "source": [
    "<p align=\"center\">\n",
    "  <img src=\"./resistencia.jpeg\" height =\"200px\">\n",
    "</p>"
   ]
  },
  {
   "cell_type": "markdown",
   "metadata": {},
   "source": [
    "### 2.1 Calculo de una U estimada"
   ]
  },
  {
   "cell_type": "markdown",
   "metadata": {},
   "source": [
    "Asuma los coeficiente de trasferencia de calor\n",
    "\n",
    "$$ \\frac{1}{U_{ensuciamiento}} = \\frac{r_{0}}{r_{i}} \\frac{1}{h_{i}} + \\frac{r_{0}}{r_{1}}*R_{f_{}i} + r_{0} \\frac{ln(\\frac{r_{0}}{r_{i}} )}{k} + R_{f_{}o} + \\frac{1}{h_{0}} $$\n",
    "\n",
    "\n",
    "\n",
    "$$ \\frac{1}{U_{limpio}} = \\frac{r_{0}}{r_{i}} \\frac{1}{h_{i}} + r_{0} \\frac{ln(\\frac{r_{0}}{r_{i}} )}{k} + \\frac{1}{h_{0}}$$\n",
    "\n",
    "En este caso\n",
    "- $ r_{0} $ -> radio exterior\n",
    "- $ r_{i} $ -> radio interior\n",
    "\n",
    "- $ h_{0} $ -> coeficiente de convección en la carcasa\n",
    "- $ h_{i} $ -> coeficiente de convección en el tubo"
   ]
  },
  {
   "cell_type": "code",
   "execution_count": 215,
   "metadata": {},
   "outputs": [],
   "source": [
    "h_agua    = 4500     # kj/kg * k\n",
    "h_crudo   = 800      # kj/kg * k\n",
    "\n",
    "R_f_crudo = 0.000352 # m2 k/w\n",
    "R_f_agua  = 0.000176 # m2 k/w"
   ]
  },
  {
   "cell_type": "code",
   "execution_count": 228,
   "metadata": {},
   "outputs": [
    {
     "data": {
      "text/plain": [
       "429.5889075234658"
      ]
     },
     "execution_count": 228,
     "metadata": {},
     "output_type": "execute_result"
    }
   ],
   "source": [
    "U_ensuciamiento = (\n",
    "    (diametro_exterior / diametro_interior) * 1 / h_crudo\n",
    "    + (diametro_exterior / diametro_interior) * R_f_crudo\n",
    "    + (diametro_exterior / 2) * np.log(diametro_exterior/diametro_interior) / k_material\n",
    "    + R_f_agua\n",
    "    + 1 / h_agua\n",
    ") ** -1 \n",
    "U_ensuciamiento"
   ]
  },
  {
   "cell_type": "code",
   "execution_count": 217,
   "metadata": {},
   "outputs": [
    {
     "data": {
      "text/plain": [
       "576.7655158192335"
      ]
     },
     "execution_count": 217,
     "metadata": {},
     "output_type": "execute_result"
    }
   ],
   "source": [
    "U_no_ensuciamiento = (\n",
    "    (diametro_exterior / diametro_interior) * 1 / h_crudo\n",
    "    + (diametro_exterior / 2) * np.log(diametro_exterior / diametro_interior) / k_material\n",
    "    + 1 / h_agua\n",
    ") ** -1\n",
    "U_no_ensuciamiento"
   ]
  },
  {
   "cell_type": "markdown",
   "metadata": {},
   "source": [
    "### 2.2 Calculo de la diferencia media logarítmica"
   ]
  },
  {
   "cell_type": "code",
   "execution_count": 234,
   "metadata": {},
   "outputs": [
    {
     "name": "stdout",
     "output_type": "stream",
     "text": [
      "diferencia de temperatura sección 1: 67.43 ºC\n",
      "diferencia de temperatura sección 2: 44.00 ºC\n",
      "diferencia media logarítmica: 54.89 ºC\n"
     ]
    }
   ],
   "source": [
    "diferencia_temperatura_1 = temperatura_entrada_crudo - temperatura_salida_agua\n",
    "diferencia_temperatura_2 = temperatura_salida_crudo - temperatura_entrada_agua\n",
    "print(f\"diferencia de temperatura sección 1: {diferencia_temperatura_1:.2f} ºC\" )\n",
    "print(f\"diferencia de temperatura sección 2: {diferencia_temperatura_2:.2f} ºC\" )\n",
    "\n",
    "diferencia_log_temperatura = (diferencia_temperatura_2 - diferencia_temperatura_1)/ np.log(diferencia_temperatura_2/diferencia_temperatura_1)\n",
    "print(f\"diferencia media logarítmica: {diferencia_log_temperatura:.2f} ºC\")"
   ]
  },
  {
   "cell_type": "markdown",
   "metadata": {},
   "source": [
    "Para el calculo de las el factor de correction se uso las tables del metodo de lmtd del moodle "
   ]
  },
  {
   "cell_type": "code",
   "execution_count": 235,
   "metadata": {},
   "outputs": [
    {
     "name": "stdout",
     "output_type": "stream",
     "text": [
      "{'R': 2.727287474318251, 'P': 0.36666468401904473}\n"
     ]
    }
   ],
   "source": [
    "R = (temperatura_entrada_crudo - temperatura_salida_crudo) / (temperatura_salida_agua- temperatura_entrada_agua)\n",
    "P = 1 / R\n",
    "print({\"R\":R, \"P\":P})"
   ]
  },
  {
   "cell_type": "markdown",
   "metadata": {},
   "source": [
    "Teniendo en cuenta las gráficas de moodle"
   ]
  },
  {
   "cell_type": "code",
   "execution_count": 221,
   "metadata": {},
   "outputs": [],
   "source": [
    "F = 0.86"
   ]
  },
  {
   "cell_type": "code",
   "execution_count": 222,
   "metadata": {},
   "outputs": [],
   "source": [
    "diferencia_log_temperatura_corregida =  F * diferencia_log_temperatura"
   ]
  },
  {
   "cell_type": "markdown",
   "metadata": {},
   "source": [
    "### Calculo de la relación de area"
   ]
  },
  {
   "cell_type": "code",
   "execution_count": 223,
   "metadata": {},
   "outputs": [
    {
     "name": "stdout",
     "output_type": "stream",
     "text": [
      "181.7406452013175 135.3648286578791\n"
     ]
    }
   ],
   "source": [
    "A_f = calor / (U_ensuciamiento * diferencia_log_temperatura_corregida)\n",
    "A_c = calor / (U_no_ensuciamiento * diferencia_log_temperatura_corregida)\n",
    "\n",
    "print(A_f, A_c)"
   ]
  },
  {
   "cell_type": "code",
   "execution_count": 224,
   "metadata": {},
   "outputs": [
    {
     "data": {
      "text/plain": [
       "0.34259871639662465"
      ]
     },
     "execution_count": 224,
     "metadata": {},
     "output_type": "execute_result"
    }
   ],
   "source": [
    "area_ratio =  A_f / A_c - 1\n",
    "area_ratio"
   ]
  },
  {
   "cell_type": "markdown",
   "metadata": {},
   "source": [
    "Se toma como referencia las siguientes dimisiones y parámetros de diseño"
   ]
  },
  {
   "cell_type": "code",
   "execution_count": 170,
   "metadata": {},
   "outputs": [],
   "source": [
    "Cl         = 1\n",
    "L          = 4   # m\n",
    "CTP        = 0.93 # One tube pass\n",
    "PitchRatio = 1.25"
   ]
  },
  {
   "cell_type": "code",
   "execution_count": 171,
   "metadata": {},
   "outputs": [
    {
     "name": "stdout",
     "output_type": "stream",
     "text": [
      "0.7579967962632624\n",
      "0.7\n"
     ]
    }
   ],
   "source": [
    "diametro_carcasa = 0.637 * (Cl / CTP * A_f * pow(PitchRatio, 2) * diametro_exterior/L)**(1/2) \n",
    "print(diametro_carcasa)\n",
    "diametro_carcasa = 0.7\n",
    "print(diametro_carcasa)"
   ]
  },
  {
   "cell_type": "code",
   "execution_count": 172,
   "metadata": {},
   "outputs": [
    {
     "name": "stdout",
     "output_type": "stream",
     "text": [
      "634.1930193905818\n"
     ]
    }
   ],
   "source": [
    "numeros_tubos = 0.785 * (CTP/Cl) * (diametro_carcasa)**2 /((PitchRatio * diametro_exterior)**2)\n",
    "print(numeros_tubos)"
   ]
  },
  {
   "cell_type": "markdown",
   "metadata": {},
   "source": [
    "Se supone un 60 %  del diámetro de la carcasa"
   ]
  },
  {
   "cell_type": "code",
   "execution_count": 173,
   "metadata": {},
   "outputs": [
    {
     "name": "stdout",
     "output_type": "stream",
     "text": [
      "espacio entre baffle 0.42\n",
      "espacio entre baffle 0.5\n"
     ]
    }
   ],
   "source": [
    "B = 0.6 * diametro_carcasa\n",
    "print('espacio entre baffle', B)\n",
    "B = 0.5\n",
    "print('espacio entre baffle', B)"
   ]
  },
  {
   "cell_type": "markdown",
   "metadata": {},
   "source": [
    "## Corrección método de kern"
   ]
  },
  {
   "cell_type": "code",
   "execution_count": 174,
   "metadata": {},
   "outputs": [],
   "source": [
    "numeros_tubos = 640"
   ]
  },
  {
   "cell_type": "code",
   "execution_count": 175,
   "metadata": {},
   "outputs": [
    {
     "name": "stdout",
     "output_type": "stream",
     "text": [
      "27.783296654352327\n"
     ]
    }
   ],
   "source": [
    "T_b = (temperatura_entrada_agua + temperatura_salida_agua) / 2\n",
    "print(T_b)"
   ]
  },
  {
   "cell_type": "code",
   "execution_count": 176,
   "metadata": {},
   "outputs": [],
   "source": [
    "Pitch_Size              = 0.0254 # m"
   ]
  },
  {
   "cell_type": "code",
   "execution_count": 177,
   "metadata": {},
   "outputs": [
    {
     "data": {
      "text/plain": [
       "0.024233853930596717"
      ]
     },
     "execution_count": 177,
     "metadata": {},
     "output_type": "execute_result"
    }
   ],
   "source": [
    "D_e = 4*(Pitch_Size**2 - np.pi*diametro_exterior**2/4)/(np.pi*diametro_exterior)\n",
    "D_e"
   ]
  },
  {
   "cell_type": "code",
   "execution_count": 178,
   "metadata": {},
   "outputs": [
    {
     "name": "stdout",
     "output_type": "stream",
     "text": [
      "0.0063999999999999994\n"
     ]
    }
   ],
   "source": [
    "C = Pitch_Size - diametro_exterior\n",
    "print(C)"
   ]
  },
  {
   "cell_type": "code",
   "execution_count": 179,
   "metadata": {},
   "outputs": [
    {
     "name": "stdout",
     "output_type": "stream",
     "text": [
      "0.04913385826771654\n"
     ]
    }
   ],
   "source": [
    "A_s = (0.39 * C * B) / Pitch_Size\n",
    "\n",
    "print(A_s)"
   ]
  },
  {
   "cell_type": "code",
   "execution_count": 180,
   "metadata": {},
   "outputs": [
    {
     "name": "stdout",
     "output_type": "stream",
     "text": [
      "2442.307692307692\n"
     ]
    }
   ],
   "source": [
    "G_s = caudal_crudo / A_s\n",
    "\n",
    "print(G_s)"
   ]
  },
  {
   "cell_type": "code",
   "execution_count": 181,
   "metadata": {},
   "outputs": [
    {
     "data": {
      "text/plain": [
       "{'compressibility': 0.0014644647194993476,\n",
       " 'conductivity': 0.6110301728439101,\n",
       " 'critical_pressure': 22064000.0,\n",
       " 'critical_temperature': 373.946,\n",
       " 'density': 996.3427400551607,\n",
       " 'dynamic_viscosity': 0.0008363303275519409,\n",
       " 'enthalpy': 116649.56106539103,\n",
       " 'entropy': 406.01851083797783,\n",
       " 'fraction': 100,\n",
       " 'freezing_temperature': None,\n",
       " 'internal_energy': 116446.16720124884,\n",
       " 'kinematic_viscosity': 8.394002323995847e-07,\n",
       " 'max_pressure': 1000000000.0,\n",
       " 'max_temperature': 1726.85,\n",
       " 'min_pressure': 611.6548008968684,\n",
       " 'min_temperature': 0.010000000000047748,\n",
       " 'molar_mass': 0.018015268,\n",
       " 'name': Water,\n",
       " 'phase': Liquid,\n",
       " 'prandtl': 5.721351230984074,\n",
       " 'pressure': 202650,\n",
       " 'quality': None,\n",
       " 'sound_speed': 1504.0295438369426,\n",
       " 'specific_heat': 4180.068707781974,\n",
       " 'specific_volume': 0.0010036706845925698,\n",
       " 'surface_tension': None,\n",
       " 'temperature': 27.78329665435234,\n",
       " 'triple_pressure': 611.6548008968684,\n",
       " 'triple_temperature': 0.010000000000047748,\n",
       " 'units_system': SIWithCelsiusAndPercents}"
      ]
     },
     "execution_count": 181,
     "metadata": {},
     "output_type": "execute_result"
    }
   ],
   "source": [
    "state_agua_kern = water.with_state(\n",
    "    Input.pressure(presion_agua),\n",
    "    Input.temperature(T_b),\n",
    ")\n",
    "state_agua_kern.as_dict()"
   ]
  },
  {
   "cell_type": "code",
   "execution_count": 182,
   "metadata": {},
   "outputs": [
    {
     "name": "stdout",
     "output_type": "stream",
     "text": [
      "996.3427400551607 4180.068707781974 0.0008363303275519409 0.6110301728439101 5.721351230984074\n"
     ]
    }
   ],
   "source": [
    "densidad_agua_kern            = state_agua_kern.density\n",
    "cp_agua_kern                  = state_agua_kern.specific_heat\n",
    "viscosidad_dinamica_agua_kern = state_agua_kern.dynamic_viscosity\n",
    "k_agua_kern                   = state_agua_kern.conductivity\n",
    "prandtl_agua_kern             = state_agua_kern.prandtl\n",
    "\n",
    "print(densidad_agua_kern, cp_agua_kern, viscosidad_dinamica_agua_kern, k_agua_kern, prandtl_agua_kern)"
   ]
  },
  {
   "cell_type": "code",
   "execution_count": 183,
   "metadata": {},
   "outputs": [
    {
     "data": {
      "text/plain": [
       "{'compressibility': 0.006436755777148306,\n",
       " 'conductivity': 0.14217831788022434,\n",
       " 'critical_pressure': 2981833.4687300003,\n",
       " 'critical_temperature': 298.33744539093857,\n",
       " 'density': 689.7858668774503,\n",
       " 'dynamic_viscosity': None,\n",
       " 'enthalpy': -232830.54755720525,\n",
       " 'entropy': -574.4798416742174,\n",
       " 'fluids': [nHexane, nOctane, nDecane],\n",
       " 'fractions': [30, 40, 30],\n",
       " 'freezing_temperature': None,\n",
       " 'internal_energy': -232976.9698098167,\n",
       " 'kinematic_viscosity': None,\n",
       " 'max_pressure': 605929364.2590215,\n",
       " 'max_temperature': 394.3155003716736,\n",
       " 'min_pressure': 1.5799947781094636,\n",
       " 'min_temperature': -65.24557909004545,\n",
       " 'molar_mass': 0.1099927925291343,\n",
       " 'phase': Liquid,\n",
       " 'prandtl': None,\n",
       " 'pressure': 101000,\n",
       " 'quality': None,\n",
       " 'sound_speed': 1141.6288890694889,\n",
       " 'specific_heat': 2235.802285290991,\n",
       " 'specific_volume': 0.0014497252669539884,\n",
       " 'surface_tension': None,\n",
       " 'temperature': 27.78329665435234,\n",
       " 'triple_pressure': 1.5799947781094636,\n",
       " 'triple_temperature': -65.24557909004545,\n",
       " 'units_system': SIWithCelsiusAndPercents}"
      ]
     },
     "execution_count": 183,
     "metadata": {},
     "output_type": "execute_result"
    }
   ],
   "source": [
    "crudo = Mixture(\n",
    "    components,\n",
    "    fractions=fractions,\n",
    ")\n",
    "estado_crudo =  crudo.with_state(\n",
    "    Input.pressure(101_000),\n",
    "    Input.temperature(T_b),\n",
    ")\n",
    "estado_crudo.as_dict()"
   ]
  },
  {
   "cell_type": "code",
   "execution_count": 184,
   "metadata": {},
   "outputs": [
    {
     "name": "stdout",
     "output_type": "stream",
     "text": [
      "689.7858668774503 2235.802285290991 0.001 0.14217831788022434 None\n"
     ]
    }
   ],
   "source": [
    "densidad_crudo_kern            = estado_crudo.density\n",
    "cp_crudo_kern                  = estado_crudo.specific_heat\n",
    "viscosidad_dinamica_crudo_kern = 0.001\n",
    "k_crudo_kern                   = estado_crudo.conductivity\n",
    "prandtl_crudo_kern             = estado_crudo.prandtl\n",
    "\n",
    "print(densidad_crudo_kern, cp_crudo_kern, viscosidad_dinamica_crudo_kern, k_crudo_kern, prandtl_crudo_kern)"
   ]
  },
  {
   "cell_type": "code",
   "execution_count": 185,
   "metadata": {},
   "outputs": [
    {
     "name": "stdout",
     "output_type": "stream",
     "text": [
      "Reynolds:  59186.52786895735\n"
     ]
    }
   ],
   "source": [
    "Re = G_s * D_e / viscosidad_dinamica_crudo_kern\n",
    "\n",
    "print('Reynolds: ', Re)"
   ]
  },
  {
   "cell_type": "code",
   "execution_count": 186,
   "metadata": {},
   "outputs": [
    {
     "data": {
      "text/plain": [
       "55.64164832717616"
      ]
     },
     "execution_count": 186,
     "metadata": {},
     "output_type": "execute_result"
    }
   ],
   "source": [
    "T_w = 1/2 * (\n",
    "    (temperatura_entrada_agua + temperatura_salida_agua)/2 +\n",
    "    (temperatura_entrada_crudo + temperatura_salida_crudo)/2\n",
    ")\n",
    "T_w"
   ]
  },
  {
   "cell_type": "code",
   "execution_count": 187,
   "metadata": {},
   "outputs": [
    {
     "data": {
      "text/plain": [
       "{'compressibility': 0.0013552312320620485,\n",
       " 'conductivity': 0.6467357483177187,\n",
       " 'critical_pressure': 22064000.0,\n",
       " 'critical_temperature': 373.946,\n",
       " 'density': 985.4253674034841,\n",
       " 'dynamic_viscosity': 0.0004985467955942873,\n",
       " 'enthalpy': 233099.21479641055,\n",
       " 'entropy': 776.1009136555505,\n",
       " 'fraction': 100,\n",
       " 'freezing_temperature': None,\n",
       " 'internal_energy': 232893.56756356746,\n",
       " 'kinematic_viscosity': 5.059203995406752e-07,\n",
       " 'max_pressure': 1000000000.0,\n",
       " 'max_temperature': 1726.85,\n",
       " 'min_pressure': 611.6548008968684,\n",
       " 'min_temperature': 0.010000000000047748,\n",
       " 'molar_mass': 0.018015268,\n",
       " 'name': Water,\n",
       " 'phase': Liquid,\n",
       " 'prandtl': 3.2245057186580506,\n",
       " 'pressure': 202650,\n",
       " 'quality': None,\n",
       " 'sound_speed': 1548.1033156097012,\n",
       " 'specific_heat': 4182.963640203917,\n",
       " 'specific_volume': 0.0010147901942436483,\n",
       " 'surface_tension': None,\n",
       " 'temperature': 55.64164832717614,\n",
       " 'triple_pressure': 611.6548008968684,\n",
       " 'triple_temperature': 0.010000000000047748,\n",
       " 'units_system': SIWithCelsiusAndPercents}"
      ]
     },
     "execution_count": 187,
     "metadata": {},
     "output_type": "execute_result"
    }
   ],
   "source": [
    "state_average = water.with_state(\n",
    "    Input.pressure(presion_agua),\n",
    "    Input.temperature(T_w),\n",
    ")\n",
    "state_average.as_dict()"
   ]
  },
  {
   "cell_type": "code",
   "execution_count": 188,
   "metadata": {},
   "outputs": [
    {
     "data": {
      "text/plain": [
       "0.0004985467955942873"
      ]
     },
     "execution_count": 188,
     "metadata": {},
     "output_type": "execute_result"
    }
   ],
   "source": [
    "viscodiad_dinamica_agua_kern = state_average.dynamic_viscosity\n",
    "viscodiad_dinamica_agua_kern"
   ]
  },
  {
   "cell_type": "code",
   "execution_count": 189,
   "metadata": {},
   "outputs": [
    {
     "data": {
      "text/plain": [
       "2458.2373104527564"
      ]
     },
     "execution_count": 189,
     "metadata": {},
     "output_type": "execute_result"
    }
   ],
   "source": [
    "h_0 = 0.36 * (D_e * G_s / viscosidad_dinamica_crudo_kern)**0.55  * (cp_crudo_kern * viscosidad_dinamica_crudo_kern / k_crudo_kern)**(1/3) * (viscosidad_dinamica_crudo_kern / viscodiad_dinamica_agua_kern)**0.14 * k_crudo_kern / D_e\n",
    "h_0"
   ]
  },
  {
   "cell_type": "code",
   "execution_count": 190,
   "metadata": {},
   "outputs": [
    {
     "data": {
      "text/plain": [
       "0.06433981754551896"
      ]
     },
     "execution_count": 190,
     "metadata": {},
     "output_type": "execute_result"
    }
   ],
   "source": [
    "A_tp = np.pi * diametro_interior**2/4 * numeros_tubos/2 \n",
    "A_tp"
   ]
  },
  {
   "cell_type": "code",
   "execution_count": 191,
   "metadata": {},
   "outputs": [
    {
     "name": "stdout",
     "output_type": "stream",
     "text": [
      "1.0139692182428435\n"
     ]
    }
   ],
   "source": [
    "u_m = caudal_agua / (densidad_agua_kern * A_tp)\n",
    "print(u_m)"
   ]
  },
  {
   "cell_type": "code",
   "execution_count": 192,
   "metadata": {},
   "outputs": [
    {
     "data": {
      "text/plain": [
       "19327.499404554037"
      ]
     },
     "execution_count": 192,
     "metadata": {},
     "output_type": "execute_result"
    }
   ],
   "source": [
    "Re = densidad_agua_kern * u_m * diametro_interior / viscosidad_dinamica_agua_kern\n",
    "Re"
   ]
  },
  {
   "cell_type": "markdown",
   "metadata": {},
   "source": [
    "### Como el fluido es turbulento se usa correlación de  Grielinki's"
   ]
  },
  {
   "cell_type": "code",
   "execution_count": 193,
   "metadata": {},
   "outputs": [
    {
     "data": {
      "text/plain": [
       "0.0065953698516935284"
      ]
     },
     "execution_count": 193,
     "metadata": {},
     "output_type": "execute_result"
    }
   ],
   "source": [
    "f = (1.58*np.log(Re) - 3.28)**-2\n",
    "f"
   ]
  },
  {
   "cell_type": "code",
   "execution_count": 194,
   "metadata": {},
   "outputs": [
    {
     "data": {
      "text/plain": [
       "132.8089134819997"
      ]
     },
     "execution_count": 194,
     "metadata": {},
     "output_type": "execute_result"
    }
   ],
   "source": [
    "Nu_b = (f/2)*(Re - 1000)*prandtl_agua_kern/(1 + 12.7*(f/2)**(1/2)*(prandtl_agua_kern**(2/3) - 1))\n",
    "Nu_b"
   ]
  },
  {
   "cell_type": "code",
   "execution_count": 195,
   "metadata": {},
   "outputs": [
    {
     "name": "stdout",
     "output_type": "stream",
     "text": [
      "5071.890835007386\n"
     ]
    }
   ],
   "source": [
    "h_i = Nu_b * k_agua_kern/diametro_interior\n",
    "print(h_i)"
   ]
  },
  {
   "cell_type": "code",
   "execution_count": 201,
   "metadata": {},
   "outputs": [
    {
     "data": {
      "text/plain": [
       "920.6926723779326"
      ]
     },
     "execution_count": 201,
     "metadata": {},
     "output_type": "execute_result"
    }
   ],
   "source": [
    "U_f = (\n",
    "    diametro_exterior / (diametro_interior * h_i) + \n",
    "    diametro_exterior / diametro_interior * R_f_crudo + \n",
    "    diametro_exterior * np.log(diametro_exterior / diametro_interior) / (2 * k_material) + \n",
    "    1/h_0\n",
    ") ** -1\n",
    "U_f"
   ]
  },
  {
   "cell_type": "code",
   "execution_count": 200,
   "metadata": {},
   "outputs": [
    {
     "data": {
      "text/plain": [
       "1496.695081669341"
      ]
     },
     "execution_count": 200,
     "metadata": {},
     "output_type": "execute_result"
    }
   ],
   "source": [
    "U_c = (\n",
    "    diametro_exterior / (diametro_interior * h_i) + \n",
    "    diametro_exterior * np.log(diametro_exterior / diametro_interior) / (2 * k_material) + \n",
    "    1 / h_0\n",
    ") ** -1\n",
    "U_c"
   ]
  },
  {
   "cell_type": "code",
   "execution_count": 198,
   "metadata": {},
   "outputs": [
    {
     "name": "stdout",
     "output_type": "stream",
     "text": [
      "0.2727597254007179\n",
      "7.0\n",
      "1.025338114643251\n"
     ]
    },
    {
     "data": {
      "text/plain": [
       "102519.68178099226"
      ]
     },
     "execution_count": 198,
     "metadata": {},
     "output_type": "execute_result"
    }
   ],
   "source": [
    "f = np.e**(0.576 - 0.19*np.log(Re))\n",
    "print(f)\n",
    "\n",
    "N_b = longitud / B - 1 \n",
    "print(N_b)\n",
    "\n",
    "sigma = (viscosidad_dinamica_crudo_kern / viscosidad_dinamica_agua_kern)**0.14\n",
    "print(sigma)\n",
    "\n",
    "diferencia_presion = f * G_s ** 2 * (N_b + 1) * 0.39 / (sigma * 2 * densidad_agua_kern * D_e)\n",
    "diferencia_presion"
   ]
  },
  {
   "cell_type": "code",
   "execution_count": 199,
   "metadata": {},
   "outputs": [
    {
     "data": {
      "text/plain": [
       "58.851783401904335"
      ]
     },
     "execution_count": 199,
     "metadata": {},
     "output_type": "execute_result"
    }
   ],
   "source": [
    "area = calor /(U_f * diferencia_log_temperatura)\n",
    "area"
   ]
  },
  {
   "cell_type": "markdown",
   "metadata": {},
   "source": [
    "### da una diferencia de presión inferior a 150kpa (85090) por ende cumple con los requerimientos\n"
   ]
  },
  {
   "cell_type": "markdown",
   "metadata": {},
   "source": [
    "![](./matches.png)"
   ]
  },
  {
   "cell_type": "markdown",
   "metadata": {},
   "source": [
    "### Resultados de la evaluación de diseño\n",
    "\n",
    "- Material = Acero al carbono k = 60 W/mk\n",
    "- Longitud del intercambiador = 4 m\n",
    "- Numero de tubos = 640\n",
    "- Coeficientes de convección\n",
    "    - Agua : 5071.76 W/mk\n",
    "    - Crudo : 2458.236773857342\n",
    "\n",
    "\n",
    "    \n",
    "\n",
    "- Diámetro de la carcasa: 0.7 m\n",
    "- La distribución de los tubos en cuadrada\n",
    "- Un Pitch_Size de 0.0254 m\n",
    "\n",
    "- Temperaturas de trabajo\n",
    "    - Agua :\n",
    "        - Entrada : 21 º C\n",
    "        - Salida  : 34.5 º C\n",
    "    - Crudo :\n",
    "        - Entrada : 102 ºC\n",
    "        - Salida  : 65  ºC\n"
   ]
  },
  {
   "cell_type": "markdown",
   "metadata": {},
   "source": [
    "## Referencias\n",
    "- Abdulagatov, I.M., Abdulagatova, Z.Z., Grigor’ev, B.A. et al. Thermal Diffusivity, Heat Capacity, and Thermal Conductivity of Oil Reservoir Rock at High Temperatures. Int J Thermophys 42, 135 (2021). https://doi.org/10.1007/s10765-021-02878-x\n",
    "- Seguros, V. (2021) Presión del Agua en Casa: Problemas habituales: Blog Verti, Verti Blog. Available at: https://blog.verti.es/hogar/presion-agua-casa/#:~:text=Lo%20habitual%20es%20que%20la,tengamos%20una%20presión%20u%20otra. (Accessed: 13 October 2023). \n",
    "- Bell, I.H. et al. (2014) ‘Pure and pseudo-pure fluid thermophysical property evaluation and the open-source Thermophysical Property Library coolprop’, Industrial &amp;amp; Engineering Chemistry Research, 53(6), pp. 2498–2508. doi:10.1021/ie4033999. "
   ]
  }
 ],
 "metadata": {
  "kernelspec": {
   "display_name": "uni",
   "language": "python",
   "name": "python3"
  },
  "language_info": {
   "codemirror_mode": {
    "name": "ipython",
    "version": 3
   },
   "file_extension": ".py",
   "mimetype": "text/x-python",
   "name": "python",
   "nbconvert_exporter": "python",
   "pygments_lexer": "ipython3",
   "version": "3.10.13"
  }
 },
 "nbformat": 4,
 "nbformat_minor": 2
}
