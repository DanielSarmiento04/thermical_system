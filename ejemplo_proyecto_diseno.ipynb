{
 "cells": [
  {
   "cell_type": "markdown",
   "metadata": {},
   "source": []
  },
  {
   "cell_type": "markdown",
   "metadata": {},
   "source": [
    "# **Introducción**\n",
    "\n",
    "\n",
    "El diseño de un intercambiador de calor y de un sistema de refrigeración son dos aspectos fundamentales en la ingeniería mecánica que desempeñan un papel crucial en una amplia variedad de aplicaciones industriales y comerciales. Estos componentes son esenciales para controlar y gestionar las temperaturas en diferentes procesos y sistemas, garantizando un rendimiento eficiente y seguro.\n",
    "\n",
    "Un intercambiador de calor es un dispositivo diseñado para transferir calor de un fluido a otro, sin que estos dos fluidos se mezclen entre sí. Este proceso se logra mediante superficies de transferencia de calor, que pueden ser placas, tubos o aletas, que permiten el intercambio de energía térmica entre los fluidos. Los intercambiadores de calor se utilizan en una variedad de aplicaciones, desde sistemas de climatización hasta procesos de fabricación industrial, donde la regulación de la temperatura es crítica.\n",
    "\n",
    "Por otro lado, el diseño de un sistema de refrigeración implica la creación de un sistema completo que utiliza un ciclo termodinámico para eliminar el calor de un espacio o de un sistema. Este proceso se logra mediante la compresión, expansión y circulación de un refrigerante que absorbe y libera calor en un ciclo continuo. Los sistemas de refrigeración son vitales en aplicaciones como la refrigeración de alimentos, la climatización de edificios, la refrigeración de equipos electrónicos y la refrigeración industrial.\n",
    "\n",
    "Ambos conceptos están estrechamente relacionados, ya que los intercambiadores de calor son componentes clave en los sistemas de refrigeración, permitiendo la transferencia de calor entre el refrigerante y el entorno que se desea enfriar. En este contexto, los ingenieros mecánicos desempeñan un papel fundamental al diseñar intercambiadores de calor eficientes y sistemas de refrigeración que cumplan con los requisitos de rendimiento, eficiencia energética y seguridad.\n",
    "\n",
    "En este papel de ingeniero mecánico, exploraremos en detalle los principios de diseño de intercambiadores de calor y sistemas de refrigeración, así como las consideraciones clave en la ingeniería de estos sistemas para lograr un rendimiento óptimo y un uso eficiente de los recursos."
   ]
  },
  {
   "cell_type": "markdown",
   "metadata": {},
   "source": [
    "# **Enunciado**\n",
    "\n",
    "Requerimiento: Enfriar leche para almacenamiento.\n",
    "\n",
    "1. Especificación cuantitativa de requerimiento:\n",
    "\n",
    "    1.1 Requerimiento funcionales. \n",
    "        \n",
    "        - $m_l=0.5Kg/s$ \n",
    "        - Enfriar desde 80 ºC hasta 10 ºC\n",
    "        - Se dispone de $m_w=2.5kg/s$ agua proveniente de una torre a 24ºC.\n",
    "\n",
    "    1.2 Requerimiento no funcionales.\n",
    "\n",
    "        - Operable y seguro.\n",
    "        - Costo mínimo.\n",
    "\n",
    "2. Concepto de diseño:\n",
    "\n",
    "    2.1 Solo enfriamiento con agua.\n",
    "\n",
    "    2.2 Solo enfriamiento con un sistema de refrigeración.\n",
    "    \n",
    "    2.3 Sistema combinado.\n",
    "\n",
    "        - Agua primero por SR.\n",
    "        - Agua primero por pre-enfriador.\n"
   ]
  },
  {
   "cell_type": "markdown",
   "metadata": {},
   "source": [
    "#  Diseño solo Intercambiador de calor"
   ]
  },
  {
   "cell_type": "markdown",
   "metadata": {},
   "source": [
    "El sistema en si mismo no puede realizarse con solo un intercambiador de calor dado que los perfiles de temperatura producirían un proceso imposible en la medida que el fluido frio (Agua) estaría a una temperatura superior a la entrada en comparación a la temperatura del fluido caliente (leche).\n",
    "\n",
    "<p align=\"center\">\n",
    "  <img src=\"maxresdefault.jpg\" height =\"400px\">\n",
    "</p>\n",
    "\n",
    "<p align=\"center\">\n",
    "  <img src=\"./imgs_leche/diagrama_solo_intercambioador.jpeg\" height =\"400px\">\n",
    "</p>\n",
    "\n"
   ]
  },
  {
   "cell_type": "markdown",
   "metadata": {},
   "source": [
    "# **Diseño combinado**"
   ]
  },
  {
   "cell_type": "markdown",
   "metadata": {},
   "source": [
    "## **Carcasa y tubo**"
   ]
  },
  {
   "cell_type": "markdown",
   "metadata": {},
   "source": [
    "### Importar librerías necesarias\n",
    "\n",
    "Para el desarrollo del diseño y la optimización los costos del intercambiador de calor como del sistema de refrigerador se utilizo el lenguaje de programación Python en su version 3.10.13 y las siguientes librerías.\n",
    "\n",
    "1. PyFluids: Obtener las propiedades del agua a las condiciones termo-físicas necesarias.\n",
    "2. Numpy: Manipular el vector de temperaturas, asi como de la optimización de las operaciones y cálculos necesarios.\n",
    "3. Scipy: Encontrar la función que mejor estime los datos de costos.\n",
    "4. Matplotlib: Modelar los resultados obtenidos. "
   ]
  },
  {
   "cell_type": "code",
   "execution_count": 2,
   "metadata": {},
   "outputs": [],
   "source": [
    "from pyfluids import Fluid, FluidsList, Input\n",
    "import numpy as np\n",
    "from pprint import pprint\n",
    "import pandas as pd\n",
    "from matplotlib import pyplot as plt\n",
    "from scipy.optimize import curve_fit"
   ]
  },
  {
   "cell_type": "markdown",
   "metadata": {},
   "source": [
    "### Nomenclatura\n",
    "\n",
    "- "
   ]
  },
  {
   "cell_type": "markdown",
   "metadata": {},
   "source": [
    "### Establecer valores conocidos"
   ]
  },
  {
   "cell_type": "code",
   "execution_count": 3,
   "metadata": {},
   "outputs": [],
   "source": [
    "caudal_leche                              = 0.5 # kg/s\n",
    "temperatura_entrada_leche                 = 80 # ºC\n",
    "temperatura_salida_leche                  = 10 # ºC\n",
    "temperatura_entrada_agua                  = 24 # ºC\n",
    "caudal_agua                               = 2.5 # kg/s"
   ]
  },
  {
   "cell_type": "markdown",
   "metadata": {},
   "source": [
    "### Definición de salida temperatura\n",
    "\n",
    "Se debe parametrizar la velocidad de salida del intercambiador y la entrada del sistema del refrigerador.\n",
    "\n",
    "<p align=\"center\">\n",
    "  <img src=\"./imgs_leche/esquema_flujo.jpeg\" height =\"350px\">\n",
    "</p>\n"
   ]
  },
  {
   "cell_type": "code",
   "execution_count": 4,
   "metadata": {},
   "outputs": [
    {
     "data": {
      "text/plain": [
       "array([35.        , 36.57894737, 38.15789474, 39.73684211, 41.31578947,\n",
       "       42.89473684, 44.47368421, 46.05263158, 47.63157895, 49.21052632,\n",
       "       50.78947368, 52.36842105, 53.94736842, 55.52631579, 57.10526316,\n",
       "       58.68421053, 60.26315789, 61.84210526, 63.42105263, 65.        ])"
      ]
     },
     "execution_count": 4,
     "metadata": {},
     "output_type": "execute_result"
    }
   ],
   "source": [
    "temperaturas_leche_estimada_salidas = np.linspace(35, 65, 20)\n",
    "temperaturas_leche_estimada_salidas"
   ]
  },
  {
   "cell_type": "markdown",
   "metadata": {},
   "source": [
    "### Establecer valores pre-diseño"
   ]
  },
  {
   "cell_type": "markdown",
   "metadata": {},
   "source": [
    "#### Consideraciones\n",
    "\n",
    "<!-- [presión agua](https://blog.verti.es/hogar/presion-agua-casa/#:~:text=Lo%20habitual%20es%20que%20la,tengamos%20una%20presión%20u%20otra.) -->\n",
    "\n",
    "\n",
    "- Considere como material el acero inoxidable, k = 15 W/m*k.\n",
    "- Diámetro de tubo de 3/4 in ( 19 mm exterior y 16 mm interior ).\n",
    "- Longitud de 4m."
   ]
  },
  {
   "cell_type": "code",
   "execution_count": 5,
   "metadata": {},
   "outputs": [],
   "source": [
    "k_material                            = 15    # W/ m * k Acero inoxidable\n",
    "diametro_interior                     = 17e-3 # m\n",
    "diametro_exterior                     = 25.4e-3 # m\n",
    "\n",
    "longitud                              = 4 #m               "
   ]
  },
  {
   "cell_type": "code",
   "execution_count": 6,
   "metadata": {},
   "outputs": [
    {
     "data": {
      "text/plain": [
       "Water"
      ]
     },
     "execution_count": 6,
     "metadata": {},
     "output_type": "execute_result"
    }
   ],
   "source": [
    "water = Fluid(FluidsList.Water)\n",
    "water.name"
   ]
  },
  {
   "cell_type": "code",
   "execution_count": 7,
   "metadata": {},
   "outputs": [],
   "source": [
    "presion_agua  = (2) * 101_325 # Pa"
   ]
  },
  {
   "cell_type": "markdown",
   "metadata": {},
   "source": [
    "#### Composición de la leche"
   ]
  },
  {
   "cell_type": "code",
   "execution_count": 8,
   "metadata": {},
   "outputs": [
    {
     "name": "stdout",
     "output_type": "stream",
     "text": [
      "Calor especifico leche 3970 J/(kg*k)\n"
     ]
    }
   ],
   "source": [
    "cp_propiedades_leche = 3970  # J/kg k\n",
    "print(f\"Calor especifico leche {cp_propiedades_leche} J/(kg*k)\")"
   ]
  },
  {
   "cell_type": "code",
   "execution_count": 9,
   "metadata": {},
   "outputs": [
    {
     "name": "stdout",
     "output_type": "stream",
     "text": [
      "Temperaturas de propiedades a iterar [57.5        58.28947368 59.07894737 59.86842105 60.65789474 61.44736842\n",
      " 62.23684211 63.02631579 63.81578947 64.60526316 65.39473684 66.18421053\n",
      " 66.97368421 67.76315789 68.55263158 69.34210526 70.13157895 70.92105263\n",
      " 71.71052632 72.5       ] ºC\n"
     ]
    }
   ],
   "source": [
    "temperaturas_propiedades_leche = (temperaturas_leche_estimada_salidas + temperatura_entrada_leche) / 2\n",
    "print(f\"Temperaturas de propiedades a iterar {temperaturas_propiedades_leche} ºC\")"
   ]
  },
  {
   "cell_type": "markdown",
   "metadata": {},
   "source": [
    "### Termodinámica"
   ]
  },
  {
   "cell_type": "markdown",
   "metadata": {},
   "source": [
    "$$ \\dot{Q} = (\\dot{m} *C_{p})_{leche} * (T_{l1} -T_{l2})$$\n",
    "\n",
    "Se calcula los calores disipados de la leche en el intercambiador a partir del vector de temperaturas."
   ]
  },
  {
   "cell_type": "code",
   "execution_count": 10,
   "metadata": {},
   "outputs": [
    {
     "name": "stdout",
     "output_type": "stream",
     "text": [
      " Calores [89325.         86190.78947368 83056.57894737 79922.36842105\n",
      " 76788.15789474 73653.94736842 70519.73684211 67385.52631579\n",
      " 64251.31578947 61117.10526316 57982.89473684 54848.68421053\n",
      " 51714.47368421 48580.26315789 45446.05263158 42311.84210526\n",
      " 39177.63157895 36043.42105263 32909.21052632 29775.        ] W\n"
     ]
    }
   ],
   "source": [
    "calores_transferencia = caudal_leche * cp_propiedades_leche * (temperatura_entrada_leche - temperaturas_leche_estimada_salidas)\n",
    "print(fr\" Calores {calores_transferencia} W\")"
   ]
  },
  {
   "cell_type": "code",
   "execution_count": 11,
   "metadata": {},
   "outputs": [
    {
     "name": "stdout",
     "output_type": "stream",
     "text": [
      "{'compressibility': 0.0014376012709739205, 'conductivity': 0.6203366408703609, 'critical_pressure': 22064000.0, 'critical_temperature': 373.946, 'density': 994.417937160409, 'dynamic_viscosity': 0.0007337301352239351, 'enthalpy': 142631.9153801642, 'entropy': 491.47808690964223, 'fraction': 100, 'freezing_temperature': None, 'internal_energy': 142428.1278251999, 'kinematic_viscosity': 7.378488538924831e-07, 'max_pressure': 1000000000.0, 'max_temperature': 1726.85, 'min_pressure': 611.6548008968684, 'min_temperature': 0.010000000000047748, 'molar_mass': 0.018015268, 'name': Water, 'phase': Liquid, 'prandtl': 4.942945501085879, 'pressure': 202650, 'quality': None, 'sound_speed': 1518.0155752419128, 'specific_heat': 4179.043576032273, 'specific_volume': 0.0010056133971753675, 'surface_tension': None, 'temperature': 34.0, 'triple_pressure': 611.6548008968684, 'triple_temperature': 0.010000000000047748, 'units_system': SIWithCelsiusAndPercents}\n"
     ]
    }
   ],
   "source": [
    "estado_agua_propiedades = water.with_state(\n",
    "    Input.pressure(presion_agua),\n",
    "    Input.temperature(34),\n",
    ")\n",
    "print(estado_agua_propiedades.as_dict())"
   ]
  },
  {
   "cell_type": "code",
   "execution_count": 12,
   "metadata": {},
   "outputs": [],
   "source": [
    "cp_agua                         = estado_agua_propiedades.specific_heat # J /kg k\n",
    "viscosidad_dinamica_agua        = estado_agua_propiedades.dynamic_viscosity # Pa * s\n",
    "densidad_agua                   = estado_agua_propiedades.density # kg / m3\n",
    "k_agua                          = estado_agua_propiedades.conductivity # W / m k\n",
    "prandl_agua                     = estado_agua_propiedades.prandtl"
   ]
  },
  {
   "cell_type": "markdown",
   "metadata": {},
   "source": [
    "$$ \\dot{Q} = (\\dot{m} *C_{p})_{agua} * (T_{w2} - T_{w1})$$\n",
    "\n",
    "\n",
    "$$ T_{w2} = \\frac{\\dot{Q}}{(\\dot{m} * C_{p})_{agua}}  + T_{w1}$$"
   ]
  },
  {
   "cell_type": "code",
   "execution_count": 13,
   "metadata": {},
   "outputs": [
    {
     "name": "stdout",
     "output_type": "stream",
     "text": [
      "Temperatura salida del agua [32.54980317 32.24981007 31.94981698 31.64982389 31.34983079 31.0498377\n",
      " 30.74984461 30.44985151 30.14985842 29.84986532 29.54987223 29.24987914\n",
      " 28.94988604 28.64989295 28.34989986 28.04990676 27.74991367 27.44992058\n",
      " 27.14992748 26.84993439] ºC\n"
     ]
    }
   ],
   "source": [
    "temperaturas_salida_agua = temperatura_entrada_agua + calores_transferencia / (caudal_agua * cp_agua)\n",
    "print(fr\"Temperatura salida del agua {temperaturas_salida_agua} ºC\")"
   ]
  },
  {
   "cell_type": "markdown",
   "metadata": {},
   "source": [
    "### Transferencia de calor"
   ]
  },
  {
   "cell_type": "markdown",
   "metadata": {},
   "source": [
    "#### Cálculo de una U estimada"
   ]
  },
  {
   "cell_type": "markdown",
   "metadata": {},
   "source": [
    "Asuma los coeficiente de trasferencia de calor\n",
    "\n",
    "$$ \\frac{1}{U_{ensuciamiento}} = \\frac{r_{0}}{r_{i}} \\frac{1}{h_{i}} + \\frac{r_{0}}{r_{1}}*R_{f_{}i} + r_{0} \\frac{ln(\\frac{r_{0}}{r_{i}} )}{k} + R_{f_{}o} + \\frac{1}{h_{0}} $$\n",
    "\n",
    "\n",
    "\n",
    "$$ \\frac{1}{U_{limpio}} = \\frac{r_{0}}{r_{i}} \\frac{1}{h_{i}} + r_{0} \\frac{ln(\\frac{r_{0}}{r_{i}} )}{k} + \\frac{1}{h_{0}}$$\n",
    "\n",
    "En este caso\n",
    "\n",
    "> $r_{0}$ -> radio exterior\n",
    "\n",
    "> $r_{i}$ -> radio interior\n",
    "\n",
    "> $h_{0}$ -> coeficiente de convección en la carcasa\n",
    "\n",
    "> $h_{i}$ -> coeficiente de convección en el tubo"
   ]
  },
  {
   "cell_type": "code",
   "execution_count": 14,
   "metadata": {},
   "outputs": [],
   "source": [
    "h_agua        = 5000     # kj/kg * k\n",
    "h_leche       = 2000     # kj/kg * k\n",
    "\n",
    "R_f_leche    = 0.000176 # m2 k/w\n",
    "R_f_agua     = 0.000176 # m2 k/w"
   ]
  },
  {
   "cell_type": "code",
   "execution_count": 15,
   "metadata": {},
   "outputs": [
    {
     "data": {
      "text/plain": [
       "579.3774539265527"
      ]
     },
     "execution_count": 15,
     "metadata": {},
     "output_type": "execute_result"
    }
   ],
   "source": [
    "U_ensuciamiento = (\n",
    "    + (diametro_exterior / diametro_interior) * 1 / h_leche\n",
    "    + (diametro_exterior / diametro_interior) * R_f_leche\n",
    "    + (diametro_exterior / 2) * np.log(diametro_exterior/diametro_interior) / k_material\n",
    "    + R_f_agua\n",
    "    + 1 / h_agua\n",
    ") ** -1 \n",
    "U_ensuciamiento"
   ]
  },
  {
   "cell_type": "code",
   "execution_count": 16,
   "metadata": {},
   "outputs": [
    {
     "data": {
      "text/plain": [
       "776.9851852349087"
      ]
     },
     "execution_count": 16,
     "metadata": {},
     "output_type": "execute_result"
    }
   ],
   "source": [
    "U_no_ensuciamiento = (\n",
    "    + (diametro_exterior / diametro_interior) * 1 / h_leche\n",
    "    + (diametro_exterior / 2) * np.log(diametro_exterior/diametro_interior) / k_material\n",
    "    + 1 / h_agua\n",
    ") ** -1 \n",
    "U_no_ensuciamiento"
   ]
  },
  {
   "cell_type": "markdown",
   "metadata": {},
   "source": [
    "#### Cálculo de la diferencia media logarítmica\n",
    "\n",
    "$$ \\Delta{T_{lm,cf}} = \\frac{\\Delta{T_{1} - \\Delta{T_{2}}}}{ \\ln{\\frac{\\Delta{T_{1}}}{\\Delta{T_{2}}}} } $$\n",
    "\n",
    "\n",
    "Donde\n",
    "\n",
    "- $\\Delta{T_{1}} = T_{l1} -  T_{w2}$ \n",
    "- $\\Delta{T_{2}} = T_{l2} -  T_{w1}$ "
   ]
  },
  {
   "cell_type": "code",
   "execution_count": 21,
   "metadata": {},
   "outputs": [],
   "source": [
    "diferencia_temperatura_x1 = temperatura_entrada_leche - temperaturas_salida_agua\n",
    "diferencia_temperatura_x2 = temperaturas_leche_estimada_salidas - temperatura_entrada_agua\n",
    "diferencia_log_temperatura = (diferencia_temperatura_x2 - diferencia_temperatura_x1)/ np.log(diferencia_temperatura_x2/diferencia_temperatura_x1)"
   ]
  },
  {
   "cell_type": "code",
   "execution_count": 28,
   "metadata": {},
   "outputs": [
    {
     "data": {
      "text/plain": [
       "Index(['Tl1 ºC', 'Tw2 ºC', 'Delta x1 ºC', 'Tl2 ºC', 'Tw1 ºC', 'Delta x2 ºC',\n",
       "       'Diferencia media logarítmica'],\n",
       "      dtype='object')"
      ]
     },
     "execution_count": 28,
     "metadata": {},
     "output_type": "execute_result"
    }
   ],
   "source": [
    "tabla_temperaturas = pd.DataFrame(\n",
    "    {\n",
    "        \"Tl1 ºC\": temperatura_entrada_leche,\n",
    "        \"Tw2 ºC\": temperaturas_salida_agua,\n",
    "        'Delta x1 ºC' :diferencia_temperatura_x1,\n",
    "        \"Tl2 ºC\": temperaturas_leche_estimada_salidas,\n",
    "        \"Tw1 ºC\": temperatura_entrada_agua,\n",
    "        'Delta x2 ºC' :diferencia_temperatura_x2,\n",
    "        'Diferencia media logarítmica ºC' : diferencia_log_temperatura,\n",
    "    }\n",
    ")\n"
   ]
  },
  {
   "cell_type": "markdown",
   "metadata": {},
   "source": [
    "Para el calculo de las el factor de corrección se uso las tablas del método de LMTD del moodle."
   ]
  },
  {
   "cell_type": "code",
   "execution_count": 38,
   "metadata": {},
   "outputs": [],
   "source": [
    "tabla_temperaturas['R'] = (tabla_temperaturas['Tl1 ºC'] - tabla_temperaturas['Tl2 ºC']) / (tabla_temperaturas['Tw2 ºC'] - tabla_temperaturas['Tw1 ºC'] )\n",
    "tabla_temperaturas['P'] = 1 / tabla_temperaturas['R'] "
   ]
  },
  {
   "cell_type": "markdown",
   "metadata": {},
   "source": [
    "Teniendo en cuenta las gráficas de moodle"
   ]
  },
  {
   "cell_type": "code",
   "execution_count": 33,
   "metadata": {},
   "outputs": [],
   "source": [
    "F = 0.8"
   ]
  },
  {
   "cell_type": "code",
   "execution_count": 39,
   "metadata": {},
   "outputs": [],
   "source": [
    "diferencia_log_temperatura_corregida = diferencia_log_temperatura * F\n",
    "tabla_temperaturas['Diferencia media logarítmica corregida ºC'] = diferencia_log_temperatura_corregida"
   ]
  },
  {
   "cell_type": "markdown",
   "metadata": {},
   "source": [
    "|    |   Tl1 |     Tw2 |   diferencia x1 |     Tl2 |   Tw1 |   diferencia x2 |   diferencia media logarítmica |\n",
    "|---:|------:|--------:|----------------:|--------:|------:|----------------:|-------------------------------:|\n",
    "|  0 |    80 | 32.5498 |         47.4502 | 35      |    24 |         11      |                        24.9354 |\n",
    "|  1 |    80 | 32.2498 |         47.7502 | 36.5789 |    24 |         12.5789 |                        26.3661 |\n",
    "|  2 |    80 | 31.9498 |         48.0502 | 38.1579 |    24 |         14.1579 |                        27.7357 |\n",
    "|  3 |    80 | 31.6498 |         48.3502 | 39.7368 |    24 |         15.7368 |                        29.0551 |\n",
    "|  4 |    80 | 31.3498 |         48.6502 | 41.3158 |    24 |         17.3158 |                        30.3323 |\n",
    "|  5 |    80 | 31.0498 |         48.9502 | 42.8947 |    24 |         18.8947 |                        31.5735 |\n",
    "|  6 |    80 | 30.7498 |         49.2502 | 44.4737 |    24 |         20.4737 |                        32.7835 |\n",
    "|  7 |    80 | 30.4499 |         49.5501 | 46.0526 |    24 |         22.0526 |                        33.9663 |\n",
    "|  8 |    80 | 30.1499 |         49.8501 | 47.6316 |    24 |         23.6316 |                        35.1249 |\n",
    "|  9 |    80 | 29.8499 |         50.1501 | 49.2105 |    24 |         25.2105 |                        36.2621 |\n",
    "| 10 |    80 | 29.5499 |         50.4501 | 50.7895 |    24 |         26.7895 |                        37.38   |\n",
    "| 11 |    80 | 29.2499 |         50.7501 | 52.3684 |    24 |         28.3684 |                        38.4805 |\n",
    "| 12 |    80 | 28.9499 |         51.0501 | 53.9474 |    24 |         29.9474 |                        39.5652 |\n",
    "| 13 |    80 | 28.6499 |         51.3501 | 55.5263 |    24 |         31.5263 |                        40.6355 |\n",
    "| 14 |    80 | 28.3499 |         51.6501 | 57.1053 |    24 |         33.1053 |                        41.6925 |\n",
    "| 15 |    80 | 28.0499 |         51.9501 | 58.6842 |    24 |         34.6842 |                        42.7374 |\n",
    "| 16 |    80 | 27.7499 |         52.2501 | 60.2632 |    24 |         36.2632 |                        43.7711 |\n",
    "| 17 |    80 | 27.4499 |         52.5501 | 61.8421 |    24 |         37.8421 |                        44.7944 |\n",
    "| 18 |    80 | 27.1499 |         52.8501 | 63.4211 |    24 |         39.4211 |                        45.808  |\n",
    "| 19 |    80 | 26.8499 |         53.1501 | 65      |    24 |         41      |                        46.8125 |"
   ]
  },
  {
   "cell_type": "markdown",
   "metadata": {},
   "source": [
    "### 2.3 Calculo de la relación de area"
   ]
  },
  {
   "cell_type": "code",
   "execution_count": 42,
   "metadata": {},
   "outputs": [
    {
     "name": "stdout",
     "output_type": "stream",
     "text": [
      "Area con ensuciamiento [7.72867756 7.05283751 6.46075649 5.9346414  5.46181822 5.03293927\n",
      " 4.6409124  4.2802292  3.94652608 3.63628755 3.34663985 3.07520378\n",
      " 2.81998734 2.57930616 2.35172322 2.13600278 1.93107443 1.73600495\n",
      " 1.54997581 1.37226516] m^2\n",
      "Area sin ensuciamiento [5.76307195 5.25911577 4.8176165  4.42530628 4.07273446 3.75293068\n",
      " 3.46060653 3.19165454 2.94282089 2.71148416 2.49550148 2.29309872\n",
      " 2.10279053 1.92332089 1.75361827 1.59276119 1.4399515  1.29449331\n",
      " 1.15577627 1.02326211] m^2\n",
      "Relación de area ratio: [0.34106907 0.34106907 0.34106907 0.34106907 0.34106907 0.34106907\n",
      " 0.34106907 0.34106907 0.34106907 0.34106907 0.34106907 0.34106907\n",
      " 0.34106907 0.34106907 0.34106907 0.34106907 0.34106907 0.34106907\n",
      " 0.34106907 0.34106907]\n"
     ]
    }
   ],
   "source": [
    "A_f = calores_transferencia / (U_ensuciamiento * diferencia_log_temperatura_corregida)\n",
    "A_c = calores_transferencia / (U_no_ensuciamiento * diferencia_log_temperatura_corregida)\n",
    "\n",
    "print(f\"Area con ensuciamiento {A_f} m^2\")\n",
    "print(f\"Area sin ensuciamiento {A_c} m^2\")\n",
    "\n",
    "area_ratio =  A_f / A_c - 1\n",
    "print(f\"Relación de area ratio: {area_ratio}\")"
   ]
  },
  {
   "cell_type": "markdown",
   "metadata": {},
   "source": [
    "Se toma como referencia las siguientes dimisiones y parámetros de diseño en base a los valores estándares"
   ]
  },
  {
   "cell_type": "code",
   "execution_count": 43,
   "metadata": {},
   "outputs": [],
   "source": [
    "Cl         = 1\n",
    "L          = 4   # m ; Es la longitud \n",
    "CTP        = 0.93 # One tube pass\n",
    "PitchRatio = 1.25"
   ]
  },
  {
   "cell_type": "code",
   "execution_count": 45,
   "metadata": {},
   "outputs": [
    {
     "name": "stdout",
     "output_type": "stream",
     "text": [
      "El diámetro de la carcasa [0.1829142  0.17473374 0.1672386  0.1602847  0.15376711 0.14760657\n",
      " 0.14174134 0.13612201 0.13070805 0.12546539 0.12036475 0.11538033\n",
      " 0.11048884 0.10566868 0.10089925 0.09616028 0.09143118 0.08669026\n",
      " 0.08191384 0.07707506] m\n",
      "El diámetro de la carcasa estándar 0.25 m\n"
     ]
    }
   ],
   "source": [
    "diametro_carcasa = 0.637 * ((Cl / CTP) * A_f * pow(PitchRatio, 2) * diametro_exterior / L)**(1/2) \n",
    "print(f\"El diámetro de la carcasa {diametro_carcasa} m\")\n",
    "\n",
    "diametro_carcasa = 0.25 # Se aproxima al estándar\n",
    "print(f\"El diámetro de la carcasa estándar {diametro_carcasa} m\")"
   ]
  },
  {
   "cell_type": "code",
   "execution_count": 46,
   "metadata": {},
   "outputs": [
    {
     "name": "stdout",
     "output_type": "stream",
     "text": [
      "45.26319052638105\n"
     ]
    }
   ],
   "source": [
    "numeros_tubos = 0.785 * (CTP/Cl) * (diametro_carcasa)**2 /((PitchRatio * diametro_exterior)**2)\n",
    "print(numeros_tubos)"
   ]
  },
  {
   "cell_type": "markdown",
   "metadata": {},
   "source": [
    "Se supone un 60 %  del diámetro de la carcasa"
   ]
  },
  {
   "cell_type": "code",
   "execution_count": null,
   "metadata": {},
   "outputs": [
    {
     "name": "stdout",
     "output_type": "stream",
     "text": [
      "espacio entre baffle 0.15\n",
      "espacio entre baffle 0.2\n"
     ]
    }
   ],
   "source": [
    "B = 0.6 * diametro_carcasa\n",
    "print('espacio entre baffle', B)\n",
    "B = 0.2\n",
    "print('espacio entre baffle', B)"
   ]
  },
  {
   "cell_type": "markdown",
   "metadata": {},
   "source": [
    "## 3. Corrección método de kern"
   ]
  },
  {
   "cell_type": "markdown",
   "metadata": {},
   "source": [
    "### 3.1 Calculo del diámetro equivalente"
   ]
  },
  {
   "cell_type": "code",
   "execution_count": null,
   "metadata": {},
   "outputs": [],
   "source": [
    "numeros_tubos = 48  # Estándar\n",
    "D_S = 0.3048 # 13 1/4 "
   ]
  },
  {
   "cell_type": "code",
   "execution_count": null,
   "metadata": {},
   "outputs": [],
   "source": [
    "Pitch_Size              = 31.75e-3 # m -> Note que esta valor sale en las tablas como 1 in"
   ]
  },
  {
   "cell_type": "code",
   "execution_count": null,
   "metadata": {},
   "outputs": [
    {
     "name": "stdout",
     "output_type": "stream",
     "text": [
      "calculo del diámetro equivalente del lado del tubo 0.0251 m\n"
     ]
    }
   ],
   "source": [
    "D_e = 4 * (Pitch_Size ** 2 - np.pi * (diametro_exterior**2) / 4) / (np.pi * diametro_exterior)\n",
    "print(f\"calculo del diámetro equivalente del lado del tubo {D_e:.4f} m\")"
   ]
  },
  {
   "cell_type": "markdown",
   "metadata": {},
   "source": [
    "### 3.2 Calculo de la velocidad másica"
   ]
  },
  {
   "cell_type": "code",
   "execution_count": null,
   "metadata": {},
   "outputs": [
    {
     "name": "stdout",
     "output_type": "stream",
     "text": [
      "Holgura 0.00635\n"
     ]
    }
   ],
   "source": [
    "C = Pitch_Size - diametro_exterior\n",
    "print(f\"Holgura {C:.5f}\")"
   ]
  },
  {
   "cell_type": "code",
   "execution_count": null,
   "metadata": {},
   "outputs": [
    {
     "name": "stdout",
     "output_type": "stream",
     "text": [
      "Area de flujo cruzado 0.010000 m\n"
     ]
    }
   ],
   "source": [
    "A_s = (diametro_carcasa * C * B) / Pitch_Size\n",
    "print(f\"Area de flujo cruzado {A_s:4f} m\")"
   ]
  },
  {
   "cell_type": "code",
   "execution_count": null,
   "metadata": {},
   "outputs": [
    {
     "name": "stdout",
     "output_type": "stream",
     "text": [
      "Velocidad másica carcasa 250.00 kg/(s*m2)\n"
     ]
    }
   ],
   "source": [
    "G_s = caudal_agua / A_s # carcasa\n",
    "print(f\"Velocidad másica carcasa {G_s:.2f} kg/(s*m2)\")"
   ]
  },
  {
   "cell_type": "markdown",
   "metadata": {},
   "source": [
    "### 3.3 Calculo coeficiente convectivo crudo"
   ]
  },
  {
   "cell_type": "code",
   "execution_count": null,
   "metadata": {},
   "outputs": [
    {
     "name": "stdout",
     "output_type": "stream",
     "text": [
      "Temperatura propiedades leche 62.5\n",
      "1030 3900 0.0008 0.6 5.1\n"
     ]
    }
   ],
   "source": [
    "temperatura_propiedades = (temperatura_entrada_leche + temperatura_estimada_salida_leche) / 2\n",
    "print(f\"Temperatura propiedades leche {temperatura_propiedades}\")\n",
    "\n",
    "densidad_leche_kern            = 1030 # kg / m3\n",
    "cp_leche_kern                  = 3900 # J/kg K\n",
    "viscosidad_dinamica_leche_kern = 0.0008 # Pa * S\n",
    "k_leche_kern                   = 0.6 # W /m k\n",
    "prandtl_leche_kern             = 5.1\n",
    "\n",
    "print(\n",
    "    densidad_leche_kern, cp_leche_kern, viscosidad_dinamica_leche_kern, \n",
    "    k_leche_kern, \n",
    "    prandtl_leche_kern\n",
    ")"
   ]
  },
  {
   "cell_type": "code",
   "execution_count": null,
   "metadata": {},
   "outputs": [
    {
     "name": "stdout",
     "output_type": "stream",
     "text": [
      "Reynolds leche: 7853.65\n"
     ]
    }
   ],
   "source": [
    "Re_leche = G_s * D_e / viscosidad_dinamica_leche_kern\n",
    "print(f'Reynolds leche: {Re_leche:.2f}')"
   ]
  },
  {
   "cell_type": "code",
   "execution_count": null,
   "metadata": {},
   "outputs": [
    {
     "name": "stdout",
     "output_type": "stream",
     "text": [
      "Coeficiente de convección del leche 2091.45 W/(m^2 k)\n"
     ]
    }
   ],
   "source": [
    "h_leche = 0.36 * (D_e * G_s / viscosidad_dinamica_leche_kern)**0.55 \\\n",
    "    * (cp_leche_kern * viscosidad_dinamica_leche_kern / k_leche_kern)**(1/3) \\\n",
    "    * (viscosidad_dinamica_leche_kern / viscosidad_dinamica_agua)**0.14 \\\n",
    "    * k_leche_kern / D_e\n",
    "print(f'Coeficiente de convección del leche {h_leche:.2f} W/(m^2 k)')"
   ]
  },
  {
   "cell_type": "markdown",
   "metadata": {},
   "source": [
    "### 3.4 Calculo coeficiente convectivo Agua"
   ]
  },
  {
   "cell_type": "code",
   "execution_count": null,
   "metadata": {},
   "outputs": [
    {
     "name": "stdout",
     "output_type": "stream",
     "text": [
      "Temperatura promedio 44.91 ºC\n"
     ]
    }
   ],
   "source": [
    "T_w = 1/2 * (\n",
    "    (temperatura_entrada_agua + temperatura_salida_agua) / 2 +\n",
    "    (temperatura_entrada_leche + temperatura_estimada_salida_leche) / 2\n",
    ")\n",
    "print(f'Temperatura promedio {T_w:.2f} ºC')"
   ]
  },
  {
   "cell_type": "code",
   "execution_count": null,
   "metadata": {},
   "outputs": [
    {
     "name": "stdout",
     "output_type": "stream",
     "text": [
      "{'compressibility': 0.0013940599156924138, 'conductivity': 0.6347305110715291, 'critical_pressure': 22064000.0, 'critical_temperature': 373.946, 'density': 990.2938029354603, 'dynamic_viscosity': 0.0005967129338706314, 'enthalpy': 188237.62848241022, 'entropy': 637.3815057058705, 'fraction': 100, 'freezing_temperature': None, 'internal_energy': 188032.9922427344, 'kinematic_viscosity': 6.025615146755801e-07, 'max_pressure': 1000000000.0, 'max_temperature': 1726.85, 'min_pressure': 611.6548008968684, 'min_temperature': 0.010000000000047748, 'molar_mass': 0.018015268, 'name': Water, 'phase': Liquid, 'prandtl': 3.929527329556588, 'pressure': 202650, 'quality': None, 'sound_speed': 1536.5066907571768, 'specific_heat': 4179.8840758825245, 'specific_volume': 0.0010098013307119243, 'surface_tension': None, 'temperature': 44.912461726851916, 'triple_pressure': 611.6548008968684, 'triple_temperature': 0.010000000000047748, 'units_system': SIWithCelsiusAndPercents}\n",
      "990.2938029354603 4179.8840758825245 0.0005967129338706314 0.6347305110715291 3.929527329556588\n"
     ]
    }
   ],
   "source": [
    "estado_agua_kern = water.with_state(\n",
    "    Input.pressure(presion_agua),\n",
    "    Input.temperature(T_w),\n",
    ")\n",
    "densidad_agua_kern            = estado_agua_kern.density\n",
    "cp_agua_kern                  = estado_agua_kern.specific_heat\n",
    "viscosidad_dinamica_agua_kern = estado_agua_kern.dynamic_viscosity\n",
    "k_agua_kern                   = estado_agua_kern.conductivity\n",
    "prandtl_agua_kern             = estado_agua_kern.prandtl\n",
    "\n",
    "print(estado_agua_kern.as_dict())\n",
    "print(\n",
    "    densidad_agua_kern, cp_agua_kern, \n",
    "    viscosidad_dinamica_agua_kern, k_agua_kern, \n",
    "    prandtl_agua_kern\n",
    ")"
   ]
  },
  {
   "cell_type": "code",
   "execution_count": null,
   "metadata": {},
   "outputs": [
    {
     "name": "stdout",
     "output_type": "stream",
     "text": [
      "Area de transferencia por tubo 0.00545 m^2\n"
     ]
    }
   ],
   "source": [
    "A_tp = np.pi * diametro_interior**2/4 * numeros_tubos / 2 \n",
    "print(f\"Area de transferencia por tubo {A_tp:.5f} m^2\")"
   ]
  },
  {
   "cell_type": "code",
   "execution_count": null,
   "metadata": {},
   "outputs": [
    {
     "name": "stdout",
     "output_type": "stream",
     "text": [
      "Velocidad media agua 0.46 (m/s)\n"
     ]
    }
   ],
   "source": [
    "u_m_agua = caudal_agua / (densidad_agua_kern * A_tp)\n",
    "print(f\"Velocidad media agua {u_m_agua:.2f} (m/s)\")"
   ]
  },
  {
   "cell_type": "code",
   "execution_count": null,
   "metadata": {},
   "outputs": [
    {
     "name": "stdout",
     "output_type": "stream",
     "text": [
      "Reynolds agua 13074.48\n"
     ]
    }
   ],
   "source": [
    "Re_agua = densidad_agua_kern * u_m_agua * diametro_interior / viscosidad_dinamica_agua_kern\n",
    "print(f\"Reynolds agua {Re_agua:.2f}\")"
   ]
  },
  {
   "cell_type": "markdown",
   "metadata": {},
   "source": [
    "#### Como el fluido es turbulento se usa correlación de  Grielinki's"
   ]
  },
  {
   "cell_type": "code",
   "execution_count": null,
   "metadata": {},
   "outputs": [
    {
     "data": {
      "text/plain": [
       "0.007310258044821851"
      ]
     },
     "execution_count": 44,
     "metadata": {},
     "output_type": "execute_result"
    }
   ],
   "source": [
    "f = (1.58*np.log(Re_agua) - 3.28)**-2\n",
    "f"
   ]
  },
  {
   "cell_type": "code",
   "execution_count": null,
   "metadata": {},
   "outputs": [
    {
     "data": {
      "text/plain": [
       "80.88240445119844"
      ]
     },
     "execution_count": 45,
     "metadata": {},
     "output_type": "execute_result"
    }
   ],
   "source": [
    "Nu_b = (f/2)*(Re_agua - 1000)*prandtl_agua_kern/(1 + 12.7*(f/2)**(1/2)*(prandtl_agua_kern**(2/3) - 1))\n",
    "Nu_b"
   ]
  },
  {
   "cell_type": "code",
   "execution_count": null,
   "metadata": {},
   "outputs": [
    {
     "name": "stdout",
     "output_type": "stream",
     "text": [
      "Coeficiente de convección agua 3019.91 W/(m^2 * k)\n"
     ]
    }
   ],
   "source": [
    "h_agua = Nu_b * k_agua_kern / diametro_interior\n",
    "print(f\"Coeficiente de convección agua {h_agua:.2f} W/(m^2 * k)\")"
   ]
  },
  {
   "cell_type": "markdown",
   "metadata": {},
   "source": [
    "### 3.5 Corrección del area"
   ]
  },
  {
   "cell_type": "code",
   "execution_count": null,
   "metadata": {},
   "outputs": [
    {
     "data": {
      "text/plain": [
       "579.8073281881218"
      ]
     },
     "execution_count": 47,
     "metadata": {},
     "output_type": "execute_result"
    }
   ],
   "source": [
    "U_ensuciamiento_real = (\n",
    "    (diametro_exterior / diametro_interior) * 1 / h_agua\n",
    "    + (diametro_exterior / diametro_interior) * R_f_agua\n",
    "    + (diametro_exterior / 2) * np.log(diametro_exterior/diametro_interior) / k_material\n",
    "    + R_f_leche\n",
    "    + 1 / h_leche\n",
    ") ** -1 \n",
    "U_ensuciamiento_real"
   ]
  },
  {
   "cell_type": "code",
   "execution_count": null,
   "metadata": {},
   "outputs": [
    {
     "data": {
      "text/plain": [
       "777.7584952833726"
      ]
     },
     "execution_count": 48,
     "metadata": {},
     "output_type": "execute_result"
    }
   ],
   "source": [
    "U_no_ensuciamiento_real = (\n",
    "    (diametro_exterior / diametro_interior) * 1 / h_agua\n",
    "    + (diametro_exterior / 2) * np.log(diametro_exterior/diametro_interior) / k_material\n",
    "    + 1 / h_leche\n",
    ") ** -1 \n",
    "U_no_ensuciamiento_real"
   ]
  },
  {
   "cell_type": "code",
   "execution_count": null,
   "metadata": {},
   "outputs": [
    {
     "name": "stdout",
     "output_type": "stream",
     "text": [
      "0.2937872636037029\n",
      "19.0\n",
      "0.9597863408752312\n",
      "La diferencia de presión: 2997.90 Pa\n"
     ]
    }
   ],
   "source": [
    "f = np.e**(0.576 - 0.19*np.log(Re_agua))\n",
    "print(f)\n",
    "\n",
    "N_b = longitud / B - 1 \n",
    "print(N_b)\n",
    "\n",
    "sigma = (viscosidad_dinamica_agua_kern / viscosidad_dinamica_leche_kern)**0.14\n",
    "print(sigma)\n",
    "\n",
    "diferencia_presion = f * G_s ** 2 * (N_b + 1) * 0.39 / (sigma * 2 * densidad_agua_kern * D_e)\n",
    "print(f\"La diferencia de presión: {diferencia_presion:.2f} Pa\")"
   ]
  },
  {
   "cell_type": "code",
   "execution_count": null,
   "metadata": {},
   "outputs": [
    {
     "name": "stdout",
     "output_type": "stream",
     "text": [
      "El area de transferencia de calor: 3.61 m^2\n",
      "El area de transferencia de calor: 38.87 ft^2\n"
     ]
    }
   ],
   "source": [
    "area = calor /(U_ensuciamiento_real * diferencia_log_temperatura)\n",
    "print(f\"El area de transferencia de calor: {area:.2f} m^2\")\n",
    "area_ft = area * 10.764\n",
    "print(f\"El area de transferencia de calor: {area_ft:.2f} ft^2\")"
   ]
  },
  {
   "cell_type": "code",
   "execution_count": null,
   "metadata": {},
   "outputs": [
    {
     "name": "stdout",
     "output_type": "stream",
     "text": [
      "[44434.83485846 43447.39408383 42459.9533092  41472.51253456\n",
      " 40485.07175993 39497.6309853  38510.19021067 37522.74943603\n",
      " 36535.3086614  35547.86788677 34560.42711214 33572.9863375\n",
      " 32585.54556287 31598.10478824 30610.66401361 29623.22323897\n",
      " 28635.78246434 27648.34168971 26660.90091508 25673.46014044]\n"
     ]
    },
    {
     "data": {
      "text/plain": [
       "array([52.66069148, 51.62025585, 50.54319543, 49.42660252, 48.26719006,\n",
       "       47.06122014, 45.80441438, 44.49184022, 43.11776464, 41.67546331])"
      ]
     },
     "execution_count": 51,
     "metadata": {},
     "output_type": "execute_result"
    }
   ],
   "source": [
    "areas = calores_transferencia / (U_ensuciamiento_real * diferencia_log_temperaturas)\n",
    "\n",
    "calores_lmtd = U_ensuciamiento * areas * F * diferencia_log_temperaturas_corregida\n",
    "print(calores_lmtd)\n",
    "\n",
    "areas = areas[::2]\n",
    "areas_ft = areas * 10.764\n",
    "areas_ft"
   ]
  },
  {
   "cell_type": "markdown",
   "metadata": {},
   "source": [
    "## 4. Calculo Costo intercambiador"
   ]
  },
  {
   "cell_type": "code",
   "execution_count": null,
   "metadata": {},
   "outputs": [
    {
     "data": {
      "text/plain": [
       "[(52.66069147880762, 3100, 35),\n",
       " (51.62025585106192, 3000, 36),\n",
       " (50.543195433160264, 2900, 37),\n",
       " (49.42660252359715, 2900, 38),\n",
       " (48.26719005903408, 2800, 39),\n",
       " (47.061220135526185, 2600, 40),\n",
       " (45.80441438039377, 2400, 41),\n",
       " (44.491840220766775, 2300, 42),\n",
       " (43.11776463959028, 2100, 43),\n",
       " (41.67546330519116, 2200, 44)]"
      ]
     },
     "execution_count": 52,
     "metadata": {},
     "output_type": "execute_result"
    }
   ],
   "source": [
    "data_bo_map = list(map(\n",
    "    lambda x,y,t : (x,y,t),\n",
    "    areas_ft.tolist(),\n",
    "    [3100, 3000, 2900, 2900, 2800, 2600, 2400, 2300, 2100, 2200],\n",
    "    temperaturas_leche_estimada_salidas.tolist()\n",
    "))\n",
    "data_bo_map"
   ]
  },
  {
   "cell_type": "code",
   "execution_count": null,
   "metadata": {},
   "outputs": [
    {
     "data": {
      "text/html": [
       "<div>\n",
       "<style scoped>\n",
       "    .dataframe tbody tr th:only-of-type {\n",
       "        vertical-align: middle;\n",
       "    }\n",
       "\n",
       "    .dataframe tbody tr th {\n",
       "        vertical-align: top;\n",
       "    }\n",
       "\n",
       "    .dataframe thead th {\n",
       "        text-align: right;\n",
       "    }\n",
       "</style>\n",
       "<table border=\"1\" class=\"dataframe\">\n",
       "  <thead>\n",
       "    <tr style=\"text-align: right;\">\n",
       "      <th></th>\n",
       "      <th>area</th>\n",
       "      <th>costo_intercambiador</th>\n",
       "      <th>temperatura</th>\n",
       "    </tr>\n",
       "  </thead>\n",
       "  <tbody>\n",
       "    <tr>\n",
       "      <th>0</th>\n",
       "      <td>52.660691</td>\n",
       "      <td>3100</td>\n",
       "      <td>35</td>\n",
       "    </tr>\n",
       "    <tr>\n",
       "      <th>1</th>\n",
       "      <td>51.620256</td>\n",
       "      <td>3000</td>\n",
       "      <td>36</td>\n",
       "    </tr>\n",
       "    <tr>\n",
       "      <th>2</th>\n",
       "      <td>50.543195</td>\n",
       "      <td>2900</td>\n",
       "      <td>37</td>\n",
       "    </tr>\n",
       "    <tr>\n",
       "      <th>3</th>\n",
       "      <td>49.426603</td>\n",
       "      <td>2900</td>\n",
       "      <td>38</td>\n",
       "    </tr>\n",
       "    <tr>\n",
       "      <th>4</th>\n",
       "      <td>48.267190</td>\n",
       "      <td>2800</td>\n",
       "      <td>39</td>\n",
       "    </tr>\n",
       "  </tbody>\n",
       "</table>\n",
       "</div>"
      ],
      "text/plain": [
       "        area  costo_intercambiador  temperatura\n",
       "0  52.660691                  3100           35\n",
       "1  51.620256                  3000           36\n",
       "2  50.543195                  2900           37\n",
       "3  49.426603                  2900           38\n",
       "4  48.267190                  2800           39"
      ]
     },
     "execution_count": 53,
     "metadata": {},
     "output_type": "execute_result"
    }
   ],
   "source": [
    "data = pd.DataFrame(\n",
    "    data_bo_map,\n",
    "    columns=['area', 'costo_intercambiador', 'temperatura']\n",
    ")\n",
    "data.head()"
   ]
  },
  {
   "cell_type": "code",
   "execution_count": null,
   "metadata": {},
   "outputs": [
    {
     "data": {
      "text/html": [
       "<div>\n",
       "<style scoped>\n",
       "    .dataframe tbody tr th:only-of-type {\n",
       "        vertical-align: middle;\n",
       "    }\n",
       "\n",
       "    .dataframe tbody tr th {\n",
       "        vertical-align: top;\n",
       "    }\n",
       "\n",
       "    .dataframe thead th {\n",
       "        text-align: right;\n",
       "    }\n",
       "</style>\n",
       "<table border=\"1\" class=\"dataframe\">\n",
       "  <thead>\n",
       "    <tr style=\"text-align: right;\">\n",
       "      <th></th>\n",
       "      <th>area</th>\n",
       "      <th>costo_intercambiador</th>\n",
       "      <th>temperatura</th>\n",
       "      <th>costo_intercambiador_especifico</th>\n",
       "    </tr>\n",
       "  </thead>\n",
       "  <tbody>\n",
       "    <tr>\n",
       "      <th>0</th>\n",
       "      <td>52.660691</td>\n",
       "      <td>3100</td>\n",
       "      <td>35</td>\n",
       "      <td>58.867438</td>\n",
       "    </tr>\n",
       "    <tr>\n",
       "      <th>1</th>\n",
       "      <td>51.620256</td>\n",
       "      <td>3000</td>\n",
       "      <td>36</td>\n",
       "      <td>58.116721</td>\n",
       "    </tr>\n",
       "    <tr>\n",
       "      <th>2</th>\n",
       "      <td>50.543195</td>\n",
       "      <td>2900</td>\n",
       "      <td>37</td>\n",
       "      <td>57.376665</td>\n",
       "    </tr>\n",
       "    <tr>\n",
       "      <th>3</th>\n",
       "      <td>49.426603</td>\n",
       "      <td>2900</td>\n",
       "      <td>38</td>\n",
       "      <td>58.672857</td>\n",
       "    </tr>\n",
       "    <tr>\n",
       "      <th>4</th>\n",
       "      <td>48.267190</td>\n",
       "      <td>2800</td>\n",
       "      <td>39</td>\n",
       "      <td>58.010421</td>\n",
       "    </tr>\n",
       "  </tbody>\n",
       "</table>\n",
       "</div>"
      ],
      "text/plain": [
       "        area  costo_intercambiador  temperatura  \\\n",
       "0  52.660691                  3100           35   \n",
       "1  51.620256                  3000           36   \n",
       "2  50.543195                  2900           37   \n",
       "3  49.426603                  2900           38   \n",
       "4  48.267190                  2800           39   \n",
       "\n",
       "   costo_intercambiador_especifico  \n",
       "0                        58.867438  \n",
       "1                        58.116721  \n",
       "2                        57.376665  \n",
       "3                        58.672857  \n",
       "4                        58.010421  "
      ]
     },
     "execution_count": 54,
     "metadata": {},
     "output_type": "execute_result"
    }
   ],
   "source": [
    "data['costo_intercambiador_especifico'] = data['costo_intercambiador'] / data['area']\n",
    "data.head()"
   ]
  },
  {
   "cell_type": "code",
   "execution_count": null,
   "metadata": {},
   "outputs": [
    {
     "data": {
      "image/png": "[encoded data removed]",
      "text/plain": [
       "<Figure size 640x480 with 1 Axes>"
      ]
     },
     "metadata": {},
     "output_type": "display_data"
    }
   ],
   "source": [
    "plt.plot(\n",
    "    data['area'],\n",
    "    data['costo_intercambiador_especifico'],\n",
    "    marker='o'\n",
    ")\n",
    "plt.xlabel('Area [ft2]')\n",
    "plt.ylabel('Costo especifico [USD/ft2]')\n",
    "plt.title(\"Diagrama Costo Especifico Vs Area\")\n",
    "plt.grid(True)\n",
    "plt.show()"
   ]
  },
  {
   "cell_type": "code",
   "execution_count": null,
   "metadata": {},
   "outputs": [],
   "source": [
    "# Define the power law function\n",
    "def power_law(x, A, B):\n",
    "    return A * (x ** B)"
   ]
  },
  {
   "cell_type": "code",
   "execution_count": null,
   "metadata": {},
   "outputs": [],
   "source": [
    "# Perform curve fitting to find A and B\n",
    "params, covariance = curve_fit(\n",
    "    power_law, \n",
    "    data['area'].to_numpy(),\n",
    "    data[\"costo_intercambiador_especifico\"].to_numpy()\n",
    ")"
   ]
  },
  {
   "cell_type": "code",
   "execution_count": null,
   "metadata": {},
   "outputs": [
    {
     "name": "stdout",
     "output_type": "stream",
     "text": [
      "k = 3.2931097501375857\n",
      "m = 1.7304197426067336\n",
      "n = 0.7304197426067336\n"
     ]
    }
   ],
   "source": [
    "# Extract the values of A and B\n",
    "K, n = params\n",
    "\n",
    "m = 1 + n\n",
    "print(\"k =\", K)\n",
    "print(\"m =\", m)\n",
    "print(\"n =\", n)"
   ]
  },
  {
   "cell_type": "code",
   "execution_count": null,
   "metadata": {},
   "outputs": [
    {
     "data": {
      "text/html": [
       "<div>\n",
       "<style scoped>\n",
       "    .dataframe tbody tr th:only-of-type {\n",
       "        vertical-align: middle;\n",
       "    }\n",
       "\n",
       "    .dataframe tbody tr th {\n",
       "        vertical-align: top;\n",
       "    }\n",
       "\n",
       "    .dataframe thead th {\n",
       "        text-align: right;\n",
       "    }\n",
       "</style>\n",
       "<table border=\"1\" class=\"dataframe\">\n",
       "  <thead>\n",
       "    <tr style=\"text-align: right;\">\n",
       "      <th></th>\n",
       "      <th>area</th>\n",
       "      <th>costo_intercambiador</th>\n",
       "      <th>temperatura</th>\n",
       "      <th>costo_intercambiador_especifico</th>\n",
       "      <th>costo_prediccion</th>\n",
       "    </tr>\n",
       "  </thead>\n",
       "  <tbody>\n",
       "    <tr>\n",
       "      <th>0</th>\n",
       "      <td>52.660691</td>\n",
       "      <td>3100</td>\n",
       "      <td>35</td>\n",
       "      <td>58.867438</td>\n",
       "      <td>3136.898961</td>\n",
       "    </tr>\n",
       "    <tr>\n",
       "      <th>1</th>\n",
       "      <td>51.620256</td>\n",
       "      <td>3000</td>\n",
       "      <td>36</td>\n",
       "      <td>58.116721</td>\n",
       "      <td>3030.428297</td>\n",
       "    </tr>\n",
       "    <tr>\n",
       "      <th>2</th>\n",
       "      <td>50.543195</td>\n",
       "      <td>2900</td>\n",
       "      <td>37</td>\n",
       "      <td>57.376665</td>\n",
       "      <td>2921.848997</td>\n",
       "    </tr>\n",
       "    <tr>\n",
       "      <th>3</th>\n",
       "      <td>49.426603</td>\n",
       "      <td>2900</td>\n",
       "      <td>38</td>\n",
       "      <td>58.672857</td>\n",
       "      <td>2811.055016</td>\n",
       "    </tr>\n",
       "    <tr>\n",
       "      <th>4</th>\n",
       "      <td>48.267190</td>\n",
       "      <td>2800</td>\n",
       "      <td>39</td>\n",
       "      <td>58.010421</td>\n",
       "      <td>2697.931345</td>\n",
       "    </tr>\n",
       "  </tbody>\n",
       "</table>\n",
       "</div>"
      ],
      "text/plain": [
       "        area  costo_intercambiador  temperatura  \\\n",
       "0  52.660691                  3100           35   \n",
       "1  51.620256                  3000           36   \n",
       "2  50.543195                  2900           37   \n",
       "3  49.426603                  2900           38   \n",
       "4  48.267190                  2800           39   \n",
       "\n",
       "   costo_intercambiador_especifico  costo_prediccion  \n",
       "0                        58.867438       3136.898961  \n",
       "1                        58.116721       3030.428297  \n",
       "2                        57.376665       2921.848997  \n",
       "3                        58.672857       2811.055016  \n",
       "4                        58.010421       2697.931345  "
      ]
     },
     "execution_count": 59,
     "metadata": {},
     "output_type": "execute_result"
    }
   ],
   "source": [
    "data['costo_prediccion'] =  K * (data['area'] ** (m))\n",
    "data.head()"
   ]
  },
  {
   "cell_type": "code",
   "execution_count": null,
   "metadata": {},
   "outputs": [
    {
     "data": {
      "image/png": "[encoded data removed]",
      "text/plain": [
       "<Figure size 640x480 with 1 Axes>"
      ]
     },
     "metadata": {},
     "output_type": "display_data"
    }
   ],
   "source": [
    "plt.plot(\n",
    "    data['temperatura'],\n",
    "    data['costo_intercambiador'],\n",
    "    marker='o',\n",
    "    label='Costo Intercambiador'\n",
    ")\n",
    "\n",
    "plt.plot(\n",
    "    data['temperatura'],\n",
    "    data['costo_prediccion'],\n",
    "    marker='o',\n",
    "    label='Costo Intercambiador predicción'\n",
    ")\n",
    "\n",
    "plt.xlabel('Temperatura de salida de leche [ºC]')\n",
    "plt.ylabel('Costo especifico [USD/ft2]')\n",
    "plt.title(\"Comparación modelo matemático vs experimental\")\n",
    "plt.legend()\n",
    "plt.grid()\n",
    "plt.show()"
   ]
  },
  {
   "cell_type": "markdown",
   "metadata": {},
   "source": [
    "## 5. Costo energético"
   ]
  },
  {
   "cell_type": "code",
   "execution_count": null,
   "metadata": {},
   "outputs": [
    {
     "data": {
      "text/plain": [
       "3.4125833333333295"
      ]
     },
     "execution_count": 61,
     "metadata": {},
     "output_type": "execute_result"
    }
   ],
   "source": [
    "n = 5 # 5 añoS\n",
    "g = 0.08\n",
    "i = 0.2 \n",
    "\n",
    "PSA = (\n",
    "    1 - ((1 + g) / (1 + i)) ** n\n",
    ") / (i - g)\n",
    "PSA"
   ]
  },
  {
   "cell_type": "code",
   "execution_count": null,
   "metadata": {},
   "outputs": [
    {
     "data": {
      "text/plain": [
       "array([275744.57290667, 269616.91573097, 263489.25855526, 257361.60137956,\n",
       "       251233.94420385, 245106.28702815, 238978.62985245, 232850.97267674,\n",
       "       226723.31550104, 220595.65832534, 214468.00114963, 208340.34397393,\n",
       "       202212.68679822, 196085.02962252, 189957.37244682, 183829.71527111,\n",
       "       177702.05809541, 171574.40091971, 165446.743744  , 159319.0865683 ])"
      ]
     },
     "execution_count": 62,
     "metadata": {},
     "output_type": "execute_result"
    }
   ],
   "source": [
    "calor_adicional = calores_transferencia - calores_lmtd\n",
    "horas = 300 * 24\n",
    "CEE = 0.25\n",
    "\n",
    "C_q = calor_adicional * horas * CEE * PSA / 1000\n",
    "C_q"
   ]
  },
  {
   "cell_type": "code",
   "execution_count": null,
   "metadata": {},
   "outputs": [
    {
     "data": {
      "text/plain": [
       "array([320634.73804821, 313509.52164714, 306384.30524606, 299259.08884499,\n",
       "       292133.87244392, 285008.65604285, 277883.43964178, 270758.22324071,\n",
       "       263633.00683964, 256507.79043857, 249382.57403749, 242257.35763642,\n",
       "       235132.14123535, 228006.92483428, 220881.70843321, 213756.49203214,\n",
       "       206631.27563107, 199506.05923   , 192380.84282892, 185255.62642785])"
      ]
     },
     "execution_count": 63,
     "metadata": {},
     "output_type": "execute_result"
    }
   ],
   "source": [
    "costo_intercambiador = calor_adicional + C_q\n",
    "costo_intercambiador"
   ]
  },
  {
   "cell_type": "code",
   "execution_count": null,
   "metadata": {},
   "outputs": [],
   "source": [
    "data['costo_intercambiador_total'] = costo_intercambiador[::2]"
   ]
  },
  {
   "cell_type": "markdown",
   "metadata": {},
   "source": [
    "## 6. Calculo  Ciclo refrigerador"
   ]
  },
  {
   "cell_type": "markdown",
   "metadata": {},
   "source": [
    "<!-- <p align=\"center\">\n",
    "  <img src=\"ciclo_refrigerador.jpg\" height =\"300px\">\n",
    "</p> -->\n",
    "\n",
    "![](ciclo_refrigerador.jpg)"
   ]
  },
  {
   "cell_type": "markdown",
   "metadata": {},
   "source": [
    "### 6.1 Costo del refrigerador"
   ]
  },
  {
   "cell_type": "markdown",
   "metadata": {},
   "source": [
    "$$ \\dot{Q} = (\\dot{m} *C_{p})_{leche} * (T_{entrada} -T_{salida})$$"
   ]
  },
  {
   "cell_type": "code",
   "execution_count": null,
   "metadata": {},
   "outputs": [
    {
     "name": "stdout",
     "output_type": "stream",
     "text": [
      "Calor transmitido al refrigerador 68250.0 W\n"
     ]
    }
   ],
   "source": [
    "calor_refrigerador = caudal_leche * cp_leche_kern * (temperatura_estimada_salida_leche - temperatura_salida_leche)\n",
    "print(f\"Calor transmitido al refrigerador {calor_refrigerador} W\")"
   ]
  },
  {
   "cell_type": "code",
   "execution_count": null,
   "metadata": {},
   "outputs": [
    {
     "name": "stdout",
     "output_type": "stream",
     "text": [
      "Calor transmitido al refrigerador 0    48750.0\n",
      "1    50700.0\n",
      "2    52650.0\n",
      "3    54600.0\n",
      "4    56550.0\n",
      "5    58500.0\n",
      "6    60450.0\n",
      "7    62400.0\n",
      "8    64350.0\n",
      "9    66300.0\n",
      "Name: temperatura, dtype: float64 W\n",
      "Calor transmitido al refrigerador 0    0.166342\n",
      "1    0.172995\n",
      "2    0.179649\n",
      "3    0.186303\n",
      "4    0.192957\n",
      "5    0.199610\n",
      "6    0.206264\n",
      "7    0.212918\n",
      "8    0.219571\n",
      "9    0.226225\n",
      "Name: temperatura, dtype: float64 M Btu/h\n"
     ]
    }
   ],
   "source": [
    "calores_refrigerador = caudal_leche * cp_leche_kern * (data['temperatura'] - temperatura_salida_leche)\n",
    "print(f\"Calor transmitido al refrigerador {calores_refrigerador} W\")\n",
    "\n",
    "calores_refrigerador_ingles = calores_refrigerador * 3.41214 / 1e6\n",
    "print(f\"Calor transmitido al refrigerador {calores_refrigerador_ingles} M Btu/h\")"
   ]
  },
  {
   "cell_type": "code",
   "execution_count": null,
   "metadata": {},
   "outputs": [],
   "source": [
    "data['costo_refrigeradores'] = [\n",
    "    48000,\n",
    "    49300,\n",
    "    50600,\n",
    "    51900,\n",
    "    53200,\n",
    "    54500,\n",
    "    55700,\n",
    "    57000,\n",
    "    58200,\n",
    "    59400,\n",
    "]"
   ]
  },
  {
   "cell_type": "markdown",
   "metadata": {},
   "source": [
    "### 6.2 Costo Compresor"
   ]
  },
  {
   "cell_type": "code",
   "execution_count": null,
   "metadata": {},
   "outputs": [],
   "source": [
    "COP = 2 # Refrigeración"
   ]
  },
  {
   "cell_type": "code",
   "execution_count": null,
   "metadata": {},
   "outputs": [
    {
     "name": "stdout",
     "output_type": "stream",
     "text": [
      "Trabajo del compresor \n",
      " 136500.0 W\n"
     ]
    }
   ],
   "source": [
    "trabajo_compresor = COP * calor_refrigerador\n",
    "print(f\"Trabajo del compresor \\n {trabajo_compresor} W\")"
   ]
  },
  {
   "cell_type": "code",
   "execution_count": null,
   "metadata": {},
   "outputs": [
    {
     "name": "stdout",
     "output_type": "stream",
     "text": [
      "Trabajos del compresor \n",
      " 0    0.332684\n",
      "1    0.345991\n",
      "2    0.359298\n",
      "3    0.372606\n",
      "4    0.385913\n",
      "5    0.399220\n",
      "6    0.412528\n",
      "7    0.425835\n",
      "8    0.439142\n",
      "9    0.452450\n",
      "Name: temperatura, dtype: float64 W\n",
      "Trabajos del compresor \n",
      " 0    0.000446\n",
      "1    0.000464\n",
      "2    0.000482\n",
      "3    0.000500\n",
      "4    0.000518\n",
      "5    0.000535\n",
      "6    0.000553\n",
      "7    0.000571\n",
      "8    0.000589\n",
      "9    0.000607\n",
      "Name: temperatura, dtype: float64 Hp\n"
     ]
    }
   ],
   "source": [
    "trabajo_compresores = COP * calores_refrigerador_ingles\n",
    "print(f\"Trabajos del compresor \\n {trabajo_compresores} W\")\n",
    "\n",
    "trabajo_compresores_hp = trabajo_compresores / 745.7\n",
    "print(f\"Trabajos del compresor \\n {trabajo_compresores_hp} Hp\")"
   ]
  },
  {
   "cell_type": "code",
   "execution_count": null,
   "metadata": {},
   "outputs": [],
   "source": [
    "data['costo_compresor'] = [\n",
    "    78500,\n",
    "    79600,\n",
    "    80600,\n",
    "    81700,\n",
    "    82800,\n",
    "    83900,\n",
    "    85000,\n",
    "    86100,\n",
    "    87200,\n",
    "    88300,\n",
    "]"
   ]
  },
  {
   "cell_type": "code",
   "execution_count": null,
   "metadata": {},
   "outputs": [],
   "source": [
    "data['costo_total_sistema'] = data['costo_refrigeradores']  + data['costo_intercambiador_total'] + data['costo_compresor']"
   ]
  },
  {
   "cell_type": "code",
   "execution_count": null,
   "metadata": {},
   "outputs": [],
   "source": [
    "data.to_excel('data.xlsx')"
   ]
  },
  {
   "cell_type": "code",
   "execution_count": null,
   "metadata": {},
   "outputs": [
    {
     "data": {
      "image/png": "[encoded data removed]",
      "text/plain": [
       "<Figure size 1000x1600 with 1 Axes>"
      ]
     },
     "metadata": {},
     "output_type": "display_data"
    }
   ],
   "source": [
    "plt.figure(figsize=(10,16))\n",
    "\n",
    "plt.plot(\n",
    "    data['temperatura'],\n",
    "    data['costo_intercambiador_total'],\n",
    "    marker='o',\n",
    "    label='Intercambiador'\n",
    ")\n",
    "\n",
    "plt.plot(\n",
    "    data['temperatura'],\n",
    "    data['costo_refrigeradores'],\n",
    "    marker='o',\n",
    "    label='Refrigerador'\n",
    ")\n",
    "\n",
    "plt.plot(\n",
    "    data['temperatura'],\n",
    "    data['costo_compresor'],\n",
    "    marker='o',\n",
    "    label='Compresor'\n",
    ")\n",
    "\n",
    "plt.plot(\n",
    "    data['temperatura'],\n",
    "    data['costo_total_sistema'],\n",
    "    marker='o',\n",
    "    label='Total'\n",
    ")\n",
    "\n",
    "plt.xlabel('Temperatura de salida de leche [ºC]')\n",
    "plt.ylabel('Costo especifico [USD/ft2]')\n",
    "\n",
    "plt.title('Iteración del costo en funcion de la temperatura de salida de leche (IC Y SR)')\n",
    "plt.legend()\n",
    "plt.grid()\n",
    "plt.show()"
   ]
  },
  {
   "cell_type": "markdown",
   "metadata": {},
   "source": [
    "# - Diseño solo sistema refrigerador "
   ]
  },
  {
   "cell_type": "markdown",
   "metadata": {},
   "source": [
    "## 1. Refrigerador"
   ]
  },
  {
   "cell_type": "code",
   "execution_count": null,
   "metadata": {},
   "outputs": [
    {
     "name": "stdout",
     "output_type": "stream",
     "text": [
      "Calor transmitido al refrigerador 136500.0 W\n"
     ]
    }
   ],
   "source": [
    "calor_refrigerador = caudal_leche * cp_leche_kern * (temperatura_entrada_leche - temperatura_salida_leche)\n",
    "print(f\"Calor transmitido al refrigerador {calor_refrigerador} W\")"
   ]
  },
  {
   "cell_type": "code",
   "execution_count": null,
   "metadata": {},
   "outputs": [
    {
     "name": "stdout",
     "output_type": "stream",
     "text": [
      "Calor transmitido al refrigerador 0.46575711 M Btu/h\n"
     ]
    }
   ],
   "source": [
    "calor_refrigerador_ingles = calor_refrigerador    * 3.41214 / 1e6\n",
    "print(f\"Calor transmitido al refrigerador {calor_refrigerador_ingles} M Btu/h\")"
   ]
  },
  {
   "cell_type": "code",
   "execution_count": null,
   "metadata": {},
   "outputs": [
    {
     "name": "stdout",
     "output_type": "stream",
     "text": [
      "precio: 98200 USD\n"
     ]
    }
   ],
   "source": [
    "print(f\"precio: 98200 USD\")"
   ]
  },
  {
   "cell_type": "markdown",
   "metadata": {},
   "source": [
    "## 2. Compresor"
   ]
  },
  {
   "cell_type": "code",
   "execution_count": null,
   "metadata": {},
   "outputs": [
    {
     "name": "stdout",
     "output_type": "stream",
     "text": [
      "Trabajo del compresor \n",
      " 273000.0 W\n"
     ]
    }
   ],
   "source": [
    "trabajo_compresor = COP * calor_refrigerador\n",
    "print(f\"Trabajo del compresor \\n {trabajo_compresor} W\")"
   ]
  },
  {
   "cell_type": "code",
   "execution_count": null,
   "metadata": {},
   "outputs": [
    {
     "name": "stdout",
     "output_type": "stream",
     "text": [
      "Trabajos del compresor \n",
      " 366.0989674131688 Hp\n"
     ]
    }
   ],
   "source": [
    "trabajo_compresor_hp = trabajo_compresor / 745.7\n",
    "print(f\"Trabajos del compresor \\n {trabajo_compresor_hp} Hp\")"
   ]
  },
  {
   "cell_type": "code",
   "execution_count": null,
   "metadata": {},
   "outputs": [
    {
     "name": "stdout",
     "output_type": "stream",
     "text": [
      "precio: 129000\n"
     ]
    }
   ],
   "source": [
    "print(\"precio: 129000\")"
   ]
  },
  {
   "cell_type": "markdown",
   "metadata": {},
   "source": [
    "# Referencias\n",
    "- Abigail , O. (2023) Principales Productores de Café del Mundo en 2022, Statista. Available at: https://es.statista.com/estadisticas/600243/ranking-de-los-principales-productores-de-cafe-a-nivel-mundial/#:~:text=Ranking%20de%20los%20principales%20productores%20de%20café%20a%20nivel%20mundial%20en%202022&amp;text=Brasil%20encabezó%20la%20clasificación%20mundial,kilogramos%20durante%20el%20año%20referido. (Accessed: 27 October 2023). \n",
    "- Seguros, V. (2021) Presión del Agua en Casa: Problemas habituales: Blog Verti, Verti Blog. Available at: https://blog.verti.es/hogar/presion-agua-casa/#:~:text=Lo%20habitual%20es%20que%20la,tengamos%20una%20presión%20u%20otra. (Accessed: 13 October 2023). \n",
    "- Bell, I.H. et al. (2014) ‘Pure and pseudo-pure fluid thermophysical property evaluation and the open-source Thermophysical Property Library coolprop’, Industrial &amp;amp; Engineering Chemistry Research, 53(6), pp. 2498–2508. doi:10.1021/ie4033999. "
   ]
  }
 ],
 "metadata": {
  "kernelspec": {
   "display_name": "Python 3 (ipykernel)",
   "language": "python",
   "name": "python3"
  },
  "language_info": {
   "codemirror_mode": {
    "name": "ipython",
    "version": 3
   },
   "file_extension": ".py",
   "mimetype": "text/x-python",
   "name": "python",
   "nbconvert_exporter": "python",
   "pygments_lexer": "ipython3",
   "version": "3.10.13"
  }
 },
 "nbformat": 4,
 "nbformat_minor": 2
}
