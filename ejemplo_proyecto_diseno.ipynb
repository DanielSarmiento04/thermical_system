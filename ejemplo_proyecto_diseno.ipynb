{
 "cells": [
  {
   "cell_type": "markdown",
   "metadata": {},
   "source": [
    "# **Enunciado**\n",
    "\n",
    "## José Daniel Sarmiento Blanco 2192232\n",
    "\n",
    "### Ejemplo de proyecto de diseño\n",
    "\n",
    "\n",
    "Requerimiento: Enfriar leche para almacenamiento.\n",
    "\n",
    "1. Especificación cuantitativa de requerimiento:\n",
    "\n",
    "    1.1 Requerimiento funcionales. \n",
    "        \n",
    "        - $m_l=0.5Kg/s$ \n",
    "        - Enfriar desde 80 ºC hasta 10 ºC\n",
    "        - Se dispone de $m_w=2.5kg/s$ agua proveniente de una torre a 24ºC.\n",
    "\n",
    "    1.2 Requerimiento no funcionales.\n",
    "\n",
    "        - Operable y seguro.\n",
    "        - Costo mínimo.\n",
    "\n",
    "2. Concepto de diseño:\n",
    "\n",
    "    2.1 Solo enfriamiento con agua.\n",
    "\n",
    "    2.2 Solo enfriamiento con un sistema de refrigeración.\n",
    "    \n",
    "    2.3 Sistema combinado.\n",
    "\n",
    "        - Agua primero por SR.\n",
    "        - Agua primero por pre-enfriador.\n"
   ]
  },
  {
   "cell_type": "markdown",
   "metadata": {},
   "source": [
    "## Importar librerías necesarias"
   ]
  },
  {
   "cell_type": "code",
   "execution_count": 388,
   "metadata": {},
   "outputs": [],
   "source": [
    "from pyfluids import Fluid, FluidsList, Input, Mixture\n",
    "from core import ThermoFormules\n",
    "import numpy as np\n",
    "from pprint import pprint\n",
    "import pandas as pd\n",
    "from matplotlib import pyplot as plt\n",
    "from scipy.optimize import curve_fit"
   ]
  },
  {
   "cell_type": "markdown",
   "metadata": {},
   "source": [
    "## Establecer valores conocidos"
   ]
  },
  {
   "cell_type": "code",
   "execution_count": 389,
   "metadata": {},
   "outputs": [],
   "source": [
    "caudal_leche                              = 0.5 # kg/s\n",
    "temperatura_entrada_leche                 = 80 # ºC\n",
    "temperatura_salida_leche                  = 10 # ºC\n",
    "\n",
    "temperatura_entrada_agua                  = 24 # ºC\n",
    "\n",
    "caudal_agua                               = 2.5 # kg/s"
   ]
  },
  {
   "cell_type": "markdown",
   "metadata": {},
   "source": [
    "### Definición de salida temperatura"
   ]
  },
  {
   "cell_type": "code",
   "execution_count": 390,
   "metadata": {},
   "outputs": [],
   "source": [
    "temperatura_estimada_salida_leche          = 45  # ºC"
   ]
  },
  {
   "cell_type": "code",
   "execution_count": 391,
   "metadata": {},
   "outputs": [
    {
     "data": {
      "text/plain": [
       "array([35, 36, 37, 38, 39, 40, 41, 42, 43, 44, 45, 46, 47, 48, 49, 50, 51,\n",
       "       52, 53, 54])"
      ]
     },
     "execution_count": 391,
     "metadata": {},
     "output_type": "execute_result"
    }
   ],
   "source": [
    "temperaturas_leche_estimada_salidas = np.arange(35, 55)\n",
    "temperaturas_leche_estimada_salidas"
   ]
  },
  {
   "cell_type": "markdown",
   "metadata": {},
   "source": [
    "# - Diseño combinado"
   ]
  },
  {
   "cell_type": "markdown",
   "metadata": {},
   "source": [
    "## 0. Establecer valores pre-diseño"
   ]
  },
  {
   "cell_type": "code",
   "execution_count": 392,
   "metadata": {},
   "outputs": [],
   "source": [
    "k_material                            = 16.3    # W/ m * k Acero inoxidable\n",
    "diametro_interior                     = 17e-3 # m\n",
    "diametro_exterior                     = 25.4e-3 # m\n",
    "\n",
    "longitud                              = 4 #m               "
   ]
  },
  {
   "cell_type": "code",
   "execution_count": 393,
   "metadata": {},
   "outputs": [
    {
     "data": {
      "text/plain": [
       "Water"
      ]
     },
     "execution_count": 393,
     "metadata": {},
     "output_type": "execute_result"
    }
   ],
   "source": [
    "water = Fluid(FluidsList.Water)\n",
    "water.name"
   ]
  },
  {
   "cell_type": "markdown",
   "metadata": {},
   "source": [
    "### 0.1 Suposición\n",
    "\n",
    "[presión agua](https://blog.verti.es/hogar/presion-agua-casa/#:~:text=Lo%20habitual%20es%20que%20la,tengamos%20una%20presión%20u%20otra.)\n",
    "\n",
    "\n",
    "- Considere como material el acero al carbono, k = 60 W/m*k.\n",
    "- Diámetro de tubo de 3/4 in ( 19 mm exterior y 16 mm interior ).\n",
    "- Longitud de 4m"
   ]
  },
  {
   "cell_type": "code",
   "execution_count": 394,
   "metadata": {},
   "outputs": [],
   "source": [
    "presion_agua  = (2) * 101_325 # Pa"
   ]
  },
  {
   "cell_type": "markdown",
   "metadata": {},
   "source": [
    "### Composición del crudo"
   ]
  },
  {
   "cell_type": "code",
   "execution_count": 395,
   "metadata": {},
   "outputs": [
    {
     "name": "stdout",
     "output_type": "stream",
     "text": [
      "Temperatura de leche 62.5 ºC\n",
      "Calor especifico leche 3970 J/(kg*k)\n"
     ]
    }
   ],
   "source": [
    "temperatura_propiedades_leche = (temperatura_entrada_leche + temperatura_estimada_salida_leche) / 2\n",
    "print(f\"Temperatura de leche {temperatura_propiedades_leche} ºC\") #+ 273.15)\n",
    "\n",
    "cp_propiedades_leche = 3970  # J/kg k\n",
    "print(f\"Calor especifico leche {cp_propiedades_leche} J/(kg*k)\")"
   ]
  },
  {
   "cell_type": "code",
   "execution_count": 396,
   "metadata": {},
   "outputs": [
    {
     "name": "stdout",
     "output_type": "stream",
     "text": [
      "('Temperaturas de propiedades a iterar [57.5 58.  58.5 59.  59.5 60.  60.5 '\n",
      " '61.  61.5 62.  62.5 63.  63.5 64.\\n'\n",
      " ' 64.5 65.  65.5 66.  66.5 67. ]')\n"
     ]
    }
   ],
   "source": [
    "temperaturas_propiedades_leche = (temperaturas_leche_estimada_salidas + temperatura_entrada_leche) / 2\n",
    "pprint(f\"Temperaturas de propiedades a iterar {temperaturas_propiedades_leche}\")"
   ]
  },
  {
   "cell_type": "markdown",
   "metadata": {},
   "source": [
    "## 1. Termodinámica"
   ]
  },
  {
   "cell_type": "markdown",
   "metadata": {},
   "source": [
    "$$ \\dot{Q} = (\\dot{m} *C_{p})_{crudo} * (T_{c1} -T_{c2})$$"
   ]
  },
  {
   "cell_type": "code",
   "execution_count": 397,
   "metadata": {},
   "outputs": [
    {
     "name": "stdout",
     "output_type": "stream",
     "text": [
      "El calor transferido = 69475.0 W\n"
     ]
    }
   ],
   "source": [
    "calor = caudal_leche * cp_propiedades_leche * (temperatura_entrada_leche - temperatura_estimada_salida_leche) \n",
    "print(f\"El calor transferido = {calor} W\")"
   ]
  },
  {
   "cell_type": "code",
   "execution_count": 398,
   "metadata": {},
   "outputs": [
    {
     "name": "stdout",
     "output_type": "stream",
     "text": [
      " Calores [89325. 87340. 85355. 83370. 81385. 79400. 77415. 75430. 73445. 71460.\n",
      " 69475. 67490. 65505. 63520. 61535. 59550. 57565. 55580. 53595. 51610.]\n"
     ]
    }
   ],
   "source": [
    "calores_transferencia = caudal_leche * cp_propiedades_leche * (temperatura_entrada_leche - temperaturas_leche_estimada_salidas)\n",
    "print(fr\" Calores {calores_transferencia}\")"
   ]
  },
  {
   "cell_type": "code",
   "execution_count": 399,
   "metadata": {},
   "outputs": [
    {
     "name": "stdout",
     "output_type": "stream",
     "text": [
      "{'compressibility': 0.0014376012709739205, 'conductivity': 0.6203366408703609, 'critical_pressure': 22064000.0, 'critical_temperature': 373.946, 'density': 994.417937160409, 'dynamic_viscosity': 0.0007337301352239351, 'enthalpy': 142631.9153801642, 'entropy': 491.47808690964223, 'fraction': 100, 'freezing_temperature': None, 'internal_energy': 142428.1278251999, 'kinematic_viscosity': 7.378488538924831e-07, 'max_pressure': 1000000000.0, 'max_temperature': 1726.85, 'min_pressure': 611.6548008968684, 'min_temperature': 0.010000000000047748, 'molar_mass': 0.018015268, 'name': Water, 'phase': Liquid, 'prandtl': 4.942945501085879, 'pressure': 202650, 'quality': None, 'sound_speed': 1518.0155752419128, 'specific_heat': 4179.043576032273, 'specific_volume': 0.0010056133971753675, 'surface_tension': None, 'temperature': 34.0, 'triple_pressure': 611.6548008968684, 'triple_temperature': 0.010000000000047748, 'units_system': SIWithCelsiusAndPercents}\n"
     ]
    }
   ],
   "source": [
    "estado_agua_propiedades = water.with_state(\n",
    "    Input.pressure(presion_agua),\n",
    "    Input.temperature(34),\n",
    ")\n",
    "print(estado_agua_propiedades.as_dict())"
   ]
  },
  {
   "cell_type": "code",
   "execution_count": 400,
   "metadata": {},
   "outputs": [],
   "source": [
    "cp_agua                         = estado_agua_propiedades.specific_heat # J /kg k\n",
    "viscosidad_dinamica_agua        = estado_agua_propiedades.dynamic_viscosity # Pa * s\n",
    "densidad_agua                   = estado_agua_propiedades.density # kg / m3\n",
    "k_agua                          = estado_agua_propiedades.conductivity # W / m k\n",
    "prandl_agua                     = estado_agua_propiedades.prandtl"
   ]
  },
  {
   "cell_type": "markdown",
   "metadata": {},
   "source": [
    "$$ \\dot{Q} = (\\dot{m} *C_{p})_{agua} * (T_{w1} - T_{w2})$$"
   ]
  },
  {
   "cell_type": "code",
   "execution_count": 401,
   "metadata": {},
   "outputs": [
    {
     "name": "stdout",
     "output_type": "stream",
     "text": [
      "la temperatura de lsa salida del agua del agua es: 30.65\n"
     ]
    }
   ],
   "source": [
    "temperatura_salida_agua = temperatura_entrada_agua + calor / (caudal_agua * cp_agua)\n",
    "print(f\"la temperatura de lsa salida del agua del agua es: {temperatura_salida_agua:.2f}\")"
   ]
  },
  {
   "cell_type": "code",
   "execution_count": 402,
   "metadata": {},
   "outputs": [
    {
     "data": {
      "text/plain": [
       "array([32.54980317, 32.35980754, 32.16981191, 31.97981629, 31.78982066,\n",
       "       31.59982504, 31.40982941, 31.21983379, 31.02983816, 30.83984253,\n",
       "       30.64984691, 30.45985128, 30.26985566, 30.07986003, 29.8898644 ,\n",
       "       29.69986878, 29.50987315, 29.31987753, 29.1298819 , 28.93988627])"
      ]
     },
     "execution_count": 402,
     "metadata": {},
     "output_type": "execute_result"
    }
   ],
   "source": [
    "temperaturas_salida_agua = temperatura_entrada_agua + calores_transferencia / (caudal_agua * cp_agua)\n",
    "temperaturas_salida_agua"
   ]
  },
  {
   "cell_type": "markdown",
   "metadata": {},
   "source": [
    "## 2. Transferencia de calor"
   ]
  },
  {
   "cell_type": "markdown",
   "metadata": {},
   "source": [
    "### 2.1 Calculo de una U estimada"
   ]
  },
  {
   "cell_type": "markdown",
   "metadata": {},
   "source": [
    "Asuma los coeficiente de trasferencia de calor\n",
    "\n",
    "$$ \\frac{1}{U_{ensuciamiento}} = \\frac{r_{0}}{r_{i}} \\frac{1}{h_{i}} + \\frac{r_{0}}{r_{1}}*R_{f_{}i} + r_{0} \\frac{ln(\\frac{r_{0}}{r_{i}} )}{k} + R_{f_{}o} + \\frac{1}{h_{0}} $$\n",
    "\n",
    "\n",
    "\n",
    "$$ \\frac{1}{U_{limpio}} = \\frac{r_{0}}{r_{i}} \\frac{1}{h_{i}} + r_{0} \\frac{ln(\\frac{r_{0}}{r_{i}} )}{k} + \\frac{1}{h_{0}}$$\n",
    "\n",
    "En este caso\n",
    "> $r_{0}$ -> radio exterior\n",
    "\n",
    "> $r_{i}$ -> radio interior\n",
    "\n",
    "> $h_{0}$ -> coeficiente de convección en la carcasa\n",
    "\n",
    "> $h_{i}$ -> coeficiente de convección en el tubo"
   ]
  },
  {
   "cell_type": "code",
   "execution_count": 403,
   "metadata": {},
   "outputs": [],
   "source": [
    "h_agua        = 5000     # kj/kg * k\n",
    "h_leche       = 2000     # kj/kg * k\n",
    "\n",
    "R_f_leche    = 0.000176 # m2 k/w\n",
    "R_f_agua     = 0.000176 # m2 k/w"
   ]
  },
  {
   "cell_type": "code",
   "execution_count": 404,
   "metadata": {},
   "outputs": [
    {
     "data": {
      "text/plain": [
       "588.6242710982067"
      ]
     },
     "execution_count": 404,
     "metadata": {},
     "output_type": "execute_result"
    }
   ],
   "source": [
    "U_ensuciamiento = (\n",
    "    (diametro_exterior / diametro_interior) * 1 / h_leche\n",
    "    + (diametro_exterior / diametro_interior) * R_f_leche\n",
    "    + (diametro_exterior / 2) * np.log(diametro_exterior/diametro_interior) / k_material\n",
    "    + R_f_agua\n",
    "    + 1 / h_agua\n",
    ") ** -1 \n",
    "U_ensuciamiento"
   ]
  },
  {
   "cell_type": "code",
   "execution_count": 405,
   "metadata": {},
   "outputs": [
    {
     "data": {
      "text/plain": [
       "793.7062941903841"
      ]
     },
     "execution_count": 405,
     "metadata": {},
     "output_type": "execute_result"
    }
   ],
   "source": [
    "U_no_ensuciamiento = (\n",
    "    (diametro_exterior / diametro_interior) * 1 / h_leche\n",
    "    + (diametro_exterior / 2) * np.log(diametro_exterior/diametro_interior) / k_material\n",
    "    + 1 / h_agua\n",
    ") ** -1 \n",
    "U_no_ensuciamiento"
   ]
  },
  {
   "cell_type": "markdown",
   "metadata": {},
   "source": [
    "### 2.2 Calculo de la diferencia media logarítmica"
   ]
  },
  {
   "cell_type": "code",
   "execution_count": 406,
   "metadata": {},
   "outputs": [
    {
     "name": "stdout",
     "output_type": "stream",
     "text": [
      "diferencia de temperatura sección 1: 49.35 ºC\n",
      "diferencia de temperatura sección 2: 21.00 ºC\n",
      "diferencia media logarítmica: 33.18 ºC\n"
     ]
    }
   ],
   "source": [
    "diferencia_temperatura_1 = temperatura_entrada_leche - temperatura_salida_agua\n",
    "diferencia_temperatura_2 = temperatura_estimada_salida_leche - temperatura_entrada_agua\n",
    "print(f\"diferencia de temperatura sección 1: {diferencia_temperatura_1:.2f} ºC\" )\n",
    "print(f\"diferencia de temperatura sección 2: {diferencia_temperatura_2:.2f} ºC\" )\n",
    "\n",
    "diferencia_log_temperatura = (diferencia_temperatura_2 - diferencia_temperatura_1)/ np.log(diferencia_temperatura_2/diferencia_temperatura_1)\n",
    "print(f\"diferencia media logarítmica: {diferencia_log_temperatura:.2f} ºC\")"
   ]
  },
  {
   "cell_type": "code",
   "execution_count": 407,
   "metadata": {},
   "outputs": [
    {
     "data": {
      "text/plain": [
       "array([31.49027523, 31.09506562, 30.69720277, 30.29659586, 29.89314863,\n",
       "       29.48675892, 29.07731813, 28.66471067, 28.24881326, 27.82949422,\n",
       "       27.40661265, 26.98001747, 26.54954637, 26.11502459, 25.67626356,\n",
       "       25.23305927, 24.78519045, 24.33241648, 23.87447486, 23.41107837])"
      ]
     },
     "execution_count": 407,
     "metadata": {},
     "output_type": "execute_result"
    }
   ],
   "source": [
    "diferencia_temperatura_leche = temperatura_entrada_leche - temperaturas_leche_estimada_salidas\n",
    "diferencia_temperatura_leche\n",
    "\n",
    "diferencia_log_temperaturas = (diferencia_temperatura_2 - diferencia_temperatura_leche) / np.log(diferencia_temperatura_2/diferencia_temperatura_leche)\n",
    "diferencia_log_temperaturas"
   ]
  },
  {
   "cell_type": "markdown",
   "metadata": {},
   "source": [
    "Para el calculo de las el factor de correction se uso las tables del metodo de lmtd del moodle "
   ]
  },
  {
   "cell_type": "code",
   "execution_count": 408,
   "metadata": {},
   "outputs": [
    {
     "name": "stdout",
     "output_type": "stream",
     "text": [
      "{'R': 5.263279063012938, 'P': 0.18999562592593275}\n"
     ]
    }
   ],
   "source": [
    "R = (temperatura_entrada_leche - temperatura_estimada_salida_leche) / (temperatura_salida_agua- temperatura_entrada_agua)\n",
    "P = 1 / R\n",
    "print({\"R\":R, \"P\":P})"
   ]
  },
  {
   "cell_type": "markdown",
   "metadata": {},
   "source": [
    "Teniendo en cuenta las gráficas de moodle"
   ]
  },
  {
   "cell_type": "code",
   "execution_count": 409,
   "metadata": {},
   "outputs": [],
   "source": [
    "F = 0.7"
   ]
  },
  {
   "cell_type": "code",
   "execution_count": 410,
   "metadata": {},
   "outputs": [
    {
     "name": "stdout",
     "output_type": "stream",
     "text": [
      "Diferencia de temperatura logar ítmica 23.23 ºC\n"
     ]
    }
   ],
   "source": [
    "diferencia_log_temperatura_corregida = F * diferencia_log_temperatura\n",
    "print(f\"Diferencia de temperatura logar ítmica {diferencia_log_temperatura_corregida:.2f} ºC\")"
   ]
  },
  {
   "cell_type": "markdown",
   "metadata": {},
   "source": [
    "### 2.3 Calculo de la relación de area"
   ]
  },
  {
   "cell_type": "code",
   "execution_count": 411,
   "metadata": {},
   "outputs": [
    {
     "name": "stdout",
     "output_type": "stream",
     "text": [
      "Area con ensuciamiento 5.081682757019127 m^2\n",
      "Area sin ensuciamiento 3.768650734783285 m^2\n",
      "Relación de area ratio: 0.3484\n"
     ]
    }
   ],
   "source": [
    "A_f = calor / (U_ensuciamiento * diferencia_log_temperatura_corregida)\n",
    "A_c = calor / (U_no_ensuciamiento * diferencia_log_temperatura_corregida)\n",
    "\n",
    "print(f\"Area con ensuciamiento {A_f} m^2\")\n",
    "print(f\"Area sin ensuciamiento {A_c} m^2\")\n",
    "\n",
    "area_ratio =  A_f / A_c - 1\n",
    "print(f\"Relación de area ratio: {area_ratio:.4f}\")"
   ]
  },
  {
   "cell_type": "markdown",
   "metadata": {},
   "source": [
    "Se toma como referencia las siguientes dimisiones y parámetros de diseño en base a los valores estándares"
   ]
  },
  {
   "cell_type": "code",
   "execution_count": 412,
   "metadata": {},
   "outputs": [],
   "source": [
    "Cl         = 1\n",
    "L          = 4   # m ; Es la longitud \n",
    "CTP        = 0.93 # One tube pass\n",
    "PitchRatio = 1.25"
   ]
  },
  {
   "cell_type": "code",
   "execution_count": 413,
   "metadata": {},
   "outputs": [
    {
     "name": "stdout",
     "output_type": "stream",
     "text": [
      "El diámetro de la carcasa 0.14832 m\n",
      "El diámetro de la carcasa estándar 0.25 m\n"
     ]
    }
   ],
   "source": [
    "diametro_carcasa = 0.637 * ((Cl / CTP) * A_f * pow(PitchRatio, 2) * diametro_exterior / L)**(1/2) \n",
    "print(f\"El diámetro de la carcasa {diametro_carcasa:.5f} m\")\n",
    "\n",
    "diametro_carcasa = 0.25 # Se aproxima al estándar\n",
    "print(f\"El diámetro de la carcasa estándar {diametro_carcasa} m\")"
   ]
  },
  {
   "cell_type": "code",
   "execution_count": 414,
   "metadata": {},
   "outputs": [
    {
     "name": "stdout",
     "output_type": "stream",
     "text": [
      "45.26319052638105\n"
     ]
    }
   ],
   "source": [
    "numeros_tubos = 0.785 * (CTP/Cl) * (diametro_carcasa)**2 /((PitchRatio * diametro_exterior)**2)\n",
    "print(numeros_tubos)"
   ]
  },
  {
   "cell_type": "markdown",
   "metadata": {},
   "source": [
    "Se supone un 60 %  del diámetro de la carcasa"
   ]
  },
  {
   "cell_type": "code",
   "execution_count": 415,
   "metadata": {},
   "outputs": [
    {
     "name": "stdout",
     "output_type": "stream",
     "text": [
      "espacio entre baffle 0.15\n",
      "espacio entre baffle 0.2\n"
     ]
    }
   ],
   "source": [
    "B = 0.6 * diametro_carcasa\n",
    "print('espacio entre baffle', B)\n",
    "B = 0.2\n",
    "print('espacio entre baffle', B)"
   ]
  },
  {
   "cell_type": "markdown",
   "metadata": {},
   "source": [
    "## 3. Corrección método de kern"
   ]
  },
  {
   "cell_type": "markdown",
   "metadata": {},
   "source": [
    "### 3.1 Calculo del diámetro equivalente"
   ]
  },
  {
   "cell_type": "code",
   "execution_count": 416,
   "metadata": {},
   "outputs": [],
   "source": [
    "numeros_tubos = 48  # Estándar\n",
    "D_S = 0.3048 # 13 1/4 "
   ]
  },
  {
   "cell_type": "code",
   "execution_count": 417,
   "metadata": {},
   "outputs": [],
   "source": [
    "Pitch_Size              = 31.75e-3 # m -> Note que esta valor sale en las tablas como 1 in"
   ]
  },
  {
   "cell_type": "code",
   "execution_count": 418,
   "metadata": {},
   "outputs": [
    {
     "name": "stdout",
     "output_type": "stream",
     "text": [
      "calculo del diámetro equivalente del lado del tubo 0.0251 m\n"
     ]
    }
   ],
   "source": [
    "D_e = 4 * (Pitch_Size ** 2 - np.pi * (diametro_exterior**2) / 4) / (np.pi * diametro_exterior)\n",
    "print(f\"calculo del diámetro equivalente del lado del tubo {D_e:.4f} m\")"
   ]
  },
  {
   "cell_type": "markdown",
   "metadata": {},
   "source": [
    "### 3.2 Calculo de la velocidad másica"
   ]
  },
  {
   "cell_type": "code",
   "execution_count": 419,
   "metadata": {},
   "outputs": [
    {
     "name": "stdout",
     "output_type": "stream",
     "text": [
      "Holgura 0.00635\n"
     ]
    }
   ],
   "source": [
    "C = Pitch_Size - diametro_exterior\n",
    "print(f\"Holgura {C:.5f}\")"
   ]
  },
  {
   "cell_type": "code",
   "execution_count": 420,
   "metadata": {},
   "outputs": [
    {
     "name": "stdout",
     "output_type": "stream",
     "text": [
      "Area de flujo cruzado 0.010000 m\n"
     ]
    }
   ],
   "source": [
    "A_s = (diametro_carcasa * C * B) / Pitch_Size\n",
    "print(f\"Area de flujo cruzado {A_s:4f} m\")"
   ]
  },
  {
   "cell_type": "code",
   "execution_count": 421,
   "metadata": {},
   "outputs": [
    {
     "name": "stdout",
     "output_type": "stream",
     "text": [
      "Velocidad másica carcasa 250.00 kg/(s*m2)\n"
     ]
    }
   ],
   "source": [
    "G_s = caudal_agua / A_s # carcasa\n",
    "print(f\"Velocidad másica carcasa {G_s:.2f} kg/(s*m2)\")"
   ]
  },
  {
   "cell_type": "markdown",
   "metadata": {},
   "source": [
    "### 3.3 Calculo coeficiente convectivo crudo"
   ]
  },
  {
   "cell_type": "code",
   "execution_count": 422,
   "metadata": {},
   "outputs": [
    {
     "name": "stdout",
     "output_type": "stream",
     "text": [
      "Temperatura propiedades leche 62.5\n",
      "1030 3900 0.0008 0.6 5.1\n"
     ]
    }
   ],
   "source": [
    "temperatura_propiedades = (temperatura_entrada_leche + temperatura_estimada_salida_leche) / 2\n",
    "print(f\"Temperatura propiedades leche {temperatura_propiedades}\")\n",
    "\n",
    "densidad_leche_kern            = 1030 # kg / m3\n",
    "cp_leche_kern                  = 3900 # J/kg K\n",
    "viscosidad_dinamica_leche_kern = 0.0008 # Pa * S\n",
    "k_leche_kern                   = 0.6 # W /m k\n",
    "prandtl_leche_kern             = 5.1\n",
    "\n",
    "print(\n",
    "    densidad_leche_kern, cp_leche_kern, viscosidad_dinamica_leche_kern, \n",
    "    k_leche_kern, \n",
    "    prandtl_leche_kern\n",
    ")"
   ]
  },
  {
   "cell_type": "code",
   "execution_count": 423,
   "metadata": {},
   "outputs": [
    {
     "name": "stdout",
     "output_type": "stream",
     "text": [
      "Reynolds leche: 7853.65\n"
     ]
    }
   ],
   "source": [
    "Re_leche = G_s * D_e / viscosidad_dinamica_leche_kern\n",
    "print(f'Reynolds leche: {Re_leche:.2f}')"
   ]
  },
  {
   "cell_type": "code",
   "execution_count": 424,
   "metadata": {},
   "outputs": [
    {
     "name": "stdout",
     "output_type": "stream",
     "text": [
      "Coeficiente de convección del leche 2091.45 W/(m^2 k)\n"
     ]
    }
   ],
   "source": [
    "h_leche = 0.36 * (D_e * G_s / viscosidad_dinamica_leche_kern)**0.55 \\\n",
    "    * (cp_leche_kern * viscosidad_dinamica_leche_kern / k_leche_kern)**(1/3) \\\n",
    "    * (viscosidad_dinamica_leche_kern / viscosidad_dinamica_agua)**0.14 \\\n",
    "    * k_leche_kern / D_e\n",
    "print(f'Coeficiente de convección del leche {h_leche:.2f} W/(m^2 k)')"
   ]
  },
  {
   "cell_type": "markdown",
   "metadata": {},
   "source": [
    "### 3.4 Calculo coeficiente convectivo Agua"
   ]
  },
  {
   "cell_type": "code",
   "execution_count": 425,
   "metadata": {},
   "outputs": [
    {
     "name": "stdout",
     "output_type": "stream",
     "text": [
      "Temperatura promedio 44.91 ºC\n"
     ]
    }
   ],
   "source": [
    "T_w = 1/2 * (\n",
    "    (temperatura_entrada_agua + temperatura_salida_agua) / 2 +\n",
    "    (temperatura_entrada_leche + temperatura_estimada_salida_leche) / 2\n",
    ")\n",
    "print(f'Temperatura promedio {T_w:.2f} ºC')"
   ]
  },
  {
   "cell_type": "code",
   "execution_count": 426,
   "metadata": {},
   "outputs": [
    {
     "name": "stdout",
     "output_type": "stream",
     "text": [
      "{'compressibility': 0.0013940599156924138, 'conductivity': 0.6347305110715291, 'critical_pressure': 22064000.0, 'critical_temperature': 373.946, 'density': 990.2938029354603, 'dynamic_viscosity': 0.0005967129338706314, 'enthalpy': 188237.62848241022, 'entropy': 637.3815057058705, 'fraction': 100, 'freezing_temperature': None, 'internal_energy': 188032.9922427344, 'kinematic_viscosity': 6.025615146755801e-07, 'max_pressure': 1000000000.0, 'max_temperature': 1726.85, 'min_pressure': 611.6548008968684, 'min_temperature': 0.010000000000047748, 'molar_mass': 0.018015268, 'name': Water, 'phase': Liquid, 'prandtl': 3.929527329556588, 'pressure': 202650, 'quality': None, 'sound_speed': 1536.5066907571768, 'specific_heat': 4179.8840758825245, 'specific_volume': 0.0010098013307119243, 'surface_tension': None, 'temperature': 44.912461726851916, 'triple_pressure': 611.6548008968684, 'triple_temperature': 0.010000000000047748, 'units_system': SIWithCelsiusAndPercents}\n",
      "990.2938029354603 4179.8840758825245 0.0005967129338706314 0.6347305110715291 3.929527329556588\n"
     ]
    }
   ],
   "source": [
    "estado_agua_kern = water.with_state(\n",
    "    Input.pressure(presion_agua),\n",
    "    Input.temperature(T_w),\n",
    ")\n",
    "densidad_agua_kern            = estado_agua_kern.density\n",
    "cp_agua_kern                  = estado_agua_kern.specific_heat\n",
    "viscosidad_dinamica_agua_kern = estado_agua_kern.dynamic_viscosity\n",
    "k_agua_kern                   = estado_agua_kern.conductivity\n",
    "prandtl_agua_kern             = estado_agua_kern.prandtl\n",
    "\n",
    "print(estado_agua_kern.as_dict())\n",
    "print(\n",
    "    densidad_agua_kern, cp_agua_kern, \n",
    "    viscosidad_dinamica_agua_kern, k_agua_kern, \n",
    "    prandtl_agua_kern\n",
    ")"
   ]
  },
  {
   "cell_type": "code",
   "execution_count": 427,
   "metadata": {},
   "outputs": [
    {
     "name": "stdout",
     "output_type": "stream",
     "text": [
      "Area de transferencia por tubo 0.00545 m^2\n"
     ]
    }
   ],
   "source": [
    "A_tp = np.pi * diametro_interior**2/4 * numeros_tubos / 2 \n",
    "print(f\"Area de transferencia por tubo {A_tp:.5f} m^2\")"
   ]
  },
  {
   "cell_type": "code",
   "execution_count": 428,
   "metadata": {},
   "outputs": [
    {
     "name": "stdout",
     "output_type": "stream",
     "text": [
      "Velocidad media agua 0.46 (m/s)\n"
     ]
    }
   ],
   "source": [
    "u_m_agua = caudal_agua / (densidad_agua_kern * A_tp)\n",
    "print(f\"Velocidad media agua {u_m_agua:.2f} (m/s)\")"
   ]
  },
  {
   "cell_type": "code",
   "execution_count": 429,
   "metadata": {},
   "outputs": [
    {
     "name": "stdout",
     "output_type": "stream",
     "text": [
      "Reynolds agua 13074.48\n"
     ]
    }
   ],
   "source": [
    "Re_agua = densidad_agua_kern * u_m_agua * diametro_interior / viscosidad_dinamica_agua_kern\n",
    "print(f\"Reynolds agua {Re_agua:.2f}\")"
   ]
  },
  {
   "cell_type": "markdown",
   "metadata": {},
   "source": [
    "#### Como el fluido es turbulento se usa correlación de  Grielinki's"
   ]
  },
  {
   "cell_type": "code",
   "execution_count": 430,
   "metadata": {},
   "outputs": [
    {
     "data": {
      "text/plain": [
       "0.007310258044821851"
      ]
     },
     "execution_count": 430,
     "metadata": {},
     "output_type": "execute_result"
    }
   ],
   "source": [
    "f = (1.58*np.log(Re_agua) - 3.28)**-2\n",
    "f"
   ]
  },
  {
   "cell_type": "code",
   "execution_count": 431,
   "metadata": {},
   "outputs": [
    {
     "data": {
      "text/plain": [
       "80.88240445119844"
      ]
     },
     "execution_count": 431,
     "metadata": {},
     "output_type": "execute_result"
    }
   ],
   "source": [
    "Nu_b = (f/2)*(Re_agua - 1000)*prandtl_agua_kern/(1 + 12.7*(f/2)**(1/2)*(prandtl_agua_kern**(2/3) - 1))\n",
    "Nu_b"
   ]
  },
  {
   "cell_type": "code",
   "execution_count": 432,
   "metadata": {},
   "outputs": [
    {
     "name": "stdout",
     "output_type": "stream",
     "text": [
      "Coeficiente de convección agua 3019.91 W/(m^2 * k)\n"
     ]
    }
   ],
   "source": [
    "h_agua = Nu_b * k_agua_kern / diametro_interior\n",
    "print(f\"Coeficiente de convección agua {h_agua:.2f} W/(m^2 * k)\")"
   ]
  },
  {
   "cell_type": "markdown",
   "metadata": {},
   "source": [
    "### 3.5 Corrección del area"
   ]
  },
  {
   "cell_type": "code",
   "execution_count": 433,
   "metadata": {},
   "outputs": [
    {
     "data": {
      "text/plain": [
       "579.8073281881218"
      ]
     },
     "execution_count": 433,
     "metadata": {},
     "output_type": "execute_result"
    }
   ],
   "source": [
    "U_ensuciamiento_real = (\n",
    "    (diametro_exterior / diametro_interior) * 1 / h_agua\n",
    "    + (diametro_exterior / diametro_interior) * R_f_agua\n",
    "    + (diametro_exterior / 2) * np.log(diametro_exterior/diametro_interior) / k_material\n",
    "    + R_f_leche\n",
    "    + 1 / h_leche\n",
    ") ** -1 \n",
    "U_ensuciamiento_real"
   ]
  },
  {
   "cell_type": "code",
   "execution_count": 434,
   "metadata": {},
   "outputs": [
    {
     "data": {
      "text/plain": [
       "777.7584952833726"
      ]
     },
     "execution_count": 434,
     "metadata": {},
     "output_type": "execute_result"
    }
   ],
   "source": [
    "U_no_ensuciamiento_real = (\n",
    "    (diametro_exterior / diametro_interior) * 1 / h_agua\n",
    "    + (diametro_exterior / 2) * np.log(diametro_exterior/diametro_interior) / k_material\n",
    "    + 1 / h_leche\n",
    ") ** -1 \n",
    "U_no_ensuciamiento_real"
   ]
  },
  {
   "cell_type": "code",
   "execution_count": 435,
   "metadata": {},
   "outputs": [
    {
     "name": "stdout",
     "output_type": "stream",
     "text": [
      "0.2937872636037029\n",
      "19.0\n",
      "0.9597863408752312\n",
      "La diferencia de presión: 2997.90 Pa\n"
     ]
    }
   ],
   "source": [
    "f = np.e**(0.576 - 0.19*np.log(Re_agua))\n",
    "print(f)\n",
    "\n",
    "N_b = longitud / B - 1 \n",
    "print(N_b)\n",
    "\n",
    "sigma = (viscosidad_dinamica_agua_kern / viscosidad_dinamica_leche_kern)**0.14\n",
    "print(sigma)\n",
    "\n",
    "diferencia_presion = f * G_s ** 2 * (N_b + 1) * 0.39 / (sigma * 2 * densidad_agua_kern * D_e)\n",
    "print(f\"La diferencia de presión: {diferencia_presion:.2f} Pa\")"
   ]
  },
  {
   "cell_type": "code",
   "execution_count": 436,
   "metadata": {},
   "outputs": [
    {
     "name": "stdout",
     "output_type": "stream",
     "text": [
      "El area de transferencia de calor: 3.61 m^2\n",
      "El area de transferencia de calor: 38.87 ft^2\n"
     ]
    }
   ],
   "source": [
    "area = calor /(U_ensuciamiento_real * diferencia_log_temperatura)\n",
    "print(f\"El area de transferencia de calor: {area:.2f} m^2\")\n",
    "area_ft = area * 10.764\n",
    "print(f\"El area de transferencia de calor: {area_ft:.2f} ft^2\")"
   ]
  },
  {
   "cell_type": "code",
   "execution_count": 437,
   "metadata": {},
   "outputs": [
    {
     "data": {
      "text/plain": [
       "array([52.66069148, 51.62025585, 50.54319543, 49.42660252, 48.26719006,\n",
       "       47.06122014, 45.80441438, 44.49184022, 43.11776464, 41.67546331])"
      ]
     },
     "execution_count": 437,
     "metadata": {},
     "output_type": "execute_result"
    }
   ],
   "source": [
    "areas = calores_transferencia / (U_ensuciamiento_real * diferencia_log_temperaturas)\n",
    "areas = areas[::2]\n",
    "areas_ft = areas * 10.764\n",
    "areas_ft"
   ]
  },
  {
   "cell_type": "markdown",
   "metadata": {},
   "source": [
    "## 4. Calculo Costo intercambiador"
   ]
  },
  {
   "cell_type": "code",
   "execution_count": 438,
   "metadata": {},
   "outputs": [
    {
     "data": {
      "text/plain": [
       "[(52.66069147880762, 3100, 35),\n",
       " (51.62025585106192, 3000, 36),\n",
       " (50.543195433160264, 2900, 37),\n",
       " (49.42660252359715, 2900, 38),\n",
       " (48.26719005903408, 2800, 39),\n",
       " (47.061220135526185, 2600, 40),\n",
       " (45.80441438039377, 2400, 41),\n",
       " (44.491840220766775, 2300, 42),\n",
       " (43.11776463959028, 2100, 43),\n",
       " (41.67546330519116, 2200, 44)]"
      ]
     },
     "execution_count": 438,
     "metadata": {},
     "output_type": "execute_result"
    }
   ],
   "source": [
    "data_bo_map = list(map(\n",
    "    lambda x,y,t : (x,y,t),\n",
    "    areas_ft.tolist(),\n",
    "    [3100, 3000, 2900, 2900, 2800, 2600, 2400, 2300, 2100, 2200],\n",
    "    temperaturas_leche_estimada_salidas.tolist()\n",
    "))\n",
    "data_bo_map"
   ]
  },
  {
   "cell_type": "code",
   "execution_count": 439,
   "metadata": {},
   "outputs": [
    {
     "data": {
      "text/html": [
       "<div>\n",
       "<style scoped>\n",
       "    .dataframe tbody tr th:only-of-type {\n",
       "        vertical-align: middle;\n",
       "    }\n",
       "\n",
       "    .dataframe tbody tr th {\n",
       "        vertical-align: top;\n",
       "    }\n",
       "\n",
       "    .dataframe thead th {\n",
       "        text-align: right;\n",
       "    }\n",
       "</style>\n",
       "<table border=\"1\" class=\"dataframe\">\n",
       "  <thead>\n",
       "    <tr style=\"text-align: right;\">\n",
       "      <th></th>\n",
       "      <th>area</th>\n",
       "      <th>costo_total</th>\n",
       "      <th>temperatura</th>\n",
       "    </tr>\n",
       "  </thead>\n",
       "  <tbody>\n",
       "    <tr>\n",
       "      <th>0</th>\n",
       "      <td>52.660691</td>\n",
       "      <td>3100</td>\n",
       "      <td>35</td>\n",
       "    </tr>\n",
       "    <tr>\n",
       "      <th>1</th>\n",
       "      <td>51.620256</td>\n",
       "      <td>3000</td>\n",
       "      <td>36</td>\n",
       "    </tr>\n",
       "    <tr>\n",
       "      <th>2</th>\n",
       "      <td>50.543195</td>\n",
       "      <td>2900</td>\n",
       "      <td>37</td>\n",
       "    </tr>\n",
       "    <tr>\n",
       "      <th>3</th>\n",
       "      <td>49.426603</td>\n",
       "      <td>2900</td>\n",
       "      <td>38</td>\n",
       "    </tr>\n",
       "    <tr>\n",
       "      <th>4</th>\n",
       "      <td>48.267190</td>\n",
       "      <td>2800</td>\n",
       "      <td>39</td>\n",
       "    </tr>\n",
       "  </tbody>\n",
       "</table>\n",
       "</div>"
      ],
      "text/plain": [
       "        area  costo_total  temperatura\n",
       "0  52.660691         3100           35\n",
       "1  51.620256         3000           36\n",
       "2  50.543195         2900           37\n",
       "3  49.426603         2900           38\n",
       "4  48.267190         2800           39"
      ]
     },
     "execution_count": 439,
     "metadata": {},
     "output_type": "execute_result"
    }
   ],
   "source": [
    "data = pd.DataFrame(\n",
    "    data_bo_map,\n",
    "    columns=['area', 'costo_total', 'temperatura']\n",
    ")\n",
    "data.head()"
   ]
  },
  {
   "cell_type": "code",
   "execution_count": 440,
   "metadata": {},
   "outputs": [
    {
     "data": {
      "text/html": [
       "<div>\n",
       "<style scoped>\n",
       "    .dataframe tbody tr th:only-of-type {\n",
       "        vertical-align: middle;\n",
       "    }\n",
       "\n",
       "    .dataframe tbody tr th {\n",
       "        vertical-align: top;\n",
       "    }\n",
       "\n",
       "    .dataframe thead th {\n",
       "        text-align: right;\n",
       "    }\n",
       "</style>\n",
       "<table border=\"1\" class=\"dataframe\">\n",
       "  <thead>\n",
       "    <tr style=\"text-align: right;\">\n",
       "      <th></th>\n",
       "      <th>area</th>\n",
       "      <th>costo_total</th>\n",
       "      <th>temperatura</th>\n",
       "      <th>costo_especifico</th>\n",
       "    </tr>\n",
       "  </thead>\n",
       "  <tbody>\n",
       "    <tr>\n",
       "      <th>0</th>\n",
       "      <td>52.660691</td>\n",
       "      <td>3100</td>\n",
       "      <td>35</td>\n",
       "      <td>58.867438</td>\n",
       "    </tr>\n",
       "    <tr>\n",
       "      <th>1</th>\n",
       "      <td>51.620256</td>\n",
       "      <td>3000</td>\n",
       "      <td>36</td>\n",
       "      <td>58.116721</td>\n",
       "    </tr>\n",
       "    <tr>\n",
       "      <th>2</th>\n",
       "      <td>50.543195</td>\n",
       "      <td>2900</td>\n",
       "      <td>37</td>\n",
       "      <td>57.376665</td>\n",
       "    </tr>\n",
       "    <tr>\n",
       "      <th>3</th>\n",
       "      <td>49.426603</td>\n",
       "      <td>2900</td>\n",
       "      <td>38</td>\n",
       "      <td>58.672857</td>\n",
       "    </tr>\n",
       "    <tr>\n",
       "      <th>4</th>\n",
       "      <td>48.267190</td>\n",
       "      <td>2800</td>\n",
       "      <td>39</td>\n",
       "      <td>58.010421</td>\n",
       "    </tr>\n",
       "  </tbody>\n",
       "</table>\n",
       "</div>"
      ],
      "text/plain": [
       "        area  costo_total  temperatura  costo_especifico\n",
       "0  52.660691         3100           35         58.867438\n",
       "1  51.620256         3000           36         58.116721\n",
       "2  50.543195         2900           37         57.376665\n",
       "3  49.426603         2900           38         58.672857\n",
       "4  48.267190         2800           39         58.010421"
      ]
     },
     "execution_count": 440,
     "metadata": {},
     "output_type": "execute_result"
    }
   ],
   "source": [
    "data['costo_especifico'] = data['costo_total'] / data['area']\n",
    "data.head()"
   ]
  },
  {
   "cell_type": "code",
   "execution_count": 441,
   "metadata": {},
   "outputs": [
    {
     "data": {
      "image/png": "[encoded data removed]",
      "text/plain": [
       "<Figure size 640x480 with 1 Axes>"
      ]
     },
     "metadata": {},
     "output_type": "display_data"
    }
   ],
   "source": [
    "plt.plot(\n",
    "    data['area'],\n",
    "    data['costo_especifico'],\n",
    "    marker='o'\n",
    ")\n",
    "plt.xlabel('Area [ft2]')\n",
    "plt.ylabel('Costo especifico [USD/ft2]')\n",
    "plt.grid(False)\n",
    "plt.show()"
   ]
  },
  {
   "cell_type": "code",
   "execution_count": 442,
   "metadata": {},
   "outputs": [],
   "source": [
    "# Define the power law function\n",
    "def power_law(x, A, B):\n",
    "    return A * (x ** B)"
   ]
  },
  {
   "cell_type": "code",
   "execution_count": 443,
   "metadata": {},
   "outputs": [],
   "source": [
    "# Perform curve fitting to find A and B\n",
    "params, covariance = curve_fit(\n",
    "    power_law, \n",
    "    data['area'].to_numpy(),\n",
    "    data[\"costo_especifico\"].to_numpy()\n",
    ")"
   ]
  },
  {
   "cell_type": "code",
   "execution_count": 444,
   "metadata": {},
   "outputs": [
    {
     "name": "stdout",
     "output_type": "stream",
     "text": [
      "k = 3.2931097501375857\n",
      "m = 1.7304197426067336\n",
      "n = 0.7304197426067336\n"
     ]
    }
   ],
   "source": [
    "# Extract the values of A and B\n",
    "K, n = params\n",
    "\n",
    "m = 1 + n\n",
    "print(\"k =\", K)\n",
    "print(\"m =\", m)\n",
    "print(\"n =\", n)"
   ]
  },
  {
   "cell_type": "code",
   "execution_count": 445,
   "metadata": {},
   "outputs": [
    {
     "data": {
      "text/html": [
       "<div>\n",
       "<style scoped>\n",
       "    .dataframe tbody tr th:only-of-type {\n",
       "        vertical-align: middle;\n",
       "    }\n",
       "\n",
       "    .dataframe tbody tr th {\n",
       "        vertical-align: top;\n",
       "    }\n",
       "\n",
       "    .dataframe thead th {\n",
       "        text-align: right;\n",
       "    }\n",
       "</style>\n",
       "<table border=\"1\" class=\"dataframe\">\n",
       "  <thead>\n",
       "    <tr style=\"text-align: right;\">\n",
       "      <th></th>\n",
       "      <th>area</th>\n",
       "      <th>costo_total</th>\n",
       "      <th>temperatura</th>\n",
       "      <th>costo_especifico</th>\n",
       "      <th>costo_intercambiador</th>\n",
       "    </tr>\n",
       "  </thead>\n",
       "  <tbody>\n",
       "    <tr>\n",
       "      <th>0</th>\n",
       "      <td>52.660691</td>\n",
       "      <td>3100</td>\n",
       "      <td>35</td>\n",
       "      <td>58.867438</td>\n",
       "      <td>3136.898961</td>\n",
       "    </tr>\n",
       "    <tr>\n",
       "      <th>1</th>\n",
       "      <td>51.620256</td>\n",
       "      <td>3000</td>\n",
       "      <td>36</td>\n",
       "      <td>58.116721</td>\n",
       "      <td>3030.428297</td>\n",
       "    </tr>\n",
       "    <tr>\n",
       "      <th>2</th>\n",
       "      <td>50.543195</td>\n",
       "      <td>2900</td>\n",
       "      <td>37</td>\n",
       "      <td>57.376665</td>\n",
       "      <td>2921.848997</td>\n",
       "    </tr>\n",
       "    <tr>\n",
       "      <th>3</th>\n",
       "      <td>49.426603</td>\n",
       "      <td>2900</td>\n",
       "      <td>38</td>\n",
       "      <td>58.672857</td>\n",
       "      <td>2811.055016</td>\n",
       "    </tr>\n",
       "    <tr>\n",
       "      <th>4</th>\n",
       "      <td>48.267190</td>\n",
       "      <td>2800</td>\n",
       "      <td>39</td>\n",
       "      <td>58.010421</td>\n",
       "      <td>2697.931345</td>\n",
       "    </tr>\n",
       "  </tbody>\n",
       "</table>\n",
       "</div>"
      ],
      "text/plain": [
       "        area  costo_total  temperatura  costo_especifico  costo_intercambiador\n",
       "0  52.660691         3100           35         58.867438           3136.898961\n",
       "1  51.620256         3000           36         58.116721           3030.428297\n",
       "2  50.543195         2900           37         57.376665           2921.848997\n",
       "3  49.426603         2900           38         58.672857           2811.055016\n",
       "4  48.267190         2800           39         58.010421           2697.931345"
      ]
     },
     "execution_count": 445,
     "metadata": {},
     "output_type": "execute_result"
    }
   ],
   "source": [
    "data['costo_intercambiador'] =  K * (data['area'] ** (m))\n",
    "data.head()"
   ]
  },
  {
   "cell_type": "code",
   "execution_count": 446,
   "metadata": {},
   "outputs": [
    {
     "data": {
      "image/png": "[encoded data removed]",
      "text/plain": [
       "<Figure size 640x480 with 1 Axes>"
      ]
     },
     "metadata": {},
     "output_type": "display_data"
    }
   ],
   "source": [
    "plt.plot(\n",
    "    data['temperatura'],\n",
    "    data['costo_total'],\n",
    "    marker='o'\n",
    ")\n",
    "plt.plot(\n",
    "    data['temperatura'],\n",
    "    data['costo_intercambiador'],\n",
    "    marker='o'\n",
    ")\n",
    "plt.xlabel('Temperatura de salida de leche [ºC]')\n",
    "plt.ylabel('Costo especifico [USD/ft2]')\n",
    "plt.grid()\n",
    "plt.show()"
   ]
  },
  {
   "cell_type": "markdown",
   "metadata": {},
   "source": [
    "## 5. Calculo  Refrigerador"
   ]
  },
  {
   "cell_type": "markdown",
   "metadata": {},
   "source": [
    "$$ \\dot{Q} = (\\dot{m} *C_{p})_{leche} * (T_{entrada} -T_{salida})$$"
   ]
  },
  {
   "cell_type": "code",
   "execution_count": 452,
   "metadata": {},
   "outputs": [
    {
     "name": "stdout",
     "output_type": "stream",
     "text": [
      "Calor transmitido al refrigerador 68250.0 W\n"
     ]
    }
   ],
   "source": [
    "calor_refrigerador = caudal_leche * cp_leche_kern * (temperatura_estimada_salida_leche - temperatura_salida_leche)\n",
    "print(f\"Calor transmitido al refrigerador {calor_refrigerador} W\")"
   ]
  },
  {
   "cell_type": "code",
   "execution_count": 460,
   "metadata": {},
   "outputs": [
    {
     "name": "stdout",
     "output_type": "stream",
     "text": [
      "Calor transmitido al refrigerador 0    48750.0\n",
      "1    50700.0\n",
      "2    52650.0\n",
      "3    54600.0\n",
      "4    56550.0\n",
      "5    58500.0\n",
      "6    60450.0\n",
      "7    62400.0\n",
      "8    64350.0\n",
      "9    66300.0\n",
      "Name: temperatura, dtype: float64 W\n",
      "Calor transmitido al refrigerador 0    0.166342\n",
      "1    0.172995\n",
      "2    0.179649\n",
      "3    0.186303\n",
      "4    0.192957\n",
      "5    0.199610\n",
      "6    0.206264\n",
      "7    0.212918\n",
      "8    0.219571\n",
      "9    0.226225\n",
      "Name: temperatura, dtype: float64 M Btu/h\n"
     ]
    }
   ],
   "source": [
    "calores_refrigeradores = caudal_leche * cp_leche_kern * (data['temperatura'] - temperatura_salida_leche)\n",
    "print(f\"Calor transmitido al refrigerador {calores_refrigeradores} W\")\n",
    "calores_refrigeradores_ingles = calores_refrigeradores * 3.41214 / 1e6\n",
    "print(f\"Calor transmitido al refrigerador {calores_refrigeradores_ingles} M Btu/h\")"
   ]
  },
  {
   "cell_type": "code",
   "execution_count": 462,
   "metadata": {},
   "outputs": [],
   "source": [
    "data['costo_refrigerador'] = [\n",
    "    48000,\n",
    "    49300,\n",
    "    50600,\n",
    "    51900,\n",
    "    53200,\n",
    "    54500,\n",
    "    55700,\n",
    "    57000,\n",
    "    58200,\n",
    "    59400,\n",
    "]"
   ]
  },
  {
   "cell_type": "code",
   "execution_count": 466,
   "metadata": {},
   "outputs": [
    {
     "data": {
      "image/png": "[encoded data removed]",
      "text/plain": [
       "<Figure size 1000x1600 with 1 Axes>"
      ]
     },
     "metadata": {},
     "output_type": "display_data"
    }
   ],
   "source": [
    "\n",
    "plt.figure(figsize=(10,16))\n",
    "plt.plot(\n",
    "    data['temperatura'],\n",
    "    data['costo_total'],\n",
    "    marker='o'\n",
    ")\n",
    "plt.plot(\n",
    "    data['temperatura'],\n",
    "    data['costo_refrigerador'],\n",
    "    marker='o'\n",
    ")\n",
    "plt.xlabel('Temperatura de salida de leche [ºC]')\n",
    "plt.ylabel('Costo especifico [USD/ft2]')\n",
    "plt.grid()\n",
    "plt.show()"
   ]
  },
  {
   "cell_type": "markdown",
   "metadata": {},
   "source": [
    "# Referencias\n",
    "- Abdulagatov, I.M., Abdulagatova, Z.Z., Grigor’ev, B.A. et al. Thermal Diffusivity, Heat Capacity, and Thermal Conductivity of Oil Reservoir Rock at High Temperatures. Int J Thermophys 42, 135 (2021). https://doi.org/10.1007/s10765-021-02878-x\n",
    "- Seguros, V. (2021) Presión del Agua en Casa: Problemas habituales: Blog Verti, Verti Blog. Available at: https://blog.verti.es/hogar/presion-agua-casa/#:~:text=Lo%20habitual%20es%20que%20la,tengamos%20una%20presión%20u%20otra. (Accessed: 13 October 2023). \n",
    "- Bell, I.H. et al. (2014) ‘Pure and pseudo-pure fluid thermophysical property evaluation and the open-source Thermophysical Property Library coolprop’, Industrial &amp;amp; Engineering Chemistry Research, 53(6), pp. 2498–2508. doi:10.1021/ie4033999. "
   ]
  }
 ],
 "metadata": {
  "kernelspec": {
   "display_name": "Python 3 (ipykernel)",
   "language": "python",
   "name": "python3"
  },
  "language_info": {
   "codemirror_mode": {
    "name": "ipython",
    "version": 3
   },
   "file_extension": ".py",
   "mimetype": "text/x-python",
   "name": "python",
   "nbconvert_exporter": "python",
   "pygments_lexer": "ipython3",
   "version": "3.10.13"
  }
 },
 "nbformat": 4,
 "nbformat_minor": 2
}
