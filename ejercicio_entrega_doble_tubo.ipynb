{
 "cells": [
  {
   "cell_type": "markdown",
   "metadata": {},
   "source": [
    "# **Enunciado**\n",
    "\n",
    "### Autor José Daniel Sarmiento Blanco 2192232\n",
    "\n",
    "Design a heat exchanger to be used as a crude oil cooler. 120 kg/s of crude oil enters to the heat exchanger at 102°C and leaves at 65°C. The coolant to be used is city water entering the tube side at 21°C with a flow rate of 65 kg/s. Pressure drop for the crude oil is limited to 150 kPa."
   ]
  },
  {
   "cell_type": "code",
   "execution_count": 21,
   "metadata": {},
   "outputs": [],
   "source": [
    "caudal_crudo                = 120 # kg/s\n",
    "temperatura_entrada_crudo   = 102 # ºC\n",
    "temperatura_salida_crudo    = 65  # ºC\n",
    "\n",
    "temperatura_entrada_agua    = 21  # ºC\n",
    "caudal_agua                 = 65  # kg/s\n",
    "\n",
    "presion_limite_crudo        = 150_000 # Pa"
   ]
  },
  {
   "cell_type": "code",
   "execution_count": 22,
   "metadata": {},
   "outputs": [],
   "source": [
    "from pyfluids import Fluid, FluidsList, Input, Mixture\n",
    "from core import ThermoFormules\n",
    "import numpy as np"
   ]
  },
  {
   "cell_type": "markdown",
   "metadata": {},
   "source": [
    "<p align=\"center\">\n",
    "  <img src=\"./diagrama.jpeg\" height =\"600px\">\n",
    "</p>"
   ]
  },
  {
   "cell_type": "markdown",
   "metadata": {},
   "source": [
    "## 0. Establecer valores pre-diseño"
   ]
  },
  {
   "cell_type": "code",
   "execution_count": 23,
   "metadata": {},
   "outputs": [],
   "source": [
    "k_material                            = 60    # W/ m * k\n",
    "diametro_interior                     = 16e-3 # m\n",
    "diametro_exterior                     = 19e-3 # m\n",
    "\n",
    "longitud                              = 4 #m               "
   ]
  },
  {
   "cell_type": "code",
   "execution_count": 24,
   "metadata": {},
   "outputs": [],
   "source": [
    "diametro_interior_c = 0.0525 # m\n",
    "diametro_exterior_c = 0.0603 # m\n",
    "\n",
    "diametro_interior_g  = 0.0779 # m\n",
    "\n",
    "diametro_interior = diametro_interior_c"
   ]
  },
  {
   "cell_type": "code",
   "execution_count": 25,
   "metadata": {},
   "outputs": [
    {
     "data": {
      "text/plain": [
       "Water"
      ]
     },
     "execution_count": 25,
     "metadata": {},
     "output_type": "execute_result"
    }
   ],
   "source": [
    "water = Fluid(FluidsList.Water)\n",
    "water.name"
   ]
  },
  {
   "cell_type": "markdown",
   "metadata": {},
   "source": [
    "### 0.1 Suposición\n",
    "\n",
    "[presión agua](https://blog.verti.es/hogar/presion-agua-casa/#:~:text=Lo%20habitual%20es%20que%20la,tengamos%20una%20presión%20u%20otra.)\n",
    "\n",
    "\n",
    "- Considere como material el acero al carbono, k = 60 W/m*k.\n",
    "- Diámetro de tubo de 3/4 in ( 19 mm exterior y 16 mm interior ).\n",
    "- Longitud de 4m"
   ]
  },
  {
   "cell_type": "code",
   "execution_count": 26,
   "metadata": {},
   "outputs": [],
   "source": [
    "presion_agua  = (2) * 101_325 # Pa\n",
    "presion_crudo = 436_000       # Pa"
   ]
  },
  {
   "cell_type": "markdown",
   "metadata": {},
   "source": [
    "### Composición del crudo"
   ]
  },
  {
   "cell_type": "code",
   "execution_count": 27,
   "metadata": {},
   "outputs": [
    {
     "data": {
      "text/plain": [
       "{nHexane: 30, nOctane: 40, nDecane: 30}"
      ]
     },
     "execution_count": 27,
     "metadata": {},
     "output_type": "execute_result"
    }
   ],
   "source": [
    "components = [FluidsList.nHexane, FluidsList.nOctane, FluidsList.nDecane]\n",
    "fractions = [30, 40, 30]\n",
    "mixture = dict(zip(components, fractions))\n",
    "mixture"
   ]
  },
  {
   "cell_type": "code",
   "execution_count": 28,
   "metadata": {},
   "outputs": [],
   "source": [
    "crudo = Mixture(\n",
    "    components,\n",
    "    fractions=fractions,\n",
    ")"
   ]
  },
  {
   "cell_type": "markdown",
   "metadata": {},
   "source": [
    "## 1. Termodinámica"
   ]
  },
  {
   "cell_type": "markdown",
   "metadata": {},
   "source": [
    "$$ \\dot{Q} = (\\dot{m} *C_{p})_{crudo} * (T_{c1} -T_{c2})$$"
   ]
  },
  {
   "cell_type": "code",
   "execution_count": 29,
   "metadata": {},
   "outputs": [
    {
     "name": "stdout",
     "output_type": "stream",
     "text": [
      "83.5\n"
     ]
    }
   ],
   "source": [
    "temperatura_propiedades_crudo = (temperatura_entrada_crudo + temperatura_salida_crudo) / 2\n",
    "print(temperatura_propiedades_crudo) #+ 273.15)\n",
    "\n",
    "cp_propiedades_crudo =  0.83 * 1000  # J/kg k"
   ]
  },
  {
   "cell_type": "code",
   "execution_count": 30,
   "metadata": {},
   "outputs": [
    {
     "data": {
      "text/plain": [
       "3685200.0"
      ]
     },
     "execution_count": 30,
     "metadata": {},
     "output_type": "execute_result"
    }
   ],
   "source": [
    "calor = caudal_crudo * cp_propiedades_crudo * (temperatura_entrada_crudo - temperatura_salida_crudo ) \n",
    "calor"
   ]
  },
  {
   "cell_type": "code",
   "execution_count": 31,
   "metadata": {},
   "outputs": [
    {
     "data": {
      "text/plain": [
       "{'compressibility': 0.0014376012709739205,\n",
       " 'conductivity': 0.6203366408703609,\n",
       " 'critical_pressure': 22064000.0,\n",
       " 'critical_temperature': 373.946,\n",
       " 'density': 994.417937160409,\n",
       " 'dynamic_viscosity': 0.0007337301352239351,\n",
       " 'enthalpy': 142631.9153801642,\n",
       " 'entropy': 491.47808690964223,\n",
       " 'fraction': 100,\n",
       " 'freezing_temperature': None,\n",
       " 'internal_energy': 142428.1278251999,\n",
       " 'kinematic_viscosity': 7.378488538924831e-07,\n",
       " 'max_pressure': 1000000000.0,\n",
       " 'max_temperature': 1726.85,\n",
       " 'min_pressure': 611.6548008968684,\n",
       " 'min_temperature': 0.010000000000047748,\n",
       " 'molar_mass': 0.018015268,\n",
       " 'name': Water,\n",
       " 'phase': Liquid,\n",
       " 'prandtl': 4.942945501085879,\n",
       " 'pressure': 202650,\n",
       " 'quality': None,\n",
       " 'sound_speed': 1518.0155752419128,\n",
       " 'specific_heat': 4179.043576032273,\n",
       " 'specific_volume': 0.0010056133971753675,\n",
       " 'surface_tension': None,\n",
       " 'temperature': 34.0,\n",
       " 'triple_pressure': 611.6548008968684,\n",
       " 'triple_temperature': 0.010000000000047748,\n",
       " 'units_system': SIWithCelsiusAndPercents}"
      ]
     },
     "execution_count": 31,
     "metadata": {},
     "output_type": "execute_result"
    }
   ],
   "source": [
    "estado_agua_propiedades = water.with_state(\n",
    "    Input.pressure(presion_agua),\n",
    "    Input.temperature(34),\n",
    ")\n",
    "estado_agua_propiedades.as_dict()"
   ]
  },
  {
   "cell_type": "code",
   "execution_count": 32,
   "metadata": {},
   "outputs": [],
   "source": [
    "cp_agua                         = estado_agua_propiedades.specific_heat # J /kg k\n",
    "viscosidad_dinamica_agua        = estado_agua_propiedades.dynamic_viscosity # Pa * s\n",
    "densidad_agua                   = estado_agua_propiedades.density # kg / m3\n",
    "k_agua                          = estado_agua_propiedades.conductivity # W / m k\n",
    "prandl_agua                     = estado_agua_propiedades.prandtl"
   ]
  },
  {
   "cell_type": "markdown",
   "metadata": {},
   "source": [
    "$$ \\dot{Q} = (\\dot{m} *C_{p})_{agua} * (T_{w1} - T_{w2})$$"
   ]
  },
  {
   "cell_type": "code",
   "execution_count": 33,
   "metadata": {},
   "outputs": [
    {
     "name": "stdout",
     "output_type": "stream",
     "text": [
      "la temperatura de lsa salida del agua del agua es:  34.566593308704654\n"
     ]
    }
   ],
   "source": [
    "temperatura_salida_agua = temperatura_entrada_agua + calor / (caudal_agua * cp_agua)\n",
    "print(\"la temperatura de lsa salida del agua del agua es: \", temperatura_salida_agua)"
   ]
  },
  {
   "cell_type": "markdown",
   "metadata": {},
   "source": [
    "### 1.1 Planteamiento transferencia de calor"
   ]
  },
  {
   "cell_type": "markdown",
   "metadata": {},
   "source": [
    "<p align=\"center\">\n",
    "  <img src=\"./resistencia.jpeg\" height =\"200px\">\n",
    "</p>"
   ]
  },
  {
   "cell_type": "code",
   "execution_count": 34,
   "metadata": {},
   "outputs": [
    {
     "data": {
      "text/plain": [
       "{'compressibility': 0.02516409293946631,\n",
       " 'conductivity': 0.12419993874048665,\n",
       " 'critical_pressure': 2981833.4687300003,\n",
       " 'critical_temperature': 298.33744539093857,\n",
       " 'density': 642.6776111343725,\n",
       " 'dynamic_viscosity': 0.00035144124174496516,\n",
       " 'enthalpy': -101697.82767226541,\n",
       " 'entropy': -176.77238556884234,\n",
       " 'fluids': [nHexane, nOctane, nDecane],\n",
       " 'fractions': [30, 40, 30],\n",
       " 'freezing_temperature': None,\n",
       " 'internal_energy': -102376.23935558186,\n",
       " 'kinematic_viscosity': 5.468390926589865e-07,\n",
       " 'max_pressure': 605929364.2590215,\n",
       " 'max_temperature': 394.3155003716736,\n",
       " 'min_pressure': 1.5799947781094636,\n",
       " 'min_temperature': -65.24557909004545,\n",
       " 'molar_mass': 0.1099927925291343,\n",
       " 'phase': Liquid,\n",
       " 'prandtl': 6.97825387638689,\n",
       " 'pressure': 436000,\n",
       " 'quality': None,\n",
       " 'sound_speed': 921.561925707808,\n",
       " 'specific_heat': 2466.126911171579,\n",
       " 'specific_volume': 0.001555990099351567,\n",
       " 'surface_tension': None,\n",
       " 'temperature': 83.5,\n",
       " 'triple_pressure': 1.5799947781094636,\n",
       " 'triple_temperature': -65.24557909004545,\n",
       " 'units_system': SIWithCelsiusAndPercents}"
      ]
     },
     "execution_count": 34,
     "metadata": {},
     "output_type": "execute_result"
    }
   ],
   "source": [
    "temperatura_propiedaes_crudo = (temperatura_entrada_crudo + temperatura_salida_crudo) / 2\n",
    "\n",
    "estado_crudo_propiedades =  crudo.with_state(\n",
    "    Input.pressure(presion_crudo),\n",
    "    Input.temperature(temperatura_propiedaes_crudo),\n",
    ")\n",
    "\n",
    "densidad_crudo                  = estado_crudo_propiedades.density\n",
    "viscosidad_dinamica_crudo       = estado_crudo_propiedades.dynamic_viscosity\n",
    "prantl_crudo                    = estado_crudo_propiedades.prandtl\n",
    "k_crudo                         = estado_crudo_propiedades.conductivity\n",
    "estado_crudo_propiedades.as_dict()"
   ]
  },
  {
   "cell_type": "code",
   "execution_count": 35,
   "metadata": {},
   "outputs": [],
   "source": [
    "# caudal"
   ]
  },
  {
   "cell_type": "code",
   "execution_count": 36,
   "metadata": {},
   "outputs": [
    {
     "name": "stdout",
     "output_type": "stream",
     "text": [
      "la velocidad media del crudo es:  86.25406805815771\n",
      "el reynolds del crudo es:  8280934.252586786\n",
      "el factor de fricción del crudo es:  0.0020872080594229576\n",
      "el nusselt del crudo es:  23118.56226949\n",
      "el coeficiente convectivo del crudo es:  54691.88605026256\n"
     ]
    }
   ],
   "source": [
    "area_tubo_crudo = (np.pi / 4) * (diametro_interior_c**2)\n",
    "\n",
    "u_m_crudo = caudal_crudo / (area_tubo_crudo * densidad_crudo)\n",
    "print(\"la velocidad media del crudo es: \", u_m_crudo)\n",
    "\n",
    "reynolds_crudo = 4 * caudal_crudo / (np.pi * viscosidad_dinamica_crudo * diametro_interior_c)\n",
    "print(\"el reynolds del crudo es: \", reynolds_crudo)\n",
    "\n",
    "f_factor_crudo = (1.58*np.log(reynolds_crudo) - 3.28)**-2\n",
    "print(\"el factor de fricción del crudo es: \", f_factor_crudo)\n",
    "\n",
    "nusselt_crudp = ((f_factor_crudo/2) * reynolds_crudo * prantl_crudo) \\\n",
    "                / (1.07 + 12.7*(f_factor_crudo**(1/2))*(prantl_crudo**(2/3)-1))\n",
    "\n",
    "print(\"el nusselt del crudo es: \", nusselt_crudp)\n",
    "\n",
    "\n",
    "coeficiente_convectivo_crudo = (nusselt_crudp * k_crudo) / diametro_interior_c\n",
    "print(\"el coeficiente convectivo del crudo es: \", coeficiente_convectivo_crudo)"
   ]
  },
  {
   "cell_type": "code",
   "execution_count": 37,
   "metadata": {},
   "outputs": [
    {
     "name": "stdout",
     "output_type": "stream",
     "text": [
      "velocidad media del agua en el tubo es:  34.21636065975877\n",
      "El dimetro hidraulico es:  0.017599999999999998\n",
      "El reynolds del tubo exterior es:  816167.0841322552\n",
      "El factor de fricción del tubo exterior es:  0.0030098394599523863\n",
      "El nusselt del tubo exterior es:  2534.9412947491332\n",
      "El coeficiente convectivo del tubo exterior es:  38984.49757662269\n"
     ]
    }
   ],
   "source": [
    "area_tubo_agua = (np.pi / 4) * (diametro_interior_g**2 - diametro_exterior_c**2)\n",
    "\n",
    "u_m_agua = caudal_agua / (densidad_agua * area_tubo_agua)\n",
    "print(\"velocidad media del agua en el tubo es: \", u_m_agua)\n",
    "\n",
    "diametro_hidraulico = diametro_interior_g - diametro_exterior_c\n",
    "print(\"El dimetro hidraulico es: \", diametro_hidraulico)\n",
    "\n",
    "reynolds_tubo_exterior = densidad_agua * u_m_agua * diametro_hidraulico / viscosidad_dinamica_agua\n",
    "print(\"El reynolds del tubo exterior es: \", reynolds_tubo_exterior)\n",
    "\n",
    "f_factor_tubo_exterior = (1.58*np.log(reynolds_tubo_exterior) - 3.28)**-2\n",
    "print(\"El factor de fricción del tubo exterior es: \", f_factor_tubo_exterior)\n",
    "\n",
    "nusselt_tubo_agua = ((f_factor_tubo_exterior/2) * reynolds_tubo_exterior * prandl_agua) \\\n",
    "                / (1.07 + 12.7*(f_factor_tubo_exterior**(1/2))*(prandl_agua**(2/3)-1))\n",
    "\n",
    "print(\"El nusselt del tubo exterior es: \", nusselt_tubo_agua)\n",
    "\n",
    "D_e = (diametro_interior_g ** 2 - diametro_exterior_c ** 2) / diametro_exterior_c\n",
    "\n",
    "coeficiente_convectivo_agua = (nusselt_tubo_agua * k_agua) / D_e\n",
    "print(\"El coeficiente convectivo del tubo exterior es: \", coeficiente_convectivo_agua)\n"
   ]
  },
  {
   "cell_type": "markdown",
   "metadata": {},
   "source": [
    "Asuma los coeficiente de trasferencia de calor\n",
    "\n",
    "$$ \\frac{1}{U_{ensuciamiento}} = \\frac{1}{h_{0}} + \\frac{r_{0}}{r_{i}} \\frac{1}{h_{i}} + \\frac{r_{0}}{r_{1}}*R_{f_{}i} + R_{f_{}o} + r_{0} \\frac{ln(\\frac{r_{0}}{r_{i}} )}{k} $$\n",
    "\n",
    "$$ \\frac{1}{U_{limpio}} = \\frac{1}{h_{0}} + \\frac{r_{0}}{r_{i}} \\frac{1}{h_{i}} + r_{0} \\frac{ln(\\frac{r_{0}}{r_{i}} )}{k} $$"
   ]
  },
  {
   "cell_type": "code",
   "execution_count": 38,
   "metadata": {},
   "outputs": [],
   "source": [
    "R_f_crudo = 0.000352 # m2 k/w\n",
    "R_f_agua  = 0.000176 # m2 k/w"
   ]
  },
  {
   "cell_type": "code",
   "execution_count": 41,
   "metadata": {},
   "outputs": [
    {
     "data": {
      "text/plain": [
       "1435.637031304571"
      ]
     },
     "execution_count": 41,
     "metadata": {},
     "output_type": "execute_result"
    }
   ],
   "source": [
    "U_ensuciamiento = (\n",
    "    1/coeficiente_convectivo_agua + \n",
    "    R_f_crudo * diametro_exterior_c / diametro_interior_c  + \n",
    "    (diametro_exterior_c / 2) * np.log(diametro_exterior_c/diametro_interior_c) / k_material +\n",
    "    (diametro_exterior_c / diametro_interior_c) * (1 / coeficiente_convectivo_crudo) +\n",
    "    R_f_agua  \n",
    ") ** -1\n",
    "U_ensuciamiento"
   ]
  },
  {
   "cell_type": "code",
   "execution_count": 42,
   "metadata": {},
   "outputs": [
    {
     "data": {
      "text/plain": [
       "8601.577022996044"
      ]
     },
     "execution_count": 42,
     "metadata": {},
     "output_type": "execute_result"
    }
   ],
   "source": [
    "U_no_ensuciamiento = (\n",
    "    1/coeficiente_convectivo_agua + \n",
    "    (diametro_exterior_c / 2) * np.log(diametro_exterior_c/diametro_interior_c) / k_material +\n",
    "    (diametro_exterior_c / diametro_interior_c) * (1 / coeficiente_convectivo_crudo) \n",
    ") ** -1\n",
    "U_no_ensuciamiento"
   ]
  },
  {
   "cell_type": "code",
   "execution_count": 43,
   "metadata": {},
   "outputs": [
    {
     "name": "stdout",
     "output_type": "stream",
     "text": [
      "factor de ensuciamiento 0.1669039325540469\n"
     ]
    }
   ],
   "source": [
    "C_f = U_ensuciamiento  / U_no_ensuciamiento\n",
    "print(\"factor de ensuciamiento\", C_f)"
   ]
  },
  {
   "cell_type": "code",
   "execution_count": 47,
   "metadata": {},
   "outputs": [
    {
     "name": "stdout",
     "output_type": "stream",
     "text": [
      "El area de transferencia de calor 69.37686743110335\n",
      "El area de transferencia de calor por el lado del crudo 1.5155042960917162\n",
      "la relacion de area es:  45.77807374747604\n"
     ]
    }
   ],
   "source": [
    "A_0 = calor / (U_ensuciamiento * (temperatura_entrada_crudo - temperatura_salida_crudo))\n",
    "print(\"El area de transferencia de calor\", A_0)\n",
    "\n",
    "A_hp = 2 * np.pi * diametro_exterior_c * longitud\n",
    "print(\"El area de transferencia de calor por el lado del crudo\", A_hp)\n",
    "\n",
    "\n",
    "relacion_area = A_0 / A_hp\n",
    "print(\"la relacion de area es: \", relacion_area)"
   ]
  },
  {
   "cell_type": "code",
   "execution_count": 48,
   "metadata": {},
   "outputs": [
    {
     "name": "stdout",
     "output_type": "stream",
     "text": [
      "porcentaje sobre la superficie 50.534423501920905\n"
     ]
    }
   ],
   "source": [
    "OS = 100 * U_ensuciamiento * R_f_crudo\n",
    "print(\"porcentaje sobre la superficie\", OS)"
   ]
  },
  {
   "cell_type": "code",
   "execution_count": 49,
   "metadata": {},
   "outputs": [
    {
     "name": "stdout",
     "output_type": "stream",
     "text": [
      "la caida de presion es:  121221114.63162172\n"
     ]
    }
   ],
   "source": [
    "caida_presion = 4 * f_factor_crudo * 2 * longitud / diametro_exterior_c *  relacion_area * densidad_crudo * u_m_crudo **2 /2 \n",
    "print(\"la caida de presion es: \", caida_presion)"
   ]
  }
 ],
 "metadata": {
  "kernelspec": {
   "display_name": "uni",
   "language": "python",
   "name": "python3"
  },
  "language_info": {
   "codemirror_mode": {
    "name": "ipython",
    "version": 3
   },
   "file_extension": ".py",
   "mimetype": "text/x-python",
   "name": "python",
   "nbconvert_exporter": "python",
   "pygments_lexer": "ipython3",
   "version": "3.10.13"
  }
 },
 "nbformat": 4,
 "nbformat_minor": 2
}
