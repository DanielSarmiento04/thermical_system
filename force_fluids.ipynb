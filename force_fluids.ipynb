{
 "cells": [
  {
   "cell_type": "markdown",
   "metadata": {},
   "source": [
    "# Enunciado\n",
    "\n",
    "Una tubería de vapor larga de 10 cm de diámetro, cuya temperatura superficial externa es de 110ºC pasa a traves de una area abierta que no esta protegida contra los vientos. Determine la tasa de perdida de calor de la tubería por unidad de su longitud cuando el aire esta a un agresión de 1 atm y  10 ºC y el viento sopla alrededor de la tubería a una velocidad 8 m/s"
   ]
  },
  {
   "cell_type": "markdown",
   "metadata": {},
   "source": [
    "## variables conocidas"
   ]
  },
  {
   "cell_type": "code",
   "execution_count": 1,
   "metadata": {},
   "outputs": [],
   "source": [
    "velocidad_viento = 8 #m/s\n",
    "presion_aire = 101325 #Pa\n",
    "T_amb = 10 # ºC\n",
    "\n",
    "T_sup_ext = 110 # ºC\n",
    "diametro = 0.1 # m"
   ]
  },
  {
   "cell_type": "code",
   "execution_count": 2,
   "metadata": {},
   "outputs": [],
   "source": [
    "from pyfluids import Fluid, FluidsList, Input\n",
    "from core import ThermoFormules"
   ]
  },
  {
   "cell_type": "code",
   "execution_count": 3,
   "metadata": {},
   "outputs": [
    {
     "data": {
      "text/plain": [
       "Air"
      ]
     },
     "execution_count": 3,
     "metadata": {},
     "output_type": "execute_result"
    }
   ],
   "source": [
    "air = Fluid(FluidsList.Air)\n",
    "air.name"
   ]
  },
  {
   "cell_type": "code",
   "execution_count": 4,
   "metadata": {},
   "outputs": [],
   "source": [
    "temperatura_promedio = (T_sup_ext + T_amb) / 2"
   ]
  },
  {
   "cell_type": "code",
   "execution_count": 5,
   "metadata": {},
   "outputs": [],
   "source": [
    "state = air.with_state(\n",
    "    Input.pressure(presion_aire),\n",
    "    Input.temperature(temperatura_promedio),\n",
    ")"
   ]
  },
  {
   "cell_type": "code",
   "execution_count": 6,
   "metadata": {},
   "outputs": [
    {
     "data": {
      "text/plain": [
       "42176.171027044686"
      ]
     },
     "execution_count": 6,
     "metadata": {},
     "output_type": "execute_result"
    }
   ],
   "source": [
    "reynolds = ThermoFormules.reynolds(\n",
    "    velocidad_viento,\n",
    "    diametro,\n",
    "    state.kinematic_viscosity\n",
    ")\n",
    "\n",
    "reynolds"
   ]
  },
  {
   "cell_type": "code",
   "execution_count": 7,
   "metadata": {},
   "outputs": [
    {
     "data": {
      "text/plain": [
       "123.25050542839024"
      ]
     },
     "execution_count": 7,
     "metadata": {},
     "output_type": "execute_result"
    }
   ],
   "source": [
    "nusselt = ThermoFormules.nusselt(\n",
    "    reynolds,\n",
    "    state.prandtl\n",
    ")\n",
    "nusselt"
   ]
  },
  {
   "cell_type": "code",
   "execution_count": 9,
   "metadata": {},
   "outputs": [
    {
     "name": "stdout",
     "output_type": "stream",
     "text": [
      "35.50116023662848\n"
     ]
    }
   ],
   "source": [
    "h = ThermoFormules.h(\n",
    "    state.conductivity,\n",
    "    diametro,\n",
    "    nusselt\n",
    ")\n",
    "print(h)"
   ]
  }
 ],
 "metadata": {
  "kernelspec": {
   "display_name": "uni",
   "language": "python",
   "name": "python3"
  },
  "language_info": {
   "codemirror_mode": {
    "name": "ipython",
    "version": 3
   },
   "file_extension": ".py",
   "mimetype": "text/x-python",
   "name": "python",
   "nbconvert_exporter": "python",
   "pygments_lexer": "ipython3",
   "version": "3.10.13"
  },
  "orig_nbformat": 4
 },
 "nbformat": 4,
 "nbformat_minor": 2
}
