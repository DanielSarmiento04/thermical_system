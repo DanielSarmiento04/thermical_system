{
 "cells": [
  {
   "cell_type": "code",
   "execution_count": 21,
   "metadata": {},
   "outputs": [
    {
     "name": "stdout",
     "output_type": "stream",
     "text": [
      "Collecting plotly\n",
      "  Obtaining dependency information for plotly from https://files.pythonhosted.org/packages/df/79/c80174d711ee26ee5da55a9cc3e248f1ec7a0188b5e4d6bbbbcd09b974b0/plotly-5.17.0-py2.py3-none-any.whl.metadata\n",
      "  Downloading plotly-5.17.0-py2.py3-none-any.whl.metadata (7.0 kB)\n",
      "Collecting tenacity>=6.2.0 (from plotly)\n",
      "  Obtaining dependency information for tenacity>=6.2.0 from https://files.pythonhosted.org/packages/f4/f1/990741d5bb2487d529d20a433210ffa136a367751e454214013b441c4575/tenacity-8.2.3-py3-none-any.whl.metadata\n",
      "  Downloading tenacity-8.2.3-py3-none-any.whl.metadata (1.0 kB)\n",
      "Requirement already satisfied: packaging in /Users/danielsarmiento/miniconda3/envs/uni/lib/python3.10/site-packages (from plotly) (23.1)\n",
      "Downloading plotly-5.17.0-py2.py3-none-any.whl (15.6 MB)\n",
      "\u001b[2K   \u001b[90m━━━━━━━━━━━━━━━━━━━━━━━━━━━━━━━━━━━━━━━━\u001b[0m \u001b[32m15.6/15.6 MB\u001b[0m \u001b[31m238.3 kB/s\u001b[0m eta \u001b[36m0:00:00\u001b[0m00:01\u001b[0m00:02\u001b[0m\n",
      "\u001b[?25hDownloading tenacity-8.2.3-py3-none-any.whl (24 kB)\n",
      "Installing collected packages: tenacity, plotly\n",
      "Successfully installed plotly-5.17.0 tenacity-8.2.3\n"
     ]
    }
   ],
   "source": [
    "!pip install plotly"
   ]
  },
  {
   "cell_type": "code",
   "execution_count": 6,
   "metadata": {},
   "outputs": [],
   "source": [
    "import pandas as pd\n",
    "from matplotlib import pyplot as plt"
   ]
  },
  {
   "cell_type": "code",
   "execution_count": 19,
   "metadata": {},
   "outputs": [],
   "source": [
    "plt.style.use('ggplot')"
   ]
  },
  {
   "cell_type": "code",
   "execution_count": 7,
   "metadata": {},
   "outputs": [],
   "source": [
    "df = pd.read_csv(\n",
    "    '7dc4d209-5391-4bbd-a756-21ef088ccb80%2FExport-7816d8ee-b1f4-493d-8953-b80d1f2d5bea/Projects 5550a1c7244345b3be038945af52540b.csv'\n",
    ")"
   ]
  },
  {
   "cell_type": "code",
   "execution_count": 8,
   "metadata": {},
   "outputs": [
    {
     "data": {
      "text/html": [
       "<div>\n",
       "<style scoped>\n",
       "    .dataframe tbody tr th:only-of-type {\n",
       "        vertical-align: middle;\n",
       "    }\n",
       "\n",
       "    .dataframe tbody tr th {\n",
       "        vertical-align: top;\n",
       "    }\n",
       "\n",
       "    .dataframe thead th {\n",
       "        text-align: right;\n",
       "    }\n",
       "</style>\n",
       "<table border=\"1\" class=\"dataframe\">\n",
       "  <thead>\n",
       "    <tr style=\"text-align: right;\">\n",
       "      <th></th>\n",
       "      <th>Project</th>\n",
       "      <th>Blocked by</th>\n",
       "      <th>Blocking</th>\n",
       "      <th>Eng hours</th>\n",
       "      <th>Priority</th>\n",
       "      <th>Progress</th>\n",
       "      <th>Status</th>\n",
       "      <th>Tasks</th>\n",
       "      <th>Timeline</th>\n",
       "    </tr>\n",
       "  </thead>\n",
       "  <tbody>\n",
       "    <tr>\n",
       "      <th>0</th>\n",
       "      <td>Identificar los Requisitos del Cliente</td>\n",
       "      <td>NaN</td>\n",
       "      <td>Selección de Frutas (https://www.notion.so/Sel...</td>\n",
       "      <td>10.0</td>\n",
       "      <td>P0</td>\n",
       "      <td>1.0</td>\n",
       "      <td>Done</td>\n",
       "      <td>Reunirse con el cliente o partes interesadas p...</td>\n",
       "      <td>August 26, 2023 → September 2, 2023</td>\n",
       "    </tr>\n",
       "    <tr>\n",
       "      <th>1</th>\n",
       "      <td>Investigación de Mercado</td>\n",
       "      <td>NaN</td>\n",
       "      <td>Selección de Frutas (https://www.notion.so/Sel...</td>\n",
       "      <td>300.0</td>\n",
       "      <td>P1</td>\n",
       "      <td>1.0</td>\n",
       "      <td>Done</td>\n",
       "      <td>Analizar la competencia y productos existentes...</td>\n",
       "      <td>August 31, 2023 → September 2, 2023</td>\n",
       "    </tr>\n",
       "    <tr>\n",
       "      <th>2</th>\n",
       "      <td>Selección de Frutas</td>\n",
       "      <td>Identificar los Requisitos del Cliente (https:...</td>\n",
       "      <td>Análisis Técnico (https://www.notion.so/An-lis...</td>\n",
       "      <td>250.0</td>\n",
       "      <td>P2</td>\n",
       "      <td>1.0</td>\n",
       "      <td>Done</td>\n",
       "      <td>Investigar las frutas endémicas y su disponibi...</td>\n",
       "      <td>September 6, 2023 → September 8, 2023</td>\n",
       "    </tr>\n",
       "    <tr>\n",
       "      <th>3</th>\n",
       "      <td>Análisis Técnico</td>\n",
       "      <td>Selección de Frutas (https://www.notion.so/Sel...</td>\n",
       "      <td>Seguridad Alimentaria (https://www.notion.so/S...</td>\n",
       "      <td>350.0</td>\n",
       "      <td>P0</td>\n",
       "      <td>1.0</td>\n",
       "      <td>Done</td>\n",
       "      <td>Determinar los parámetros de deshidratación ad...</td>\n",
       "      <td>September 12, 2023 → September 15, 2023</td>\n",
       "    </tr>\n",
       "    <tr>\n",
       "      <th>4</th>\n",
       "      <td>Seguridad Alimentaria</td>\n",
       "      <td>Análisis Técnico (https://www.notion.so/An-lis...</td>\n",
       "      <td>Diseño Conceptual (https://www.notion.so/Dise-...</td>\n",
       "      <td>NaN</td>\n",
       "      <td>P2</td>\n",
       "      <td>NaN</td>\n",
       "      <td>In progress</td>\n",
       "      <td>Investigar requisitos a cumplir con las regula...</td>\n",
       "      <td>September 18, 2023 → September 20, 2023</td>\n",
       "    </tr>\n",
       "  </tbody>\n",
       "</table>\n",
       "</div>"
      ],
      "text/plain": [
       "                                  Project  \\\n",
       "0  Identificar los Requisitos del Cliente   \n",
       "1                Investigación de Mercado   \n",
       "2                     Selección de Frutas   \n",
       "3                        Análisis Técnico   \n",
       "4                   Seguridad Alimentaria   \n",
       "\n",
       "                                          Blocked by  \\\n",
       "0                                                NaN   \n",
       "1                                                NaN   \n",
       "2  Identificar los Requisitos del Cliente (https:...   \n",
       "3  Selección de Frutas (https://www.notion.so/Sel...   \n",
       "4  Análisis Técnico (https://www.notion.so/An-lis...   \n",
       "\n",
       "                                            Blocking  Eng hours Priority  \\\n",
       "0  Selección de Frutas (https://www.notion.so/Sel...       10.0       P0   \n",
       "1  Selección de Frutas (https://www.notion.so/Sel...      300.0       P1   \n",
       "2  Análisis Técnico (https://www.notion.so/An-lis...      250.0       P2   \n",
       "3  Seguridad Alimentaria (https://www.notion.so/S...      350.0       P0   \n",
       "4  Diseño Conceptual (https://www.notion.so/Dise-...        NaN       P2   \n",
       "\n",
       "   Progress       Status                                              Tasks  \\\n",
       "0       1.0         Done  Reunirse con el cliente o partes interesadas p...   \n",
       "1       1.0         Done  Analizar la competencia y productos existentes...   \n",
       "2       1.0         Done  Investigar las frutas endémicas y su disponibi...   \n",
       "3       1.0         Done  Determinar los parámetros de deshidratación ad...   \n",
       "4       NaN  In progress  Investigar requisitos a cumplir con las regula...   \n",
       "\n",
       "                                  Timeline  \n",
       "0      August 26, 2023 → September 2, 2023  \n",
       "1      August 31, 2023 → September 2, 2023  \n",
       "2    September 6, 2023 → September 8, 2023  \n",
       "3  September 12, 2023 → September 15, 2023  \n",
       "4  September 18, 2023 → September 20, 2023  "
      ]
     },
     "execution_count": 8,
     "metadata": {},
     "output_type": "execute_result"
    }
   ],
   "source": [
    "df.head()"
   ]
  },
  {
   "cell_type": "code",
   "execution_count": 20,
   "metadata": {},
   "outputs": [
    {
     "data": {
      "image/png": "[encoded data removed]",
      "text/plain": [
       "<Figure size 640x480 with 1 Axes>"
      ]
     },
     "metadata": {},
     "output_type": "display_data"
    }
   ],
   "source": [
    "df['start_task'] = [0, 0, 2, 3, 5, 6, 7, 3, 4]\n",
    "df['task_duration'] = [3, 5, 6, 6, 7, 8, 9, 9, 3]\n",
    "\n",
    "plt.barh(y=df['Project'], width=df['task_duration'], left=df['start_task'])\n",
    "plt.title('Diagrama de Grant')\n",
    "plt.xlabel('Dias')\n",
    "plt.show()"
   ]
  },
  {
   "cell_type": "code",
   "execution_count": 22,
   "metadata": {},
   "outputs": [
    {
     "ename": "ValueError",
     "evalue": "Mime type rendering requires nbformat>=4.2.0 but it is not installed",
     "output_type": "error",
     "traceback": [
      "\u001b[0;31m---------------------------------------------------------------------------\u001b[0m",
      "\u001b[0;31mValueError\u001b[0m                                Traceback (most recent call last)",
      "\u001b[1;32m/Users/danielsarmiento/Desktop/university/thermical_system_1/gantt.ipynb Cell 7\u001b[0m line \u001b[0;36m1\n\u001b[1;32m     <a href='vscode-notebook-cell:/Users/danielsarmiento/Desktop/university/thermical_system_1/gantt.ipynb#X11sZmlsZQ%3D%3D?line=9'>10</a>\u001b[0m fig \u001b[39m=\u001b[39m px\u001b[39m.\u001b[39mtimeline(df, x_start\u001b[39m=\u001b[39m\u001b[39m\"\u001b[39m\u001b[39mStart\u001b[39m\u001b[39m\"\u001b[39m, x_end\u001b[39m=\u001b[39m\u001b[39m\"\u001b[39m\u001b[39mFinish\u001b[39m\u001b[39m\"\u001b[39m, y\u001b[39m=\u001b[39m\u001b[39m\"\u001b[39m\u001b[39mTask\u001b[39m\u001b[39m\"\u001b[39m)\n\u001b[1;32m     <a href='vscode-notebook-cell:/Users/danielsarmiento/Desktop/university/thermical_system_1/gantt.ipynb#X11sZmlsZQ%3D%3D?line=10'>11</a>\u001b[0m fig\u001b[39m.\u001b[39mupdate_yaxes(autorange\u001b[39m=\u001b[39m\u001b[39m\"\u001b[39m\u001b[39mreversed\u001b[39m\u001b[39m\"\u001b[39m) \u001b[39m# otherwise tasks are listed from the bottom up\u001b[39;00m\n\u001b[0;32m---> <a href='vscode-notebook-cell:/Users/danielsarmiento/Desktop/university/thermical_system_1/gantt.ipynb#X11sZmlsZQ%3D%3D?line=11'>12</a>\u001b[0m fig\u001b[39m.\u001b[39;49mshow()\n",
      "File \u001b[0;32m~/miniconda3/envs/uni/lib/python3.10/site-packages/plotly/basedatatypes.py:3412\u001b[0m, in \u001b[0;36mBaseFigure.show\u001b[0;34m(self, *args, **kwargs)\u001b[0m\n\u001b[1;32m   3379\u001b[0m \u001b[39m\u001b[39m\u001b[39m\"\"\"\u001b[39;00m\n\u001b[1;32m   3380\u001b[0m \u001b[39mShow a figure using either the default renderer(s) or the renderer(s)\u001b[39;00m\n\u001b[1;32m   3381\u001b[0m \u001b[39mspecified by the renderer argument\u001b[39;00m\n\u001b[0;32m   (...)\u001b[0m\n\u001b[1;32m   3408\u001b[0m \u001b[39mNone\u001b[39;00m\n\u001b[1;32m   3409\u001b[0m \u001b[39m\"\"\"\u001b[39;00m\n\u001b[1;32m   3410\u001b[0m \u001b[39mimport\u001b[39;00m \u001b[39mplotly\u001b[39;00m\u001b[39m.\u001b[39;00m\u001b[39mio\u001b[39;00m \u001b[39mas\u001b[39;00m \u001b[39mpio\u001b[39;00m\n\u001b[0;32m-> 3412\u001b[0m \u001b[39mreturn\u001b[39;00m pio\u001b[39m.\u001b[39;49mshow(\u001b[39mself\u001b[39;49m, \u001b[39m*\u001b[39;49margs, \u001b[39m*\u001b[39;49m\u001b[39m*\u001b[39;49mkwargs)\n",
      "File \u001b[0;32m~/miniconda3/envs/uni/lib/python3.10/site-packages/plotly/io/_renderers.py:396\u001b[0m, in \u001b[0;36mshow\u001b[0;34m(fig, renderer, validate, **kwargs)\u001b[0m\n\u001b[1;32m    391\u001b[0m         \u001b[39mraise\u001b[39;00m \u001b[39mValueError\u001b[39;00m(\n\u001b[1;32m    392\u001b[0m             \u001b[39m\"\u001b[39m\u001b[39mMime type rendering requires ipython but it is not installed\u001b[39m\u001b[39m\"\u001b[39m\n\u001b[1;32m    393\u001b[0m         )\n\u001b[1;32m    395\u001b[0m     \u001b[39mif\u001b[39;00m \u001b[39mnot\u001b[39;00m nbformat \u001b[39mor\u001b[39;00m Version(nbformat\u001b[39m.\u001b[39m__version__) \u001b[39m<\u001b[39m Version(\u001b[39m\"\u001b[39m\u001b[39m4.2.0\u001b[39m\u001b[39m\"\u001b[39m):\n\u001b[0;32m--> 396\u001b[0m         \u001b[39mraise\u001b[39;00m \u001b[39mValueError\u001b[39;00m(\n\u001b[1;32m    397\u001b[0m             \u001b[39m\"\u001b[39m\u001b[39mMime type rendering requires nbformat>=4.2.0 but it is not installed\u001b[39m\u001b[39m\"\u001b[39m\n\u001b[1;32m    398\u001b[0m         )\n\u001b[1;32m    400\u001b[0m     ipython_display\u001b[39m.\u001b[39mdisplay(bundle, raw\u001b[39m=\u001b[39m\u001b[39mTrue\u001b[39;00m)\n\u001b[1;32m    402\u001b[0m \u001b[39m# external renderers\u001b[39;00m\n",
      "\u001b[0;31mValueError\u001b[0m: Mime type rendering requires nbformat>=4.2.0 but it is not installed"
     ]
    }
   ],
   "source": [
    "import plotly.express as px\n",
    "import pandas as pd\n",
    "\n",
    "df = pd.DataFrame([\n",
    "    dict(Task=\"Job A\", Start='2009-01-01', Finish='2009-02-28'),\n",
    "    dict(Task=\"Job B\", Start='2009-03-05', Finish='2009-04-15'),\n",
    "    dict(Task=\"Job C\", Start='2009-02-20', Finish='2009-05-30')\n",
    "])\n",
    "\n",
    "fig = px.timeline(df, x_start=\"Start\", x_end=\"Finish\", y=\"Task\")\n",
    "fig.update_yaxes(autorange=\"reversed\") # otherwise tasks are listed from the bottom up\n",
    "fig.show()"
   ]
  },
  {
   "cell_type": "code",
   "execution_count": 11,
   "metadata": {},
   "outputs": [],
   "source": [
    "df.to_excel('gantt.xlsx')"
   ]
  },
  {
   "cell_type": "code",
   "execution_count": 2,
   "metadata": {},
   "outputs": [],
   "source": [
    "from datetime import datetime"
   ]
  },
  {
   "cell_type": "code",
   "execution_count": 9,
   "metadata": {},
   "outputs": [
    {
     "ename": "ValueError",
     "evalue": "time data '2023-07-21' does not match format '%y-%m-%d'",
     "output_type": "error",
     "traceback": [
      "\u001b[0;31m---------------------------------------------------------------------------\u001b[0m",
      "\u001b[0;31mValueError\u001b[0m                                Traceback (most recent call last)",
      "\u001b[1;32m/Users/danielsarmiento/Desktop/university/thermical_system_1/gantt.ipynb Cell 10\u001b[0m line \u001b[0;36m1\n\u001b[0;32m----> <a href='vscode-notebook-cell:/Users/danielsarmiento/Desktop/university/thermical_system_1/gantt.ipynb#X12sZmlsZQ%3D%3D?line=0'>1</a>\u001b[0m now \u001b[39m=\u001b[39m datetime\u001b[39m.\u001b[39;49mstrptime(\u001b[39m'\u001b[39;49m\u001b[39m2023-07-21\u001b[39;49m\u001b[39m'\u001b[39;49m, \u001b[39m'\u001b[39;49m\u001b[39m%\u001b[39;49m\u001b[39my-\u001b[39;49m\u001b[39m%\u001b[39;49m\u001b[39mm-\u001b[39;49m\u001b[39m%d\u001b[39;49;00m\u001b[39m'\u001b[39;49m)\n\u001b[1;32m      <a href='vscode-notebook-cell:/Users/danielsarmiento/Desktop/university/thermical_system_1/gantt.ipynb#X12sZmlsZQ%3D%3D?line=1'>2</a>\u001b[0m \u001b[39mprint\u001b[39m(now)\n",
      "File \u001b[0;32m~/miniconda3/envs/uni/lib/python3.10/_strptime.py:568\u001b[0m, in \u001b[0;36m_strptime_datetime\u001b[0;34m(cls, data_string, format)\u001b[0m\n\u001b[1;32m    565\u001b[0m \u001b[39mdef\u001b[39;00m \u001b[39m_strptime_datetime\u001b[39m(\u001b[39mcls\u001b[39m, data_string, \u001b[39mformat\u001b[39m\u001b[39m=\u001b[39m\u001b[39m\"\u001b[39m\u001b[39m%a\u001b[39;00m\u001b[39m \u001b[39m\u001b[39m%\u001b[39m\u001b[39mb \u001b[39m\u001b[39m%d\u001b[39;00m\u001b[39m \u001b[39m\u001b[39m%\u001b[39m\u001b[39mH:\u001b[39m\u001b[39m%\u001b[39m\u001b[39mM:\u001b[39m\u001b[39m%\u001b[39m\u001b[39mS \u001b[39m\u001b[39m%\u001b[39m\u001b[39mY\u001b[39m\u001b[39m\"\u001b[39m):\n\u001b[1;32m    566\u001b[0m \u001b[39m    \u001b[39m\u001b[39m\"\"\"Return a class cls instance based on the input string and the\u001b[39;00m\n\u001b[1;32m    567\u001b[0m \u001b[39m    format string.\"\"\"\u001b[39;00m\n\u001b[0;32m--> 568\u001b[0m     tt, fraction, gmtoff_fraction \u001b[39m=\u001b[39m _strptime(data_string, \u001b[39mformat\u001b[39;49m)\n\u001b[1;32m    569\u001b[0m     tzname, gmtoff \u001b[39m=\u001b[39m tt[\u001b[39m-\u001b[39m\u001b[39m2\u001b[39m:]\n\u001b[1;32m    570\u001b[0m     args \u001b[39m=\u001b[39m tt[:\u001b[39m6\u001b[39m] \u001b[39m+\u001b[39m (fraction,)\n",
      "File \u001b[0;32m~/miniconda3/envs/uni/lib/python3.10/_strptime.py:349\u001b[0m, in \u001b[0;36m_strptime\u001b[0;34m(data_string, format)\u001b[0m\n\u001b[1;32m    347\u001b[0m found \u001b[39m=\u001b[39m format_regex\u001b[39m.\u001b[39mmatch(data_string)\n\u001b[1;32m    348\u001b[0m \u001b[39mif\u001b[39;00m \u001b[39mnot\u001b[39;00m found:\n\u001b[0;32m--> 349\u001b[0m     \u001b[39mraise\u001b[39;00m \u001b[39mValueError\u001b[39;00m(\u001b[39m\"\u001b[39m\u001b[39mtime data \u001b[39m\u001b[39m%r\u001b[39;00m\u001b[39m does not match format \u001b[39m\u001b[39m%r\u001b[39;00m\u001b[39m\"\u001b[39m \u001b[39m%\u001b[39m\n\u001b[1;32m    350\u001b[0m                      (data_string, \u001b[39mformat\u001b[39m))\n\u001b[1;32m    351\u001b[0m \u001b[39mif\u001b[39;00m \u001b[39mlen\u001b[39m(data_string) \u001b[39m!=\u001b[39m found\u001b[39m.\u001b[39mend():\n\u001b[1;32m    352\u001b[0m     \u001b[39mraise\u001b[39;00m \u001b[39mValueError\u001b[39;00m(\u001b[39m\"\u001b[39m\u001b[39munconverted data remains: \u001b[39m\u001b[39m%s\u001b[39;00m\u001b[39m\"\u001b[39m \u001b[39m%\u001b[39m\n\u001b[1;32m    353\u001b[0m                       data_string[found\u001b[39m.\u001b[39mend():])\n",
      "\u001b[0;31mValueError\u001b[0m: time data '2023-07-21' does not match format '%y-%m-%d'"
     ]
    }
   ],
   "source": [
    "now = datetime.strptime('2023-07-21', '%y-%m-%d')\n",
    "print(now)"
   ]
  },
  {
   "cell_type": "code",
   "execution_count": null,
   "metadata": {},
   "outputs": [],
   "source": []
  }
 ],
 "metadata": {
  "kernelspec": {
   "display_name": "uni",
   "language": "python",
   "name": "python3"
  },
  "language_info": {
   "codemirror_mode": {
    "name": "ipython",
    "version": 3
   },
   "file_extension": ".py",
   "mimetype": "text/x-python",
   "name": "python",
   "nbconvert_exporter": "python",
   "pygments_lexer": "ipython3",
   "version": "3.10.13"
  },
  "orig_nbformat": 4
 },
 "nbformat": 4,
 "nbformat_minor": 2
}
