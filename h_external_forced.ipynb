{
 "cells": [
  {
   "cell_type": "code",
   "execution_count": 6,
   "metadata": {},
   "outputs": [],
   "source": [
    "from pyfluids import Fluid, FluidsList, Input"
   ]
  },
  {
   "cell_type": "code",
   "execution_count": 37,
   "metadata": {},
   "outputs": [
    {
     "data": {
      "text/plain": [
       "<pyfluids.fluids.fluid.Fluid at 0x10af604c0>"
      ]
     },
     "execution_count": 37,
     "metadata": {},
     "output_type": "execute_result"
    }
   ],
   "source": [
    "air = Fluid(FluidsList.Air)\n",
    "air"
   ]
  },
  {
   "cell_type": "code",
   "execution_count": 38,
   "metadata": {},
   "outputs": [
    {
     "data": {
      "text/plain": [
       "(0.7033837965818982, 2.0099059103658008e-05)"
      ]
     },
     "execution_count": 38,
     "metadata": {},
     "output_type": "execute_result"
    }
   ],
   "source": [
    "state = air.with_state(\n",
    "    Input.pressure(101325),\n",
    "    Input.temperature(60),\n",
    ")\n",
    "state.prandtl, state.dynamic_viscosity"
   ]
  },
  {
   "cell_type": "markdown",
   "metadata": {},
   "source": [
    "# Enunciado\n",
    "\n",
    "Una tubería de vapor larga de 10 cm de diámetro, cuya temperatura superficial externa es de 110ºC pasa a traves de una area abierta que no esta protegida contra los vientos. Determine la tasa de perdida de calor de la tubería por unidad de su longitud cuando el aire esta a un agresión de 1 atm y  10 ºC y el viento sopla alrededor de la tubería a una velocidad 8 m/s"
   ]
  },
  {
   "cell_type": "code",
   "execution_count": 43,
   "metadata": {},
   "outputs": [],
   "source": [
    "# DATOS\n",
    "T_surface = 110 # °C\n",
    "T_infinity = 10 # °C\n",
    "air_pressure = 1 * 101325 # pA\n",
    "diameter = 0.1 # m\n",
    "velocity = 10 # m/s"
   ]
  },
  {
   "cell_type": "code",
   "execution_count": 41,
   "metadata": {},
   "outputs": [
    {
     "data": {
      "text/plain": [
       "<pyfluids.fluids.fluid.Fluid at 0x10af61630>"
      ]
     },
     "execution_count": 41,
     "metadata": {},
     "output_type": "execute_result"
    }
   ],
   "source": [
    "air = Fluid(FluidsList.Air)\n",
    "air"
   ]
  },
  {
   "cell_type": "markdown",
   "metadata": {},
   "source": [
    "### Fin the state of the fluid in the surface with the average condition (Fluid-surface)"
   ]
  },
  {
   "cell_type": "code",
   "execution_count": 42,
   "metadata": {},
   "outputs": [],
   "source": [
    "T_average = (T_surface + T_infinity) / 2"
   ]
  },
  {
   "cell_type": "code",
   "execution_count": 47,
   "metadata": {},
   "outputs": [
    {
     "data": {
      "text/plain": [
       "(0.7033837965818982, 1.8968056618677285e-05, 0.028804068683722362)"
      ]
     },
     "execution_count": 47,
     "metadata": {},
     "output_type": "execute_result"
    }
   ],
   "source": [
    "state = air.with_state(\n",
    "    Input.pressure(air_pressure),\n",
    "    Input.temperature(T_average),\n",
    ")\n",
    "state.prandtl, state.kinematic_viscosity, state.conductivity"
   ]
  },
  {
   "cell_type": "code",
   "execution_count": 49,
   "metadata": {},
   "outputs": [],
   "source": [
    "k = state.conductivity\n",
    "kinematic_viscosity = state.kinematic_viscosity\n",
    "Pr = state.prandtl"
   ]
  },
  {
   "cell_type": "code",
   "execution_count": 50,
   "metadata": {},
   "outputs": [
    {
     "data": {
      "text/plain": [
       "52720.213783805855"
      ]
     },
     "execution_count": 50,
     "metadata": {},
     "output_type": "execute_result"
    }
   ],
   "source": [
    "Re = diameter * velocity / kinematic_viscosity\n",
    "Re"
   ]
  },
  {
   "cell_type": "markdown",
   "metadata": {},
   "source": [
    "### Nusselt por medio de flujo cruzado"
   ]
  },
  {
   "cell_type": "code",
   "execution_count": 51,
   "metadata": {},
   "outputs": [],
   "source": [
    "Nusselt = lambda Re, Pr: 0.3 + (0.62 * Re**(1/2) * Pr**(1/3)) / (1 + (0.4 / Pr)**(2/3))**(1/4) * (1 + (Re / 282000)**(5/8))**(4/5)"
   ]
  },
  {
   "cell_type": "code",
   "execution_count": 54,
   "metadata": {},
   "outputs": [
    {
     "data": {
      "text/plain": [
       "141.5958106633315"
      ]
     },
     "execution_count": 54,
     "metadata": {},
     "output_type": "execute_result"
    }
   ],
   "source": [
    "Nu = Nusselt(Re, Pr)\n",
    "Nu"
   ]
  },
  {
   "cell_type": "code",
   "execution_count": 55,
   "metadata": {},
   "outputs": [
    {
     "data": {
      "text/plain": [
       "40.78535455673948"
      ]
     },
     "execution_count": 55,
     "metadata": {},
     "output_type": "execute_result"
    }
   ],
   "source": [
    "h = Nu * k / diameter\n",
    "h"
   ]
  }
 ],
 "metadata": {
  "kernelspec": {
   "display_name": "uni",
   "language": "python",
   "name": "python3"
  },
  "language_info": {
   "codemirror_mode": {
    "name": "ipython",
    "version": 3
   },
   "file_extension": ".py",
   "mimetype": "text/x-python",
   "name": "python",
   "nbconvert_exporter": "python",
   "pygments_lexer": "ipython3",
   "version": "3.10.13"
  },
  "orig_nbformat": 4
 },
 "nbformat": 4,
 "nbformat_minor": 2
}
