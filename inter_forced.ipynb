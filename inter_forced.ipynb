{
 "cells": [
  {
   "cell_type": "markdown",
   "metadata": {},
   "source": [
    "Enunciado\n",
    "\n",
    "Se tiene un flujo de petróleo a 20 °C en una línea de tubería de 30 cm de diámetro a una velocidad promedio de 2 m/s (figura 8-26). Una sección de la línea de tubería horizontal de 200 m de longitud pasa a través de las aguas heladas de un lago a 0 °C. Las mediciones indican que la temperatura superficial de la tubería es muy cercana a 0 °C. Despreciando la resistencia térmica del material de la tubería, calcule a) la temperatura del petróleo en el momento en el que la tubería abandona el lago, b) la velocidad de transferencia de calor del petróleo y, c) la potencia de bombeo que se requiere para contrarrestar las pérdidas de presión y mantener el flujo de petróleo en la tubería.\n",
    "\n",
    "![](docs/IMG_0119.jpg)"
   ]
  },
  {
   "cell_type": "code",
   "execution_count": 1,
   "metadata": {},
   "outputs": [],
   "source": [
    "from pyfluids import Fluid, FluidsList, Input, Mixture\n",
    "from core import ThermoFormules"
   ]
  },
  {
   "cell_type": "code",
   "execution_count": 2,
   "metadata": {},
   "outputs": [
    {
     "data": {
      "text/plain": [
       "<pyfluids.fluids.mixture.Mixture at 0x10cecc070>"
      ]
     },
     "execution_count": 2,
     "metadata": {},
     "output_type": "execute_result"
    }
   ],
   "source": [
    "Mixture(\n",
    "    [\n",
    "        FluidsList.Water,\n",
    "        FluidsList.Ethanol\n",
    "    ],\n",
    "    [\n",
    "        50,50\n",
    "    ]\n",
    ")"
   ]
  },
  {
   "cell_type": "code",
   "execution_count": 3,
   "metadata": {},
   "outputs": [],
   "source": [
    "petroleum = Mixture(\n",
    "    [\n",
    "        FluidsList.Ethane,\n",
    "        FluidsList.Methane,\n",
    "        FluidsList.nPropane,\n",
    "        FluidsList.nButane,\n",
    "        FluidsList.nPentane,\n",
    "        FluidsList.nHexane,\n",
    "    ],\n",
    "    [\n",
    "        80,\n",
    "        5,\n",
    "        5,\n",
    "        5,\n",
    "        3,\n",
    "        2,\n",
    "    ]\n",
    ")"
   ]
  },
  {
   "cell_type": "code",
   "execution_count": 4,
   "metadata": {},
   "outputs": [],
   "source": [
    "temperature = 20 # ºC\n",
    "pressure = 101325 # Pa"
   ]
  },
  {
   "cell_type": "code",
   "execution_count": 5,
   "metadata": {},
   "outputs": [
    {
     "data": {
      "text/plain": [
       "{'compressibility': 0.9916630880748634,\n",
       " 'conductivity': 0.021280622984320825,\n",
       " 'critical_pressure': 6289786.676334557,\n",
       " 'critical_temperature': 45.00922394870156,\n",
       " 'density': 1.2952819801826791,\n",
       " 'dynamic_viscosity': 9.198624595347474e-06,\n",
       " 'enthalpy': 649413.6365154929,\n",
       " 'entropy': 3527.471703646006,\n",
       " 'fluids': [Ethane, Methane, nPropane, nButane, nPentane, nHexane],\n",
       " 'fractions': [80, 5, 5, 5, 3, 2],\n",
       " 'freezing_temperature': None,\n",
       " 'internal_energy': 571187.4266479745,\n",
       " 'kinematic_viscosity': 7.1016386671650855e-06,\n",
       " 'max_pressure': 882194093.6671928,\n",
       " 'max_temperature': 392.64203881519893,\n",
       " 'min_pressure': 1127.2953870321383,\n",
       " 'min_temperature': -180.4272857090184,\n",
       " 'molar_mass': 0.030898386099003226,\n",
       " 'phase': Liquid,\n",
       " 'prandtl': 0.7571608458599508,\n",
       " 'pressure': 101325,\n",
       " 'quality': None,\n",
       " 'sound_speed': 303.7101251565074,\n",
       " 'specific_heat': 1751.659102099319,\n",
       " 'specific_volume': 0.7720326657049346,\n",
       " 'surface_tension': None,\n",
       " 'temperature': 20.0,\n",
       " 'triple_pressure': 1127.2953870321383,\n",
       " 'triple_temperature': -180.4272857090184,\n",
       " 'units_system': SIWithCelsiusAndPercents}"
      ]
     },
     "execution_count": 5,
     "metadata": {},
     "output_type": "execute_result"
    }
   ],
   "source": [
    "estado_entrada = petroleum.with_state(\n",
    "    Input.pressure(pressure),\n",
    "    Input.temperature(temperature),\n",
    ")\n",
    "estado_entrada.as_dict()"
   ]
  }
 ],
 "metadata": {
  "kernelspec": {
   "display_name": "uni",
   "language": "python",
   "name": "python3"
  },
  "language_info": {
   "codemirror_mode": {
    "name": "ipython",
    "version": 3
   },
   "file_extension": ".py",
   "mimetype": "text/x-python",
   "name": "python",
   "nbconvert_exporter": "python",
   "pygments_lexer": "ipython3",
   "version": "3.10.13"
  },
  "orig_nbformat": 4
 },
 "nbformat": 4,
 "nbformat_minor": 2
}
