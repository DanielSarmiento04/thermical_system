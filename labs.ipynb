{
 "cells": [
  {
   "cell_type": "code",
   "execution_count": 4,
   "metadata": {},
   "outputs": [],
   "source": [
    "data = \"\"\"\n",
    "15:26:33.241 -> Vcc (Volts) :2.65Rntc (Kohm): 112.89Temperatura (C) :22.45\n",
    "15:26:35.795 -> Vcc (Volts) :2.64Rntc (Kohm) :111.57Temperatura (C) : 22.70\n",
    "15:26:36.824 -> Vcc (Volts) :2.65Rntc (Kohm): 112.89Temperatura (C) :22.45\n",
    "15:26:37.820 -> Vcc (Volts) :2.65Rntc (Kohm) :112.89Temperatura (C) :22.45\n",
    "15:26:38.803 -> Vcc (Volts) :2.65Rntc (Kohm): 112.89Temperatura (C) :22.45\n",
    "15:26:39.834 -> Vcc (Volts) :2.65Rntc (Kohm) :112.45Temperatura (C) :22.53\n",
    "15:26:40.823 -> Vcc (Volts) :2.65Rntc (Kohm): 112.89Temperatura (C) :22.45\n",
    "15:26:41.808 -> Vcc (Volts) :2.65Rntc (Kohm) :112.89Temperatura (C) :22.45\n",
    "15:26:42.796 -> Vcc (Volts) :2.65Rntc (Kohm): 112.89Temperatura (C) :22.45\n",
    "15:26:43.832 -> Vcc (Volts) :2.66Rntc (Kohm) :113.78Temperatura (C) :22.29\n",
    "15:26:44.817 -> Vcc (Volts) :2.69Rntc (Kohm): 116.03Temperatura (C) :21.88\n",
    "15:26:45.802 -> Vcc (Volts) :2.70Rntc (Kohm) :117.41Temperatura (C) :21.64\n",
    "15:26:46.829 -> Vcc (Volts) :2.73Rntc (Kohm) :120.22Temperatura (C) :21.15\n",
    "15:26:47.811 -> Vcc (Volts) :2.73Rntc (Kohm) :120.69Temperatura (C) :21.07\n",
    "15:26:48.843 -> Vcc (Volts) : 2.75Rntc (Kohm): 122.13Temperatura (C) :20.82\n",
    "15:26:49.825 -> Vcc (Volts) :2.77Rntc (Kohm) :124.56Temperatura (C) :20.42\n",
    "15:26:50.814 -> Vcc (Volts) :2.80Rntc (Kohm): 127.56Temperatura (C) :19.93\n",
    "15:26:51.847 -> Vcc (Volts) :3.12Rntc (Kohm) :165.97Temperatura (C) : 14.64\n",
    "15:26:52.825 -> Vcc (Volts) :3.33Rntc (Kohm): 200.29Temperatura (C) :10.97\n",
    "15:26:53.853 -> Vcc (Volts) :3.37Rntc (Kohm) :207.51Temperatura (C) :10.29\n",
    "15:26:54.834 -> Vcc (Volts) :3.41Rntc (Kohm): 214.11Temperatura (C) :9.69\n",
    "15:26:55.865 -> Vcc (Volts) :3.54Rntc (Kohm) :242.47Temperatura (C) : 7.34\n",
    "15:26:56.848 -> Vcc (Volts) : 3.60Rntc (Kohm): 258.04Temperatura (C) :6.18\n",
    "15:26:57.834 -> Vcc (Volts) :3.66Rntc (Kohm) :273.72Temperatura (C) :5.08\n",
    "15:26:58.831 -> Vcc (Volts) :3.85Rntc (Kohm) :335.74Temperatura (C): 1.37\n",
    "15:26:59.057 -> Vcc (Volts) :3.85Rntc (Kohm) :335.74Temperatura (C): 1.37\n",
    "15:27:00.846 -> Vcc (Volts) : 3.77Rntc (Kohm): 307.97Temperatura (C) :2.93\n",
    "15:27:01.879 -> Vcc (Volts) :3.74Rntc (Kohm) :296.90Temperatura (C): 3.59\n",
    "15:27:02.863 -> Vcc (Volts) : 3.72Rntc (Kohm): 289.35Temperatura (C) :4.06\n",
    "15:27:03.847 -> Vcc (Volts) :3.71Rntc (Kohm) :286.42Temperatura (C) :4.25\n",
    "15:27:04.879 -> Vcc (Volts) : 3.64Rntc (Kohm): 267.03Temperatura (C) :5.54\n",
    "15:27:05.058 -> Vcc (Volts) :3.69Rntc (Kohm) :280.67Temperatura (C): 4.62\n",
    "15:27:06.886 -> Vcc (Volts) : 3.72Rntc (Kohm): 289.35Temperatura (C) :4.06\n",
    "15:27:07.874 -> Vcc (Volts) :3.74Rntc (Kohm) :295.37Temperatura (C): 3.69\n",
    "15:27:08.861 -> Vcc (Volts) : 3.76Rntc (Kohm): 304.74Temperatura (C) :3.12\n",
    "15:27:09.848 -> Vcc (Volts) :3.76Rntc (Kohm) : 304.74Temperatura (C): 3.12\n",
    "15:27:10.886 -> Vcc (Volts) : 3.78Rntc (Kohm): 311.24Temperatura (C) :2.73\n",
    "15:27:11.080 -> Vcc (Volts) :3.76Rntc (Kohm) : 303.15Temperatura (C): 3.21\n",
    "15:27:12.865 -> Vcc (Volts) : 3.77Rntc (Kohm): 306.35Temperatura (C) :3.02\n",
    "15:27:13.896 -> Vcc (Volts) :3.76Rntc (Kohm) :303.15Temperatura (C): 3.21\n",
    "15:27:14.881 -> Vcc (Volts) : 3.68Rntc (Kohm): 279.26Temperatura (C) :4.72\n",
    "15:27:15.871 -> Vcc (Volts) :3.75Rntc (Kohm) :301.57Temperatura (C) :3.31\n",
    "15:27:16.904 -> Vcc (Volts) : 3.76Rntc (Kohm): 304.74Temperatura (C) :3.12\n",
    "15:27:17.893 -> Vcc (Volts) :3.76Rntc (Kohm) : 304.74Temperatura (C): 3.12\n",
    "15:27:18.885 -> Vcc (Volts) : 3.78Rntc (Kohm): 309.60Temperatura (C) :2.83\n",
    "15:27:19.871 -> Vcc (Volts) :3.78Rntc (Kohm) : 311.24Temperatura (C) : 2.73\n",
    "15:27:20.904 -> Vcc (Volts) : 3.78Rntc (Kohm): 309.60Temperatura (C) :2.83\n",
    "15:27:21.894 -> Vcc (Volts) :3.80Rntc (Kohm) :317.96Temperatura (C) : 2.35\n",
    "15:27:22.885 -> Vcc (Volts) : 3.81Rntc (Kohm): 321.40Temperatura (C) :2.15\n",
    "15:27:23.877 -> Vcc (Volts) :3.84Rntc (Kohm) :330.25Temperatura (C): 1.66\n",
    "15:27:24.910 -> Vcc (Volts) :3.81Rntc (Kohm): 321.40Temperatura (C) :2.15\n",
    "15:27:25.098 -> Vcc (Volts) :3.82Rntc (Kohm) :323.14Temperatura (C) : 2.05\n",
    "15:27:26.894 -> Vcc (Volts) : 3.73Rntc (Kohm) :292.34Temperatura (C) :3.88\n",
    "15:27:27.925 -> Vcc (Volts) :3.83Rntc (Kohm) : 326.67Temperatura (C): 1.86\n",
    "15:27:28.917 -> Vcc (Volts) : 3.86Rntc (Kohm): 337.61Temperatura (C) :1.27\n",
    "15:27:29.908 -> Vcc (Volts) :3.88Rntc (Kohm) :345.22Temperatura (C) :0.87\n",
    "15:27:30.897 -> Vcc (Volts) : 4.01Rntc (Kohm): 406.93Temperatura (C) : -2.05\n",
    "15:27:31.929 -> Vcc (Volts) :3.71Rntc (Kohm) :286.42Temperatura (C) : 4.25\n",
    "15:27:32.911 -> Vcc (Volts) : 3.88Rntc (Kohm): 347.16Temperatura (C) :0.77\n",
    "15:27:33.908 -> Vcc (Volts) :3.83Rntc (Kohm) :328.45Temperatura (C): 1.76\n",
    "15:27:34.899 -> Vcc (Volts) :3.81Rntc (Kohm) :319.67Temperatura (C): 2.25\n",
    "15:27:35.926 -> Vcc (Volts) :3.91Rntc (Kohm) :359.19Temperatura (C) :0.16\n",
    "15:27:36.909 -> Vcc (Volts) : 3.87Rntc (Kohm): 341.38Temperatura (C) :1.07\n",
    "15:27:37.942 -> Vcc (Volts) :3.89Rntc (Kohm) : 349.12Temperatura (C) :0.67\n",
    "15:27:38.922 -> Vcc (Volts) : 3.90Rntc (Kohm): 353.10Temperatura (C) :0.46\n",
    "15:27:39.914 -> Vcc (Volts) :3.93Rntc (Kohm) :367.58Temperatura (C) : -0.25\n",
    "15:27:40.906 -> Vcc (Volts) : 3.89Rntc (Kohm): 349.12Temperatura (C) :0.67\n",
    "15:27:41.937 -> Vcc (Volts) :3.87Rntc (Kohm) :341.38Temperatura (C): 1.07\n",
    "15:27:42.925 -> Vcc (Volts) : 3.81Rntc (Kohm): 321.40Temperatura (C) :2.15\n",
    "15:27:43.915 -> Vcc (Volts) :3.84Rntc (Kohm) :332.07Temperatura (C): 1.56\n",
    "15:27:44.951 -> Vcc (Volts) : 3.79Rntc (Kohm): 312.90Temperatura (C) :2.64\n",
    "15:27:45.940 -> Vcc (Volts) :3.74Rntc (Kohm) :296.90Temperatura (C): 3.59\n",
    "15:27:46.927 -> Vcc (Volts) : 3.70Rntc (Kohm) :284.96Temperatura (C) :4.34\n",
    "\"\"\""
   ]
  },
  {
   "cell_type": "code",
   "execution_count": 5,
   "metadata": {},
   "outputs": [
    {
     "name": "stdout",
     "output_type": "stream",
     "text": [
      "73\n"
     ]
    }
   ],
   "source": [
    "print(\n",
    "    len(data.split(\"\\n\")[1:-1])\n",
    ")"
   ]
  },
  {
   "cell_type": "code",
   "execution_count": 53,
   "metadata": {},
   "outputs": [],
   "source": [
    "with open(\"data.txt\", \"w\") as f:\n",
    "    f.write(data)"
   ]
  },
  {
   "cell_type": "code",
   "execution_count": 6,
   "metadata": {},
   "outputs": [
    {
     "data": {
      "text/plain": [
       "'Vcc(Volts):2.65Rntc(Kohm):112.89Temperatura(C):22.45\\nVcc(Volts):2.64Rntc(Kohm):111.57Temperatura(C):22.70\\nVcc(Volts):2.65Rntc(Kohm):112.89Temperatura(C):22.45\\nVcc(Volts):2.65Rntc(Kohm):112.89Temperatura(C):22.45\\nVcc(Volts):2.65Rntc(Kohm):112.89Temperatura(C):22.45\\nVcc(Volts):2.65Rntc(Kohm):112.45Temperatura(C):22.53\\nVcc(Volts):2.65Rntc(Kohm):112.89Temperatura(C):22.45\\nVcc(Volts):2.65Rntc(Kohm):112.89Temperatura(C):22.45\\nVcc(Volts):2.65Rntc(Kohm):112.89Temperatura(C):22.45\\nVcc(Volts):2.66Rntc(Kohm):113.78Temperatura(C):22.29\\nVcc(Volts):2.69Rntc(Kohm):116.03Temperatura(C):21.88\\nVcc(Volts):2.70Rntc(Kohm):117.41Temperatura(C):21.64\\nVcc(Volts):2.73Rntc(Kohm):120.22Temperatura(C):21.15\\nVcc(Volts):2.73Rntc(Kohm):120.69Temperatura(C):21.07\\nVcc(Volts):2.75Rntc(Kohm):122.13Temperatura(C):20.82\\nVcc(Volts):2.77Rntc(Kohm):124.56Temperatura(C):20.42\\nVcc(Volts):2.80Rntc(Kohm):127.56Temperatura(C):19.93\\nVcc(Volts):3.12Rntc(Kohm):165.97Temperatura(C):14.64\\nVcc(Volts):3.33Rntc(Kohm):200.29Temperatura(C):10.97\\nVcc(Volts):3.37Rntc(Kohm):207.51Temperatura(C):10.29\\nVcc(Volts):3.41Rntc(Kohm):214.11Temperatura(C):9.69\\nVcc(Volts):3.54Rntc(Kohm):242.47Temperatura(C):7.34\\nVcc(Volts):3.60Rntc(Kohm):258.04Temperatura(C):6.18\\nVcc(Volts):3.66Rntc(Kohm):273.72Temperatura(C):5.08\\nVcc(Volts):3.85Rntc(Kohm):335.74Temperatura(C):1.37\\nVcc(Volts):3.85Rntc(Kohm):335.74Temperatura(C):1.37\\nVcc(Volts):3.77Rntc(Kohm):307.97Temperatura(C):2.93\\nVcc(Volts):3.74Rntc(Kohm):296.90Temperatura(C):3.59\\nVcc(Volts):3.72Rntc(Kohm):289.35Temperatura(C):4.06\\nVcc(Volts):3.71Rntc(Kohm):286.42Temperatura(C):4.25\\nVcc(Volts):3.64Rntc(Kohm):267.03Temperatura(C):5.54\\nVcc(Volts):3.69Rntc(Kohm):280.67Temperatura(C):4.62\\nVcc(Volts):3.72Rntc(Kohm):289.35Temperatura(C):4.06\\nVcc(Volts):3.74Rntc(Kohm):295.37Temperatura(C):3.69\\nVcc(Volts):3.76Rntc(Kohm):304.74Temperatura(C):3.12\\nVcc(Volts):3.76Rntc(Kohm):304.74Temperatura(C):3.12\\nVcc(Volts):3.78Rntc(Kohm):311.24Temperatura(C):2.73\\nVcc(Volts):3.76Rntc(Kohm):303.15Temperatura(C):3.21\\nVcc(Volts):3.77Rntc(Kohm):306.35Temperatura(C):3.02\\nVcc(Volts):3.76Rntc(Kohm):303.15Temperatura(C):3.21\\nVcc(Volts):3.68Rntc(Kohm):279.26Temperatura(C):4.72\\nVcc(Volts):3.75Rntc(Kohm):301.57Temperatura(C):3.31\\nVcc(Volts):3.76Rntc(Kohm):304.74Temperatura(C):3.12\\nVcc(Volts):3.76Rntc(Kohm):304.74Temperatura(C):3.12\\nVcc(Volts):3.78Rntc(Kohm):309.60Temperatura(C):2.83\\nVcc(Volts):3.78Rntc(Kohm):311.24Temperatura(C):2.73\\nVcc(Volts):3.78Rntc(Kohm):309.60Temperatura(C):2.83\\nVcc(Volts):3.80Rntc(Kohm):317.96Temperatura(C):2.35\\nVcc(Volts):3.81Rntc(Kohm):321.40Temperatura(C):2.15\\nVcc(Volts):3.84Rntc(Kohm):330.25Temperatura(C):1.66\\nVcc(Volts):3.81Rntc(Kohm):321.40Temperatura(C):2.15\\nVcc(Volts):3.82Rntc(Kohm):323.14Temperatura(C):2.05\\nVcc(Volts):3.73Rntc(Kohm):292.34Temperatura(C):3.88\\nVcc(Volts):3.83Rntc(Kohm):326.67Temperatura(C):1.86\\nVcc(Volts):3.86Rntc(Kohm):337.61Temperatura(C):1.27\\nVcc(Volts):3.88Rntc(Kohm):345.22Temperatura(C):0.87\\nVcc(Volts):4.01Rntc(Kohm):406.93Temperatura(C):-2.05\\nVcc(Volts):3.71Rntc(Kohm):286.42Temperatura(C):4.25\\nVcc(Volts):3.88Rntc(Kohm):347.16Temperatura(C):0.77\\nVcc(Volts):3.83Rntc(Kohm):328.45Temperatura(C):1.76\\nVcc(Volts):3.81Rntc(Kohm):319.67Temperatura(C):2.25\\nVcc(Volts):3.91Rntc(Kohm):359.19Temperatura(C):0.16\\nVcc(Volts):3.87Rntc(Kohm):341.38Temperatura(C):1.07\\nVcc(Volts):3.89Rntc(Kohm):349.12Temperatura(C):0.67\\nVcc(Volts):3.90Rntc(Kohm):353.10Temperatura(C):0.46\\nVcc(Volts):3.93Rntc(Kohm):367.58Temperatura(C):-0.25\\nVcc(Volts):3.89Rntc(Kohm):349.12Temperatura(C):0.67\\nVcc(Volts):3.87Rntc(Kohm):341.38Temperatura(C):1.07\\nVcc(Volts):3.81Rntc(Kohm):321.40Temperatura(C):2.15\\nVcc(Volts):3.84Rntc(Kohm):332.07Temperatura(C):1.56\\nVcc(Volts):3.79Rntc(Kohm):312.90Temperatura(C):2.64\\nVcc(Volts):3.74Rntc(Kohm):296.90Temperatura(C):3.59\\nVcc(Volts):3.70Rntc(Kohm):284.96Temperatura(C):4.34\\n'"
      ]
     },
     "execution_count": 6,
     "metadata": {},
     "output_type": "execute_result"
    }
   ],
   "source": [
    "new_data = \"\"\n",
    "\n",
    "for row in data.split('\\n')[1:-1]:\n",
    "    new_data += row.split('->')[1].replace(' ', '').strip() + '\\n'\n",
    "\n",
    "new_data"
   ]
  },
  {
   "cell_type": "code",
   "execution_count": 7,
   "metadata": {},
   "outputs": [
    {
     "data": {
      "text/plain": [
       "'Vcc(Volts):2.65Rntc(Kohm):112.89Temperatura(C):22.45\\nVcc(Volts):2.64Rntc(Kohm):111.57Temperatura(C):22.70\\nVcc(Volts):2.65Rntc(Kohm):112.89Temperatura(C):22.45\\nVcc(Volts):2.65Rntc(Kohm):112.89Temperatura(C):22.45\\nVcc(Volts):2.65Rntc(Kohm):112.89Temperatura(C):22.45\\nVcc(Volts):2.65Rntc(Kohm):112.45Temperatura(C):22.53\\nVcc(Volts):2.65Rntc(Kohm):112.89Temperatura(C):22.45\\nVcc(Volts):2.65Rntc(Kohm):112.89Temperatura(C):22.45\\nVcc(Volts):2.65Rntc(Kohm):112.89Temperatura(C):22.45\\nVcc(Volts):2.66Rntc(Kohm):113.78Temperatura(C):22.29\\nVcc(Volts):2.69Rntc(Kohm):116.03Temperatura(C):21.88\\nVcc(Volts):2.70Rntc(Kohm):117.41Temperatura(C):21.64\\nVcc(Volts):2.73Rntc(Kohm):120.22Temperatura(C):21.15\\nVcc(Volts):2.73Rntc(Kohm):120.69Temperatura(C):21.07\\nVcc(Volts):2.75Rntc(Kohm):122.13Temperatura(C):20.82\\nVcc(Volts):2.77Rntc(Kohm):124.56Temperatura(C):20.42\\nVcc(Volts):2.80Rntc(Kohm):127.56Temperatura(C):19.93\\nVcc(Volts):3.12Rntc(Kohm):165.97Temperatura(C):14.64\\nVcc(Volts):3.33Rntc(Kohm):200.29Temperatura(C):10.97\\nVcc(Volts):3.37Rntc(Kohm):207.51Temperatura(C):10.29\\nVcc(Volts):3.41Rntc(Kohm):214.11Temperatura(C):9.69\\nVcc(Volts):3.54Rntc(Kohm):242.47Temperatura(C):7.34\\nVcc(Volts):3.60Rntc(Kohm):258.04Temperatura(C):6.18\\nVcc(Volts):3.66Rntc(Kohm):273.72Temperatura(C):5.08\\nVcc(Volts):3.85Rntc(Kohm):335.74Temperatura(C):1.37\\nVcc(Volts):3.85Rntc(Kohm):335.74Temperatura(C):1.37\\nVcc(Volts):3.77Rntc(Kohm):307.97Temperatura(C):2.93\\nVcc(Volts):3.74Rntc(Kohm):296.90Temperatura(C):3.59\\nVcc(Volts):3.72Rntc(Kohm):289.35Temperatura(C):4.06\\nVcc(Volts):3.71Rntc(Kohm):286.42Temperatura(C):4.25\\nVcc(Volts):3.64Rntc(Kohm):267.03Temperatura(C):5.54\\nVcc(Volts):3.69Rntc(Kohm):280.67Temperatura(C):4.62\\nVcc(Volts):3.72Rntc(Kohm):289.35Temperatura(C):4.06\\nVcc(Volts):3.74Rntc(Kohm):295.37Temperatura(C):3.69\\nVcc(Volts):3.76Rntc(Kohm):304.74Temperatura(C):3.12\\nVcc(Volts):3.76Rntc(Kohm):304.74Temperatura(C):3.12\\nVcc(Volts):3.78Rntc(Kohm):311.24Temperatura(C):2.73\\nVcc(Volts):3.76Rntc(Kohm):303.15Temperatura(C):3.21\\nVcc(Volts):3.77Rntc(Kohm):306.35Temperatura(C):3.02\\nVcc(Volts):3.76Rntc(Kohm):303.15Temperatura(C):3.21\\nVcc(Volts):3.68Rntc(Kohm):279.26Temperatura(C):4.72\\nVcc(Volts):3.75Rntc(Kohm):301.57Temperatura(C):3.31\\nVcc(Volts):3.76Rntc(Kohm):304.74Temperatura(C):3.12\\nVcc(Volts):3.76Rntc(Kohm):304.74Temperatura(C):3.12\\nVcc(Volts):3.78Rntc(Kohm):309.60Temperatura(C):2.83\\nVcc(Volts):3.78Rntc(Kohm):311.24Temperatura(C):2.73\\nVcc(Volts):3.78Rntc(Kohm):309.60Temperatura(C):2.83\\nVcc(Volts):3.80Rntc(Kohm):317.96Temperatura(C):2.35\\nVcc(Volts):3.81Rntc(Kohm):321.40Temperatura(C):2.15\\nVcc(Volts):3.84Rntc(Kohm):330.25Temperatura(C):1.66\\nVcc(Volts):3.81Rntc(Kohm):321.40Temperatura(C):2.15\\nVcc(Volts):3.82Rntc(Kohm):323.14Temperatura(C):2.05\\nVcc(Volts):3.73Rntc(Kohm):292.34Temperatura(C):3.88\\nVcc(Volts):3.83Rntc(Kohm):326.67Temperatura(C):1.86\\nVcc(Volts):3.86Rntc(Kohm):337.61Temperatura(C):1.27\\nVcc(Volts):3.88Rntc(Kohm):345.22Temperatura(C):0.87\\nVcc(Volts):4.01Rntc(Kohm):406.93Temperatura(C):-2.05\\nVcc(Volts):3.71Rntc(Kohm):286.42Temperatura(C):4.25\\nVcc(Volts):3.88Rntc(Kohm):347.16Temperatura(C):0.77\\nVcc(Volts):3.83Rntc(Kohm):328.45Temperatura(C):1.76\\nVcc(Volts):3.81Rntc(Kohm):319.67Temperatura(C):2.25\\nVcc(Volts):3.91Rntc(Kohm):359.19Temperatura(C):0.16\\nVcc(Volts):3.87Rntc(Kohm):341.38Temperatura(C):1.07\\nVcc(Volts):3.89Rntc(Kohm):349.12Temperatura(C):0.67\\nVcc(Volts):3.90Rntc(Kohm):353.10Temperatura(C):0.46\\nVcc(Volts):3.93Rntc(Kohm):367.58Temperatura(C):-0.25\\nVcc(Volts):3.89Rntc(Kohm):349.12Temperatura(C):0.67\\nVcc(Volts):3.87Rntc(Kohm):341.38Temperatura(C):1.07\\nVcc(Volts):3.81Rntc(Kohm):321.40Temperatura(C):2.15\\nVcc(Volts):3.84Rntc(Kohm):332.07Temperatura(C):1.56\\nVcc(Volts):3.79Rntc(Kohm):312.90Temperatura(C):2.64\\nVcc(Volts):3.74Rntc(Kohm):296.90Temperatura(C):3.59\\nVcc(Volts):3.70Rntc(Kohm):284.96Temperatura(C):4.34\\n'"
      ]
     },
     "execution_count": 7,
     "metadata": {},
     "output_type": "execute_result"
    }
   ],
   "source": [
    "new_data"
   ]
  },
  {
   "cell_type": "code",
   "execution_count": 8,
   "metadata": {},
   "outputs": [
    {
     "name": "stdout",
     "output_type": "stream",
     "text": [
      "74\n"
     ]
    }
   ],
   "source": [
    "print(\n",
    "    len(new_data.split('\\n'))\n",
    ")"
   ]
  },
  {
   "cell_type": "code",
   "execution_count": 9,
   "metadata": {},
   "outputs": [
    {
     "name": "stdout",
     "output_type": "stream",
     "text": [
      "73\n"
     ]
    }
   ],
   "source": [
    "import re\n",
    "# Regular expression pattern to extract the values\n",
    "pattern = r'Vcc\\(Volts\\):([\\d.]+)Rntc\\(Kohm\\):([\\d.]+)Temperatura\\(C\\):([-]?[\\d.]+)'\n",
    "\n",
    "# Initialize an empty list to store the extracted data\n",
    "data_matrix = []\n",
    "\n",
    "# Use re.findall to extract the values and append them to the data_matrix\n",
    "matches = re.findall(pattern, new_data)\n",
    "for match in matches:\n",
    "    vcc, kohms, temperatura = match\n",
    "    \n",
    "    data_matrix.append([vcc, kohms, temperatura])\n",
    "\n",
    "# Print the resulting data matrix\n",
    "# for row in data_matrix:\n",
    "#     print(row)\n",
    "print(len(data_matrix))"
   ]
  },
  {
   "cell_type": "code",
   "execution_count": 10,
   "metadata": {},
   "outputs": [],
   "source": [
    "data_matrix = list(\n",
    "    map(\n",
    "        lambda row: list(map(float, row)),\n",
    "        data_matrix\n",
    "    )\n",
    ")"
   ]
  },
  {
   "cell_type": "code",
   "execution_count": 27,
   "metadata": {},
   "outputs": [],
   "source": [
    "import pandas as pd\n",
    "from matplotlib import pyplot as plt\n",
    "import numpy as np"
   ]
  },
  {
   "cell_type": "code",
   "execution_count": 19,
   "metadata": {},
   "outputs": [
    {
     "data": {
      "text/html": [
       "<div>\n",
       "<style scoped>\n",
       "    .dataframe tbody tr th:only-of-type {\n",
       "        vertical-align: middle;\n",
       "    }\n",
       "\n",
       "    .dataframe tbody tr th {\n",
       "        vertical-align: top;\n",
       "    }\n",
       "\n",
       "    .dataframe thead th {\n",
       "        text-align: right;\n",
       "    }\n",
       "</style>\n",
       "<table border=\"1\" class=\"dataframe\">\n",
       "  <thead>\n",
       "    <tr style=\"text-align: right;\">\n",
       "      <th></th>\n",
       "      <th>Vcc</th>\n",
       "      <th>Rntc</th>\n",
       "      <th>Temperatura</th>\n",
       "    </tr>\n",
       "  </thead>\n",
       "  <tbody>\n",
       "    <tr>\n",
       "      <th>0</th>\n",
       "      <td>2.65</td>\n",
       "      <td>112.89</td>\n",
       "      <td>22.45</td>\n",
       "    </tr>\n",
       "    <tr>\n",
       "      <th>1</th>\n",
       "      <td>2.64</td>\n",
       "      <td>111.57</td>\n",
       "      <td>22.70</td>\n",
       "    </tr>\n",
       "    <tr>\n",
       "      <th>2</th>\n",
       "      <td>2.65</td>\n",
       "      <td>112.89</td>\n",
       "      <td>22.45</td>\n",
       "    </tr>\n",
       "    <tr>\n",
       "      <th>3</th>\n",
       "      <td>2.65</td>\n",
       "      <td>112.89</td>\n",
       "      <td>22.45</td>\n",
       "    </tr>\n",
       "    <tr>\n",
       "      <th>4</th>\n",
       "      <td>2.65</td>\n",
       "      <td>112.89</td>\n",
       "      <td>22.45</td>\n",
       "    </tr>\n",
       "  </tbody>\n",
       "</table>\n",
       "</div>"
      ],
      "text/plain": [
       "    Vcc    Rntc  Temperatura\n",
       "0  2.65  112.89        22.45\n",
       "1  2.64  111.57        22.70\n",
       "2  2.65  112.89        22.45\n",
       "3  2.65  112.89        22.45\n",
       "4  2.65  112.89        22.45"
      ]
     },
     "execution_count": 19,
     "metadata": {},
     "output_type": "execute_result"
    }
   ],
   "source": [
    "df = pd.DataFrame(data_matrix, columns=['Vcc', 'Rntc', 'Temperatura'])\n",
    "df.head()"
   ]
  },
  {
   "cell_type": "code",
   "execution_count": 29,
   "metadata": {},
   "outputs": [],
   "source": [
    "from scipy.optimize import curve_fit"
   ]
  },
  {
   "cell_type": "code",
   "execution_count": 32,
   "metadata": {},
   "outputs": [],
   "source": [
    "# Define the power law function\n",
    "def power_law(x, A, B):\n",
    "    return A * (2.71 ** (B*x))"
   ]
  },
  {
   "cell_type": "code",
   "execution_count": 35,
   "metadata": {},
   "outputs": [],
   "source": [
    "params, covariance = curve_fit(\n",
    "    power_law,\n",
    "    df['Temperatura'],\n",
    "    df['Rntc'],\n",
    ")"
   ]
  },
  {
   "cell_type": "code",
   "execution_count": 37,
   "metadata": {},
   "outputs": [],
   "source": [
    "df['Rntc_fit'] = power_law(df['Temperatura'], params[0], params[1])"
   ]
  },
  {
   "cell_type": "code",
   "execution_count": 41,
   "metadata": {},
   "outputs": [],
   "source": [
    "k, n = params"
   ]
  },
  {
   "cell_type": "code",
   "execution_count": 42,
   "metadata": {},
   "outputs": [
    {
     "data": {
      "text/plain": [
       "(359.77830454558085, -0.052487633746693546)"
      ]
     },
     "execution_count": 42,
     "metadata": {},
     "output_type": "execute_result"
    }
   ],
   "source": [
    "k,n"
   ]
  },
  {
   "cell_type": "code",
   "execution_count": 69,
   "metadata": {},
   "outputs": [
    {
     "data": {
      "image/png": "[encoded data removed]",
      "text/plain": [
       "<Figure size 640x480 with 1 Axes>"
      ]
     },
     "metadata": {},
     "output_type": "display_data"
    }
   ],
   "source": [
    "plt.plot(\n",
    "    df['Temperatura'],\n",
    "    df['Rntc'],\n",
    "    \"o-\",   \n",
    "    label=\"Experimental\"\n",
    ")\n",
    "plt.plot(\n",
    "    df['Temperatura'],\n",
    "    df['Rntc_fit'],\n",
    "    \"-\",   \n",
    "   label= \"Calibrada\"\n",
    ")\n",
    "\n",
    "plt.annotate(\n",
    "    f\"$y = {k:.2f} \"+\"e^{(\"+f\"{n:.3f}\"+\"x)}$\",\n",
    "    xy=(0.3, 0.7),\n",
    "    xycoords='axes fraction',\n",
    ")\n",
    "plt.xlim(\n",
    "    df['Temperatura'].min(),\n",
    "    df['Temperatura'].max()\n",
    ")\n",
    "\n",
    "plt.title('Resistencia vs temperatura')\n",
    "plt.xlabel(\"Temperatura ºC\")\n",
    "plt.ylabel(\"Resistencia KOhm\")\n",
    "plt.legend()\n",
    "plt.show()"
   ]
  },
  {
   "cell_type": "code",
   "execution_count": 12,
   "metadata": {},
   "outputs": [
    {
     "data": {
      "text/plain": [
       "[[2.65, 112.89, 22.45],\n",
       " [2.64, 111.57, 22.7],\n",
       " [2.65, 112.89, 22.45],\n",
       " [2.65, 112.89, 22.45],\n",
       " [2.65, 112.89, 22.45],\n",
       " [2.65, 112.45, 22.53],\n",
       " [2.65, 112.89, 22.45],\n",
       " [2.65, 112.89, 22.45],\n",
       " [2.65, 112.89, 22.45],\n",
       " [2.66, 113.78, 22.29],\n",
       " [2.69, 116.03, 21.88],\n",
       " [2.7, 117.41, 21.64],\n",
       " [2.73, 120.22, 21.15],\n",
       " [2.73, 120.69, 21.07],\n",
       " [2.75, 122.13, 20.82],\n",
       " [2.77, 124.56, 20.42],\n",
       " [2.8, 127.56, 19.93],\n",
       " [3.12, 165.97, 14.64],\n",
       " [3.33, 200.29, 10.97],\n",
       " [3.37, 207.51, 10.29],\n",
       " [3.41, 214.11, 9.69],\n",
       " [3.54, 242.47, 7.34],\n",
       " [3.6, 258.04, 6.18],\n",
       " [3.66, 273.72, 5.08],\n",
       " [3.85, 335.74, 1.37],\n",
       " [3.85, 335.74, 1.37],\n",
       " [3.77, 307.97, 2.93],\n",
       " [3.74, 296.9, 3.59],\n",
       " [3.72, 289.35, 4.06],\n",
       " [3.71, 286.42, 4.25],\n",
       " [3.64, 267.03, 5.54],\n",
       " [3.69, 280.67, 4.62],\n",
       " [3.72, 289.35, 4.06],\n",
       " [3.74, 295.37, 3.69],\n",
       " [3.76, 304.74, 3.12],\n",
       " [3.76, 304.74, 3.12],\n",
       " [3.78, 311.24, 2.73],\n",
       " [3.76, 303.15, 3.21],\n",
       " [3.77, 306.35, 3.02],\n",
       " [3.76, 303.15, 3.21],\n",
       " [3.68, 279.26, 4.72],\n",
       " [3.75, 301.57, 3.31],\n",
       " [3.76, 304.74, 3.12],\n",
       " [3.76, 304.74, 3.12],\n",
       " [3.78, 309.6, 2.83],\n",
       " [3.78, 311.24, 2.73],\n",
       " [3.78, 309.6, 2.83],\n",
       " [3.8, 317.96, 2.35],\n",
       " [3.81, 321.4, 2.15],\n",
       " [3.84, 330.25, 1.66],\n",
       " [3.81, 321.4, 2.15],\n",
       " [3.82, 323.14, 2.05],\n",
       " [3.73, 292.34, 3.88],\n",
       " [3.83, 326.67, 1.86],\n",
       " [3.86, 337.61, 1.27],\n",
       " [3.88, 345.22, 0.87],\n",
       " [4.01, 406.93, -2.05],\n",
       " [3.71, 286.42, 4.25],\n",
       " [3.88, 347.16, 0.77],\n",
       " [3.83, 328.45, 1.76],\n",
       " [3.81, 319.67, 2.25],\n",
       " [3.91, 359.19, 0.16],\n",
       " [3.87, 341.38, 1.07],\n",
       " [3.89, 349.12, 0.67],\n",
       " [3.9, 353.1, 0.46],\n",
       " [3.93, 367.58, -0.25],\n",
       " [3.89, 349.12, 0.67],\n",
       " [3.87, 341.38, 1.07],\n",
       " [3.81, 321.4, 2.15],\n",
       " [3.84, 332.07, 1.56],\n",
       " [3.79, 312.9, 2.64],\n",
       " [3.74, 296.9, 3.59],\n",
       " [3.7, 284.96, 4.34]]"
      ]
     },
     "execution_count": 12,
     "metadata": {},
     "output_type": "execute_result"
    }
   ],
   "source": [
    "data_matrix"
   ]
  },
  {
   "cell_type": "code",
   "execution_count": 11,
   "metadata": {},
   "outputs": [],
   "source": [
    "new_data_list = list(map(\n",
    "    lambda x : \"Vcc_Volts:{}Rnt_Kohm:{}TemperaturaC:{}\".format(*x),\n",
    "    data_matrix\n",
    "))"
   ]
  },
  {
   "cell_type": "code",
   "execution_count": 68,
   "metadata": {},
   "outputs": [
    {
     "data": {
      "text/plain": [
       "['Vcc_Volts:2.65Rnt_Kohm:112.89TemperaturaC:22.45',\n",
       " 'Vcc_Volts:2.64Rnt_Kohm:111.57TemperaturaC:22.7',\n",
       " 'Vcc_Volts:2.65Rnt_Kohm:112.89TemperaturaC:22.45',\n",
       " 'Vcc_Volts:2.65Rnt_Kohm:112.89TemperaturaC:22.45',\n",
       " 'Vcc_Volts:2.65Rnt_Kohm:112.89TemperaturaC:22.45',\n",
       " 'Vcc_Volts:2.65Rnt_Kohm:112.45TemperaturaC:22.53',\n",
       " 'Vcc_Volts:2.65Rnt_Kohm:112.89TemperaturaC:22.45',\n",
       " 'Vcc_Volts:2.65Rnt_Kohm:112.89TemperaturaC:22.45',\n",
       " 'Vcc_Volts:2.65Rnt_Kohm:112.89TemperaturaC:22.45',\n",
       " 'Vcc_Volts:2.66Rnt_Kohm:113.78TemperaturaC:22.29',\n",
       " 'Vcc_Volts:2.69Rnt_Kohm:116.03TemperaturaC:21.88',\n",
       " 'Vcc_Volts:2.7Rnt_Kohm:117.41TemperaturaC:21.64',\n",
       " 'Vcc_Volts:2.73Rnt_Kohm:120.22TemperaturaC:21.15',\n",
       " 'Vcc_Volts:2.73Rnt_Kohm:120.69TemperaturaC:21.07',\n",
       " 'Vcc_Volts:2.75Rnt_Kohm:122.13TemperaturaC:20.82',\n",
       " 'Vcc_Volts:2.77Rnt_Kohm:124.56TemperaturaC:20.42',\n",
       " 'Vcc_Volts:2.8Rnt_Kohm:127.56TemperaturaC:19.93',\n",
       " 'Vcc_Volts:3.12Rnt_Kohm:165.97TemperaturaC:14.64',\n",
       " 'Vcc_Volts:3.33Rnt_Kohm:200.29TemperaturaC:10.97',\n",
       " 'Vcc_Volts:3.37Rnt_Kohm:207.51TemperaturaC:10.29',\n",
       " 'Vcc_Volts:3.41Rnt_Kohm:214.11TemperaturaC:9.69',\n",
       " 'Vcc_Volts:3.54Rnt_Kohm:242.47TemperaturaC:7.34',\n",
       " 'Vcc_Volts:3.6Rnt_Kohm:258.04TemperaturaC:6.18',\n",
       " 'Vcc_Volts:3.66Rnt_Kohm:273.72TemperaturaC:5.08',\n",
       " 'Vcc_Volts:3.85Rnt_Kohm:335.74TemperaturaC:1.37',\n",
       " 'Vcc_Volts:3.85Rnt_Kohm:335.74TemperaturaC:1.37',\n",
       " 'Vcc_Volts:3.77Rnt_Kohm:307.97TemperaturaC:2.93',\n",
       " 'Vcc_Volts:3.74Rnt_Kohm:296.9TemperaturaC:3.59',\n",
       " 'Vcc_Volts:3.72Rnt_Kohm:289.35TemperaturaC:4.06',\n",
       " 'Vcc_Volts:3.71Rnt_Kohm:286.42TemperaturaC:4.25',\n",
       " 'Vcc_Volts:3.64Rnt_Kohm:267.03TemperaturaC:5.54',\n",
       " 'Vcc_Volts:3.69Rnt_Kohm:280.67TemperaturaC:4.62',\n",
       " 'Vcc_Volts:3.72Rnt_Kohm:289.35TemperaturaC:4.06',\n",
       " 'Vcc_Volts:3.74Rnt_Kohm:295.37TemperaturaC:3.69',\n",
       " 'Vcc_Volts:3.76Rnt_Kohm:304.74TemperaturaC:3.12',\n",
       " 'Vcc_Volts:3.76Rnt_Kohm:304.74TemperaturaC:3.12',\n",
       " 'Vcc_Volts:3.78Rnt_Kohm:311.24TemperaturaC:2.73',\n",
       " 'Vcc_Volts:3.76Rnt_Kohm:303.15TemperaturaC:3.21',\n",
       " 'Vcc_Volts:3.77Rnt_Kohm:306.35TemperaturaC:3.02',\n",
       " 'Vcc_Volts:3.76Rnt_Kohm:303.15TemperaturaC:3.21',\n",
       " 'Vcc_Volts:3.68Rnt_Kohm:279.26TemperaturaC:4.72',\n",
       " 'Vcc_Volts:3.75Rnt_Kohm:301.57TemperaturaC:3.31',\n",
       " 'Vcc_Volts:3.76Rnt_Kohm:304.74TemperaturaC:3.12',\n",
       " 'Vcc_Volts:3.76Rnt_Kohm:304.74TemperaturaC:3.12',\n",
       " 'Vcc_Volts:3.78Rnt_Kohm:309.6TemperaturaC:2.83',\n",
       " 'Vcc_Volts:3.78Rnt_Kohm:311.24TemperaturaC:2.73',\n",
       " 'Vcc_Volts:3.78Rnt_Kohm:309.6TemperaturaC:2.83',\n",
       " 'Vcc_Volts:3.8Rnt_Kohm:317.96TemperaturaC:2.35',\n",
       " 'Vcc_Volts:3.81Rnt_Kohm:321.4TemperaturaC:2.15',\n",
       " 'Vcc_Volts:3.84Rnt_Kohm:330.25TemperaturaC:1.66',\n",
       " 'Vcc_Volts:3.81Rnt_Kohm:321.4TemperaturaC:2.15',\n",
       " 'Vcc_Volts:3.82Rnt_Kohm:323.14TemperaturaC:2.05',\n",
       " 'Vcc_Volts:3.73Rnt_Kohm:292.34TemperaturaC:3.88',\n",
       " 'Vcc_Volts:3.83Rnt_Kohm:326.67TemperaturaC:1.86',\n",
       " 'Vcc_Volts:3.86Rnt_Kohm:337.61TemperaturaC:1.27',\n",
       " 'Vcc_Volts:3.88Rnt_Kohm:345.22TemperaturaC:0.87',\n",
       " 'Vcc_Volts:4.01Rnt_Kohm:406.93TemperaturaC:-2.05',\n",
       " 'Vcc_Volts:3.71Rnt_Kohm:286.42TemperaturaC:4.25',\n",
       " 'Vcc_Volts:3.88Rnt_Kohm:347.16TemperaturaC:0.77',\n",
       " 'Vcc_Volts:3.83Rnt_Kohm:328.45TemperaturaC:1.76',\n",
       " 'Vcc_Volts:3.81Rnt_Kohm:319.67TemperaturaC:2.25',\n",
       " 'Vcc_Volts:3.91Rnt_Kohm:359.19TemperaturaC:0.16',\n",
       " 'Vcc_Volts:3.87Rnt_Kohm:341.38TemperaturaC:1.07',\n",
       " 'Vcc_Volts:3.89Rnt_Kohm:349.12TemperaturaC:0.67',\n",
       " 'Vcc_Volts:3.9Rnt_Kohm:353.1TemperaturaC:0.46',\n",
       " 'Vcc_Volts:3.93Rnt_Kohm:367.58TemperaturaC:-0.25',\n",
       " 'Vcc_Volts:3.89Rnt_Kohm:349.12TemperaturaC:0.67',\n",
       " 'Vcc_Volts:3.87Rnt_Kohm:341.38TemperaturaC:1.07',\n",
       " 'Vcc_Volts:3.81Rnt_Kohm:321.4TemperaturaC:2.15',\n",
       " 'Vcc_Volts:3.84Rnt_Kohm:332.07TemperaturaC:1.56',\n",
       " 'Vcc_Volts:3.79Rnt_Kohm:312.9TemperaturaC:2.64',\n",
       " 'Vcc_Volts:3.74Rnt_Kohm:296.9TemperaturaC:3.59',\n",
       " 'Vcc_Volts:3.7Rnt_Kohm:284.96TemperaturaC:4.34']"
      ]
     },
     "execution_count": 68,
     "metadata": {},
     "output_type": "execute_result"
    }
   ],
   "source": [
    "new_data_list"
   ]
  },
  {
   "cell_type": "code",
   "execution_count": 3,
   "metadata": {},
   "outputs": [
    {
     "ename": "NameError",
     "evalue": "name 'new_data_list' is not defined",
     "output_type": "error",
     "traceback": [
      "\u001b[0;31m---------------------------------------------------------------------------\u001b[0m",
      "\u001b[0;31mNameError\u001b[0m                                 Traceback (most recent call last)",
      "\u001b[1;32m/Users/danielsarmiento/Desktop/university/thermical_system/labs.ipynb Cell 11\u001b[0m line \u001b[0;36m1\n\u001b[0;32m----> <a href='vscode-notebook-cell:/Users/danielsarmiento/Desktop/university/thermical_system/labs.ipynb#X13sZmlsZQ%3D%3D?line=0'>1</a>\u001b[0m new_data_txt \u001b[39m=\u001b[39m \u001b[39m\"\u001b[39m\u001b[39m\\n\u001b[39;00m\u001b[39m\"\u001b[39m\u001b[39m.\u001b[39mjoin(new_data_list)\n",
      "\u001b[0;31mNameError\u001b[0m: name 'new_data_list' is not defined"
     ]
    }
   ],
   "source": [
    "new_data_txt = \"\\n\".join(new_data_list)"
   ]
  },
  {
   "cell_type": "code",
   "execution_count": 70,
   "metadata": {},
   "outputs": [],
   "source": [
    "with open('new_data.txt', 'w') as f:\n",
    "    f.write(new_data_txt)"
   ]
  },
  {
   "cell_type": "code",
   "execution_count": 71,
   "metadata": {},
   "outputs": [],
   "source": [
    "import pandas as pd"
   ]
  },
  {
   "cell_type": "code",
   "execution_count": 72,
   "metadata": {},
   "outputs": [],
   "source": [
    "df = pd.DataFrame(\n",
    "    data_matrix,\n",
    "    columns=['Vcc', \"Khom\", \"Temperatura (C)\"]\n",
    ")"
   ]
  },
  {
   "cell_type": "code",
   "execution_count": 73,
   "metadata": {},
   "outputs": [
    {
     "data": {
      "text/html": [
       "<div>\n",
       "<style scoped>\n",
       "    .dataframe tbody tr th:only-of-type {\n",
       "        vertical-align: middle;\n",
       "    }\n",
       "\n",
       "    .dataframe tbody tr th {\n",
       "        vertical-align: top;\n",
       "    }\n",
       "\n",
       "    .dataframe thead th {\n",
       "        text-align: right;\n",
       "    }\n",
       "</style>\n",
       "<table border=\"1\" class=\"dataframe\">\n",
       "  <thead>\n",
       "    <tr style=\"text-align: right;\">\n",
       "      <th></th>\n",
       "      <th>Vcc</th>\n",
       "      <th>Khom</th>\n",
       "      <th>Temperatura (C)</th>\n",
       "    </tr>\n",
       "  </thead>\n",
       "  <tbody>\n",
       "    <tr>\n",
       "      <th>0</th>\n",
       "      <td>2.65</td>\n",
       "      <td>112.89</td>\n",
       "      <td>22.45</td>\n",
       "    </tr>\n",
       "    <tr>\n",
       "      <th>1</th>\n",
       "      <td>2.64</td>\n",
       "      <td>111.57</td>\n",
       "      <td>22.70</td>\n",
       "    </tr>\n",
       "    <tr>\n",
       "      <th>2</th>\n",
       "      <td>2.65</td>\n",
       "      <td>112.89</td>\n",
       "      <td>22.45</td>\n",
       "    </tr>\n",
       "    <tr>\n",
       "      <th>3</th>\n",
       "      <td>2.65</td>\n",
       "      <td>112.89</td>\n",
       "      <td>22.45</td>\n",
       "    </tr>\n",
       "    <tr>\n",
       "      <th>4</th>\n",
       "      <td>2.65</td>\n",
       "      <td>112.89</td>\n",
       "      <td>22.45</td>\n",
       "    </tr>\n",
       "  </tbody>\n",
       "</table>\n",
       "</div>"
      ],
      "text/plain": [
       "    Vcc    Khom  Temperatura (C)\n",
       "0  2.65  112.89            22.45\n",
       "1  2.64  111.57            22.70\n",
       "2  2.65  112.89            22.45\n",
       "3  2.65  112.89            22.45\n",
       "4  2.65  112.89            22.45"
      ]
     },
     "execution_count": 73,
     "metadata": {},
     "output_type": "execute_result"
    }
   ],
   "source": [
    "df.head(\n",
    ")"
   ]
  },
  {
   "cell_type": "code",
   "execution_count": null,
   "metadata": {},
   "outputs": [],
   "source": [
    "df.to_excel('data.xlsx', index=False)"
   ]
  },
  {
   "cell_type": "markdown",
   "metadata": {},
   "source": [
    "83 temperatura del agua hiriendo"
   ]
  },
  {
   "cell_type": "code",
   "execution_count": 1,
   "metadata": {},
   "outputs": [],
   "source": [
    "import pandas as pd"
   ]
  },
  {
   "cell_type": "code",
   "execution_count": null,
   "metadata": {},
   "outputs": [],
   "source": []
  }
 ],
 "metadata": {
  "kernelspec": {
   "display_name": "uni",
   "language": "python",
   "name": "python3"
  },
  "language_info": {
   "codemirror_mode": {
    "name": "ipython",
    "version": 3
   },
   "file_extension": ".py",
   "mimetype": "text/x-python",
   "name": "python",
   "nbconvert_exporter": "python",
   "pygments_lexer": "ipython3",
   "version": "3.10.13"
  },
  "orig_nbformat": 4
 },
 "nbformat": 4,
 "nbformat_minor": 2
}
