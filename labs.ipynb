{
 "cells": [
  {
   "cell_type": "code",
   "execution_count": 1,
   "metadata": {},
   "outputs": [],
   "source": [
    "data = \"\"\"\n",
    "15:26:33.241 -> Vcc (Volts) :2.65Rntc (Kohm): 112.89Temperatura (C) :22.45\n",
    "15:26:35.795 -> Vcc (Volts) :2.64Rntc (Kohm) :111.57Temperatura (C) : 22.70\n",
    "15:26:36.824 -> Vcc (Volts) :2.65Rntc (Kohm): 112.89Temperatura (C) :22.45\n",
    "15:26:37.820 -> Vcc (Volts) :2.65Rntc (Kohm) :112.89Temperatura (C) :22.45\n",
    "15:26:38.803 -> Vcc (Volts) :2.65Rntc (Kohm): 112.89Temperatura (C) :22.45\n",
    "15:26:39.834 -> Vcc (Volts) :2.65Rntc (Kohm) :112.45Temperatura (C) :22.53\n",
    "15:26:40.823 -> Vcc (Volts) :2.65Rntc (Kohm): 112.89Temperatura (C) :22.45\n",
    "15:26:41.808 -> Vcc (Volts) :2.65Rntc (Kohm) :112.89Temperatura (C) :22.45\n",
    "15:26:42.796 -> Vcc (Volts) :2.65Rntc (Kohm): 112.89Temperatura (C) :22.45\n",
    "15:26:43.832 -> Vcc (Volts) :2.66Rntc (Kohm) :113.78Temperatura (C) :22.29\n",
    "15:26:44.817 -> Vcc (Volts) :2.69Rntc (Kohm): 116.03Temperatura (C) :21.88\n",
    "15:26:45.802 -> Vcc (Volts) :2.70Rntc (Kohm) :117.41Temperatura (C) :21.64\n",
    "15:26:46.829 -> Vcc (Volts) :2.73Rntc (Kohm) :120.22Temperatura (C) :21.15\n",
    "15:26:47.811 -> Vcc (Volts) :2.73Rntc (Kohm) :120.69Temperatura (C) :21.07\n",
    "15:26:48.843 -> Vcc (Volts) : 2.75Rntc (Kohm): 122.13Temperatura (C) :20.82\n",
    "15:26:49.825 -> Vcc (Volts) :2.77Rntc (Kohm) :124.56Temperatura (C) :20.42\n",
    "15:26:50.814 -> Vcc (Volts) :2.80Rntc (Kohm): 127.56Temperatura (C) :19.93\n",
    "15:26:51.847 -> Vcc (Volts) :3.12Rntc (Kohm) :165.97Temperatura (C) : 14.64\n",
    "15:26:52.825 -> Vcc (Volts) :3.33Rntc (Kohm): 200.29Temperatura (C) :10.97\n",
    "15:26:53.853 -> Vcc (Volts) :3.37Rntc (Kohm) :207.51Temperatura (C) :10.29\n",
    "15:26:54.834 -> Vcc (Volts) :3.41Rntc (Kohm): 214.11Temperatura (C) :9.69\n",
    "15:26:55.865 -> Vcc (Volts) :3.54Rntc (Kohm) :242.47Temperatura (C) : 7.34\n",
    "15:26:56.848 -> Vcc (Volts) : 3.60Rntc (Kohm): 258.04Temperatura (C) :6.18\n",
    "15:26:57.834 -> Vcc (Volts) :3.66Rntc (Kohm) :273.72Temperatura (C) :5.08\n",
    "15:26:58.831 -> Vcc (Volts) :3.85Rntc (Kohm) :335.74Temperatura (C): 1.37\n",
    "15:26:59.057 -> Vcc (Volts) :3.85Rntc (Kohm) :335.74Temperatura (C): 1.37\n",
    "15:27:00.846 -> Vcc (Volts) : 3.77Rntc (Kohm): 307.97Temperatura (C) :2.93\n",
    "15:27:01.879 -> Vcc (Volts) :3.74Rntc (Kohm) :296.90Temperatura (C): 3.59\n",
    "15:27:02.863 -> Vcc (Volts) : 3.72Rntc (Kohm): 289.35Temperatura (C) :4.06\n",
    "15:27:03.847 -> Vcc (Volts) :3.71Rntc (Kohm) :286.42Temperatura (C) :4.25\n",
    "15:27:04.879 -> Vcc (Volts) : 3.64Rntc (Kohm): 267.03Temperatura (C) :5.54\n",
    "15:27:05.058 -> Vcc (Volts) :3.69Rntc (Kohm) :280.67Temperatura (C): 4.62\n",
    "15:27:06.886 -> Vcc (Volts) : 3.72Rntc (Kohm): 289.35Temperatura (C) :4.06\n",
    "15:27:07.874 -> Vcc (Volts) :3.74Rntc (Kohm) :295.37Temperatura (C): 3.69\n",
    "15:27:08.861 -> Vcc (Volts) : 3.76Rntc (Kohm): 304.74Temperatura (C) :3.12\n",
    "15:27:09.848 -> Vcc (Volts) :3.76Rntc (Kohm) : 304.74Temperatura (C): 3.12\n",
    "15:27:10.886 -> Vcc (Volts) : 3.78Rntc (Kohm): 311.24Temperatura (C) :2.73\n",
    "15:27:11.080 -> Vcc (Volts) :3.76Rntc (Kohm) : 303.15Temperatura (C): 3.21\n",
    "15:27:12.865 -> Vcc (Volts) : 3.77Rntc (Kohm): 306.35Temperatura (C) :3.02\n",
    "15:27:13.896 -> Vcc (Volts) :3.76Rntc (Kohm) :303.15Temperatura (C): 3.21\n",
    "15:27:14.881 -> Vcc (Volts) : 3.68Rntc (Kohm): 279.26Temperatura (C) :4.72\n",
    "15:27:15.871 -> Vcc (Volts) :3.75Rntc (Kohm) :301.57Temperatura (C) :3.31\n",
    "15:27:16.904 -> Vcc (Volts) : 3.76Rntc (Kohm): 304.74Temperatura (C) :3.12\n",
    "15:27:17.893 -> Vcc (Volts) :3.76Rntc (Kohm) : 304.74Temperatura (C): 3.12\n",
    "15:27:18.885 -> Vcc (Volts) : 3.78Rntc (Kohm): 309.60Temperatura (C) :2.83\n",
    "15:27:19.871 -> Vcc (Volts) :3.78Rntc (Kohm) : 311.24Temperatura (C) : 2.73\n",
    "15:27:20.904 -> Vcc (Volts) : 3.78Rntc (Kohm): 309.60Temperatura (C) :2.83\n",
    "15:27:21.894 -> Vcc (Volts) :3.80Rntc (Kohm) :317.96Temperatura (C) : 2.35\n",
    "15:27:22.885 -> Vcc (Volts) : 3.81Rntc (Kohm): 321.40Temperatura (C) :2.15\n",
    "15:27:23.877 -> Vcc (Volts) :3.84Rntc (Kohm) :330.25Temperatura (C): 1.66\n",
    "15:27:24.910 -> Vcc (Volts) :3.81Rntc (Kohm): 321.40Temperatura (C) :2.15\n",
    "15:27:25.098 -> Vcc (Volts) :3.82Rntc (Kohm) :323.14Temperatura (C) : 2.05\n",
    "15:27:26.894 -> Vcc (Volts) : 3.73Rntc (Kohm) :292.34Temperatura (C) :3.88\n",
    "15:27:27.925 -> Vcc (Volts) :3.83Rntc (Kohm) : 326.67Temperatura (C): 1.86\n",
    "15:27:28.917 -> Vcc (Volts) : 3.86Rntc (Kohm): 337.61Temperatura (C) :1.27\n",
    "15:27:29.908 -> Vcc (Volts) :3.88Rntc (Kohm) :345.22Temperatura (C) :0.87\n",
    "15:27:30.897 -> Vcc (Volts) : 4.01Rntc (Kohm): 406.93Temperatura (C) : -2.05\n",
    "15:27:31.929 -> Vcc (Volts) :3.71Rntc (Kohm) :286.42Temperatura (C) : 4.25\n",
    "15:27:32.911 -> Vcc (Volts) : 3.88Rntc (Kohm): 347.16Temperatura (C) :0.77\n",
    "15:27:33.908 -> Vcc (Volts) :3.83Rntc (Kohm) :328.45Temperatura (C): 1.76\n",
    "15:27:34.899 -> Vcc (Volts) :3.81Rntc (Kohm) :319.67Temperatura (C): 2.25\n",
    "15:27:35.926 -> Vcc (Volts) :3.91Rntc (Kohm) :359.19Temperatura (C) :0.16\n",
    "15:27:36.909 -> Vcc (Volts) : 3.87Rntc (Kohm): 341.38Temperatura (C) :1.07\n",
    "15:27:37.942 -> Vcc (Volts) :3.89Rntc (Kohm) : 349.12Temperatura (C) :0.67\n",
    "15:27:38.922 -> Vcc (Volts) : 3.90Rntc (Kohm): 353.10Temperatura (C) :0.46\n",
    "15:27:39.914 -> Vcc (Volts) :3.93Rntc (Kohm) :367.58Temperatura (C) : -0.25\n",
    "15:27:40.906 -> Vcc (Volts) : 3.89Rntc (Kohm): 349.12Temperatura (C) :0.67\n",
    "15:27:41.937 -> Vcc (Volts) :3.87Rntc (Kohm) :341.38Temperatura (C): 1.07\n",
    "15:27:42.925 -> Vcc (Volts) : 3.81Rntc (Kohm): 321.40Temperatura (C) :2.15\n",
    "15:27:43.915 -> Vcc (Volts) :3.84Rntc (Kohm) :332.07Temperatura (C): 1.56\n",
    "15:27:44.951 -> Vcc (Volts) : 3.79Rntc (Kohm): 312.90Temperatura (C) :2.64\n",
    "15:27:45.940 -> Vcc (Volts) :3.74Rntc (Kohm) :296.90Temperatura (C): 3.59\n",
    "15:27:46.927 -> Vcc (Volts) : 3.70Rntc (Kohm) :284.96Temperatura (C) :4.34\n",
    "\"\"\""
   ]
  },
  {
   "cell_type": "code",
   "execution_count": 2,
   "metadata": {},
   "outputs": [
    {
     "name": "stdout",
     "output_type": "stream",
     "text": [
      "73\n"
     ]
    }
   ],
   "source": [
    "print(\n",
    "    len(data.split(\"\\n\")[1:-1])\n",
    ")"
   ]
  },
  {
   "cell_type": "code",
   "execution_count": 10,
   "metadata": {},
   "outputs": [],
   "source": [
    "with open(\"data.txt\", \"w\") as f:\n",
    "    f.write(data)"
   ]
  },
  {
   "cell_type": "code",
   "execution_count": 3,
   "metadata": {},
   "outputs": [
    {
     "data": {
      "text/plain": [
       "'Vcc(Volts):2.65Rntc(Kohm):112.89Temperatura(C):22.45\\nVcc(Volts):2.64Rntc(Kohm):111.57Temperatura(C):22.70\\nVcc(Volts):2.65Rntc(Kohm):112.89Temperatura(C):22.45\\nVcc(Volts):2.65Rntc(Kohm):112.89Temperatura(C):22.45\\nVcc(Volts):2.65Rntc(Kohm):112.89Temperatura(C):22.45\\nVcc(Volts):2.65Rntc(Kohm):112.45Temperatura(C):22.53\\nVcc(Volts):2.65Rntc(Kohm):112.89Temperatura(C):22.45\\nVcc(Volts):2.65Rntc(Kohm):112.89Temperatura(C):22.45\\nVcc(Volts):2.65Rntc(Kohm):112.89Temperatura(C):22.45\\nVcc(Volts):2.66Rntc(Kohm):113.78Temperatura(C):22.29\\nVcc(Volts):2.69Rntc(Kohm):116.03Temperatura(C):21.88\\nVcc(Volts):2.70Rntc(Kohm):117.41Temperatura(C):21.64\\nVcc(Volts):2.73Rntc(Kohm):120.22Temperatura(C):21.15\\nVcc(Volts):2.73Rntc(Kohm):120.69Temperatura(C):21.07\\nVcc(Volts):2.75Rntc(Kohm):122.13Temperatura(C):20.82\\nVcc(Volts):2.77Rntc(Kohm):124.56Temperatura(C):20.42\\nVcc(Volts):2.80Rntc(Kohm):127.56Temperatura(C):19.93\\nVcc(Volts):3.12Rntc(Kohm):165.97Temperatura(C):14.64\\nVcc(Volts):3.33Rntc(Kohm):200.29Temperatura(C):10.97\\nVcc(Volts):3.37Rntc(Kohm):207.51Temperatura(C):10.29\\nVcc(Volts):3.41Rntc(Kohm):214.11Temperatura(C):9.69\\nVcc(Volts):3.54Rntc(Kohm):242.47Temperatura(C):7.34\\nVcc(Volts):3.60Rntc(Kohm):258.04Temperatura(C):6.18\\nVcc(Volts):3.66Rntc(Kohm):273.72Temperatura(C):5.08\\nVcc(Volts):3.85Rntc(Kohm):335.74Temperatura(C):1.37\\nVcc(Volts):3.85Rntc(Kohm):335.74Temperatura(C):1.37\\nVcc(Volts):3.77Rntc(Kohm):307.97Temperatura(C):2.93\\nVcc(Volts):3.74Rntc(Kohm):296.90Temperatura(C):3.59\\nVcc(Volts):3.72Rntc(Kohm):289.35Temperatura(C):4.06\\nVcc(Volts):3.71Rntc(Kohm):286.42Temperatura(C):4.25\\nVcc(Volts):3.64Rntc(Kohm):267.03Temperatura(C):5.54\\nVcc(Volts):3.69Rntc(Kohm):280.67Temperatura(C):4.62\\nVcc(Volts):3.72Rntc(Kohm):289.35Temperatura(C):4.06\\nVcc(Volts):3.74Rntc(Kohm):295.37Temperatura(C):3.69\\nVcc(Volts):3.76Rntc(Kohm):304.74Temperatura(C):3.12\\nVcc(Volts):3.76Rntc(Kohm):304.74Temperatura(C):3.12\\nVcc(Volts):3.78Rntc(Kohm):311.24Temperatura(C):2.73\\nVcc(Volts):3.76Rntc(Kohm):303.15Temperatura(C):3.21\\nVcc(Volts):3.77Rntc(Kohm):306.35Temperatura(C):3.02\\nVcc(Volts):3.76Rntc(Kohm):303.15Temperatura(C):3.21\\nVcc(Volts):3.68Rntc(Kohm):279.26Temperatura(C):4.72\\nVcc(Volts):3.75Rntc(Kohm):301.57Temperatura(C):3.31\\nVcc(Volts):3.76Rntc(Kohm):304.74Temperatura(C):3.12\\nVcc(Volts):3.76Rntc(Kohm):304.74Temperatura(C):3.12\\nVcc(Volts):3.78Rntc(Kohm):309.60Temperatura(C):2.83\\nVcc(Volts):3.78Rntc(Kohm):311.24Temperatura(C):2.73\\nVcc(Volts):3.78Rntc(Kohm):309.60Temperatura(C):2.83\\nVcc(Volts):3.80Rntc(Kohm):317.96Temperatura(C):2.35\\nVcc(Volts):3.81Rntc(Kohm):321.40Temperatura(C):2.15\\nVcc(Volts):3.84Rntc(Kohm):330.25Temperatura(C):1.66\\nVcc(Volts):3.81Rntc(Kohm):321.40Temperatura(C):2.15\\nVcc(Volts):3.82Rntc(Kohm):323.14Temperatura(C):2.05\\nVcc(Volts):3.73Rntc(Kohm):292.34Temperatura(C):3.88\\nVcc(Volts):3.83Rntc(Kohm):326.67Temperatura(C):1.86\\nVcc(Volts):3.86Rntc(Kohm):337.61Temperatura(C):1.27\\nVcc(Volts):3.88Rntc(Kohm):345.22Temperatura(C):0.87\\nVcc(Volts):4.01Rntc(Kohm):406.93Temperatura(C):-2.05\\nVcc(Volts):3.71Rntc(Kohm):286.42Temperatura(C):4.25\\nVcc(Volts):3.88Rntc(Kohm):347.16Temperatura(C):0.77\\nVcc(Volts):3.83Rntc(Kohm):328.45Temperatura(C):1.76\\nVcc(Volts):3.81Rntc(Kohm):319.67Temperatura(C):2.25\\nVcc(Volts):3.91Rntc(Kohm):359.19Temperatura(C):0.16\\nVcc(Volts):3.87Rntc(Kohm):341.38Temperatura(C):1.07\\nVcc(Volts):3.89Rntc(Kohm):349.12Temperatura(C):0.67\\nVcc(Volts):3.90Rntc(Kohm):353.10Temperatura(C):0.46\\nVcc(Volts):3.93Rntc(Kohm):367.58Temperatura(C):-0.25\\nVcc(Volts):3.89Rntc(Kohm):349.12Temperatura(C):0.67\\nVcc(Volts):3.87Rntc(Kohm):341.38Temperatura(C):1.07\\nVcc(Volts):3.81Rntc(Kohm):321.40Temperatura(C):2.15\\nVcc(Volts):3.84Rntc(Kohm):332.07Temperatura(C):1.56\\nVcc(Volts):3.79Rntc(Kohm):312.90Temperatura(C):2.64\\nVcc(Volts):3.74Rntc(Kohm):296.90Temperatura(C):3.59\\nVcc(Volts):3.70Rntc(Kohm):284.96Temperatura(C):4.34\\n'"
      ]
     },
     "execution_count": 3,
     "metadata": {},
     "output_type": "execute_result"
    }
   ],
   "source": [
    "new_data = \"\"\n",
    "\n",
    "for row in data.split('\\n')[1:-1]:\n",
    "    new_data += row.split('->')[1].replace(' ', '').strip() + '\\n'\n",
    "\n",
    "new_data"
   ]
  },
  {
   "cell_type": "code",
   "execution_count": 9,
   "metadata": {},
   "outputs": [
    {
     "data": {
      "text/plain": [
       "'Vcc(Volts):2.65Rntc(Kohm):112.89Temperatura(C):22.45\\nVcc(Volts):2.64Rntc(Kohm):111.57Temperatura(C):22.70\\nVcc(Volts):2.65Rntc(Kohm):112.89Temperatura(C):22.45\\nVcc(Volts):2.65Rntc(Kohm):112.89Temperatura(C):22.45\\nVcc(Volts):2.65Rntc(Kohm):112.89Temperatura(C):22.45\\nVcc(Volts):2.65Rntc(Kohm):112.45Temperatura(C):22.53\\nVcc(Volts):2.65Rntc(Kohm):112.89Temperatura(C):22.45\\nVcc(Volts):2.65Rntc(Kohm):112.89Temperatura(C):22.45\\nVcc(Volts):2.65Rntc(Kohm):112.89Temperatura(C):22.45\\nVcc(Volts):2.66Rntc(Kohm):113.78Temperatura(C):22.29\\nVcc(Volts):2.69Rntc(Kohm):116.03Temperatura(C):21.88\\nVcc(Volts):2.70Rntc(Kohm):117.41Temperatura(C):21.64\\nVcc(Volts):2.73Rntc(Kohm):120.22Temperatura(C):21.15\\nVcc(Volts):2.73Rntc(Kohm):120.69Temperatura(C):21.07\\nVcc(Volts):2.75Rntc(Kohm):122.13Temperatura(C):20.82\\nVcc(Volts):2.77Rntc(Kohm):124.56Temperatura(C):20.42\\nVcc(Volts):2.80Rntc(Kohm):127.56Temperatura(C):19.93\\nVcc(Volts):3.12Rntc(Kohm):165.97Temperatura(C):14.64\\nVcc(Volts):3.33Rntc(Kohm):200.29Temperatura(C):10.97\\nVcc(Volts):3.37Rntc(Kohm):207.51Temperatura(C):10.29\\nVcc(Volts):3.41Rntc(Kohm):214.11Temperatura(C):9.69\\nVcc(Volts):3.54Rntc(Kohm):242.47Temperatura(C):7.34\\nVcc(Volts):3.60Rntc(Kohm):258.04Temperatura(C):6.18\\nVcc(Volts):3.66Rntc(Kohm):273.72Temperatura(C):5.08\\nVcc(Volts):3.85Rntc(Kohm):335.74Temperatura(C):1.37\\nVcc(Volts):3.85Rntc(Kohm):335.74Temperatura(C):1.37\\nVcc(Volts):3.77Rntc(Kohm):307.97Temperatura(C):2.93\\nVcc(Volts):3.74Rntc(Kohm):296.90Temperatura(C):3.59\\nVcc(Volts):3.72Rntc(Kohm):289.35Temperatura(C):4.06\\nVcc(Volts):3.71Rntc(Kohm):286.42Temperatura(C):4.25\\nVcc(Volts):3.64Rntc(Kohm):267.03Temperatura(C):5.54\\nVcc(Volts):3.69Rntc(Kohm):280.67Temperatura(C):4.62\\nVcc(Volts):3.72Rntc(Kohm):289.35Temperatura(C):4.06\\nVcc(Volts):3.74Rntc(Kohm):295.37Temperatura(C):3.69\\nVcc(Volts):3.76Rntc(Kohm):304.74Temperatura(C):3.12\\nVcc(Volts):3.76Rntc(Kohm):304.74Temperatura(C):3.12\\nVcc(Volts):3.78Rntc(Kohm):311.24Temperatura(C):2.73\\nVcc(Volts):3.76Rntc(Kohm):303.15Temperatura(C):3.21\\nVcc(Volts):3.77Rntc(Kohm):306.35Temperatura(C):3.02\\nVcc(Volts):3.76Rntc(Kohm):303.15Temperatura(C):3.21\\nVcc(Volts):3.68Rntc(Kohm):279.26Temperatura(C):4.72\\nVcc(Volts):3.75Rntc(Kohm):301.57Temperatura(C):3.31\\nVcc(Volts):3.76Rntc(Kohm):304.74Temperatura(C):3.12\\nVcc(Volts):3.76Rntc(Kohm):304.74Temperatura(C):3.12\\nVcc(Volts):3.78Rntc(Kohm):309.60Temperatura(C):2.83\\nVcc(Volts):3.78Rntc(Kohm):311.24Temperatura(C):2.73\\nVcc(Volts):3.78Rntc(Kohm):309.60Temperatura(C):2.83\\nVcc(Volts):3.80Rntc(Kohm):317.96Temperatura(C):2.35\\nVcc(Volts):3.81Rntc(Kohm):321.40Temperatura(C):2.15\\nVcc(Volts):3.84Rntc(Kohm):330.25Temperatura(C):1.66\\nVcc(Volts):3.81Rntc(Kohm):321.40Temperatura(C):2.15\\nVcc(Volts):3.82Rntc(Kohm):323.14Temperatura(C):2.05\\nVcc(Volts):3.73Rntc(Kohm):292.34Temperatura(C):3.88\\nVcc(Volts):3.83Rntc(Kohm):326.67Temperatura(C):1.86\\nVcc(Volts):3.86Rntc(Kohm):337.61Temperatura(C):1.27\\nVcc(Volts):3.88Rntc(Kohm):345.22Temperatura(C):0.87\\nVcc(Volts):4.01Rntc(Kohm):406.93Temperatura(C):-2.05\\nVcc(Volts):3.71Rntc(Kohm):286.42Temperatura(C):4.25\\nVcc(Volts):3.88Rntc(Kohm):347.16Temperatura(C):0.77\\nVcc(Volts):3.83Rntc(Kohm):328.45Temperatura(C):1.76\\nVcc(Volts):3.81Rntc(Kohm):319.67Temperatura(C):2.25\\nVcc(Volts):3.91Rntc(Kohm):359.19Temperatura(C):0.16\\nVcc(Volts):3.87Rntc(Kohm):341.38Temperatura(C):1.07\\nVcc(Volts):3.89Rntc(Kohm):349.12Temperatura(C):0.67\\nVcc(Volts):3.90Rntc(Kohm):353.10Temperatura(C):0.46\\nVcc(Volts):3.93Rntc(Kohm):367.58Temperatura(C):-0.25\\nVcc(Volts):3.89Rntc(Kohm):349.12Temperatura(C):0.67\\nVcc(Volts):3.87Rntc(Kohm):341.38Temperatura(C):1.07\\nVcc(Volts):3.81Rntc(Kohm):321.40Temperatura(C):2.15\\nVcc(Volts):3.84Rntc(Kohm):332.07Temperatura(C):1.56\\nVcc(Volts):3.79Rntc(Kohm):312.90Temperatura(C):2.64\\nVcc(Volts):3.74Rntc(Kohm):296.90Temperatura(C):3.59\\nVcc(Volts):3.70Rntc(Kohm):284.96Temperatura(C):4.34\\n'"
      ]
     },
     "execution_count": 9,
     "metadata": {},
     "output_type": "execute_result"
    }
   ],
   "source": [
    "new_data"
   ]
  },
  {
   "cell_type": "code",
   "execution_count": 7,
   "metadata": {},
   "outputs": [
    {
     "name": "stdout",
     "output_type": "stream",
     "text": [
      "74\n"
     ]
    }
   ],
   "source": [
    "print(\n",
    "    len(new_data.split('\\n'))\n",
    ")"
   ]
  },
  {
   "cell_type": "code",
   "execution_count": 31,
   "metadata": {},
   "outputs": [
    {
     "name": "stdout",
     "output_type": "stream",
     "text": [
      "73\n"
     ]
    }
   ],
   "source": [
    "import re\n",
    "# Regular expression pattern to extract the values\n",
    "pattern = r'Vcc\\(Volts\\):([\\d.]+)Rntc\\(Kohm\\):([\\d.]+)Temperatura\\(C\\):([-]?[\\d.]+)'\n",
    "\n",
    "# Initialize an empty list to store the extracted data\n",
    "data_matrix = []\n",
    "\n",
    "# Use re.findall to extract the values and append them to the data_matrix\n",
    "matches = re.findall(pattern, new_data)\n",
    "for match in matches:\n",
    "    vcc, kohms, temperatura = match\n",
    "    data_matrix.append([vcc, kohms, temperatura])\n",
    "\n",
    "# Print the resulting data matrix\n",
    "# for row in data_matrix:\n",
    "#     print(row)\n",
    "print(len(data_matrix))"
   ]
  },
  {
   "cell_type": "code",
   "execution_count": 32,
   "metadata": {},
   "outputs": [],
   "source": [
    "new_data_list = list(map(\n",
    "    lambda x : \"Vcc_Volts:{}Rnt_Kohm:{}TemperaturaC:{}\".format(*x),\n",
    "    data_matrix\n",
    "))"
   ]
  },
  {
   "cell_type": "code",
   "execution_count": 33,
   "metadata": {},
   "outputs": [],
   "source": [
    "new_data_txt = \"\\n\".join(new_data_list)"
   ]
  },
  {
   "cell_type": "code",
   "execution_count": 34,
   "metadata": {},
   "outputs": [],
   "source": [
    "with open('new_data.txt', 'w') as f:\n",
    "    f.write(new_data_txt)"
   ]
  },
  {
   "cell_type": "code",
   "execution_count": 36,
   "metadata": {},
   "outputs": [],
   "source": [
    "import pandas as pd"
   ]
  },
  {
   "cell_type": "code",
   "execution_count": 38,
   "metadata": {},
   "outputs": [],
   "source": [
    "df = pd.DataFrame(\n",
    "    data_matrix,\n",
    "    columns=['Vcc', \"Khom\", \"Temperatura (C)\"]\n",
    ")"
   ]
  },
  {
   "cell_type": "code",
   "execution_count": 39,
   "metadata": {},
   "outputs": [],
   "source": [
    "df.to_excel('data.xlsx', index=False)"
   ]
  },
  {
   "cell_type": "markdown",
   "metadata": {},
   "source": [
    "83 temperatura del agua hiriendo"
   ]
  }
 ],
 "metadata": {
  "kernelspec": {
   "display_name": "uni",
   "language": "python",
   "name": "python3"
  },
  "language_info": {
   "codemirror_mode": {
    "name": "ipython",
    "version": 3
   },
   "file_extension": ".py",
   "mimetype": "text/x-python",
   "name": "python",
   "nbconvert_exporter": "python",
   "pygments_lexer": "ipython3",
   "version": "3.10.13"
  },
  "orig_nbformat": 4
 },
 "nbformat": 4,
 "nbformat_minor": 2
}
