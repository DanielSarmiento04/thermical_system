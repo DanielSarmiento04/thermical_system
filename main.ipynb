{
 "cells": [
  {
   "cell_type": "markdown",
   "metadata": {},
   "source": [
    "# Enunciado"
   ]
  },
  {
   "cell_type": "markdown",
   "metadata": {},
   "source": [
    "Se va a enfriar etilenglicol (C = 2560 J/kg °C) desde 80°C hasta 40°C\n",
    "el cual fluye a razón de 3.5 kg/s, en un intercambiador de calor de doble tubo y a contraflujo, por medio de agua (G, = 4180 J/kg °C)\n",
    "que entra a 20°C y sale a 55°C. El coeficiente de transferencia de calor total, con baseven el área superficial interior del tubo, es de\n",
    "250 W/m2°C. Determine a) la razón de transferencia de calor, b) el gasto de masa del agua y c) el área superficial de transferencia de calor interior del tubo. Seleccione un diámetro adecuado y determine la longitud del tubo. Si este tipo de intercambiador no es adecuado, proponga un nuevo diseño."
   ]
  },
  {
   "cell_type": "markdown",
   "metadata": {},
   "source": [
    "## Consideraciones \n",
    "\n",
    "1. No hay perdidas.\n",
    "2. Es de tipo estacionario.\n",
    "3. Propiedades físicas constantes.\n",
    "4. Radiación despreciable.\n",
    "5. Espesor flujo despreciable.\n",
    "\n"
   ]
  },
  {
   "cell_type": "code",
   "execution_count": 14,
   "metadata": {},
   "outputs": [],
   "source": [
    "import numpy as np"
   ]
  },
  {
   "cell_type": "code",
   "execution_count": 16,
   "metadata": {},
   "outputs": [],
   "source": [
    "m_punto_etilenglicol = 3.5 # kg /s\n",
    "Cp_etilenglicol = 2560 # J / kg * ºC\n",
    "T_in_e = 80 # ºC\n",
    "T_out_e = 40 # ºC\n",
    "\n",
    "## ============= ##\n",
    "Cp_agua = 4180 # J / kg * ºC\n",
    "T_in_a = 20 # ºC\n",
    "T_out_a = 55 # ºC\n",
    "\n",
    "U = 250 # W / m^2 * ºC"
   ]
  },
  {
   "cell_type": "code",
   "execution_count": 11,
   "metadata": {},
   "outputs": [
    {
     "data": {
      "text/plain": [
       "358400.0"
      ]
     },
     "execution_count": 11,
     "metadata": {},
     "output_type": "execute_result"
    }
   ],
   "source": [
    "Q_punto = m_punto_etilenglicol * Cp_etilenglicol * (T_in_e - T_out_e) \n",
    "Q_punto"
   ]
  },
  {
   "cell_type": "code",
   "execution_count": 12,
   "metadata": {},
   "outputs": [
    {
     "data": {
      "text/plain": [
       "2.449760765550239"
      ]
     },
     "execution_count": 12,
     "metadata": {},
     "output_type": "execute_result"
    }
   ],
   "source": [
    "m_agua = Q_punto / (Cp_agua * ( T_out_a - T_in_a) )\n",
    "m_agua"
   ]
  },
  {
   "cell_type": "markdown",
   "metadata": {},
   "source": [
    "## se pone en el de adentro el que este mas cerca de la temperatura ambiente"
   ]
  },
  {
   "cell_type": "markdown",
   "metadata": {},
   "source": [
    "$$ \\dot{Q} = U * A * G \\delta{T}_{im} $$"
   ]
  },
  {
   "cell_type": "code",
   "execution_count": 13,
   "metadata": {},
   "outputs": [],
   "source": [
    "# zona 1\n",
    "delta_T_1 = T_in_e - T_out_a\n",
    "\n",
    "# zona 2\n",
    "delta_T_2 = T_out_e - T_in_a"
   ]
  },
  {
   "cell_type": "code",
   "execution_count": 15,
   "metadata": {},
   "outputs": [
    {
     "data": {
      "text/plain": [
       "22.407100588622754"
      ]
     },
     "execution_count": 15,
     "metadata": {},
     "output_type": "execute_result"
    }
   ],
   "source": [
    "delta_T = (delta_T_2 - delta_T_1) / np.log(delta_T_2 / delta_T_1)\n",
    "delta_T"
   ]
  },
  {
   "cell_type": "code",
   "execution_count": 18,
   "metadata": {},
   "outputs": [
    {
     "data": {
      "text/plain": [
       "63.97971903281021"
      ]
     },
     "execution_count": 18,
     "metadata": {},
     "output_type": "execute_result"
    }
   ],
   "source": [
    "Area = Q_punto  / (delta_T * U)\n",
    "Area"
   ]
  },
  {
   "cell_type": "markdown",
   "metadata": {},
   "source": [
    "## Sistemas térmicos"
   ]
  },
  {
   "cell_type": "code",
   "execution_count": 19,
   "metadata": {},
   "outputs": [
    {
     "data": {
      "text/plain": [
       "8960.0"
      ]
     },
     "execution_count": 19,
     "metadata": {},
     "output_type": "execute_result"
    }
   ],
   "source": [
    "capacidad_etilenglicol = m_punto_etilenglicol * Cp_etilenglicol\n",
    "capacidad_etilenglicol"
   ]
  },
  {
   "cell_type": "code",
   "execution_count": 20,
   "metadata": {},
   "outputs": [
    {
     "data": {
      "text/plain": [
       "10240.0"
      ]
     },
     "execution_count": 20,
     "metadata": {},
     "output_type": "execute_result"
    }
   ],
   "source": [
    "capacidad_agua = m_agua * Cp_agua\n",
    "capacidad_agua"
   ]
  },
  {
   "cell_type": "code",
   "execution_count": 27,
   "metadata": {},
   "outputs": [
    {
     "data": {
      "text/plain": [
       "0.875"
      ]
     },
     "execution_count": 27,
     "metadata": {},
     "output_type": "execute_result"
    }
   ],
   "source": [
    "capacidad_etilenglicol / capacidad_agua"
   ]
  },
  {
   "cell_type": "code",
   "execution_count": 21,
   "metadata": {},
   "outputs": [
    {
     "data": {
      "text/plain": [
       "537600.0"
      ]
     },
     "execution_count": 21,
     "metadata": {},
     "output_type": "execute_result"
    }
   ],
   "source": [
    "Q_max = capacidad_etilenglicol * (T_in_e - T_in_a)\n",
    "Q_max"
   ]
  },
  {
   "cell_type": "code",
   "execution_count": 25,
   "metadata": {},
   "outputs": [
    {
     "data": {
      "text/plain": [
       "0.6666666666666666"
      ]
     },
     "execution_count": 25,
     "metadata": {},
     "output_type": "execute_result"
    }
   ],
   "source": [
    "eficiencia = Q_punto / Q_max \n",
    "eficiencia"
   ]
  }
 ],
 "metadata": {
  "kernelspec": {
   "display_name": "uni",
   "language": "python",
   "name": "python3"
  },
  "language_info": {
   "codemirror_mode": {
    "name": "ipython",
    "version": 3
   },
   "file_extension": ".py",
   "mimetype": "text/x-python",
   "name": "python",
   "nbconvert_exporter": "python",
   "pygments_lexer": "ipython3",
   "version": "3.10.13"
  },
  "orig_nbformat": 4
 },
 "nbformat": 4,
 "nbformat_minor": 2
}
