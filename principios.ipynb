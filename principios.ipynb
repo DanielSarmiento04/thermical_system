{
 "cells": [
  {
   "cell_type": "markdown",
   "metadata": {},
   "source": [
    "# **Statement**\n",
    "\n",
    "A flat plat 70 cm long and 1.0 m wide is placed in a wind tunnel where the flow conditions are ` M = 3, p = 1/20 atm` , and `T = - 40ºC`. How much cooling must be used to maintain the plate temperature at 35 ºC?"
   ]
  },
  {
   "cell_type": "markdown",
   "metadata": {},
   "source": [
    "## Set known variables"
   ]
  },
  {
   "cell_type": "code",
   "execution_count": 8,
   "metadata": {},
   "outputs": [],
   "source": [
    "mach_number = 3 \n",
    "pressure = (1 / 20) * 101325 # Pa\n",
    "T = -40 + 273.15 # K"
   ]
  },
  {
   "cell_type": "code",
   "execution_count": 2,
   "metadata": {},
   "outputs": [],
   "source": [
    "def calcule_acoustic_velocity(specific_weight, R_gas, free_stream_temperature, g_c = 1):\n",
    "    return (specific_weight * R_gas * free_stream_temperature * g_c) ** (1/2)"
   ]
  },
  {
   "cell_type": "code",
   "execution_count": 9,
   "metadata": {},
   "outputs": [
    {
     "name": "stdout",
     "output_type": "stream",
     "text": [
      "{'compressibility': 0.997791599005916,\n",
      " 'conductivity': 0.019007777092064106,\n",
      " 'critical_pressure': 22064000.0,\n",
      " 'critical_temperature': 373.946,\n",
      " 'density': 0.0359227511750955,\n",
      " 'dynamic_viscosity': 9.960256427118757e-06,\n",
      " 'enthalpy': 2561147.545630408,\n",
      " 'entropy': 8389.11286159657,\n",
      " 'fraction': 100,\n",
      " 'freezing_temperature': None,\n",
      " 'internal_energy': 2420115.7528452184,\n",
      " 'kinematic_viscosity': 0.00027726875312445435,\n",
      " 'max_pressure': 1000000000.0,\n",
      " 'max_temperature': 1726.85,\n",
      " 'min_pressure': 611.6548008968684,\n",
      " 'min_temperature': 0.010000000000047748,\n",
      " 'molar_mass': 0.018015268,\n",
      " 'name': Water,\n",
      " 'phase': TwoPhase,\n",
      " 'prandtl': 1.0071539662474105,\n",
      " 'pressure': 5066.25,\n",
      " 'quality': 100.0,\n",
      " 'sound_speed': 432.12670358990573,\n",
      " 'specific_heat': 1922.0145814415368,\n",
      " 'specific_volume': 27.83751152927505,\n",
      " 'surface_tension': 0.07078736933054516,\n",
      " 'temperature': 33.10874085726658,\n",
      " 'triple_pressure': 611.6548008968684,\n",
      " 'triple_temperature': 0.010000000000047748,\n",
      " 'units_system': SIWithCelsiusAndPercents}\n"
     ]
    }
   ],
   "source": [
    "from pyfluids import Fluid, FluidsList\n",
    "from pprint import pprint\n",
    "\n",
    "water_vapour = Fluid(FluidsList.Water).dew_point_at_pressure(pressure)\n",
    "pprint(water_vapour.as_dict())  # 2079.937085633241"
   ]
  },
  {
   "cell_type": "code",
   "execution_count": 1,
   "metadata": {},
   "outputs": [
    {
     "name": "stdout",
     "output_type": "stream",
     "text": [
      "300 (351.81897215910766, 351.8225040320234, 351.8256504699811)\n",
      "400 (404.3283414405797, 404.60713567095115, 404.61068703239766)\n",
      "500 (450.60495699772054, 450.5397010505711, 450.54335869692443)\n",
      "600 (493.222522207315, 491.4792382523635, 491.4832718638334)\n",
      "700 (531.9640558740574, 528.5737908364041, 528.5780360656653)\n",
      "800 (565.8012509731329, 562.6519893359572, 562.6563486884804)\n",
      "900 (594.791258636716, 594.3886927199748, 594.3928366122566)\n",
      "1000 (623.1824547571716, 623.1967317459704, 624.3875595050662)\n",
      "1100 (652.9331035261605, 653.0237884115232, 653.0280736088952)\n",
      "1200 (680.2903461483402, 680.3796036866751, 680.3839827317228)\n",
      "1300 (706.4795733989242, 706.6231858627382, 706.6276554854818)\n",
      "1400 (731.5764695331436, 731.8946276516258, 731.8991799509749)\n",
      "1500 (755.5870779532942, 756.3126665962858, 756.3172856209592)\n",
      "1600 (778.4541581106566, 779.9838959868171, 779.988553975083)\n",
      "1700 (800.0747674178257, 803.0114202739029, 803.0160744864796)\n",
      "1800 (820.3499970929598, 825.5030146371989, 825.5076069859414)\n",
      "1900 (839.2604374322231, 847.5787716087282, 847.5832332566247)\n",
      "2000 (856.9424367618669, 869.377607532102, 869.3818688732749)\n",
      "2100 (873.7271697753638, 891.0618417914098, 891.0658460293156)\n",
      "2200 (889.9263753416055, 912.8187196416386, 912.8224344745661)\n",
      "2300 (906.6589583932341, 934.8583311485988, 934.8617548604678)\n",
      "2400 (923.8715441132956, 957.4081192127375, 957.4112773934374)\n",
      "2500 (942.1089332158746, 980.7060428844459, 980.7089812013494)\n",
      "2600 (961.7644883410201, 1004.996279538785, 1004.9990511755033)\n",
      "2700 (982.9835230772744, 1030.5311640554196, 1030.5338238673392)\n",
      "2800 (1005.854893631122, 1057.5791397037865, 1057.5817409022006)\n",
      "2900 (1030.5547583300477, 1086.4306291609364, 1086.4332213150242)\n"
     ]
    }
   ],
   "source": [
    "import cantera as ct\n",
    "import math\n",
    "import numpy as np\n",
    "\n",
    "\n",
    "def equilSoundSpeeds(gas, rtol=1.0e-6, max_iter=5000):\n",
    "    \"\"\"\n",
    "    Returns a tuple containing the equilibrium and frozen sound speeds for a\n",
    "    gas with an equilibrium composition.  The gas is first set to an\n",
    "    equilibrium state at the temperature and pressure of the gas, since\n",
    "    otherwise the equilibrium sound speed is not defined.\n",
    "    \"\"\"\n",
    "\n",
    "    # set the gas to equilibrium at its current T and P\n",
    "    gas.equilibrate('TP', rtol=rtol, max_iter=max_iter)\n",
    "\n",
    "    # save properties\n",
    "    s0 = gas.s\n",
    "    p0 = gas.P\n",
    "    r0 = gas.density\n",
    "\n",
    "    # perturb the pressure\n",
    "    p1 = p0*1.0001\n",
    "\n",
    "    # set the gas to a state with the same entropy and composition but\n",
    "    # the perturbed pressure\n",
    "    gas.SP = s0, p1\n",
    "\n",
    "    # frozen sound speed\n",
    "    afrozen = math.sqrt((p1 - p0)/(gas.density - r0))\n",
    "\n",
    "    # now equilibrate the gas holding S and P constant\n",
    "    gas.equilibrate('SP', rtol=rtol, max_iter=max_iter)\n",
    "\n",
    "    # equilibrium sound speed\n",
    "    aequil = math.sqrt((p1 - p0)/(gas.density - r0))\n",
    "\n",
    "    # check against the built-in sound speed function\n",
    "    afrozen2 = gas.sound_speed\n",
    "\n",
    "    return aequil, afrozen, afrozen2\n",
    "\n",
    "\n",
    "# test program\n",
    "if __name__ == \"__main__\":\n",
    "    gas = ct.Solution('gri30.yaml')\n",
    "    gas.X = 'CH4:1.00, O2:2.0, N2:7.52'\n",
    "    T_range = np.arange(300, 2901, 100)\n",
    "    for T in T_range:\n",
    "        gas.TP = T, ct.one_atm\n",
    "        print(T, equilSoundSpeeds(gas))"
   ]
  }
 ],
 "metadata": {
  "kernelspec": {
   "display_name": "uni",
   "language": "python",
   "name": "python3"
  },
  "language_info": {
   "codemirror_mode": {
    "name": "ipython",
    "version": 3
   },
   "file_extension": ".py",
   "mimetype": "text/x-python",
   "name": "python",
   "nbconvert_exporter": "python",
   "pygments_lexer": "ipython3",
   "version": "3.10.13"
  },
  "orig_nbformat": 4
 },
 "nbformat": 4,
 "nbformat_minor": 2
}
