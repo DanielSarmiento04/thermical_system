{
 "cells": [
  {
   "cell_type": "markdown",
   "metadata": {},
   "source": [
    "# Enunciado\n",
    "\n",
    "Se diseñará un intercambiador de calor para calentar agua mediante el uso de condensado a 67°C y 0,2 bar, que fluirá en el lado de la carcasa con un caudal másico de 50000 kg/h. Ei calor se transferirá a 30000 kg/h de agua procedente de acueducto a 17°C. Se recomienda una sola carcasa y un solo paso por tubo. Se sugiere una resistencia al ensuciamiento de 0,000176 m2\n",
    "• K/W y el sobre-diseño de superficie no debe ser superior al 35%.\n",
    "Se requiere una longitud máxima de tubo de 5 m debido a limitaciones de espacio. El material del tubo es acero al carbono (k = 60 W/m • K). El agua fluirá dentro de tubos 3/4 in (19 mm de diámetro exterior con 16 mm ID). La caída de presión máxima permitida en la carcasa es de 5,0 psi. La temperatura de salida del agua no debe ser inferior a 40°C."
   ]
  },
  {
   "cell_type": "code",
   "execution_count": 292,
   "metadata": {},
   "outputs": [],
   "source": [
    "caudal_masico_agua_condensada         = 50_000 / 3600 # kg/s\n",
    "temperatura_entrada_agua_condensada   = 67 # ºC\n",
    "presion_agua_condensada               = 0.2 # bar\n",
    "\n",
    "caudal_transferido                    = 30_000 / 3600 # kg/s\n",
    "temperatura_entrada                   = 17 # ºC\n",
    "factor_ensuciamiento                  = 0.000176 # m^2K/W\n",
    "\n",
    "longitud_maxima                       = 5 # m\n",
    "k_material                            = 60 # W/(m * K)\n",
    "diametro_tubos                        = 3/4 # in\n",
    "diametro_interior                     = 16e-3 # m\n",
    "diametro_exterior                     = 19e-3 # m\n",
    "\n",
    "temperatura_salida                    = 40 #ºC\n",
    "N_P = 2"
   ]
  },
  {
   "cell_type": "markdown",
   "metadata": {},
   "source": [
    "$$ \\dot{Q} = (\\dot{m} *C_{p})_{c} * (T_{c2} -T_{c1})$$"
   ]
  },
  {
   "cell_type": "code",
   "execution_count": 238,
   "metadata": {},
   "outputs": [],
   "source": [
    "from pyfluids import Fluid, FluidsList, Input\n",
    "from core import ThermoFormules\n",
    "import numpy as np"
   ]
  },
  {
   "cell_type": "code",
   "execution_count": 239,
   "metadata": {},
   "outputs": [
    {
     "data": {
      "text/plain": [
       "Water"
      ]
     },
     "execution_count": 239,
     "metadata": {},
     "output_type": "execute_result"
    }
   ],
   "source": [
    "water = Fluid(FluidsList.Water)\n",
    "water.name"
   ]
  },
  {
   "cell_type": "code",
   "execution_count": 240,
   "metadata": {},
   "outputs": [],
   "source": [
    "presion = 101325 * presion_agua_condensada # Pa"
   ]
  },
  {
   "cell_type": "code",
   "execution_count": 241,
   "metadata": {},
   "outputs": [
    {
     "data": {
      "text/plain": [
       "28.5"
      ]
     },
     "execution_count": 241,
     "metadata": {},
     "output_type": "execute_result"
    }
   ],
   "source": [
    "temperatura_promedio = (temperatura_entrada + temperatura_salida) /2\n",
    "temperatura_promedio"
   ]
  },
  {
   "cell_type": "code",
   "execution_count": 242,
   "metadata": {},
   "outputs": [
    {
     "data": {
      "text/plain": [
       "{'compressibility': 0.00014614052125805355,\n",
       " 'conductivity': 0.6120463454734684,\n",
       " 'critical_pressure': 22064000.0,\n",
       " 'critical_temperature': 373.946,\n",
       " 'density': 996.0564055844422,\n",
       " 'dynamic_viscosity': 0.0008233612267610441,\n",
       " 'enthalpy': 119478.276557885,\n",
       " 'entropy': 416.01479691577845,\n",
       " 'fraction': 100,\n",
       " 'freezing_temperature': None,\n",
       " 'internal_energy': 119457.93132466005,\n",
       " 'kinematic_viscosity': 8.266210850558526e-07,\n",
       " 'max_pressure': 1000000000.0,\n",
       " 'max_temperature': 1726.85,\n",
       " 'min_pressure': 611.6548008968684,\n",
       " 'min_temperature': 0.010000000000047748,\n",
       " 'molar_mass': 0.018015268,\n",
       " 'name': Water,\n",
       " 'phase': Liquid,\n",
       " 'prandtl': 5.623700026792162,\n",
       " 'pressure': 20265.0,\n",
       " 'quality': None,\n",
       " 'sound_speed': 1505.4719747453637,\n",
       " 'specific_heat': 4180.382725790069,\n",
       " 'specific_volume': 0.0010039592079258241,\n",
       " 'surface_tension': None,\n",
       " 'temperature': 28.5,\n",
       " 'triple_pressure': 611.6548008968684,\n",
       " 'triple_temperature': 0.010000000000047748,\n",
       " 'units_system': SIWithCelsiusAndPercents}"
      ]
     },
     "execution_count": 242,
     "metadata": {},
     "output_type": "execute_result"
    }
   ],
   "source": [
    "state = water.with_state(\n",
    "    Input.pressure(presion),\n",
    "    Input.temperature(temperatura_promedio),\n",
    ")\n",
    "state.as_dict()"
   ]
  },
  {
   "cell_type": "code",
   "execution_count": 243,
   "metadata": {},
   "outputs": [
    {
     "data": {
      "text/plain": [
       "4180.382725790069"
      ]
     },
     "execution_count": 243,
     "metadata": {},
     "output_type": "execute_result"
    }
   ],
   "source": [
    "cp = state.specific_heat\n",
    "cp"
   ]
  },
  {
   "cell_type": "code",
   "execution_count": 244,
   "metadata": {},
   "outputs": [
    {
     "data": {
      "text/plain": [
       "801240.0224430967"
      ]
     },
     "execution_count": 244,
     "metadata": {},
     "output_type": "execute_result"
    }
   ],
   "source": [
    "calor = caudal_transferido * cp * (temperatura_salida - temperatura_entrada)\n",
    "calor"
   ]
  },
  {
   "cell_type": "markdown",
   "metadata": {},
   "source": [
    "$$ T_{c2} = - \\frac{Q}{(\\dot{m} *C_{p})_{c}} + T_{c1}$$"
   ]
  },
  {
   "cell_type": "code",
   "execution_count": 245,
   "metadata": {},
   "outputs": [
    {
     "data": {
      "text/plain": [
       "{'compressibility': 0.00014132360145080458,\n",
       " 'conductivity': 0.6284426249627434,\n",
       " 'critical_pressure': 22064000.0,\n",
       " 'critical_temperature': 373.946,\n",
       " 'density': 992.1807698912999,\n",
       " 'dynamic_viscosity': 0.000652718564006271,\n",
       " 'enthalpy': 167544.45024584336,\n",
       " 'entropy': 572.3967328979538,\n",
       " 'fraction': 100,\n",
       " 'freezing_temperature': None,\n",
       " 'internal_energy': 167524.02554033775,\n",
       " 'kinematic_viscosity': 6.578625426068082e-07,\n",
       " 'max_pressure': 1000000000.0,\n",
       " 'max_temperature': 1726.85,\n",
       " 'min_pressure': 611.6548008968684,\n",
       " 'min_temperature': 0.010000000000047748,\n",
       " 'molar_mass': 0.018015268,\n",
       " 'name': Water,\n",
       " 'phase': Liquid,\n",
       " 'prandtl': 4.341067796088867,\n",
       " 'pressure': 20265.0,\n",
       " 'quality': None,\n",
       " 'sound_speed': 1528.762927297536,\n",
       " 'specific_heat': 4179.614601690888,\n",
       " 'specific_volume': 0.001007880852306336,\n",
       " 'surface_tension': None,\n",
       " 'temperature': 40.0,\n",
       " 'triple_pressure': 611.6548008968684,\n",
       " 'triple_temperature': 0.010000000000047748,\n",
       " 'units_system': SIWithCelsiusAndPercents}"
      ]
     },
     "execution_count": 245,
     "metadata": {},
     "output_type": "execute_result"
    }
   ],
   "source": [
    "state_cond = water.with_state(\n",
    "    Input.pressure(presion),\n",
    "    Input.temperature(40),\n",
    ")\n",
    "state_cond.as_dict()"
   ]
  },
  {
   "cell_type": "code",
   "execution_count": 246,
   "metadata": {},
   "outputs": [
    {
     "data": {
      "text/plain": [
       "4179.614601690888"
      ]
     },
     "execution_count": 246,
     "metadata": {},
     "output_type": "execute_result"
    }
   ],
   "source": [
    "cp_condensado = state_cond.specific_heat\n",
    "cp_condensado"
   ]
  },
  {
   "cell_type": "code",
   "execution_count": 247,
   "metadata": {},
   "outputs": [
    {
     "data": {
      "text/plain": [
       "53.19746385406817"
      ]
     },
     "execution_count": 247,
     "metadata": {},
     "output_type": "execute_result"
    }
   ],
   "source": [
    "temperatura_salida_agua_condensada = temperatura_entrada_agua_condensada - calor/(caudal_masico_agua_condensada* cp_condensado)\n",
    "temperatura_salida_agua_condensada"
   ]
  },
  {
   "cell_type": "markdown",
   "metadata": {},
   "source": [
    "Asuma los coeficiente de trasferencia de calor\n",
    "\n",
    "$$ \\frac{1}{U_f} = \\frac{1}{h_{0}} + \\frac{r_{0}}{r_{i}} \\frac{1}{h_{i}} + R_{ft} + r_{0} \\frac{ln(\\frac{r_{0}}{r_{i}} )}{k} $$"
   ]
  },
  {
   "cell_type": "code",
   "execution_count": 248,
   "metadata": {},
   "outputs": [],
   "source": [
    "h_0 = 5_000 # W/m2k\n",
    "h_1 = 4_000 # W/m2k"
   ]
  },
  {
   "cell_type": "code",
   "execution_count": 249,
   "metadata": {},
   "outputs": [
    {
     "data": {
      "text/plain": [
       "1428.3987473789696"
      ]
     },
     "execution_count": 249,
     "metadata": {},
     "output_type": "execute_result"
    }
   ],
   "source": [
    "U_f = (\n",
    "    1/h_0 + \\\n",
    "    diametro_exterior/diametro_interior*1/h_1 + \\\n",
    "    factor_ensuciamiento + \\\n",
    "    diametro_exterior/2 * np.log(diametro_exterior/diametro_interior)/k_material\n",
    ") ** -1\n",
    "U_f"
   ]
  },
  {
   "cell_type": "code",
   "execution_count": 250,
   "metadata": {},
   "outputs": [
    {
     "data": {
      "text/plain": [
       "1908.0887974581278"
      ]
     },
     "execution_count": 250,
     "metadata": {},
     "output_type": "execute_result"
    }
   ],
   "source": [
    "U_cond = (\n",
    "    1/h_0 + \\\n",
    "    diametro_exterior/diametro_interior*1/h_1 + \\\n",
    "    diametro_exterior/2 * np.log(diametro_exterior/diametro_interior)/k_material\n",
    ") ** -1\n",
    "U_cond"
   ]
  },
  {
   "cell_type": "code",
   "execution_count": 251,
   "metadata": {},
   "outputs": [
    {
     "name": "stdout",
     "output_type": "stream",
     "text": [
      "27 36.19746385406817\n",
      "31.374365034654137\n"
     ]
    }
   ],
   "source": [
    "diferencia_temperatura_1 = temperatura_entrada_agua_condensada - temperatura_salida\n",
    "diferencia_temperatura_2 = temperatura_salida_agua_condensada - temperatura_entrada\n",
    "print(diferencia_temperatura_1, diferencia_temperatura_2)\n",
    "\n",
    "diferencia_log_temperatura = (diferencia_temperatura_2 - diferencia_temperatura_1)/ np.log(diferencia_temperatura_2/diferencia_temperatura_1)\n",
    "print(diferencia_log_temperatura)"
   ]
  },
  {
   "cell_type": "markdown",
   "metadata": {},
   "source": [
    "Asume the F=0.9"
   ]
  },
  {
   "cell_type": "code",
   "execution_count": 252,
   "metadata": {},
   "outputs": [],
   "source": [
    "F = 0.9\n",
    "diferencia_log_temperatura_corregida =  F * diferencia_log_temperatura"
   ]
  },
  {
   "cell_type": "markdown",
   "metadata": {},
   "source": [
    "Estimar las areas requeridas"
   ]
  },
  {
   "cell_type": "code",
   "execution_count": 253,
   "metadata": {},
   "outputs": [
    {
     "name": "stdout",
     "output_type": "stream",
     "text": [
      "19.865327039269854 14.871219985656523\n"
     ]
    }
   ],
   "source": [
    "A_f = calor / (U_f * diferencia_log_temperatura_corregida)\n",
    "A_c = calor / (U_cond * diferencia_log_temperatura_corregida)\n",
    "\n",
    "print(A_f, A_c)"
   ]
  },
  {
   "cell_type": "code",
   "execution_count": 254,
   "metadata": {},
   "outputs": [
    {
     "data": {
      "text/plain": [
       "0.3358236283526308"
      ]
     },
     "execution_count": 254,
     "metadata": {},
     "output_type": "execute_result"
    }
   ],
   "source": [
    "area_ratio =  A_f/A_c - 1\n",
    "area_ratio"
   ]
  },
  {
   "cell_type": "code",
   "execution_count": 255,
   "metadata": {},
   "outputs": [],
   "source": [
    "Cl         = 1\n",
    "L          = 3    # m\n",
    "CTP        = 0.93 # One tube pass\n",
    "PitchRatio = 1.25"
   ]
  },
  {
   "cell_type": "code",
   "execution_count": 256,
   "metadata": {},
   "outputs": [
    {
     "name": "stdout",
     "output_type": "stream",
     "text": [
      "0.29286805553111817\n",
      "0.3\n"
     ]
    }
   ],
   "source": [
    "diametro_carcasa = 0.637 * (Cl/CTP * A_f*pow(PitchRatio,2)* diametro_exterior/L)**(1/2) \n",
    "print(diametro_carcasa)\n",
    "diametro_carcasa = 0.3\n",
    "print(diametro_carcasa)"
   ]
  },
  {
   "cell_type": "code",
   "execution_count": 257,
   "metadata": {},
   "outputs": [
    {
     "name": "stdout",
     "output_type": "stream",
     "text": [
      "116.48443213296399\n"
     ]
    }
   ],
   "source": [
    "numeros_tubos = 0.785 * (CTP/Cl) * (diametro_carcasa)**2 /((PitchRatio * diametro_exterior)**2)\n",
    "print(numeros_tubos)"
   ]
  },
  {
   "cell_type": "markdown",
   "metadata": {},
   "source": [
    "Espacio entre deflectors entre 0.4 y 0.6 del diámetro de la carcasa"
   ]
  },
  {
   "cell_type": "code",
   "execution_count": 258,
   "metadata": {},
   "outputs": [
    {
     "data": {
      "text/plain": [
       "0.18"
      ]
     },
     "execution_count": 258,
     "metadata": {},
     "output_type": "execute_result"
    }
   ],
   "source": [
    "B = 0.6 * diametro_carcasa\n",
    "B"
   ]
  },
  {
   "cell_type": "code",
   "execution_count": 259,
   "metadata": {},
   "outputs": [],
   "source": [
    "B=0.2"
   ]
  },
  {
   "cell_type": "markdown",
   "metadata": {},
   "source": [
    "### Método de kern"
   ]
  },
  {
   "cell_type": "code",
   "execution_count": 260,
   "metadata": {},
   "outputs": [],
   "source": [
    "numeros_tubos = 124"
   ]
  },
  {
   "cell_type": "code",
   "execution_count": 261,
   "metadata": {},
   "outputs": [
    {
     "name": "stdout",
     "output_type": "stream",
     "text": [
      "60.09873192703408\n"
     ]
    }
   ],
   "source": [
    "T_b = (temperatura_entrada_agua_condensada + temperatura_salida_agua_condensada) / 2\n",
    "print(T_b)"
   ]
  },
  {
   "cell_type": "code",
   "execution_count": 262,
   "metadata": {},
   "outputs": [
    {
     "data": {
      "text/plain": [
       "{'compressibility': 0.00013402552103725096,\n",
       " 'conductivity': 0.6510520857299109,\n",
       " 'critical_pressure': 22064000.0,\n",
       " 'critical_temperature': 373.946,\n",
       " 'density': 983.1095320685781,\n",
       " 'dynamic_viscosity': 0.00046532065914316076,\n",
       " 'enthalpy': 251593.82785635936,\n",
       " 'entropy': 832.5330610116514,\n",
       " 'fraction': 100,\n",
       " 'freezing_temperature': None,\n",
       " 'internal_energy': 251573.21469035625,\n",
       " 'kinematic_viscosity': 4.7331517390953516e-07,\n",
       " 'max_pressure': 1000000000.0,\n",
       " 'max_temperature': 1726.85,\n",
       " 'min_pressure': 611.6548008968684,\n",
       " 'min_temperature': 0.010000000000047748,\n",
       " 'molar_mass': 0.018015268,\n",
       " 'name': Water,\n",
       " 'phase': Liquid,\n",
       " 'prandtl': 2.9912339162674035,\n",
       " 'pressure': 20265.0,\n",
       " 'quality': None,\n",
       " 'sound_speed': 1550.8817942419353,\n",
       " 'specific_heat': 4185.176483842274,\n",
       " 'specific_volume': 0.0010171806572721173,\n",
       " 'surface_tension': None,\n",
       " 'temperature': 60.098731927034066,\n",
       " 'triple_pressure': 611.6548008968684,\n",
       " 'triple_temperature': 0.010000000000047748,\n",
       " 'units_system': SIWithCelsiusAndPercents}"
      ]
     },
     "execution_count": 262,
     "metadata": {},
     "output_type": "execute_result"
    }
   ],
   "source": [
    "state_cond_kern = water.with_state(\n",
    "    Input.pressure(presion),\n",
    "    Input.temperature(T_b),\n",
    ")\n",
    "state_cond_kern.as_dict()"
   ]
  },
  {
   "cell_type": "code",
   "execution_count": 263,
   "metadata": {},
   "outputs": [
    {
     "name": "stdout",
     "output_type": "stream",
     "text": [
      "983.1095320685781 4185.176483842274 0.00046532065914316076 0.6510520857299109 2.9912339162674035\n"
     ]
    }
   ],
   "source": [
    "densidad_cond_kern            = state_cond_kern.density\n",
    "cp_cond_kern                  = state_cond_kern.specific_heat\n",
    "viscosidad_dinamica_cond_kern = state_cond_kern.dynamic_viscosity\n",
    "k_cond_kern                   = state_cond_kern.conductivity\n",
    "prandtl_cond_kern             = state_cond_kern.prandtl\n",
    "\n",
    "print(densidad_cond_kern, cp_cond_kern, viscosidad_dinamica_cond_kern, k_cond_kern, prandtl_cond_kern)"
   ]
  },
  {
   "cell_type": "code",
   "execution_count": 264,
   "metadata": {},
   "outputs": [
    {
     "data": {
      "text/plain": [
       "{'compressibility': 0.00014614052125805355,\n",
       " 'conductivity': 0.6120463454734684,\n",
       " 'critical_pressure': 22064000.0,\n",
       " 'critical_temperature': 373.946,\n",
       " 'density': 996.0564055844422,\n",
       " 'dynamic_viscosity': 0.0008233612267610441,\n",
       " 'enthalpy': 119478.276557885,\n",
       " 'entropy': 416.01479691577845,\n",
       " 'fraction': 100,\n",
       " 'freezing_temperature': None,\n",
       " 'internal_energy': 119457.93132466005,\n",
       " 'kinematic_viscosity': 8.266210850558526e-07,\n",
       " 'max_pressure': 1000000000.0,\n",
       " 'max_temperature': 1726.85,\n",
       " 'min_pressure': 611.6548008968684,\n",
       " 'min_temperature': 0.010000000000047748,\n",
       " 'molar_mass': 0.018015268,\n",
       " 'name': Water,\n",
       " 'phase': Liquid,\n",
       " 'prandtl': 5.623700026792162,\n",
       " 'pressure': 20265.0,\n",
       " 'quality': None,\n",
       " 'sound_speed': 1505.4719747453637,\n",
       " 'specific_heat': 4180.382725790069,\n",
       " 'specific_volume': 0.0010039592079258241,\n",
       " 'surface_tension': None,\n",
       " 'temperature': 28.5,\n",
       " 'triple_pressure': 611.6548008968684,\n",
       " 'triple_temperature': 0.010000000000047748,\n",
       " 'units_system': SIWithCelsiusAndPercents}"
      ]
     },
     "execution_count": 264,
     "metadata": {},
     "output_type": "execute_result"
    }
   ],
   "source": [
    "state_agua_kern = water.with_state(\n",
    "    Input.pressure(presion),\n",
    "    Input.temperature(28.5),\n",
    ")\n",
    "state_agua_kern.as_dict()"
   ]
  },
  {
   "cell_type": "code",
   "execution_count": 265,
   "metadata": {},
   "outputs": [
    {
     "name": "stdout",
     "output_type": "stream",
     "text": [
      "996.0564055844422 4180.382725790069 0.0008233612267610441 0.6120463454734684 5.623700026792162\n"
     ]
    }
   ],
   "source": [
    "densidad_agua_kern            = state_agua_kern.density\n",
    "cp_agua_kern                  = state_agua_kern.specific_heat\n",
    "viscosidad_dinamica_agua_kern = state_agua_kern.dynamic_viscosity\n",
    "k_agua_kern                   = state_agua_kern.conductivity\n",
    "prandtl_agua_kern             = state_agua_kern.prandtl\n",
    "\n",
    "print(densidad_agua_kern, cp_agua_kern, viscosidad_dinamica_agua_kern, k_agua_kern, prandtl_agua_kern)"
   ]
  },
  {
   "cell_type": "code",
   "execution_count": 266,
   "metadata": {},
   "outputs": [],
   "source": [
    "Pitch_Size              = 0.0254 # m"
   ]
  },
  {
   "cell_type": "code",
   "execution_count": 267,
   "metadata": {},
   "outputs": [
    {
     "data": {
      "text/plain": [
       "0.024233853930596717"
      ]
     },
     "execution_count": 267,
     "metadata": {},
     "output_type": "execute_result"
    }
   ],
   "source": [
    "D_e = 4*(Pitch_Size**2 - np.pi*diametro_exterior**2/4)/(np.pi*diametro_exterior)\n",
    "D_e"
   ]
  },
  {
   "cell_type": "code",
   "execution_count": 268,
   "metadata": {},
   "outputs": [
    {
     "name": "stdout",
     "output_type": "stream",
     "text": [
      "0.0063999999999999994\n"
     ]
    }
   ],
   "source": [
    "C = Pitch_Size - diametro_exterior\n",
    "print(C)"
   ]
  },
  {
   "cell_type": "code",
   "execution_count": 269,
   "metadata": {},
   "outputs": [
    {
     "name": "stdout",
     "output_type": "stream",
     "text": [
      "0.019653543307086616\n"
     ]
    }
   ],
   "source": [
    "A_s = (0.39 * C * B) / Pitch_Size\n",
    "\n",
    "print(A_s)"
   ]
  },
  {
   "cell_type": "code",
   "execution_count": 270,
   "metadata": {},
   "outputs": [
    {
     "name": "stdout",
     "output_type": "stream",
     "text": [
      "706.6862535612536\n"
     ]
    }
   ],
   "source": [
    "G_s = caudal_masico_agua_condensada / A_s\n",
    "\n",
    "print(G_s)"
   ]
  },
  {
   "cell_type": "code",
   "execution_count": 271,
   "metadata": {},
   "outputs": [
    {
     "name": "stdout",
     "output_type": "stream",
     "text": [
      "Reynolds:  36804.15022857419\n"
     ]
    }
   ],
   "source": [
    "Re = G_s * D_e / viscosidad_dinamica_cond_kern\n",
    "\n",
    "print('Reynolds: ', Re)"
   ]
  },
  {
   "cell_type": "code",
   "execution_count": 272,
   "metadata": {},
   "outputs": [
    {
     "data": {
      "text/plain": [
       "44.29936596351704"
      ]
     },
     "execution_count": 272,
     "metadata": {},
     "output_type": "execute_result"
    }
   ],
   "source": [
    "T_w = 1/2 * (\n",
    "    (temperatura_entrada + temperatura_salida)/2 +\n",
    "    (temperatura_entrada_agua_condensada + temperatura_salida_agua_condensada)/2\n",
    ")\n",
    "T_w"
   ]
  },
  {
   "cell_type": "code",
   "execution_count": 273,
   "metadata": {},
   "outputs": [
    {
     "data": {
      "text/plain": [
       "{'compressibility': 0.00013965053088471624,\n",
       " 'conductivity': 0.6338865642372711,\n",
       " 'critical_pressure': 22064000.0,\n",
       " 'critical_temperature': 373.946,\n",
       " 'density': 990.4689406577198,\n",
       " 'dynamic_viscosity': 0.0006032382945597438,\n",
       " 'enthalpy': 185515.27025213066,\n",
       " 'entropy': 629.3936046180794,\n",
       " 'fraction': 100,\n",
       " 'freezing_temperature': None,\n",
       " 'internal_energy': 185494.8102466364,\n",
       " 'kinematic_viscosity': 6.09043120685e-07,\n",
       " 'max_pressure': 1000000000.0,\n",
       " 'max_temperature': 1726.85,\n",
       " 'min_pressure': 611.6548008968684,\n",
       " 'min_temperature': 0.010000000000047748,\n",
       " 'molar_mass': 0.018015268,\n",
       " 'name': Water,\n",
       " 'phase': Liquid,\n",
       " 'prandtl': 3.97809146126502,\n",
       " 'pressure': 20265.0,\n",
       " 'quality': None,\n",
       " 'sound_speed': 1535.3339481498904,\n",
       " 'specific_heat': 4180.203331493186,\n",
       " 'specific_volume': 0.0010096227745778187,\n",
       " 'surface_tension': None,\n",
       " 'temperature': 44.29936596351706,\n",
       " 'triple_pressure': 611.6548008968684,\n",
       " 'triple_temperature': 0.010000000000047748,\n",
       " 'units_system': SIWithCelsiusAndPercents}"
      ]
     },
     "execution_count": 273,
     "metadata": {},
     "output_type": "execute_result"
    }
   ],
   "source": [
    "state_average = water.with_state(\n",
    "    Input.pressure(presion),\n",
    "    Input.temperature(T_w),\n",
    ")\n",
    "state_average.as_dict()"
   ]
  },
  {
   "cell_type": "code",
   "execution_count": 274,
   "metadata": {},
   "outputs": [
    {
     "data": {
      "text/plain": [
       "0.0006032382945597438"
      ]
     },
     "execution_count": 274,
     "metadata": {},
     "output_type": "execute_result"
    }
   ],
   "source": [
    "viscodiad_dinamica_promedio_kern = state_average.dynamic_viscosity\n",
    "viscodiad_dinamica_promedio_kern"
   ]
  },
  {
   "cell_type": "code",
   "execution_count": 275,
   "metadata": {},
   "outputs": [
    {
     "data": {
      "text/plain": [
       "4360.865168079543"
      ]
     },
     "execution_count": 275,
     "metadata": {},
     "output_type": "execute_result"
    }
   ],
   "source": [
    "h_0 = 0.36 * (D_e * G_s / viscosidad_dinamica_cond_kern)**0.55  * (cp_cond_kern* viscosidad_dinamica_cond_kern / k_cond_kern)**(1/3) * (viscosidad_dinamica_cond_kern / viscodiad_dinamica_promedio_kern)**0.14 * k_cond_kern / D_e\n",
    "h_0"
   ]
  },
  {
   "cell_type": "code",
   "execution_count": 276,
   "metadata": {},
   "outputs": [
    {
     "data": {
      "text/plain": [
       "0.012465839649444298"
      ]
     },
     "execution_count": 276,
     "metadata": {},
     "output_type": "execute_result"
    }
   ],
   "source": [
    "A_tp = np.pi * diametro_interior**2/4 * numeros_tubos/2 \n",
    "A_tp"
   ]
  },
  {
   "cell_type": "code",
   "execution_count": 277,
   "metadata": {},
   "outputs": [
    {
     "name": "stdout",
     "output_type": "stream",
     "text": [
      "0.671140249512848\n"
     ]
    }
   ],
   "source": [
    "u_m = caudal_transferido / (densidad_agua_kern * A_tp)\n",
    "print(u_m)"
   ]
  },
  {
   "cell_type": "code",
   "execution_count": 278,
   "metadata": {},
   "outputs": [
    {
     "data": {
      "text/plain": [
       "12990.527566182289"
      ]
     },
     "execution_count": 278,
     "metadata": {},
     "output_type": "execute_result"
    }
   ],
   "source": [
    "Re = densidad_agua_kern * u_m * diametro_interior / viscosidad_dinamica_agua_kern\n",
    "Re"
   ]
  },
  {
   "cell_type": "markdown",
   "metadata": {},
   "source": [
    "## Turbulento"
   ]
  },
  {
   "cell_type": "code",
   "execution_count": 279,
   "metadata": {},
   "outputs": [
    {
     "data": {
      "text/plain": [
       "0.007322998176290353"
      ]
     },
     "execution_count": 279,
     "metadata": {},
     "output_type": "execute_result"
    }
   ],
   "source": [
    "f = (1.58*np.log(Re) - 3.28)**-2\n",
    "f"
   ]
  },
  {
   "cell_type": "code",
   "execution_count": 280,
   "metadata": {},
   "outputs": [
    {
     "data": {
      "text/plain": [
       "92.75808228403831"
      ]
     },
     "execution_count": 280,
     "metadata": {},
     "output_type": "execute_result"
    }
   ],
   "source": [
    "Nu_b = (f/2)*(Re - 1000)*prandtl_agua_kern/(1 + 12.7*(f/2)**(1/2)*(prandtl_agua_kern**(2/3) - 1))\n",
    "Nu_b"
   ]
  },
  {
   "cell_type": "code",
   "execution_count": 281,
   "metadata": {},
   "outputs": [
    {
     "name": "stdout",
     "output_type": "stream",
     "text": [
      "3548.2653296920575\n"
     ]
    }
   ],
   "source": [
    "h_i = Nu_b * k_agua_kern/diametro_interior\n",
    "print(h_i)"
   ]
  },
  {
   "cell_type": "code",
   "execution_count": 282,
   "metadata": {},
   "outputs": [
    {
     "data": {
      "text/plain": [
       "972.0931001391128"
      ]
     },
     "execution_count": 282,
     "metadata": {},
     "output_type": "execute_result"
    }
   ],
   "source": [
    "U_f = (\n",
    "    diametro_exterior / (diametro_interior * h_i) + \n",
    "    diametro_exterior / diametro_interior * factor_ensuciamiento + \n",
    "    diametro_exterior * np.log(diametro_exterior / diametro_interior) / (2 * k_material) + \n",
    "    factor_ensuciamiento +\n",
    "    1/h_i\n",
    ") ** -1\n",
    "U_f"
   ]
  },
  {
   "cell_type": "code",
   "execution_count": 283,
   "metadata": {},
   "outputs": [
    {
     "data": {
      "text/plain": [
       "1553.4992858096562"
      ]
     },
     "execution_count": 283,
     "metadata": {},
     "output_type": "execute_result"
    }
   ],
   "source": [
    "U_c = (\n",
    "    diametro_exterior / (diametro_interior * h_i) + \n",
    "    diametro_exterior * np.log(diametro_exterior / diametro_interior) / (2 * k_material) + \n",
    "    1 / h_i\n",
    ") ** -1\n",
    "U_c"
   ]
  },
  {
   "cell_type": "code",
   "execution_count": 284,
   "metadata": {},
   "outputs": [
    {
     "name": "stdout",
     "output_type": "stream",
     "text": [
      "0.2941470733613788\n",
      "24.0\n",
      "0.9643104660521746\n"
     ]
    },
    {
     "data": {
      "text/plain": [
       "30765.865692158754"
      ]
     },
     "execution_count": 284,
     "metadata": {},
     "output_type": "execute_result"
    }
   ],
   "source": [
    "f = np.e**(0.576 - 0.19*np.log(Re))\n",
    "print(f)\n",
    "\n",
    "N_b = longitud_maxima / B - 1 \n",
    "print(N_b)\n",
    "\n",
    "sigma = (viscosidad_dinamica_cond_kern / viscodiad_dinamica_promedio_kern)**0.14\n",
    "print(sigma)\n",
    "\n",
    "diferencia_presion = f * G_s ** 2 * (N_b + 1) * 0.39 / (sigma * 2 * densidad_agua_kern * D_e)\n",
    "diferencia_presion"
   ]
  },
  {
   "cell_type": "code",
   "execution_count": 285,
   "metadata": {},
   "outputs": [
    {
     "data": {
      "text/plain": [
       "4.462054487622734"
      ]
     },
     "execution_count": 285,
     "metadata": {},
     "output_type": "execute_result"
    }
   ],
   "source": [
    "diferenceia_presion_psi =  diferencia_presion / 6895\n",
    "diferenceia_presion_psi"
   ]
  },
  {
   "cell_type": "code",
   "execution_count": 286,
   "metadata": {},
   "outputs": [
    {
     "data": {
      "text/plain": [
       "29.80564678292143"
      ]
     },
     "execution_count": 286,
     "metadata": {},
     "output_type": "execute_result"
    }
   ],
   "source": [
    "F = 0.95\n",
    "diferencia_log_temperatura_corregida =  F * diferencia_log_temperatura\n",
    "diferencia_log_temperatura_corregida"
   ]
  },
  {
   "cell_type": "code",
   "execution_count": 287,
   "metadata": {},
   "outputs": [
    {
     "data": {
      "text/plain": [
       "27.653889518450132"
      ]
     },
     "execution_count": 287,
     "metadata": {},
     "output_type": "execute_result"
    }
   ],
   "source": [
    "A_of = calor / (U_f * diferencia_log_temperatura_corregida)\n",
    "A_of"
   ]
  },
  {
   "cell_type": "code",
   "execution_count": 291,
   "metadata": {},
   "outputs": [
    {
     "name": "stdout",
     "output_type": "stream",
     "text": [
      "3.7362081600836095\n",
      "4\n"
     ]
    }
   ],
   "source": [
    "L = A_of / (np.pi * diametro_exterior * numeros_tubos)\n",
    "\n",
    "print(L)\n",
    "L = round(L)\n",
    "print(L)"
   ]
  },
  {
   "cell_type": "code",
   "execution_count": 293,
   "metadata": {},
   "outputs": [
    {
     "data": {
      "text/plain": [
       "133310.41757008457"
      ]
     },
     "execution_count": 293,
     "metadata": {},
     "output_type": "execute_result"
    }
   ],
   "source": [
    "diferencia_presion = (4 * f * L * N_P / diametro_interior + 4 * N_P) * densidad_agua_kern * (0.67)**2/2\n",
    "diferencia_presion"
   ]
  }
 ],
 "metadata": {
  "kernelspec": {
   "display_name": "uni",
   "language": "python",
   "name": "python3"
  },
  "language_info": {
   "codemirror_mode": {
    "name": "ipython",
    "version": 3
   },
   "file_extension": ".py",
   "mimetype": "text/x-python",
   "name": "python",
   "nbconvert_exporter": "python",
   "pygments_lexer": "ipython3",
   "version": "3.10.13"
  },
  "orig_nbformat": 4
 },
 "nbformat": 4,
 "nbformat_minor": 2
}
