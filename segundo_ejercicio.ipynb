{
 "cells": [
  {
   "cell_type": "markdown",
   "metadata": {},
   "source": [
    "# Enunciado\n",
    "\n",
    "Se diseñará un intercambiador de calor para calentar agua mediante el uso de condensado a 67°C y 0,2 bar, que fluirá en el lado de la carcasa con un caudal másico de 50000 kg/h. Ei calor se transferirá a 30000 kg/h de agua procedente de acueducto a 17°C. Se recomienda una sola carcasa y un solo paso por tubo. Se sugiere una resistencia al ensuciamiento de 0,000176 m2\n",
    "• K/W y el sobre-diseño de superficie no debe ser superior al 35%.\n",
    "Se requiere una longitud máxima de tubo de 5 m debido a limitaciones de espacio. El material del tubo es acero al carbono (k = 60 W/m • K). El agua fluirá dentro de tubos 3/4 in (19 mm de diámetro exterior con 16 mm ID). La caída de presión máxima permitida en la carcasa es de 5,0 psi. La temperatura de salida del agua no debe ser inferior a 40°C."
   ]
  },
  {
   "cell_type": "code",
   "execution_count": 82,
   "metadata": {},
   "outputs": [],
   "source": [
    "caudal_masico_agua_condensada         = 50_000 / 3600 # kg/s\n",
    "temperatura_entrada_agua_condensada   = 67 # ºC\n",
    "presion_agua_condensada               = 0.2 # bar\n",
    "\n",
    "caudal_transferido                    = 30_000 / 3600 # kg/s\n",
    "temperatura_entrada                   = 17 # ºC\n",
    "factor_ensuciamiento                  = 0.000176 # m^2K/W\n",
    "\n",
    "longitud_maxima                       = 5 # m\n",
    "k_material                            = 60 # W/(m * K)\n",
    "diametro_tubos                        = 3/4 # in\n",
    "diametro_interior                     = 16e-3 # m\n",
    "diametro_exterior                     = 19e-3 # m\n",
    "\n",
    "temperatura_salida                    = 40 #ºC"
   ]
  },
  {
   "cell_type": "markdown",
   "metadata": {},
   "source": [
    "$$ \\dot{Q} = (\\dot{m} *C_{p})_{c} * (T_{c2} -T_{c1})$$"
   ]
  },
  {
   "cell_type": "code",
   "execution_count": 83,
   "metadata": {},
   "outputs": [],
   "source": [
    "from pyfluids import Fluid, FluidsList, Input\n",
    "from core import ThermoFormules\n",
    "import numpy as np"
   ]
  },
  {
   "cell_type": "code",
   "execution_count": 84,
   "metadata": {},
   "outputs": [
    {
     "data": {
      "text/plain": [
       "Water"
      ]
     },
     "execution_count": 84,
     "metadata": {},
     "output_type": "execute_result"
    }
   ],
   "source": [
    "water = Fluid(FluidsList.Water)\n",
    "water.name"
   ]
  },
  {
   "cell_type": "code",
   "execution_count": 85,
   "metadata": {},
   "outputs": [],
   "source": [
    "presion = 101325 * presion_agua_condensada # Pa"
   ]
  },
  {
   "cell_type": "code",
   "execution_count": 86,
   "metadata": {},
   "outputs": [
    {
     "data": {
      "text/plain": [
       "28.5"
      ]
     },
     "execution_count": 86,
     "metadata": {},
     "output_type": "execute_result"
    }
   ],
   "source": [
    "temperatura_promedio = (temperatura_entrada + temperatura_salida) /2\n",
    "temperatura_promedio"
   ]
  },
  {
   "cell_type": "code",
   "execution_count": 87,
   "metadata": {},
   "outputs": [
    {
     "data": {
      "text/plain": [
       "{'compressibility': 0.00014614052125805355,\n",
       " 'conductivity': 0.6120463454734684,\n",
       " 'critical_pressure': 22064000.0,\n",
       " 'critical_temperature': 373.946,\n",
       " 'density': 996.0564055844422,\n",
       " 'dynamic_viscosity': 0.0008233612267610441,\n",
       " 'enthalpy': 119478.276557885,\n",
       " 'entropy': 416.01479691577845,\n",
       " 'fraction': 100,\n",
       " 'freezing_temperature': None,\n",
       " 'internal_energy': 119457.93132466005,\n",
       " 'kinematic_viscosity': 8.266210850558526e-07,\n",
       " 'max_pressure': 1000000000.0,\n",
       " 'max_temperature': 1726.85,\n",
       " 'min_pressure': 611.6548008968684,\n",
       " 'min_temperature': 0.010000000000047748,\n",
       " 'molar_mass': 0.018015268,\n",
       " 'name': Water,\n",
       " 'phase': Liquid,\n",
       " 'prandtl': 5.623700026792162,\n",
       " 'pressure': 20265.0,\n",
       " 'quality': None,\n",
       " 'sound_speed': 1505.4719747453637,\n",
       " 'specific_heat': 4180.382725790069,\n",
       " 'specific_volume': 0.0010039592079258241,\n",
       " 'surface_tension': None,\n",
       " 'temperature': 28.5,\n",
       " 'triple_pressure': 611.6548008968684,\n",
       " 'triple_temperature': 0.010000000000047748,\n",
       " 'units_system': SIWithCelsiusAndPercents}"
      ]
     },
     "execution_count": 87,
     "metadata": {},
     "output_type": "execute_result"
    }
   ],
   "source": [
    "state = water.with_state(\n",
    "    Input.pressure(presion),\n",
    "    Input.temperature(temperatura_promedio),\n",
    ")\n",
    "state.as_dict()"
   ]
  },
  {
   "cell_type": "code",
   "execution_count": 88,
   "metadata": {},
   "outputs": [
    {
     "data": {
      "text/plain": [
       "4180.382725790069"
      ]
     },
     "execution_count": 88,
     "metadata": {},
     "output_type": "execute_result"
    }
   ],
   "source": [
    "cp = state.specific_heat\n",
    "cp"
   ]
  },
  {
   "cell_type": "code",
   "execution_count": 89,
   "metadata": {},
   "outputs": [
    {
     "data": {
      "text/plain": [
       "801240.0224430967"
      ]
     },
     "execution_count": 89,
     "metadata": {},
     "output_type": "execute_result"
    }
   ],
   "source": [
    "calor = caudal_transferido * cp * (temperatura_salida - temperatura_entrada)\n",
    "calor"
   ]
  },
  {
   "cell_type": "markdown",
   "metadata": {},
   "source": [
    "$$ T_{c2} = - \\frac{Q}{(\\dot{m} *C_{p})_{c}} + T_{c1}$$"
   ]
  },
  {
   "cell_type": "code",
   "execution_count": 90,
   "metadata": {},
   "outputs": [
    {
     "data": {
      "text/plain": [
       "{'compressibility': 0.00014132360145080458,\n",
       " 'conductivity': 0.6284426249627434,\n",
       " 'critical_pressure': 22064000.0,\n",
       " 'critical_temperature': 373.946,\n",
       " 'density': 992.1807698912999,\n",
       " 'dynamic_viscosity': 0.000652718564006271,\n",
       " 'enthalpy': 167544.45024584336,\n",
       " 'entropy': 572.3967328979538,\n",
       " 'fraction': 100,\n",
       " 'freezing_temperature': None,\n",
       " 'internal_energy': 167524.02554033775,\n",
       " 'kinematic_viscosity': 6.578625426068082e-07,\n",
       " 'max_pressure': 1000000000.0,\n",
       " 'max_temperature': 1726.85,\n",
       " 'min_pressure': 611.6548008968684,\n",
       " 'min_temperature': 0.010000000000047748,\n",
       " 'molar_mass': 0.018015268,\n",
       " 'name': Water,\n",
       " 'phase': Liquid,\n",
       " 'prandtl': 4.341067796088867,\n",
       " 'pressure': 20265.0,\n",
       " 'quality': None,\n",
       " 'sound_speed': 1528.762927297536,\n",
       " 'specific_heat': 4179.614601690888,\n",
       " 'specific_volume': 0.001007880852306336,\n",
       " 'surface_tension': None,\n",
       " 'temperature': 40.0,\n",
       " 'triple_pressure': 611.6548008968684,\n",
       " 'triple_temperature': 0.010000000000047748,\n",
       " 'units_system': SIWithCelsiusAndPercents}"
      ]
     },
     "execution_count": 90,
     "metadata": {},
     "output_type": "execute_result"
    }
   ],
   "source": [
    "state_cond = water.with_state(\n",
    "    Input.pressure(presion),\n",
    "    Input.temperature(40),\n",
    ")\n",
    "state_cond.as_dict()"
   ]
  },
  {
   "cell_type": "code",
   "execution_count": 91,
   "metadata": {},
   "outputs": [
    {
     "data": {
      "text/plain": [
       "4179.614601690888"
      ]
     },
     "execution_count": 91,
     "metadata": {},
     "output_type": "execute_result"
    }
   ],
   "source": [
    "cp_condensado = state_cond.specific_heat\n",
    "cp_condensado"
   ]
  },
  {
   "cell_type": "code",
   "execution_count": 92,
   "metadata": {},
   "outputs": [
    {
     "data": {
      "text/plain": [
       "53.19746385406817"
      ]
     },
     "execution_count": 92,
     "metadata": {},
     "output_type": "execute_result"
    }
   ],
   "source": [
    "temperatura_salida_agua_condensada = temperatura_entrada_agua_condensada - calor/(caudal_masico_agua_condensada* cp_condensado)\n",
    "temperatura_salida_agua_condensada"
   ]
  },
  {
   "cell_type": "markdown",
   "metadata": {},
   "source": [
    "Asuma los coeficiente de trasferencia de calor\n",
    "\n",
    "$$ \\frac{1}{U_f} = \\frac{1}{h_{0}} + \\frac{r_{0}}{r_{i}} \\frac{1}{h_{i}} + R_{ft} + r_{0} \\frac{ln(\\frac{r_{0}}{r_{i}} )}{k} $$"
   ]
  },
  {
   "cell_type": "code",
   "execution_count": 93,
   "metadata": {},
   "outputs": [],
   "source": [
    "h_0 = 5_000 # W/m2k\n",
    "h_1 = 4_000 # W/m2k"
   ]
  },
  {
   "cell_type": "code",
   "execution_count": 94,
   "metadata": {},
   "outputs": [
    {
     "data": {
      "text/plain": [
       "1428.3987473789696"
      ]
     },
     "execution_count": 94,
     "metadata": {},
     "output_type": "execute_result"
    }
   ],
   "source": [
    "U_f = (\n",
    "        1/h_0 + \\\n",
    "        diametro_exterior/diametro_interior*1/h_1 + \\\n",
    "        factor_ensuciamiento + \\\n",
    "        diametro_exterior/2 * np.log(diametro_exterior/diametro_interior)/k_material\n",
    "    ) ** -1\n",
    "U_f"
   ]
  },
  {
   "cell_type": "code",
   "execution_count": 95,
   "metadata": {},
   "outputs": [
    {
     "data": {
      "text/plain": [
       "1908.0887974581278"
      ]
     },
     "execution_count": 95,
     "metadata": {},
     "output_type": "execute_result"
    }
   ],
   "source": [
    "U_cond = (\n",
    "    1/h_0 + \\\n",
    "    diametro_exterior/diametro_interior*1/h_1 + \\\n",
    "    diametro_exterior/2 * np.log(diametro_exterior/diametro_interior)/k_material\n",
    ") ** -1\n",
    "U_cond"
   ]
  },
  {
   "cell_type": "code",
   "execution_count": 96,
   "metadata": {},
   "outputs": [
    {
     "name": "stdout",
     "output_type": "stream",
     "text": [
      "27 36.19746385406817\n",
      "31.374365034654137\n"
     ]
    }
   ],
   "source": [
    "diferencia_temperatura_1 = temperatura_entrada_agua_condensada - temperatura_salida\n",
    "diferencia_temperatura_2 = temperatura_salida_agua_condensada - temperatura_entrada\n",
    "print(diferencia_temperatura_1, diferencia_temperatura_2)\n",
    "\n",
    "diferencia_log_temperatura = (diferencia_temperatura_2 - diferencia_temperatura_1)/ np.log(diferencia_temperatura_2/diferencia_temperatura_1)\n",
    "print(diferencia_log_temperatura)"
   ]
  },
  {
   "cell_type": "markdown",
   "metadata": {},
   "source": [
    "Asume the F=0.9"
   ]
  },
  {
   "cell_type": "code",
   "execution_count": 97,
   "metadata": {},
   "outputs": [],
   "source": [
    "F = 0.9\n",
    "diferencia_log_temperatura_corregida =  F * diferencia_log_temperatura"
   ]
  },
  {
   "cell_type": "markdown",
   "metadata": {},
   "source": [
    "Estimar las areas requeridas"
   ]
  },
  {
   "cell_type": "code",
   "execution_count": 98,
   "metadata": {},
   "outputs": [
    {
     "name": "stdout",
     "output_type": "stream",
     "text": [
      "19.865327039269854 14.871219985656523\n"
     ]
    }
   ],
   "source": [
    "A_f = calor / (U_f * diferencia_log_temperatura_corregida)\n",
    "A_c = calor / (U_cond * diferencia_log_temperatura_corregida)\n",
    "\n",
    "print(A_f, A_c)"
   ]
  },
  {
   "cell_type": "code",
   "execution_count": 101,
   "metadata": {},
   "outputs": [
    {
     "data": {
      "text/plain": [
       "0.3358236283526308"
      ]
     },
     "execution_count": 101,
     "metadata": {},
     "output_type": "execute_result"
    }
   ],
   "source": [
    "area_ratio =  A_f/A_c - 1\n",
    "area_ratio"
   ]
  },
  {
   "cell_type": "code",
   "execution_count": 103,
   "metadata": {},
   "outputs": [],
   "source": [
    "Cl         = 1\n",
    "L          = 3    # m\n",
    "CTP        = 0.93 # One tube pass\n",
    "PitchRatio = 1.25"
   ]
  },
  {
   "cell_type": "code",
   "execution_count": 109,
   "metadata": {},
   "outputs": [
    {
     "name": "stdout",
     "output_type": "stream",
     "text": [
      "0.29286805553111817\n",
      "0.3\n"
     ]
    }
   ],
   "source": [
    "diametro_carcasa = 0.637 * (Cl/CTP * A_f*pow(PitchRatio,2)* diametro_exterior/L)**(1/2) \n",
    "print(diametro_carcasa)\n",
    "diametro_carcasa = 0.3\n",
    "print(diametro_carcasa)"
   ]
  },
  {
   "cell_type": "code",
   "execution_count": 112,
   "metadata": {},
   "outputs": [
    {
     "name": "stdout",
     "output_type": "stream",
     "text": [
      "116.48443213296399\n"
     ]
    }
   ],
   "source": [
    "numeros_tubos = 0.785 * (CTP/Cl) * (diametro_carcasa)**2 /((PitchRatio * diametro_exterior)**2)\n",
    "print(numeros_tubos)"
   ]
  },
  {
   "cell_type": "markdown",
   "metadata": {},
   "source": [
    "Espacio entre deflectors entre 0.4 y 0.6 del diámetro de la carcasa"
   ]
  },
  {
   "cell_type": "code",
   "execution_count": 113,
   "metadata": {},
   "outputs": [
    {
     "data": {
      "text/plain": [
       "0.18"
      ]
     },
     "execution_count": 113,
     "metadata": {},
     "output_type": "execute_result"
    }
   ],
   "source": [
    "B = 0.6 * diametro_carcasa\n",
    "B"
   ]
  }
 ],
 "metadata": {
  "kernelspec": {
   "display_name": "uni",
   "language": "python",
   "name": "python3"
  },
  "language_info": {
   "codemirror_mode": {
    "name": "ipython",
    "version": 3
   },
   "file_extension": ".py",
   "mimetype": "text/x-python",
   "name": "python",
   "nbconvert_exporter": "python",
   "pygments_lexer": "ipython3",
   "version": "3.10.13"
  },
  "orig_nbformat": 4
 },
 "nbformat": 4,
 "nbformat_minor": 2
}
